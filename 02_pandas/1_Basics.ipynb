{
 "cells": [
  {
   "cell_type": "markdown",
   "id": "8244e235-e8b0-454f-88b0-085864f2dfef",
   "metadata": {},
   "source": [
    "![pandas](images\\pandas.png)"
   ]
  },
  {
   "cell_type": "markdown",
   "id": "22a1109d-c442-46bd-8952-27605b82c5fc",
   "metadata": {},
   "source": [
    "## 1 Setup"
   ]
  },
  {
   "cell_type": "markdown",
   "id": "e4142c4a-9b9b-47f1-a5fd-daff2c30457e",
   "metadata": {},
   "source": [
    "### 1.1 Download Library"
   ]
  },
  {
   "cell_type": "markdown",
   "id": "7e2348b1-855f-405f-b0ba-364db5e690d4",
   "metadata": {},
   "source": [
    "Download library using below commands:"
   ]
  },
  {
   "cell_type": "markdown",
   "id": "a74e5950-c16b-4d73-9c26-b494b34dfbe6",
   "metadata": {},
   "source": [
    "#### Inside Jupyter Notebook/Lab"
   ]
  },
  {
   "cell_type": "markdown",
   "id": "9f2ec32e-a003-42f3-9088-f37538ad5943",
   "metadata": {},
   "source": [
    "```sh\n",
    "!pip install pandas\n",
    "```"
   ]
  },
  {
   "cell_type": "markdown",
   "id": "5ca4f87a-c063-447c-8280-806802802d78",
   "metadata": {},
   "source": [
    "#### From terminal"
   ]
  },
  {
   "cell_type": "markdown",
   "id": "16634ddc-3d70-4e58-a70b-ae852b94a395",
   "metadata": {},
   "source": [
    "```sh\n",
    "pip install pandas\n",
    "```\n",
    "\n",
    "or\n",
    "\n",
    "```sh\n",
    "pip3 install pandas\n",
    "```"
   ]
  },
  {
   "cell_type": "code",
   "execution_count": 1,
   "id": "7a925ec5-b25a-499c-8251-f85ad01e9b06",
   "metadata": {},
   "outputs": [],
   "source": [
    "# !pip install pandas"
   ]
  },
  {
   "cell_type": "markdown",
   "id": "425ca08b-ef50-4e0c-9263-c54023d329f2",
   "metadata": {},
   "source": [
    "### 1.2 Import Library"
   ]
  },
  {
   "cell_type": "markdown",
   "id": "8d558e5c-33bd-4021-ba3b-9cae8a66e1f6",
   "metadata": {},
   "source": [
    "Import pandas library under the alias `pd`."
   ]
  },
  {
   "cell_type": "code",
   "execution_count": 2,
   "id": "229d2465-a252-4f28-b099-c225c727194f",
   "metadata": {},
   "outputs": [
    {
     "name": "stdout",
     "output_type": "stream",
     "text": [
      "Pandas version: 2.3.0\n"
     ]
    }
   ],
   "source": [
    "from datetime import datetime\n",
    "\n",
    "import pandas as pd\n",
    "\n",
    "print(\"Pandas version:\", pd.__version__)"
   ]
  },
  {
   "cell_type": "markdown",
   "id": "a1e49483-2667-4c54-bade-168f7d70ff4c",
   "metadata": {},
   "source": [
    "### 1.3 Introduction"
   ]
  },
  {
   "cell_type": "markdown",
   "id": "440fcfa8-f891-4394-9ea0-06a992c19374",
   "metadata": {},
   "source": [
    "#### Why Pandas?"
   ]
  },
  {
   "cell_type": "markdown",
   "id": "940646ba-9965-4470-93af-fc437ce669a2",
   "metadata": {},
   "source": [
    "1. Pandas can hold **heterogeneous data**.\n",
    "2. Pandas supports heterogeneous data but each **column is homogeneous** (i.e., all values are of same datatype).\n",
    "3. It provides facilities for **data manipulation** such as\n",
    "    1. Data import\n",
    "    2. Conditional filtering\n",
    "    3. Aggregation\n",
    "    4. Querying\n",
    "    5. Data export\n",
    "5. It **uses NumPy internally** hence we can directly pass NumPy arrays to Pandas."
   ]
  },
  {
   "cell_type": "markdown",
   "id": "9d37b933-d60b-4641-805d-3c95d6dc9ab0",
   "metadata": {},
   "source": [
    "## 2 Create `DataFrame`"
   ]
  },
  {
   "cell_type": "markdown",
   "id": "3fafd0c1-1ad7-4e8e-9bb4-a9f172d4c9b4",
   "metadata": {},
   "source": [
    "Lets create a sample Employee DataFrame"
   ]
  },
  {
   "cell_type": "markdown",
   "id": "6fb3573c-954a-4175-8bfd-441368613bd5",
   "metadata": {},
   "source": [
    "### 2.1 Using Python `dict`"
   ]
  },
  {
   "cell_type": "code",
   "execution_count": 3,
   "id": "dba92e13-5f82-4a97-9a1d-f8311b15acc4",
   "metadata": {},
   "outputs": [
    {
     "data": {
      "text/html": [
       "<div>\n",
       "<style scoped>\n",
       "    .dataframe tbody tr th:only-of-type {\n",
       "        vertical-align: middle;\n",
       "    }\n",
       "\n",
       "    .dataframe tbody tr th {\n",
       "        vertical-align: top;\n",
       "    }\n",
       "\n",
       "    .dataframe thead th {\n",
       "        text-align: right;\n",
       "    }\n",
       "</style>\n",
       "<table border=\"1\" class=\"dataframe\">\n",
       "  <thead>\n",
       "    <tr style=\"text-align: right;\">\n",
       "      <th></th>\n",
       "      <th>Name</th>\n",
       "      <th>Age</th>\n",
       "      <th>Role</th>\n",
       "      <th>DOJ</th>\n",
       "    </tr>\n",
       "  </thead>\n",
       "  <tbody>\n",
       "    <tr>\n",
       "      <th>0</th>\n",
       "      <td>Alex</td>\n",
       "      <td>31</td>\n",
       "      <td>Senior SD</td>\n",
       "      <td>01-06-2021</td>\n",
       "    </tr>\n",
       "    <tr>\n",
       "      <th>1</th>\n",
       "      <td>Ajax</td>\n",
       "      <td>31</td>\n",
       "      <td>Associate Architect</td>\n",
       "      <td>01-01-2025</td>\n",
       "    </tr>\n",
       "    <tr>\n",
       "      <th>2</th>\n",
       "      <td>Jane</td>\n",
       "      <td>28</td>\n",
       "      <td>Junior SD</td>\n",
       "      <td>01-03-2023</td>\n",
       "    </tr>\n",
       "    <tr>\n",
       "      <th>3</th>\n",
       "      <td>John</td>\n",
       "      <td>35</td>\n",
       "      <td>Architect</td>\n",
       "      <td>01-12-2022</td>\n",
       "    </tr>\n",
       "    <tr>\n",
       "      <th>4</th>\n",
       "      <td>Anna</td>\n",
       "      <td>40</td>\n",
       "      <td>V.P.</td>\n",
       "      <td>01-08-2000</td>\n",
       "    </tr>\n",
       "  </tbody>\n",
       "</table>\n",
       "</div>"
      ],
      "text/plain": [
       "   Name  Age                 Role         DOJ\n",
       "0  Alex   31            Senior SD  01-06-2021\n",
       "1  Ajax   31  Associate Architect  01-01-2025\n",
       "2  Jane   28            Junior SD  01-03-2023\n",
       "3  John   35            Architect  01-12-2022\n",
       "4  Anna   40                 V.P.  01-08-2000"
      ]
     },
     "execution_count": 3,
     "metadata": {},
     "output_type": "execute_result"
    }
   ],
   "source": [
    "employee_data = {\n",
    "    \"Name\": [\"Alex\", \"Ajax\", \"Jane\", \"John\", \"Anna\"],\n",
    "    \"Age\": [31, 31, 28, 35, 40],\n",
    "    \"Role\": [\"Senior SD\", \"Associate Architect\", \"Junior SD\", \"Architect\", \"V.P.\"],\n",
    "    \"DOJ\": [\"01-06-2021\", \"01-01-2025\", \"01-03-2023\", \"01-12-2022\", \"01-08-2000\"],\n",
    "}\n",
    "\n",
    "emp_df = pd.DataFrame(data=employee_data)\n",
    "emp_df"
   ]
  },
  {
   "cell_type": "markdown",
   "id": "a2290da9-97a0-4e54-9442-6511d9c131f4",
   "metadata": {},
   "source": [
    "### 2.2 Using Python `list`"
   ]
  },
  {
   "cell_type": "code",
   "execution_count": 4,
   "id": "4578faa2-f225-408c-844f-129d8d5f23f0",
   "metadata": {},
   "outputs": [
    {
     "data": {
      "text/html": [
       "<div>\n",
       "<style scoped>\n",
       "    .dataframe tbody tr th:only-of-type {\n",
       "        vertical-align: middle;\n",
       "    }\n",
       "\n",
       "    .dataframe tbody tr th {\n",
       "        vertical-align: top;\n",
       "    }\n",
       "\n",
       "    .dataframe thead th {\n",
       "        text-align: right;\n",
       "    }\n",
       "</style>\n",
       "<table border=\"1\" class=\"dataframe\">\n",
       "  <thead>\n",
       "    <tr style=\"text-align: right;\">\n",
       "      <th></th>\n",
       "      <th>EmpName</th>\n",
       "      <th>EmpAge</th>\n",
       "      <th>EmpRole</th>\n",
       "      <th>D.O.J</th>\n",
       "    </tr>\n",
       "  </thead>\n",
       "  <tbody>\n",
       "    <tr>\n",
       "      <th>0</th>\n",
       "      <td>Alex</td>\n",
       "      <td>31</td>\n",
       "      <td>Senior SD</td>\n",
       "      <td>01-06-2021</td>\n",
       "    </tr>\n",
       "    <tr>\n",
       "      <th>1</th>\n",
       "      <td>Ajax</td>\n",
       "      <td>31</td>\n",
       "      <td>Associate Architect</td>\n",
       "      <td>01-01-2025</td>\n",
       "    </tr>\n",
       "    <tr>\n",
       "      <th>2</th>\n",
       "      <td>Jane</td>\n",
       "      <td>28</td>\n",
       "      <td>Junior SD</td>\n",
       "      <td>01-03-2023</td>\n",
       "    </tr>\n",
       "    <tr>\n",
       "      <th>3</th>\n",
       "      <td>John</td>\n",
       "      <td>35</td>\n",
       "      <td>Architect</td>\n",
       "      <td>01-12-2022</td>\n",
       "    </tr>\n",
       "    <tr>\n",
       "      <th>4</th>\n",
       "      <td>Anna</td>\n",
       "      <td>40</td>\n",
       "      <td>V.P.</td>\n",
       "      <td>01-08-2000</td>\n",
       "    </tr>\n",
       "  </tbody>\n",
       "</table>\n",
       "</div>"
      ],
      "text/plain": [
       "  EmpName  EmpAge              EmpRole       D.O.J\n",
       "0    Alex      31            Senior SD  01-06-2021\n",
       "1    Ajax      31  Associate Architect  01-01-2025\n",
       "2    Jane      28            Junior SD  01-03-2023\n",
       "3    John      35            Architect  01-12-2022\n",
       "4    Anna      40                 V.P.  01-08-2000"
      ]
     },
     "execution_count": 4,
     "metadata": {},
     "output_type": "execute_result"
    }
   ],
   "source": [
    "employee_rows = [\n",
    "    [\"Alex\", 31, \"Senior SD\", \"01-06-2021\"],\n",
    "    [\"Ajax\", 31, \"Associate Architect\", \"01-01-2025\"],\n",
    "    [\"Jane\", 28, \"Junior SD\", \"01-03-2023\"],\n",
    "    [\"John\", 35, \"Architect\", \"01-12-2022\"],\n",
    "    [\"Anna\", 40, \"V.P.\", \"01-08-2000\"],\n",
    "]\n",
    "column_names = [\"EmpName\", \"EmpAge\", \"EmpRole\", \"D.O.J\"]\n",
    "\n",
    "emp_df = pd.DataFrame(data=employee_rows, columns=column_names)\n",
    "emp_df"
   ]
  },
  {
   "cell_type": "markdown",
   "id": "ca2d9389-1609-4a1a-bb4f-a69bdaac70ed",
   "metadata": {},
   "source": [
    "> **Note**:\n",
    ">\n",
    "> Passing values to `columns` attribute is **NOT** mandatory, if no values are passed then they are indexed from 0 (to 3 in this case)."
   ]
  },
  {
   "cell_type": "markdown",
   "id": "0999171d-7f2c-4a1a-92cc-9288e3098781",
   "metadata": {},
   "source": [
    "### 2.3 `DataFrame`"
   ]
  },
  {
   "cell_type": "markdown",
   "id": "adf2ebc2-434c-4c3f-8967-c61ab8e018c6",
   "metadata": {},
   "source": [
    "#### What is a `DataFrame`?"
   ]
  },
  {
   "cell_type": "markdown",
   "id": "19ca6252-ce1d-46d7-9894-e783909dfe7f",
   "metadata": {},
   "source": [
    "1. Tabular representation of data in pandas is called as DataFrame.\n",
    "2. DataFrame contain heterogeneous data."
   ]
  },
  {
   "cell_type": "code",
   "execution_count": 5,
   "id": "93dbaa7c-265b-49a1-adc5-d485d6fc9858",
   "metadata": {},
   "outputs": [
    {
     "data": {
      "text/plain": [
       "pandas.core.frame.DataFrame"
      ]
     },
     "execution_count": 5,
     "metadata": {},
     "output_type": "execute_result"
    }
   ],
   "source": [
    "type(emp_df)"
   ]
  },
  {
   "cell_type": "markdown",
   "id": "b7b90ca1-9c91-46c8-8067-d23465888970",
   "metadata": {},
   "source": [
    "#### `DataFrame` Metadata"
   ]
  },
  {
   "cell_type": "markdown",
   "id": "61327a69-66e2-471b-9e32-6ddc9b625897",
   "metadata": {},
   "source": [
    "##### `info()` Method"
   ]
  },
  {
   "cell_type": "code",
   "execution_count": 6,
   "id": "e827b683-7130-4087-b08c-cf7b6e0e9f44",
   "metadata": {},
   "outputs": [
    {
     "name": "stdout",
     "output_type": "stream",
     "text": [
      "<class 'pandas.core.frame.DataFrame'>\n",
      "RangeIndex: 5 entries, 0 to 4\n",
      "Data columns (total 4 columns):\n",
      " #   Column   Non-Null Count  Dtype \n",
      "---  ------   --------------  ----- \n",
      " 0   EmpName  5 non-null      object\n",
      " 1   EmpAge   5 non-null      int64 \n",
      " 2   EmpRole  5 non-null      object\n",
      " 3   D.O.J    5 non-null      object\n",
      "dtypes: int64(1), object(3)\n",
      "memory usage: 292.0+ bytes\n"
     ]
    }
   ],
   "source": [
    "emp_df.info()"
   ]
  },
  {
   "cell_type": "markdown",
   "id": "ee249c31-afa3-4f11-b255-6092a81bb148",
   "metadata": {},
   "source": [
    "##### `shape` Attribute"
   ]
  },
  {
   "cell_type": "code",
   "execution_count": 7,
   "id": "c7ae3ba2-85e2-46cb-b4c8-9cd386636bba",
   "metadata": {},
   "outputs": [
    {
     "data": {
      "text/plain": [
       "(5, 4)"
      ]
     },
     "execution_count": 7,
     "metadata": {},
     "output_type": "execute_result"
    }
   ],
   "source": [
    "emp_df.shape"
   ]
  },
  {
   "cell_type": "markdown",
   "id": "cdd0d60a-245a-4ce9-a074-6b4a5657b638",
   "metadata": {},
   "source": [
    "### 2.4 `Series`"
   ]
  },
  {
   "cell_type": "markdown",
   "id": "a2d15d50-9da4-497d-8354-7060fa17d73a",
   "metadata": {},
   "source": [
    "#### What is a `Series`?"
   ]
  },
  {
   "cell_type": "markdown",
   "id": "4c6f8279-ea38-408e-bf41-64f2c18421f9",
   "metadata": {},
   "source": [
    "1. A NumPy array extracted from a DataFrame is called as Series.\n",
    "2. Series contain homogeneous data."
   ]
  },
  {
   "cell_type": "code",
   "execution_count": 8,
   "id": "54ddd670-3242-4665-a1fa-acb9c9c49017",
   "metadata": {},
   "outputs": [
    {
     "data": {
      "text/plain": [
       "0    Alex\n",
       "1    Ajax\n",
       "2    Jane\n",
       "3    John\n",
       "4    Anna\n",
       "Name: EmpName, dtype: object"
      ]
     },
     "execution_count": 8,
     "metadata": {},
     "output_type": "execute_result"
    }
   ],
   "source": [
    "emp_df[\"EmpName\"]  # emp_df.EmpName"
   ]
  },
  {
   "cell_type": "code",
   "execution_count": 9,
   "id": "5d76215b-57bd-4e53-9c0f-716ff7a4daf3",
   "metadata": {},
   "outputs": [
    {
     "data": {
      "text/plain": [
       "pandas.core.series.Series"
      ]
     },
     "execution_count": 9,
     "metadata": {},
     "output_type": "execute_result"
    }
   ],
   "source": [
    "type(emp_df.EmpName)"
   ]
  },
  {
   "cell_type": "markdown",
   "id": "9a6dcc0a-84dc-4ff9-92ef-9d9f0042d74f",
   "metadata": {},
   "source": [
    "#### `Series` Metadata"
   ]
  },
  {
   "cell_type": "markdown",
   "id": "872bf6c3-fa12-4bfa-aa51-fc4f6d42dfd3",
   "metadata": {},
   "source": [
    "##### `info()` Method"
   ]
  },
  {
   "cell_type": "code",
   "execution_count": 10,
   "id": "66f42cd7-8280-45a8-8e11-3b530abdb017",
   "metadata": {},
   "outputs": [
    {
     "name": "stdout",
     "output_type": "stream",
     "text": [
      "<class 'pandas.core.series.Series'>\n",
      "RangeIndex: 5 entries, 0 to 4\n",
      "Series name: EmpName\n",
      "Non-Null Count  Dtype \n",
      "--------------  ----- \n",
      "5 non-null      object\n",
      "dtypes: object(1)\n",
      "memory usage: 172.0+ bytes\n"
     ]
    }
   ],
   "source": [
    "emp_df[\"EmpName\"].info()"
   ]
  },
  {
   "cell_type": "markdown",
   "id": "bf5c0b60-41b9-4776-a129-d6b0049b88e3",
   "metadata": {},
   "source": [
    "##### `shape` Attribute"
   ]
  },
  {
   "cell_type": "code",
   "execution_count": 11,
   "id": "19fa905c-f87d-480e-9f4f-6aa02d1fe9bb",
   "metadata": {},
   "outputs": [
    {
     "data": {
      "text/plain": [
       "(5,)"
      ]
     },
     "execution_count": 11,
     "metadata": {},
     "output_type": "execute_result"
    }
   ],
   "source": [
    "emp_df[\"EmpName\"].shape"
   ]
  },
  {
   "cell_type": "markdown",
   "id": "00149b10-d194-4f16-82c1-80a02e80f1fd",
   "metadata": {},
   "source": [
    "When multiple Series are stacked together it forms a DataFrame or in other words DataFrame is made up of multiple Series."
   ]
  },
  {
   "cell_type": "code",
   "execution_count": 12,
   "id": "020db234-0105-43e4-bd21-57d97e45ca53",
   "metadata": {},
   "outputs": [
    {
     "data": {
      "text/plain": [
       "pandas.core.frame.DataFrame"
      ]
     },
     "execution_count": 12,
     "metadata": {},
     "output_type": "execute_result"
    }
   ],
   "source": [
    "temp_df = emp_df[[\"EmpName\", \"EmpRole\"]]\n",
    "type(temp_df)"
   ]
  },
  {
   "cell_type": "markdown",
   "id": "b231f35b-7150-41b9-9e89-eedb8e8a1070",
   "metadata": {},
   "source": [
    "### 2.5 Import data"
   ]
  },
  {
   "cell_type": "markdown",
   "id": "5ecc5958-5463-44e5-99cd-92b7c8c48fa2",
   "metadata": {},
   "source": [
    "Generally DataFrames are not created explicitly, instead data is imported/loaded into DataFrame from file or tables (from database). \n",
    "\n",
    "Lets create a DataFrame using this [CSV data file][1] downloaded from Kaggle.\n",
    "\n",
    "[1]: https://www.kaggle.com/datasets/anshumrankawat/mckinsey-csv"
   ]
  },
  {
   "cell_type": "code",
   "execution_count": 13,
   "id": "073ac30e-b19d-4091-af03-f8811853ba60",
   "metadata": {},
   "outputs": [
    {
     "data": {
      "text/html": [
       "<div>\n",
       "<style scoped>\n",
       "    .dataframe tbody tr th:only-of-type {\n",
       "        vertical-align: middle;\n",
       "    }\n",
       "\n",
       "    .dataframe tbody tr th {\n",
       "        vertical-align: top;\n",
       "    }\n",
       "\n",
       "    .dataframe thead th {\n",
       "        text-align: right;\n",
       "    }\n",
       "</style>\n",
       "<table border=\"1\" class=\"dataframe\">\n",
       "  <thead>\n",
       "    <tr style=\"text-align: right;\">\n",
       "      <th></th>\n",
       "      <th>country</th>\n",
       "      <th>year</th>\n",
       "      <th>population</th>\n",
       "      <th>continent</th>\n",
       "      <th>life_exp</th>\n",
       "      <th>gdp_cap</th>\n",
       "    </tr>\n",
       "  </thead>\n",
       "  <tbody>\n",
       "    <tr>\n",
       "      <th>0</th>\n",
       "      <td>Afghanistan</td>\n",
       "      <td>1952</td>\n",
       "      <td>8425333</td>\n",
       "      <td>Asia</td>\n",
       "      <td>28.801</td>\n",
       "      <td>779.445314</td>\n",
       "    </tr>\n",
       "    <tr>\n",
       "      <th>1</th>\n",
       "      <td>Afghanistan</td>\n",
       "      <td>1957</td>\n",
       "      <td>9240934</td>\n",
       "      <td>Asia</td>\n",
       "      <td>30.332</td>\n",
       "      <td>820.853030</td>\n",
       "    </tr>\n",
       "    <tr>\n",
       "      <th>2</th>\n",
       "      <td>Afghanistan</td>\n",
       "      <td>1962</td>\n",
       "      <td>10267083</td>\n",
       "      <td>Asia</td>\n",
       "      <td>31.997</td>\n",
       "      <td>853.100710</td>\n",
       "    </tr>\n",
       "    <tr>\n",
       "      <th>3</th>\n",
       "      <td>Afghanistan</td>\n",
       "      <td>1967</td>\n",
       "      <td>11537966</td>\n",
       "      <td>Asia</td>\n",
       "      <td>34.020</td>\n",
       "      <td>836.197138</td>\n",
       "    </tr>\n",
       "    <tr>\n",
       "      <th>4</th>\n",
       "      <td>Afghanistan</td>\n",
       "      <td>1972</td>\n",
       "      <td>13079460</td>\n",
       "      <td>Asia</td>\n",
       "      <td>36.088</td>\n",
       "      <td>739.981106</td>\n",
       "    </tr>\n",
       "    <tr>\n",
       "      <th>...</th>\n",
       "      <td>...</td>\n",
       "      <td>...</td>\n",
       "      <td>...</td>\n",
       "      <td>...</td>\n",
       "      <td>...</td>\n",
       "      <td>...</td>\n",
       "    </tr>\n",
       "    <tr>\n",
       "      <th>1699</th>\n",
       "      <td>Zimbabwe</td>\n",
       "      <td>1987</td>\n",
       "      <td>9216418</td>\n",
       "      <td>Africa</td>\n",
       "      <td>62.351</td>\n",
       "      <td>706.157306</td>\n",
       "    </tr>\n",
       "    <tr>\n",
       "      <th>1700</th>\n",
       "      <td>Zimbabwe</td>\n",
       "      <td>1992</td>\n",
       "      <td>10704340</td>\n",
       "      <td>Africa</td>\n",
       "      <td>60.377</td>\n",
       "      <td>693.420786</td>\n",
       "    </tr>\n",
       "    <tr>\n",
       "      <th>1701</th>\n",
       "      <td>Zimbabwe</td>\n",
       "      <td>1997</td>\n",
       "      <td>11404948</td>\n",
       "      <td>Africa</td>\n",
       "      <td>46.809</td>\n",
       "      <td>792.449960</td>\n",
       "    </tr>\n",
       "    <tr>\n",
       "      <th>1702</th>\n",
       "      <td>Zimbabwe</td>\n",
       "      <td>2002</td>\n",
       "      <td>11926563</td>\n",
       "      <td>Africa</td>\n",
       "      <td>39.989</td>\n",
       "      <td>672.038623</td>\n",
       "    </tr>\n",
       "    <tr>\n",
       "      <th>1703</th>\n",
       "      <td>Zimbabwe</td>\n",
       "      <td>2007</td>\n",
       "      <td>12311143</td>\n",
       "      <td>Africa</td>\n",
       "      <td>43.487</td>\n",
       "      <td>469.709298</td>\n",
       "    </tr>\n",
       "  </tbody>\n",
       "</table>\n",
       "<p>1704 rows × 6 columns</p>\n",
       "</div>"
      ],
      "text/plain": [
       "          country  year  population continent  life_exp     gdp_cap\n",
       "0     Afghanistan  1952     8425333      Asia    28.801  779.445314\n",
       "1     Afghanistan  1957     9240934      Asia    30.332  820.853030\n",
       "2     Afghanistan  1962    10267083      Asia    31.997  853.100710\n",
       "3     Afghanistan  1967    11537966      Asia    34.020  836.197138\n",
       "4     Afghanistan  1972    13079460      Asia    36.088  739.981106\n",
       "...           ...   ...         ...       ...       ...         ...\n",
       "1699     Zimbabwe  1987     9216418    Africa    62.351  706.157306\n",
       "1700     Zimbabwe  1992    10704340    Africa    60.377  693.420786\n",
       "1701     Zimbabwe  1997    11404948    Africa    46.809  792.449960\n",
       "1702     Zimbabwe  2002    11926563    Africa    39.989  672.038623\n",
       "1703     Zimbabwe  2007    12311143    Africa    43.487  469.709298\n",
       "\n",
       "[1704 rows x 6 columns]"
      ]
     },
     "execution_count": 13,
     "metadata": {},
     "output_type": "execute_result"
    }
   ],
   "source": [
    "mk_df = pd.read_csv(\"data/mckinsey.csv\")\n",
    "mk_df"
   ]
  },
  {
   "cell_type": "markdown",
   "id": "f26e77ee-0771-4443-a057-e0222aa53344",
   "metadata": {},
   "source": [
    "> **Note**:\n",
    "> 1. Along with `.csv` pandas supports data import from different file types like `.txt`, `.xlsx`\n",
    "> 2. Data can also be imported from SQL tables refer [docs][1] for more details.\n",
    "> 3. Full list of supported formats: https://pandas.pydata.org/docs/reference/io.html\n",
    "\n",
    "[1]: https://pandas.pydata.org/docs/reference/io.html#sql"
   ]
  },
  {
   "cell_type": "markdown",
   "id": "59c1c46c-f66a-41e8-8102-791f14797200",
   "metadata": {},
   "source": [
    "## 3 Helper Methods"
   ]
  },
  {
   "cell_type": "markdown",
   "id": "a8cfbacd-d2b0-49d9-8b00-960a73d8df68",
   "metadata": {},
   "source": [
    "### 3.1 Preview data"
   ]
  },
  {
   "cell_type": "markdown",
   "id": "784fa79e-6c33-4d96-8514-f5c262402855",
   "metadata": {},
   "source": [
    "There are three most frequently used DataFrame methods for previewing data:\n",
    "\n",
    "1. `head()` method\n",
    "2. `tail()` method\n",
    "3. `sample()` method"
   ]
  },
  {
   "cell_type": "markdown",
   "id": "6906425e-e4c0-4bb3-85e5-2fca785eed59",
   "metadata": {},
   "source": [
    "#### `head()` Method"
   ]
  },
  {
   "cell_type": "markdown",
   "id": "6f58dfa8-68fc-4a4e-8a46-34340a748673",
   "metadata": {},
   "source": [
    "##### Default"
   ]
  },
  {
   "cell_type": "code",
   "execution_count": 14,
   "id": "25ea4c13-9efb-451f-b381-36066fef8fa3",
   "metadata": {},
   "outputs": [
    {
     "data": {
      "text/html": [
       "<div>\n",
       "<style scoped>\n",
       "    .dataframe tbody tr th:only-of-type {\n",
       "        vertical-align: middle;\n",
       "    }\n",
       "\n",
       "    .dataframe tbody tr th {\n",
       "        vertical-align: top;\n",
       "    }\n",
       "\n",
       "    .dataframe thead th {\n",
       "        text-align: right;\n",
       "    }\n",
       "</style>\n",
       "<table border=\"1\" class=\"dataframe\">\n",
       "  <thead>\n",
       "    <tr style=\"text-align: right;\">\n",
       "      <th></th>\n",
       "      <th>country</th>\n",
       "      <th>year</th>\n",
       "      <th>population</th>\n",
       "      <th>continent</th>\n",
       "      <th>life_exp</th>\n",
       "      <th>gdp_cap</th>\n",
       "    </tr>\n",
       "  </thead>\n",
       "  <tbody>\n",
       "    <tr>\n",
       "      <th>0</th>\n",
       "      <td>Afghanistan</td>\n",
       "      <td>1952</td>\n",
       "      <td>8425333</td>\n",
       "      <td>Asia</td>\n",
       "      <td>28.801</td>\n",
       "      <td>779.445314</td>\n",
       "    </tr>\n",
       "    <tr>\n",
       "      <th>1</th>\n",
       "      <td>Afghanistan</td>\n",
       "      <td>1957</td>\n",
       "      <td>9240934</td>\n",
       "      <td>Asia</td>\n",
       "      <td>30.332</td>\n",
       "      <td>820.853030</td>\n",
       "    </tr>\n",
       "    <tr>\n",
       "      <th>2</th>\n",
       "      <td>Afghanistan</td>\n",
       "      <td>1962</td>\n",
       "      <td>10267083</td>\n",
       "      <td>Asia</td>\n",
       "      <td>31.997</td>\n",
       "      <td>853.100710</td>\n",
       "    </tr>\n",
       "    <tr>\n",
       "      <th>3</th>\n",
       "      <td>Afghanistan</td>\n",
       "      <td>1967</td>\n",
       "      <td>11537966</td>\n",
       "      <td>Asia</td>\n",
       "      <td>34.020</td>\n",
       "      <td>836.197138</td>\n",
       "    </tr>\n",
       "    <tr>\n",
       "      <th>4</th>\n",
       "      <td>Afghanistan</td>\n",
       "      <td>1972</td>\n",
       "      <td>13079460</td>\n",
       "      <td>Asia</td>\n",
       "      <td>36.088</td>\n",
       "      <td>739.981106</td>\n",
       "    </tr>\n",
       "  </tbody>\n",
       "</table>\n",
       "</div>"
      ],
      "text/plain": [
       "       country  year  population continent  life_exp     gdp_cap\n",
       "0  Afghanistan  1952     8425333      Asia    28.801  779.445314\n",
       "1  Afghanistan  1957     9240934      Asia    30.332  820.853030\n",
       "2  Afghanistan  1962    10267083      Asia    31.997  853.100710\n",
       "3  Afghanistan  1967    11537966      Asia    34.020  836.197138\n",
       "4  Afghanistan  1972    13079460      Asia    36.088  739.981106"
      ]
     },
     "execution_count": 14,
     "metadata": {},
     "output_type": "execute_result"
    }
   ],
   "source": [
    "mk_df.head()"
   ]
  },
  {
   "cell_type": "markdown",
   "id": "16a072be-7cf7-4909-aee6-0cd0821748fc",
   "metadata": {},
   "source": [
    "##### Custom"
   ]
  },
  {
   "cell_type": "code",
   "execution_count": 15,
   "id": "e295694e-15d0-432b-88ad-96f3bdb1c150",
   "metadata": {},
   "outputs": [
    {
     "data": {
      "text/html": [
       "<div>\n",
       "<style scoped>\n",
       "    .dataframe tbody tr th:only-of-type {\n",
       "        vertical-align: middle;\n",
       "    }\n",
       "\n",
       "    .dataframe tbody tr th {\n",
       "        vertical-align: top;\n",
       "    }\n",
       "\n",
       "    .dataframe thead th {\n",
       "        text-align: right;\n",
       "    }\n",
       "</style>\n",
       "<table border=\"1\" class=\"dataframe\">\n",
       "  <thead>\n",
       "    <tr style=\"text-align: right;\">\n",
       "      <th></th>\n",
       "      <th>country</th>\n",
       "      <th>year</th>\n",
       "      <th>population</th>\n",
       "      <th>continent</th>\n",
       "      <th>life_exp</th>\n",
       "      <th>gdp_cap</th>\n",
       "    </tr>\n",
       "  </thead>\n",
       "  <tbody>\n",
       "    <tr>\n",
       "      <th>0</th>\n",
       "      <td>Afghanistan</td>\n",
       "      <td>1952</td>\n",
       "      <td>8425333</td>\n",
       "      <td>Asia</td>\n",
       "      <td>28.801</td>\n",
       "      <td>779.445314</td>\n",
       "    </tr>\n",
       "    <tr>\n",
       "      <th>1</th>\n",
       "      <td>Afghanistan</td>\n",
       "      <td>1957</td>\n",
       "      <td>9240934</td>\n",
       "      <td>Asia</td>\n",
       "      <td>30.332</td>\n",
       "      <td>820.853030</td>\n",
       "    </tr>\n",
       "    <tr>\n",
       "      <th>2</th>\n",
       "      <td>Afghanistan</td>\n",
       "      <td>1962</td>\n",
       "      <td>10267083</td>\n",
       "      <td>Asia</td>\n",
       "      <td>31.997</td>\n",
       "      <td>853.100710</td>\n",
       "    </tr>\n",
       "    <tr>\n",
       "      <th>3</th>\n",
       "      <td>Afghanistan</td>\n",
       "      <td>1967</td>\n",
       "      <td>11537966</td>\n",
       "      <td>Asia</td>\n",
       "      <td>34.020</td>\n",
       "      <td>836.197138</td>\n",
       "    </tr>\n",
       "    <tr>\n",
       "      <th>4</th>\n",
       "      <td>Afghanistan</td>\n",
       "      <td>1972</td>\n",
       "      <td>13079460</td>\n",
       "      <td>Asia</td>\n",
       "      <td>36.088</td>\n",
       "      <td>739.981106</td>\n",
       "    </tr>\n",
       "    <tr>\n",
       "      <th>5</th>\n",
       "      <td>Afghanistan</td>\n",
       "      <td>1977</td>\n",
       "      <td>14880372</td>\n",
       "      <td>Asia</td>\n",
       "      <td>38.438</td>\n",
       "      <td>786.113360</td>\n",
       "    </tr>\n",
       "    <tr>\n",
       "      <th>6</th>\n",
       "      <td>Afghanistan</td>\n",
       "      <td>1982</td>\n",
       "      <td>12881816</td>\n",
       "      <td>Asia</td>\n",
       "      <td>39.854</td>\n",
       "      <td>978.011439</td>\n",
       "    </tr>\n",
       "  </tbody>\n",
       "</table>\n",
       "</div>"
      ],
      "text/plain": [
       "       country  year  population continent  life_exp     gdp_cap\n",
       "0  Afghanistan  1952     8425333      Asia    28.801  779.445314\n",
       "1  Afghanistan  1957     9240934      Asia    30.332  820.853030\n",
       "2  Afghanistan  1962    10267083      Asia    31.997  853.100710\n",
       "3  Afghanistan  1967    11537966      Asia    34.020  836.197138\n",
       "4  Afghanistan  1972    13079460      Asia    36.088  739.981106\n",
       "5  Afghanistan  1977    14880372      Asia    38.438  786.113360\n",
       "6  Afghanistan  1982    12881816      Asia    39.854  978.011439"
      ]
     },
     "execution_count": 15,
     "metadata": {},
     "output_type": "execute_result"
    }
   ],
   "source": [
    "mk_df.head(7)"
   ]
  },
  {
   "cell_type": "markdown",
   "id": "ee0dc5c9-12a4-4421-8f7b-3e7f30e2bcec",
   "metadata": {},
   "source": [
    "#### `tail()` Method"
   ]
  },
  {
   "cell_type": "markdown",
   "id": "6fd0d561-c2a4-402b-b036-a993454ee4ee",
   "metadata": {},
   "source": [
    "##### Default"
   ]
  },
  {
   "cell_type": "code",
   "execution_count": 16,
   "id": "072162ca-68dd-44e0-ae53-470388dde44b",
   "metadata": {},
   "outputs": [
    {
     "data": {
      "text/html": [
       "<div>\n",
       "<style scoped>\n",
       "    .dataframe tbody tr th:only-of-type {\n",
       "        vertical-align: middle;\n",
       "    }\n",
       "\n",
       "    .dataframe tbody tr th {\n",
       "        vertical-align: top;\n",
       "    }\n",
       "\n",
       "    .dataframe thead th {\n",
       "        text-align: right;\n",
       "    }\n",
       "</style>\n",
       "<table border=\"1\" class=\"dataframe\">\n",
       "  <thead>\n",
       "    <tr style=\"text-align: right;\">\n",
       "      <th></th>\n",
       "      <th>country</th>\n",
       "      <th>year</th>\n",
       "      <th>population</th>\n",
       "      <th>continent</th>\n",
       "      <th>life_exp</th>\n",
       "      <th>gdp_cap</th>\n",
       "    </tr>\n",
       "  </thead>\n",
       "  <tbody>\n",
       "    <tr>\n",
       "      <th>1699</th>\n",
       "      <td>Zimbabwe</td>\n",
       "      <td>1987</td>\n",
       "      <td>9216418</td>\n",
       "      <td>Africa</td>\n",
       "      <td>62.351</td>\n",
       "      <td>706.157306</td>\n",
       "    </tr>\n",
       "    <tr>\n",
       "      <th>1700</th>\n",
       "      <td>Zimbabwe</td>\n",
       "      <td>1992</td>\n",
       "      <td>10704340</td>\n",
       "      <td>Africa</td>\n",
       "      <td>60.377</td>\n",
       "      <td>693.420786</td>\n",
       "    </tr>\n",
       "    <tr>\n",
       "      <th>1701</th>\n",
       "      <td>Zimbabwe</td>\n",
       "      <td>1997</td>\n",
       "      <td>11404948</td>\n",
       "      <td>Africa</td>\n",
       "      <td>46.809</td>\n",
       "      <td>792.449960</td>\n",
       "    </tr>\n",
       "    <tr>\n",
       "      <th>1702</th>\n",
       "      <td>Zimbabwe</td>\n",
       "      <td>2002</td>\n",
       "      <td>11926563</td>\n",
       "      <td>Africa</td>\n",
       "      <td>39.989</td>\n",
       "      <td>672.038623</td>\n",
       "    </tr>\n",
       "    <tr>\n",
       "      <th>1703</th>\n",
       "      <td>Zimbabwe</td>\n",
       "      <td>2007</td>\n",
       "      <td>12311143</td>\n",
       "      <td>Africa</td>\n",
       "      <td>43.487</td>\n",
       "      <td>469.709298</td>\n",
       "    </tr>\n",
       "  </tbody>\n",
       "</table>\n",
       "</div>"
      ],
      "text/plain": [
       "       country  year  population continent  life_exp     gdp_cap\n",
       "1699  Zimbabwe  1987     9216418    Africa    62.351  706.157306\n",
       "1700  Zimbabwe  1992    10704340    Africa    60.377  693.420786\n",
       "1701  Zimbabwe  1997    11404948    Africa    46.809  792.449960\n",
       "1702  Zimbabwe  2002    11926563    Africa    39.989  672.038623\n",
       "1703  Zimbabwe  2007    12311143    Africa    43.487  469.709298"
      ]
     },
     "execution_count": 16,
     "metadata": {},
     "output_type": "execute_result"
    }
   ],
   "source": [
    "mk_df.tail()"
   ]
  },
  {
   "cell_type": "markdown",
   "id": "9260d8fd-1cf7-4b7a-a7cb-4802f5c6832f",
   "metadata": {},
   "source": [
    "##### Custom"
   ]
  },
  {
   "cell_type": "code",
   "execution_count": 17,
   "id": "8e02eaa0-7de4-40ab-a4e0-f3dd032a0ce5",
   "metadata": {},
   "outputs": [
    {
     "data": {
      "text/html": [
       "<div>\n",
       "<style scoped>\n",
       "    .dataframe tbody tr th:only-of-type {\n",
       "        vertical-align: middle;\n",
       "    }\n",
       "\n",
       "    .dataframe tbody tr th {\n",
       "        vertical-align: top;\n",
       "    }\n",
       "\n",
       "    .dataframe thead th {\n",
       "        text-align: right;\n",
       "    }\n",
       "</style>\n",
       "<table border=\"1\" class=\"dataframe\">\n",
       "  <thead>\n",
       "    <tr style=\"text-align: right;\">\n",
       "      <th></th>\n",
       "      <th>country</th>\n",
       "      <th>year</th>\n",
       "      <th>population</th>\n",
       "      <th>continent</th>\n",
       "      <th>life_exp</th>\n",
       "      <th>gdp_cap</th>\n",
       "    </tr>\n",
       "  </thead>\n",
       "  <tbody>\n",
       "    <tr>\n",
       "      <th>1701</th>\n",
       "      <td>Zimbabwe</td>\n",
       "      <td>1997</td>\n",
       "      <td>11404948</td>\n",
       "      <td>Africa</td>\n",
       "      <td>46.809</td>\n",
       "      <td>792.449960</td>\n",
       "    </tr>\n",
       "    <tr>\n",
       "      <th>1702</th>\n",
       "      <td>Zimbabwe</td>\n",
       "      <td>2002</td>\n",
       "      <td>11926563</td>\n",
       "      <td>Africa</td>\n",
       "      <td>39.989</td>\n",
       "      <td>672.038623</td>\n",
       "    </tr>\n",
       "    <tr>\n",
       "      <th>1703</th>\n",
       "      <td>Zimbabwe</td>\n",
       "      <td>2007</td>\n",
       "      <td>12311143</td>\n",
       "      <td>Africa</td>\n",
       "      <td>43.487</td>\n",
       "      <td>469.709298</td>\n",
       "    </tr>\n",
       "  </tbody>\n",
       "</table>\n",
       "</div>"
      ],
      "text/plain": [
       "       country  year  population continent  life_exp     gdp_cap\n",
       "1701  Zimbabwe  1997    11404948    Africa    46.809  792.449960\n",
       "1702  Zimbabwe  2002    11926563    Africa    39.989  672.038623\n",
       "1703  Zimbabwe  2007    12311143    Africa    43.487  469.709298"
      ]
     },
     "execution_count": 17,
     "metadata": {},
     "output_type": "execute_result"
    }
   ],
   "source": [
    "mk_df.tail(3)"
   ]
  },
  {
   "cell_type": "markdown",
   "id": "a45ca6ec-829d-47eb-be33-bf95a385cb53",
   "metadata": {},
   "source": [
    "#### `sample()` Method"
   ]
  },
  {
   "cell_type": "markdown",
   "id": "ab5d7f92-26a3-42bc-a09a-a988398d23bd",
   "metadata": {},
   "source": [
    "##### Default"
   ]
  },
  {
   "cell_type": "code",
   "execution_count": 18,
   "id": "71b1ed0d-c4e1-439d-9db8-e35beca3f8c6",
   "metadata": {},
   "outputs": [
    {
     "data": {
      "text/html": [
       "<div>\n",
       "<style scoped>\n",
       "    .dataframe tbody tr th:only-of-type {\n",
       "        vertical-align: middle;\n",
       "    }\n",
       "\n",
       "    .dataframe tbody tr th {\n",
       "        vertical-align: top;\n",
       "    }\n",
       "\n",
       "    .dataframe thead th {\n",
       "        text-align: right;\n",
       "    }\n",
       "</style>\n",
       "<table border=\"1\" class=\"dataframe\">\n",
       "  <thead>\n",
       "    <tr style=\"text-align: right;\">\n",
       "      <th></th>\n",
       "      <th>country</th>\n",
       "      <th>year</th>\n",
       "      <th>population</th>\n",
       "      <th>continent</th>\n",
       "      <th>life_exp</th>\n",
       "      <th>gdp_cap</th>\n",
       "    </tr>\n",
       "  </thead>\n",
       "  <tbody>\n",
       "    <tr>\n",
       "      <th>1574</th>\n",
       "      <td>Turkey</td>\n",
       "      <td>1962</td>\n",
       "      <td>29788695</td>\n",
       "      <td>Europe</td>\n",
       "      <td>52.098</td>\n",
       "      <td>2322.869908</td>\n",
       "    </tr>\n",
       "  </tbody>\n",
       "</table>\n",
       "</div>"
      ],
      "text/plain": [
       "     country  year  population continent  life_exp      gdp_cap\n",
       "1574  Turkey  1962    29788695    Europe    52.098  2322.869908"
      ]
     },
     "execution_count": 18,
     "metadata": {},
     "output_type": "execute_result"
    }
   ],
   "source": [
    "mk_df.sample()"
   ]
  },
  {
   "cell_type": "markdown",
   "id": "e0d60756-ff3b-473c-9646-8d2610bc3770",
   "metadata": {},
   "source": [
    "##### Custom"
   ]
  },
  {
   "cell_type": "code",
   "execution_count": 19,
   "id": "fcb1b2e0-c07f-4aeb-b82f-e15cfddb33ea",
   "metadata": {},
   "outputs": [
    {
     "data": {
      "text/html": [
       "<div>\n",
       "<style scoped>\n",
       "    .dataframe tbody tr th:only-of-type {\n",
       "        vertical-align: middle;\n",
       "    }\n",
       "\n",
       "    .dataframe tbody tr th {\n",
       "        vertical-align: top;\n",
       "    }\n",
       "\n",
       "    .dataframe thead th {\n",
       "        text-align: right;\n",
       "    }\n",
       "</style>\n",
       "<table border=\"1\" class=\"dataframe\">\n",
       "  <thead>\n",
       "    <tr style=\"text-align: right;\">\n",
       "      <th></th>\n",
       "      <th>country</th>\n",
       "      <th>year</th>\n",
       "      <th>population</th>\n",
       "      <th>continent</th>\n",
       "      <th>life_exp</th>\n",
       "      <th>gdp_cap</th>\n",
       "    </tr>\n",
       "  </thead>\n",
       "  <tbody>\n",
       "    <tr>\n",
       "      <th>137</th>\n",
       "      <td>Bolivia</td>\n",
       "      <td>1977</td>\n",
       "      <td>5079716</td>\n",
       "      <td>Americas</td>\n",
       "      <td>50.023</td>\n",
       "      <td>3548.097832</td>\n",
       "    </tr>\n",
       "    <tr>\n",
       "      <th>824</th>\n",
       "      <td>Kenya</td>\n",
       "      <td>1992</td>\n",
       "      <td>25020539</td>\n",
       "      <td>Africa</td>\n",
       "      <td>59.285</td>\n",
       "      <td>1341.921721</td>\n",
       "    </tr>\n",
       "    <tr>\n",
       "      <th>485</th>\n",
       "      <td>Equatorial Guinea</td>\n",
       "      <td>1977</td>\n",
       "      <td>192675</td>\n",
       "      <td>Africa</td>\n",
       "      <td>42.024</td>\n",
       "      <td>958.566812</td>\n",
       "    </tr>\n",
       "    <tr>\n",
       "      <th>1192</th>\n",
       "      <td>Paraguay</td>\n",
       "      <td>1972</td>\n",
       "      <td>2614104</td>\n",
       "      <td>Americas</td>\n",
       "      <td>65.815</td>\n",
       "      <td>2523.337977</td>\n",
       "    </tr>\n",
       "    <tr>\n",
       "      <th>785</th>\n",
       "      <td>Jamaica</td>\n",
       "      <td>1977</td>\n",
       "      <td>2156814</td>\n",
       "      <td>Americas</td>\n",
       "      <td>70.110</td>\n",
       "      <td>6650.195573</td>\n",
       "    </tr>\n",
       "  </tbody>\n",
       "</table>\n",
       "</div>"
      ],
      "text/plain": [
       "                country  year  population continent  life_exp      gdp_cap\n",
       "137             Bolivia  1977     5079716  Americas    50.023  3548.097832\n",
       "824               Kenya  1992    25020539    Africa    59.285  1341.921721\n",
       "485   Equatorial Guinea  1977      192675    Africa    42.024   958.566812\n",
       "1192           Paraguay  1972     2614104  Americas    65.815  2523.337977\n",
       "785             Jamaica  1977     2156814  Americas    70.110  6650.195573"
      ]
     },
     "execution_count": 19,
     "metadata": {},
     "output_type": "execute_result"
    }
   ],
   "source": [
    "mk_df.sample(5)"
   ]
  },
  {
   "cell_type": "markdown",
   "id": "3c538c93-3335-4221-854f-c6fbbc5964f5",
   "metadata": {},
   "source": [
    "#### `describe()` Method"
   ]
  },
  {
   "cell_type": "code",
   "execution_count": 20,
   "id": "59cbd478-5929-40f1-934a-09c812d052bf",
   "metadata": {},
   "outputs": [
    {
     "data": {
      "text/html": [
       "<div>\n",
       "<style scoped>\n",
       "    .dataframe tbody tr th:only-of-type {\n",
       "        vertical-align: middle;\n",
       "    }\n",
       "\n",
       "    .dataframe tbody tr th {\n",
       "        vertical-align: top;\n",
       "    }\n",
       "\n",
       "    .dataframe thead th {\n",
       "        text-align: right;\n",
       "    }\n",
       "</style>\n",
       "<table border=\"1\" class=\"dataframe\">\n",
       "  <thead>\n",
       "    <tr style=\"text-align: right;\">\n",
       "      <th></th>\n",
       "      <th>year</th>\n",
       "      <th>population</th>\n",
       "      <th>life_exp</th>\n",
       "      <th>gdp_cap</th>\n",
       "    </tr>\n",
       "  </thead>\n",
       "  <tbody>\n",
       "    <tr>\n",
       "      <th>count</th>\n",
       "      <td>1704.00000</td>\n",
       "      <td>1.704000e+03</td>\n",
       "      <td>1704.000000</td>\n",
       "      <td>1704.000000</td>\n",
       "    </tr>\n",
       "    <tr>\n",
       "      <th>mean</th>\n",
       "      <td>1979.50000</td>\n",
       "      <td>2.960121e+07</td>\n",
       "      <td>59.474439</td>\n",
       "      <td>7215.327081</td>\n",
       "    </tr>\n",
       "    <tr>\n",
       "      <th>std</th>\n",
       "      <td>17.26533</td>\n",
       "      <td>1.061579e+08</td>\n",
       "      <td>12.917107</td>\n",
       "      <td>9857.454543</td>\n",
       "    </tr>\n",
       "    <tr>\n",
       "      <th>min</th>\n",
       "      <td>1952.00000</td>\n",
       "      <td>6.001100e+04</td>\n",
       "      <td>23.599000</td>\n",
       "      <td>241.165876</td>\n",
       "    </tr>\n",
       "    <tr>\n",
       "      <th>25%</th>\n",
       "      <td>1965.75000</td>\n",
       "      <td>2.793664e+06</td>\n",
       "      <td>48.198000</td>\n",
       "      <td>1202.060309</td>\n",
       "    </tr>\n",
       "    <tr>\n",
       "      <th>50%</th>\n",
       "      <td>1979.50000</td>\n",
       "      <td>7.023596e+06</td>\n",
       "      <td>60.712500</td>\n",
       "      <td>3531.846988</td>\n",
       "    </tr>\n",
       "    <tr>\n",
       "      <th>75%</th>\n",
       "      <td>1993.25000</td>\n",
       "      <td>1.958522e+07</td>\n",
       "      <td>70.845500</td>\n",
       "      <td>9325.462346</td>\n",
       "    </tr>\n",
       "    <tr>\n",
       "      <th>max</th>\n",
       "      <td>2007.00000</td>\n",
       "      <td>1.318683e+09</td>\n",
       "      <td>82.603000</td>\n",
       "      <td>113523.132900</td>\n",
       "    </tr>\n",
       "  </tbody>\n",
       "</table>\n",
       "</div>"
      ],
      "text/plain": [
       "             year    population     life_exp        gdp_cap\n",
       "count  1704.00000  1.704000e+03  1704.000000    1704.000000\n",
       "mean   1979.50000  2.960121e+07    59.474439    7215.327081\n",
       "std      17.26533  1.061579e+08    12.917107    9857.454543\n",
       "min    1952.00000  6.001100e+04    23.599000     241.165876\n",
       "25%    1965.75000  2.793664e+06    48.198000    1202.060309\n",
       "50%    1979.50000  7.023596e+06    60.712500    3531.846988\n",
       "75%    1993.25000  1.958522e+07    70.845500    9325.462346\n",
       "max    2007.00000  1.318683e+09    82.603000  113523.132900"
      ]
     },
     "execution_count": 20,
     "metadata": {},
     "output_type": "execute_result"
    }
   ],
   "source": [
    "mk_df.describe()"
   ]
  },
  {
   "cell_type": "markdown",
   "id": "e9587e4f-1201-43e2-8646-be430a137cf1",
   "metadata": {},
   "source": [
    "### 3.2 DataFrame Helper Methods"
   ]
  },
  {
   "cell_type": "markdown",
   "id": "6be9113b-4794-4cd1-ae21-8929a3351bae",
   "metadata": {},
   "source": [
    "#### `info()` Method"
   ]
  },
  {
   "cell_type": "markdown",
   "id": "a2bf6a4c-bd2c-47c7-af8a-26646eab3f3c",
   "metadata": {},
   "source": [
    "Applying `info()` Method on DataFrame gives following details:\n",
    "\n",
    "1. Coulm and row indices.\n",
    "2. Name and datatype of each column.\n",
    "3. Count of non values for each column.\n",
    "4. Space occupied by DataFrame in RAM."
   ]
  },
  {
   "cell_type": "code",
   "execution_count": 21,
   "id": "f0dab325-66ec-4e03-8aac-5c8d0f949b76",
   "metadata": {},
   "outputs": [
    {
     "name": "stdout",
     "output_type": "stream",
     "text": [
      "<class 'pandas.core.frame.DataFrame'>\n",
      "RangeIndex: 1704 entries, 0 to 1703\n",
      "Data columns (total 6 columns):\n",
      " #   Column      Non-Null Count  Dtype  \n",
      "---  ------      --------------  -----  \n",
      " 0   country     1704 non-null   object \n",
      " 1   year        1704 non-null   int64  \n",
      " 2   population  1704 non-null   int64  \n",
      " 3   continent   1704 non-null   object \n",
      " 4   life_exp    1704 non-null   float64\n",
      " 5   gdp_cap     1704 non-null   float64\n",
      "dtypes: float64(2), int64(2), object(2)\n",
      "memory usage: 80.0+ KB\n"
     ]
    }
   ],
   "source": [
    "mk_df.info()"
   ]
  },
  {
   "cell_type": "markdown",
   "id": "99651ec0-ad4b-4e25-943e-9f852d277d19",
   "metadata": {},
   "source": [
    "#### `keys()` Method"
   ]
  },
  {
   "cell_type": "code",
   "execution_count": 22,
   "id": "654f65c4-4962-4077-8c41-12013439ff00",
   "metadata": {},
   "outputs": [
    {
     "data": {
      "text/plain": [
       "Index(['country', 'year', 'population', 'continent', 'life_exp', 'gdp_cap'], dtype='object')"
      ]
     },
     "execution_count": 22,
     "metadata": {},
     "output_type": "execute_result"
    }
   ],
   "source": [
    "mk_df.keys()"
   ]
  },
  {
   "cell_type": "code",
   "execution_count": 23,
   "id": "e77b9f7e-0df5-43d2-8c41-e1a904204a6c",
   "metadata": {},
   "outputs": [
    {
     "data": {
      "text/plain": [
       "Index(['country', 'year', 'population', 'continent', 'life_exp', 'gdp_cap'], dtype='object')"
      ]
     },
     "execution_count": 23,
     "metadata": {},
     "output_type": "execute_result"
    }
   ],
   "source": [
    "mk_df.columns"
   ]
  },
  {
   "cell_type": "markdown",
   "id": "fcb62ff7-7bcf-430b-abc4-db5d009a8656",
   "metadata": {},
   "source": [
    "#### `nunique()` Method"
   ]
  },
  {
   "cell_type": "code",
   "execution_count": 24,
   "id": "1b5ee7a3-cfb5-4a9f-8980-83c189163a74",
   "metadata": {},
   "outputs": [
    {
     "data": {
      "text/plain": [
       "country        142\n",
       "year            12\n",
       "population    1704\n",
       "continent        5\n",
       "life_exp      1626\n",
       "gdp_cap       1704\n",
       "dtype: int64"
      ]
     },
     "execution_count": 24,
     "metadata": {},
     "output_type": "execute_result"
    }
   ],
   "source": [
    "mk_df.nunique()"
   ]
  },
  {
   "cell_type": "markdown",
   "id": "c6a3fcaf-dd31-40b7-ac4f-648dab2a655e",
   "metadata": {},
   "source": [
    "#### `value_counts()` Method"
   ]
  },
  {
   "cell_type": "code",
   "execution_count": 25,
   "id": "fa83dc60-252f-4109-a383-2fd27bda82e8",
   "metadata": {},
   "outputs": [
    {
     "data": {
      "text/plain": [
       "EmpName  EmpAge  EmpRole              D.O.J     \n",
       "Ajax     31      Associate Architect  01-01-2025    1\n",
       "Alex     31      Senior SD            01-06-2021    1\n",
       "Anna     40      V.P.                 01-08-2000    1\n",
       "Jane     28      Junior SD            01-03-2023    1\n",
       "John     35      Architect            01-12-2022    1\n",
       "Name: count, dtype: int64"
      ]
     },
     "execution_count": 25,
     "metadata": {},
     "output_type": "execute_result"
    }
   ],
   "source": [
    "emp_df.value_counts()"
   ]
  },
  {
   "cell_type": "markdown",
   "id": "9716ae7f-7e50-4e81-a5c9-53605fa0faf6",
   "metadata": {},
   "source": [
    "### 3.3 Series Helper Methods"
   ]
  },
  {
   "cell_type": "markdown",
   "id": "f4d5cb79-7aad-4c6c-a5b6-11f7de03be4b",
   "metadata": {},
   "source": [
    "#### `info()` Method"
   ]
  },
  {
   "cell_type": "code",
   "execution_count": 26,
   "id": "5e69606d-bedb-4111-bcb7-0ee49631ea86",
   "metadata": {},
   "outputs": [
    {
     "name": "stdout",
     "output_type": "stream",
     "text": [
      "<class 'pandas.core.series.Series'>\n",
      "RangeIndex: 1704 entries, 0 to 1703\n",
      "Series name: population\n",
      "Non-Null Count  Dtype\n",
      "--------------  -----\n",
      "1704 non-null   int64\n",
      "dtypes: int64(1)\n",
      "memory usage: 13.4 KB\n"
     ]
    }
   ],
   "source": [
    "mk_df.population.info()"
   ]
  },
  {
   "cell_type": "markdown",
   "id": "5fa314a1-5bf3-412a-b30a-dc3a9ae5ae70",
   "metadata": {},
   "source": [
    "#### `unique()` Method"
   ]
  },
  {
   "cell_type": "code",
   "execution_count": 27,
   "id": "9295a8ec-a746-408c-b790-0be967db3d31",
   "metadata": {},
   "outputs": [
    {
     "data": {
      "text/plain": [
       "array(['Asia', 'Europe', 'Africa', 'Americas', 'Oceania'], dtype=object)"
      ]
     },
     "execution_count": 27,
     "metadata": {},
     "output_type": "execute_result"
    }
   ],
   "source": [
    "mk_df[\"continent\"].unique()"
   ]
  },
  {
   "cell_type": "markdown",
   "id": "fceec464-72d5-4d0f-9bb4-794331ff4c91",
   "metadata": {},
   "source": [
    "#### `value_counts()` Method"
   ]
  },
  {
   "cell_type": "code",
   "execution_count": 28,
   "id": "d9544117-c2fe-4ede-9832-24cdfa026e83",
   "metadata": {},
   "outputs": [
    {
     "data": {
      "text/plain": [
       "continent\n",
       "Africa      624\n",
       "Asia        396\n",
       "Europe      360\n",
       "Americas    300\n",
       "Oceania      24\n",
       "Name: count, dtype: int64"
      ]
     },
     "execution_count": 28,
     "metadata": {},
     "output_type": "execute_result"
    }
   ],
   "source": [
    "mk_df[\"continent\"].value_counts()"
   ]
  },
  {
   "cell_type": "markdown",
   "id": "450277d5-c75a-4040-bf5b-0b48155d9d74",
   "metadata": {},
   "source": [
    "## 4 Index"
   ]
  },
  {
   "cell_type": "markdown",
   "id": "b069fb7a-430f-40c5-92f5-4d4fe410a05d",
   "metadata": {},
   "source": [
    "### 4.1 Column Index"
   ]
  },
  {
   "cell_type": "markdown",
   "id": "4e494f54-4694-4331-bfc1-82d5807115b2",
   "metadata": {},
   "source": [
    "#### Explicit Indexes"
   ]
  },
  {
   "cell_type": "markdown",
   "id": "18b0ecb1-4442-4dc2-8e54-f044d539d7fa",
   "metadata": {},
   "source": [
    "##### Display column explicit indices"
   ]
  },
  {
   "cell_type": "markdown",
   "id": "4134d04c-77d2-48d2-b528-2cb53b3a9030",
   "metadata": {},
   "source": [
    "###### Example 1"
   ]
  },
  {
   "cell_type": "code",
   "execution_count": 29,
   "id": "23589fa8-4cb1-4d5a-ad62-c6b212d0a668",
   "metadata": {},
   "outputs": [
    {
     "data": {
      "text/html": [
       "<div>\n",
       "<style scoped>\n",
       "    .dataframe tbody tr th:only-of-type {\n",
       "        vertical-align: middle;\n",
       "    }\n",
       "\n",
       "    .dataframe tbody tr th {\n",
       "        vertical-align: top;\n",
       "    }\n",
       "\n",
       "    .dataframe thead th {\n",
       "        text-align: right;\n",
       "    }\n",
       "</style>\n",
       "<table border=\"1\" class=\"dataframe\">\n",
       "  <thead>\n",
       "    <tr style=\"text-align: right;\">\n",
       "      <th></th>\n",
       "      <th>0</th>\n",
       "      <th>1</th>\n",
       "      <th>2</th>\n",
       "    </tr>\n",
       "  </thead>\n",
       "  <tbody>\n",
       "    <tr>\n",
       "      <th>0</th>\n",
       "      <td>Alex</td>\n",
       "      <td>31</td>\n",
       "      <td>Senior SD</td>\n",
       "    </tr>\n",
       "  </tbody>\n",
       "</table>\n",
       "</div>"
      ],
      "text/plain": [
       "      0   1          2\n",
       "0  Alex  31  Senior SD"
      ]
     },
     "execution_count": 29,
     "metadata": {},
     "output_type": "execute_result"
    }
   ],
   "source": [
    "tmp_df = pd.DataFrame([[\"Alex\", 31, \"Senior SD\"]])\n",
    "tmp_df"
   ]
  },
  {
   "cell_type": "code",
   "execution_count": 30,
   "id": "340d821a-34f0-42ea-8073-928a36c406db",
   "metadata": {},
   "outputs": [
    {
     "name": "stdout",
     "output_type": "stream",
     "text": [
      "Different ways of accessing explicit indices:\n"
     ]
    },
    {
     "data": {
      "text/plain": [
       "RangeIndex(start=0, stop=3, step=1)"
      ]
     },
     "metadata": {},
     "output_type": "display_data"
    },
    {
     "data": {
      "text/plain": [
       "RangeIndex(start=0, stop=3, step=1)"
      ]
     },
     "metadata": {},
     "output_type": "display_data"
    },
    {
     "data": {
      "text/plain": [
       "array([0, 1, 2])"
      ]
     },
     "metadata": {},
     "output_type": "display_data"
    }
   ],
   "source": [
    "print(\"Different ways of accessing explicit indices:\")\n",
    "\n",
    "display(tmp_df.keys())\n",
    "display(tmp_df.columns)\n",
    "display(tmp_df.columns.values)"
   ]
  },
  {
   "cell_type": "markdown",
   "id": "dfafe639-4673-48e8-aa72-f3ef14c38314",
   "metadata": {},
   "source": [
    "###### Example 2"
   ]
  },
  {
   "cell_type": "code",
   "execution_count": 31,
   "id": "7165d097-f5ed-4a1d-98b0-becd6bf5c634",
   "metadata": {},
   "outputs": [
    {
     "name": "stdout",
     "output_type": "stream",
     "text": [
      "Column explicit indices:\n"
     ]
    },
    {
     "data": {
      "text/plain": [
       "Index(['EmpName', 'EmpAge', 'EmpRole', 'D.O.J'], dtype='object')"
      ]
     },
     "execution_count": 31,
     "metadata": {},
     "output_type": "execute_result"
    }
   ],
   "source": [
    "print(\"Column explicit indices:\")\n",
    "emp_df.columns"
   ]
  },
  {
   "cell_type": "markdown",
   "id": "eeff7baa-72cc-4760-bc5e-f275ad9f7328",
   "metadata": {},
   "source": [
    "##### Update column explicit indices"
   ]
  },
  {
   "cell_type": "markdown",
   "id": "46ea424c-3578-4104-bfa1-fa3457e05364",
   "metadata": {},
   "source": [
    "###### Before"
   ]
  },
  {
   "cell_type": "code",
   "execution_count": 32,
   "id": "c0bf5eb3-727c-4e49-831d-2c076c121aff",
   "metadata": {},
   "outputs": [
    {
     "data": {
      "text/html": [
       "<div>\n",
       "<style scoped>\n",
       "    .dataframe tbody tr th:only-of-type {\n",
       "        vertical-align: middle;\n",
       "    }\n",
       "\n",
       "    .dataframe tbody tr th {\n",
       "        vertical-align: top;\n",
       "    }\n",
       "\n",
       "    .dataframe thead th {\n",
       "        text-align: right;\n",
       "    }\n",
       "</style>\n",
       "<table border=\"1\" class=\"dataframe\">\n",
       "  <thead>\n",
       "    <tr style=\"text-align: right;\">\n",
       "      <th></th>\n",
       "      <th>EmpName</th>\n",
       "      <th>EmpAge</th>\n",
       "      <th>EmpRole</th>\n",
       "      <th>D.O.J</th>\n",
       "    </tr>\n",
       "  </thead>\n",
       "  <tbody>\n",
       "    <tr>\n",
       "      <th>0</th>\n",
       "      <td>Alex</td>\n",
       "      <td>31</td>\n",
       "      <td>Senior SD</td>\n",
       "      <td>01-06-2021</td>\n",
       "    </tr>\n",
       "    <tr>\n",
       "      <th>1</th>\n",
       "      <td>Ajax</td>\n",
       "      <td>31</td>\n",
       "      <td>Associate Architect</td>\n",
       "      <td>01-01-2025</td>\n",
       "    </tr>\n",
       "    <tr>\n",
       "      <th>2</th>\n",
       "      <td>Jane</td>\n",
       "      <td>28</td>\n",
       "      <td>Junior SD</td>\n",
       "      <td>01-03-2023</td>\n",
       "    </tr>\n",
       "    <tr>\n",
       "      <th>3</th>\n",
       "      <td>John</td>\n",
       "      <td>35</td>\n",
       "      <td>Architect</td>\n",
       "      <td>01-12-2022</td>\n",
       "    </tr>\n",
       "    <tr>\n",
       "      <th>4</th>\n",
       "      <td>Anna</td>\n",
       "      <td>40</td>\n",
       "      <td>V.P.</td>\n",
       "      <td>01-08-2000</td>\n",
       "    </tr>\n",
       "  </tbody>\n",
       "</table>\n",
       "</div>"
      ],
      "text/plain": [
       "  EmpName  EmpAge              EmpRole       D.O.J\n",
       "0    Alex      31            Senior SD  01-06-2021\n",
       "1    Ajax      31  Associate Architect  01-01-2025\n",
       "2    Jane      28            Junior SD  01-03-2023\n",
       "3    John      35            Architect  01-12-2022\n",
       "4    Anna      40                 V.P.  01-08-2000"
      ]
     },
     "execution_count": 32,
     "metadata": {},
     "output_type": "execute_result"
    }
   ],
   "source": [
    "emp_df"
   ]
  },
  {
   "cell_type": "code",
   "execution_count": 33,
   "id": "4a55e7b1-7b20-43bb-a0f5-92e5c6e77146",
   "metadata": {},
   "outputs": [
    {
     "data": {
      "text/plain": [
       "Index(['Name', 'Age', 'Role', 'DOJ'], dtype='object')"
      ]
     },
     "execution_count": 33,
     "metadata": {},
     "output_type": "execute_result"
    }
   ],
   "source": [
    "emp_df.columns = [\"Name\", \"Age\", \"Role\", \"DOJ\"]\n",
    "emp_df.columns"
   ]
  },
  {
   "cell_type": "markdown",
   "id": "09150845-75d9-425a-a454-d4a1d129638c",
   "metadata": {},
   "source": [
    "###### After"
   ]
  },
  {
   "cell_type": "code",
   "execution_count": 34,
   "id": "ad3a063d-8e0d-4249-8fb5-291b9150ef7d",
   "metadata": {},
   "outputs": [
    {
     "data": {
      "text/html": [
       "<div>\n",
       "<style scoped>\n",
       "    .dataframe tbody tr th:only-of-type {\n",
       "        vertical-align: middle;\n",
       "    }\n",
       "\n",
       "    .dataframe tbody tr th {\n",
       "        vertical-align: top;\n",
       "    }\n",
       "\n",
       "    .dataframe thead th {\n",
       "        text-align: right;\n",
       "    }\n",
       "</style>\n",
       "<table border=\"1\" class=\"dataframe\">\n",
       "  <thead>\n",
       "    <tr style=\"text-align: right;\">\n",
       "      <th></th>\n",
       "      <th>Name</th>\n",
       "      <th>Age</th>\n",
       "      <th>Role</th>\n",
       "      <th>DOJ</th>\n",
       "    </tr>\n",
       "  </thead>\n",
       "  <tbody>\n",
       "    <tr>\n",
       "      <th>0</th>\n",
       "      <td>Alex</td>\n",
       "      <td>31</td>\n",
       "      <td>Senior SD</td>\n",
       "      <td>01-06-2021</td>\n",
       "    </tr>\n",
       "    <tr>\n",
       "      <th>1</th>\n",
       "      <td>Ajax</td>\n",
       "      <td>31</td>\n",
       "      <td>Associate Architect</td>\n",
       "      <td>01-01-2025</td>\n",
       "    </tr>\n",
       "    <tr>\n",
       "      <th>2</th>\n",
       "      <td>Jane</td>\n",
       "      <td>28</td>\n",
       "      <td>Junior SD</td>\n",
       "      <td>01-03-2023</td>\n",
       "    </tr>\n",
       "    <tr>\n",
       "      <th>3</th>\n",
       "      <td>John</td>\n",
       "      <td>35</td>\n",
       "      <td>Architect</td>\n",
       "      <td>01-12-2022</td>\n",
       "    </tr>\n",
       "    <tr>\n",
       "      <th>4</th>\n",
       "      <td>Anna</td>\n",
       "      <td>40</td>\n",
       "      <td>V.P.</td>\n",
       "      <td>01-08-2000</td>\n",
       "    </tr>\n",
       "  </tbody>\n",
       "</table>\n",
       "</div>"
      ],
      "text/plain": [
       "   Name  Age                 Role         DOJ\n",
       "0  Alex   31            Senior SD  01-06-2021\n",
       "1  Ajax   31  Associate Architect  01-01-2025\n",
       "2  Jane   28            Junior SD  01-03-2023\n",
       "3  John   35            Architect  01-12-2022\n",
       "4  Anna   40                 V.P.  01-08-2000"
      ]
     },
     "execution_count": 34,
     "metadata": {},
     "output_type": "execute_result"
    }
   ],
   "source": [
    "emp_df"
   ]
  },
  {
   "cell_type": "markdown",
   "id": "f3843276-398a-453d-b01c-cbd784797807",
   "metadata": {},
   "source": [
    "#### Implicit Indexes"
   ]
  },
  {
   "cell_type": "markdown",
   "id": "23d59e4e-de62-43ae-bbd6-e2031574c546",
   "metadata": {},
   "source": [
    "1. Implicit indices can only be assessed but not modified.\n",
    "2. Implicit indices are sliced in pythonic way (end index are exclusive). Discussed in `iloc`."
   ]
  },
  {
   "cell_type": "markdown",
   "id": "c626d758-c02a-42e3-bebd-a575ced781e0",
   "metadata": {},
   "source": [
    "##### Display column implicit indices"
   ]
  },
  {
   "cell_type": "markdown",
   "id": "d006ea66-d321-4092-918d-359c876fba35",
   "metadata": {},
   "source": [
    "###### Example 1"
   ]
  },
  {
   "cell_type": "code",
   "execution_count": 35,
   "id": "c3037501-86a9-4421-a183-2aa8e0ad8801",
   "metadata": {},
   "outputs": [
    {
     "name": "stdout",
     "output_type": "stream",
     "text": [
      "Explicit column indices:\n"
     ]
    },
    {
     "data": {
      "text/plain": [
       "RangeIndex(start=0, stop=3, step=1)"
      ]
     },
     "metadata": {},
     "output_type": "display_data"
    },
    {
     "name": "stdout",
     "output_type": "stream",
     "text": [
      "\n",
      "Implicit column indices:\n"
     ]
    },
    {
     "data": {
      "text/plain": [
       "[0, 1, 2]"
      ]
     },
     "execution_count": 35,
     "metadata": {},
     "output_type": "execute_result"
    }
   ],
   "source": [
    "print(\"Explicit column indices:\")\n",
    "display(tmp_df.columns)\n",
    "\n",
    "print(\"\\nImplicit column indices:\")\n",
    "[tmp_df.columns.get_loc(c_name) for c_name in tmp_df.columns]"
   ]
  },
  {
   "cell_type": "markdown",
   "id": "4249a626-7333-4cfd-9a41-e6c8065dcf58",
   "metadata": {},
   "source": [
    "###### Example 2"
   ]
  },
  {
   "cell_type": "code",
   "execution_count": 36,
   "id": "394a619f-2f7a-4df0-a17c-0186ebc47ec2",
   "metadata": {},
   "outputs": [
    {
     "name": "stdout",
     "output_type": "stream",
     "text": [
      "Explicit column indices:\n"
     ]
    },
    {
     "data": {
      "text/plain": [
       "Index(['Name', 'Age', 'Role', 'DOJ'], dtype='object')"
      ]
     },
     "metadata": {},
     "output_type": "display_data"
    },
    {
     "name": "stdout",
     "output_type": "stream",
     "text": [
      "\n",
      "Implicit column indices:\n"
     ]
    },
    {
     "data": {
      "text/plain": [
       "[0, 1, 2, 3]"
      ]
     },
     "execution_count": 36,
     "metadata": {},
     "output_type": "execute_result"
    }
   ],
   "source": [
    "print(\"Explicit column indices:\")\n",
    "display(emp_df.columns)\n",
    "\n",
    "print(\"\\nImplicit column indices:\")\n",
    "[emp_df.columns.get_loc(c_name) for c_name in emp_df.columns]"
   ]
  },
  {
   "cell_type": "markdown",
   "id": "0e271b9e-370d-4dfb-ac97-c69b6de939ba",
   "metadata": {},
   "source": [
    "### 4.2 Row Index"
   ]
  },
  {
   "cell_type": "markdown",
   "id": "2cf5cff6-c0ac-4c70-8940-2b9a933ec424",
   "metadata": {},
   "source": [
    "#### Explicit Indexes"
   ]
  },
  {
   "cell_type": "markdown",
   "id": "6ef8a8ef-0f8f-4da7-8d40-800d74c4138d",
   "metadata": {},
   "source": [
    "##### Display row explicit indices"
   ]
  },
  {
   "cell_type": "markdown",
   "id": "0432f0fa-b6ce-4a23-a8a2-225cfc5ba769",
   "metadata": {},
   "source": [
    "###### Example 1"
   ]
  },
  {
   "cell_type": "code",
   "execution_count": 37,
   "id": "54e10d6e-f222-4ce1-8aca-632877dd4d08",
   "metadata": {},
   "outputs": [
    {
     "data": {
      "text/plain": [
       "array([0, 1, 2, 3, 4])"
      ]
     },
     "execution_count": 37,
     "metadata": {},
     "output_type": "execute_result"
    }
   ],
   "source": [
    "emp_df.index.values"
   ]
  },
  {
   "cell_type": "markdown",
   "id": "ff358372-65f1-4d2a-af21-936c148619d1",
   "metadata": {},
   "source": [
    "###### Example 2"
   ]
  },
  {
   "cell_type": "code",
   "execution_count": 38,
   "id": "78de36a7-538b-4568-9504-6d0cab34e87f",
   "metadata": {},
   "outputs": [
    {
     "data": {
      "text/plain": [
       "array([   0,    1,    2, ..., 1701, 1702, 1703], shape=(1704,))"
      ]
     },
     "execution_count": 38,
     "metadata": {},
     "output_type": "execute_result"
    }
   ],
   "source": [
    "mk_df.index.values"
   ]
  },
  {
   "cell_type": "markdown",
   "id": "cd89c913-1f28-4825-98a9-984d95ef0d9d",
   "metadata": {},
   "source": [
    "##### Update row explicit indices"
   ]
  },
  {
   "cell_type": "markdown",
   "id": "a166549b-929e-41e9-ad6c-c8bc8721517d",
   "metadata": {},
   "source": [
    "###### Before"
   ]
  },
  {
   "cell_type": "code",
   "execution_count": 39,
   "id": "ab9c94c3-5081-470e-9b1d-66b9f4199003",
   "metadata": {},
   "outputs": [
    {
     "data": {
      "text/html": [
       "<div>\n",
       "<style scoped>\n",
       "    .dataframe tbody tr th:only-of-type {\n",
       "        vertical-align: middle;\n",
       "    }\n",
       "\n",
       "    .dataframe tbody tr th {\n",
       "        vertical-align: top;\n",
       "    }\n",
       "\n",
       "    .dataframe thead th {\n",
       "        text-align: right;\n",
       "    }\n",
       "</style>\n",
       "<table border=\"1\" class=\"dataframe\">\n",
       "  <thead>\n",
       "    <tr style=\"text-align: right;\">\n",
       "      <th></th>\n",
       "      <th>Name</th>\n",
       "      <th>Age</th>\n",
       "      <th>Role</th>\n",
       "      <th>DOJ</th>\n",
       "    </tr>\n",
       "  </thead>\n",
       "  <tbody>\n",
       "    <tr>\n",
       "      <th>0</th>\n",
       "      <td>Alex</td>\n",
       "      <td>31</td>\n",
       "      <td>Senior SD</td>\n",
       "      <td>01-06-2021</td>\n",
       "    </tr>\n",
       "    <tr>\n",
       "      <th>1</th>\n",
       "      <td>Ajax</td>\n",
       "      <td>31</td>\n",
       "      <td>Associate Architect</td>\n",
       "      <td>01-01-2025</td>\n",
       "    </tr>\n",
       "    <tr>\n",
       "      <th>2</th>\n",
       "      <td>Jane</td>\n",
       "      <td>28</td>\n",
       "      <td>Junior SD</td>\n",
       "      <td>01-03-2023</td>\n",
       "    </tr>\n",
       "    <tr>\n",
       "      <th>3</th>\n",
       "      <td>John</td>\n",
       "      <td>35</td>\n",
       "      <td>Architect</td>\n",
       "      <td>01-12-2022</td>\n",
       "    </tr>\n",
       "    <tr>\n",
       "      <th>4</th>\n",
       "      <td>Anna</td>\n",
       "      <td>40</td>\n",
       "      <td>V.P.</td>\n",
       "      <td>01-08-2000</td>\n",
       "    </tr>\n",
       "  </tbody>\n",
       "</table>\n",
       "</div>"
      ],
      "text/plain": [
       "   Name  Age                 Role         DOJ\n",
       "0  Alex   31            Senior SD  01-06-2021\n",
       "1  Ajax   31  Associate Architect  01-01-2025\n",
       "2  Jane   28            Junior SD  01-03-2023\n",
       "3  John   35            Architect  01-12-2022\n",
       "4  Anna   40                 V.P.  01-08-2000"
      ]
     },
     "execution_count": 39,
     "metadata": {},
     "output_type": "execute_result"
    }
   ],
   "source": [
    "emp_df"
   ]
  },
  {
   "cell_type": "code",
   "execution_count": 40,
   "id": "1530976e-57a0-4da2-93a5-976bd9351d16",
   "metadata": {},
   "outputs": [
    {
     "data": {
      "text/plain": [
       "array(['E01', 'E02', 'E03', 'E04', 'E05'], dtype=object)"
      ]
     },
     "execution_count": 40,
     "metadata": {},
     "output_type": "execute_result"
    }
   ],
   "source": [
    "emp_df.index = [\"E01\", \"E02\", \"E03\", \"E04\", \"E05\"]\n",
    "emp_df.index.values"
   ]
  },
  {
   "cell_type": "markdown",
   "id": "d07ec29b-be0c-44a0-a288-d5e41e1a5d03",
   "metadata": {},
   "source": [
    "###### After"
   ]
  },
  {
   "cell_type": "code",
   "execution_count": 41,
   "id": "0322061c-24c3-4c1e-845a-7eaa75384a62",
   "metadata": {},
   "outputs": [
    {
     "data": {
      "text/html": [
       "<div>\n",
       "<style scoped>\n",
       "    .dataframe tbody tr th:only-of-type {\n",
       "        vertical-align: middle;\n",
       "    }\n",
       "\n",
       "    .dataframe tbody tr th {\n",
       "        vertical-align: top;\n",
       "    }\n",
       "\n",
       "    .dataframe thead th {\n",
       "        text-align: right;\n",
       "    }\n",
       "</style>\n",
       "<table border=\"1\" class=\"dataframe\">\n",
       "  <thead>\n",
       "    <tr style=\"text-align: right;\">\n",
       "      <th></th>\n",
       "      <th>Name</th>\n",
       "      <th>Age</th>\n",
       "      <th>Role</th>\n",
       "      <th>DOJ</th>\n",
       "    </tr>\n",
       "  </thead>\n",
       "  <tbody>\n",
       "    <tr>\n",
       "      <th>E01</th>\n",
       "      <td>Alex</td>\n",
       "      <td>31</td>\n",
       "      <td>Senior SD</td>\n",
       "      <td>01-06-2021</td>\n",
       "    </tr>\n",
       "    <tr>\n",
       "      <th>E02</th>\n",
       "      <td>Ajax</td>\n",
       "      <td>31</td>\n",
       "      <td>Associate Architect</td>\n",
       "      <td>01-01-2025</td>\n",
       "    </tr>\n",
       "    <tr>\n",
       "      <th>E03</th>\n",
       "      <td>Jane</td>\n",
       "      <td>28</td>\n",
       "      <td>Junior SD</td>\n",
       "      <td>01-03-2023</td>\n",
       "    </tr>\n",
       "    <tr>\n",
       "      <th>E04</th>\n",
       "      <td>John</td>\n",
       "      <td>35</td>\n",
       "      <td>Architect</td>\n",
       "      <td>01-12-2022</td>\n",
       "    </tr>\n",
       "    <tr>\n",
       "      <th>E05</th>\n",
       "      <td>Anna</td>\n",
       "      <td>40</td>\n",
       "      <td>V.P.</td>\n",
       "      <td>01-08-2000</td>\n",
       "    </tr>\n",
       "  </tbody>\n",
       "</table>\n",
       "</div>"
      ],
      "text/plain": [
       "     Name  Age                 Role         DOJ\n",
       "E01  Alex   31            Senior SD  01-06-2021\n",
       "E02  Ajax   31  Associate Architect  01-01-2025\n",
       "E03  Jane   28            Junior SD  01-03-2023\n",
       "E04  John   35            Architect  01-12-2022\n",
       "E05  Anna   40                 V.P.  01-08-2000"
      ]
     },
     "execution_count": 41,
     "metadata": {},
     "output_type": "execute_result"
    }
   ],
   "source": [
    "emp_df"
   ]
  },
  {
   "cell_type": "markdown",
   "id": "e295e406-89dd-445f-b3a0-e6b3d6c3ffeb",
   "metadata": {},
   "source": [
    "#### Implicit Indexes"
   ]
  },
  {
   "cell_type": "markdown",
   "id": "21a10236-3b49-40f8-9169-72fac8ae30b7",
   "metadata": {},
   "source": [
    "1. Implicit indices can only be assessed but not modified.\n",
    "2. Implicit indices are sliced in pythonic way (end index are exclusive). Discussed in detail  in `iloc`."
   ]
  },
  {
   "cell_type": "markdown",
   "id": "dcc96ee4-2d46-4b6b-b762-e42dcc09cb80",
   "metadata": {},
   "source": [
    "##### Display Indices"
   ]
  },
  {
   "cell_type": "code",
   "execution_count": 42,
   "id": "6cd50140-aba1-4114-b930-2ebbea9624b9",
   "metadata": {},
   "outputs": [
    {
     "name": "stdout",
     "output_type": "stream",
     "text": [
      "Explicit row indices:\n"
     ]
    },
    {
     "data": {
      "text/plain": [
       "array(['E01', 'E02', 'E03', 'E04', 'E05'], dtype=object)"
      ]
     },
     "metadata": {},
     "output_type": "display_data"
    },
    {
     "name": "stdout",
     "output_type": "stream",
     "text": [
      "\n",
      "Implicit row indices:\n"
     ]
    },
    {
     "data": {
      "text/plain": [
       "[0, 1, 2, 3, 4]"
      ]
     },
     "execution_count": 42,
     "metadata": {},
     "output_type": "execute_result"
    }
   ],
   "source": [
    "print(\"Explicit row indices:\")\n",
    "display(emp_df.index.values)\n",
    "\n",
    "print(\"\\nImplicit row indices:\")\n",
    "[emp_df.index.get_loc(exp_idx) for exp_idx in emp_df.index]"
   ]
  },
  {
   "cell_type": "markdown",
   "id": "83be8cd4-9507-4dff-be67-cfcaf31c1435",
   "metadata": {},
   "source": [
    "## 5 Rename"
   ]
  },
  {
   "cell_type": "markdown",
   "id": "510de7c3-2a33-4156-ba13-e5bf0c62d770",
   "metadata": {},
   "source": [
    "Behavior of `rename` function:\n",
    "\n",
    "1. `rename` can be used to change existing column name or explicit row indices.\n",
    "2. Calling `rename` by passing an iterable as first parameter with `axis` parameter set to 1 will update column names.\n",
    "3. Calling `rename` by passing an iterable as first parameter with `axis` parameter set to 0 will update explicit row indices.\n",
    "4. Calling `rename` by passing a `dict` to `columns` parameter will update column names.\n",
    "5. Calling `rename` by passing a `dict` to `index` parameter will update explicit row indices.  "
   ]
  },
  {
   "cell_type": "markdown",
   "id": "0298a4ba-7f09-4703-abf7-e6f709c70923",
   "metadata": {},
   "source": [
    "### 5.1 Rename Column Index"
   ]
  },
  {
   "cell_type": "code",
   "execution_count": 43,
   "id": "275bb287-5c3e-4044-b03b-955fddeddb49",
   "metadata": {},
   "outputs": [
    {
     "data": {
      "text/html": [
       "<div>\n",
       "<style scoped>\n",
       "    .dataframe tbody tr th:only-of-type {\n",
       "        vertical-align: middle;\n",
       "    }\n",
       "\n",
       "    .dataframe tbody tr th {\n",
       "        vertical-align: top;\n",
       "    }\n",
       "\n",
       "    .dataframe thead th {\n",
       "        text-align: right;\n",
       "    }\n",
       "</style>\n",
       "<table border=\"1\" class=\"dataframe\">\n",
       "  <thead>\n",
       "    <tr style=\"text-align: right;\">\n",
       "      <th></th>\n",
       "      <th>First name</th>\n",
       "      <th>Age in Years</th>\n",
       "      <th>Position</th>\n",
       "      <th>Date of Joining</th>\n",
       "    </tr>\n",
       "  </thead>\n",
       "  <tbody>\n",
       "    <tr>\n",
       "      <th>E01</th>\n",
       "      <td>Alex</td>\n",
       "      <td>31</td>\n",
       "      <td>Senior SD</td>\n",
       "      <td>01-06-2021</td>\n",
       "    </tr>\n",
       "    <tr>\n",
       "      <th>E02</th>\n",
       "      <td>Ajax</td>\n",
       "      <td>31</td>\n",
       "      <td>Associate Architect</td>\n",
       "      <td>01-01-2025</td>\n",
       "    </tr>\n",
       "    <tr>\n",
       "      <th>E03</th>\n",
       "      <td>Jane</td>\n",
       "      <td>28</td>\n",
       "      <td>Junior SD</td>\n",
       "      <td>01-03-2023</td>\n",
       "    </tr>\n",
       "    <tr>\n",
       "      <th>E04</th>\n",
       "      <td>John</td>\n",
       "      <td>35</td>\n",
       "      <td>Architect</td>\n",
       "      <td>01-12-2022</td>\n",
       "    </tr>\n",
       "    <tr>\n",
       "      <th>E05</th>\n",
       "      <td>Anna</td>\n",
       "      <td>40</td>\n",
       "      <td>V.P.</td>\n",
       "      <td>01-08-2000</td>\n",
       "    </tr>\n",
       "  </tbody>\n",
       "</table>\n",
       "</div>"
      ],
      "text/plain": [
       "    First name  Age in Years             Position Date of Joining\n",
       "E01       Alex            31            Senior SD      01-06-2021\n",
       "E02       Ajax            31  Associate Architect      01-01-2025\n",
       "E03       Jane            28            Junior SD      01-03-2023\n",
       "E04       John            35            Architect      01-12-2022\n",
       "E05       Anna            40                 V.P.      01-08-2000"
      ]
     },
     "execution_count": 43,
     "metadata": {},
     "output_type": "execute_result"
    }
   ],
   "source": [
    "emp_df.rename(\n",
    "    {\n",
    "        \"Name\": \"First name\",\n",
    "        \"Age\": \"Age in Years\",\n",
    "        \"Role\": \"Position\",\n",
    "        \"DOJ\": \"Date of Joining\",\n",
    "    },\n",
    "    axis=1,\n",
    ")"
   ]
  },
  {
   "cell_type": "markdown",
   "id": "a1f37bbb-ce86-42e1-b7b5-019b5f913637",
   "metadata": {},
   "source": [
    "#### Importance of `inplace`"
   ]
  },
  {
   "cell_type": "markdown",
   "id": "52513d20-9590-4da7-b0f8-14f59617f9a3",
   "metadata": {},
   "source": [
    "1. DataFrame is not updated with new column names since `inplace` parameter of `rename()` is not set to `True`.\n",
    "2. Setting `inplace` parameter to `True` ensures the changes done are permanent.\n",
    "3. All DML methods require this parameter to be set to `True` for permanent changes."
   ]
  },
  {
   "cell_type": "markdown",
   "id": "91aceea7-5da2-467b-9ab5-0044e96e2e6b",
   "metadata": {},
   "source": [
    "##### Original DataFrame"
   ]
  },
  {
   "cell_type": "code",
   "execution_count": 44,
   "id": "6e32ebbb-0c38-4b93-b900-41a2bc458031",
   "metadata": {},
   "outputs": [
    {
     "data": {
      "text/html": [
       "<div>\n",
       "<style scoped>\n",
       "    .dataframe tbody tr th:only-of-type {\n",
       "        vertical-align: middle;\n",
       "    }\n",
       "\n",
       "    .dataframe tbody tr th {\n",
       "        vertical-align: top;\n",
       "    }\n",
       "\n",
       "    .dataframe thead th {\n",
       "        text-align: right;\n",
       "    }\n",
       "</style>\n",
       "<table border=\"1\" class=\"dataframe\">\n",
       "  <thead>\n",
       "    <tr style=\"text-align: right;\">\n",
       "      <th></th>\n",
       "      <th>Name</th>\n",
       "      <th>Age</th>\n",
       "      <th>Role</th>\n",
       "      <th>DOJ</th>\n",
       "    </tr>\n",
       "  </thead>\n",
       "  <tbody>\n",
       "    <tr>\n",
       "      <th>E01</th>\n",
       "      <td>Alex</td>\n",
       "      <td>31</td>\n",
       "      <td>Senior SD</td>\n",
       "      <td>01-06-2021</td>\n",
       "    </tr>\n",
       "    <tr>\n",
       "      <th>E02</th>\n",
       "      <td>Ajax</td>\n",
       "      <td>31</td>\n",
       "      <td>Associate Architect</td>\n",
       "      <td>01-01-2025</td>\n",
       "    </tr>\n",
       "    <tr>\n",
       "      <th>E03</th>\n",
       "      <td>Jane</td>\n",
       "      <td>28</td>\n",
       "      <td>Junior SD</td>\n",
       "      <td>01-03-2023</td>\n",
       "    </tr>\n",
       "    <tr>\n",
       "      <th>E04</th>\n",
       "      <td>John</td>\n",
       "      <td>35</td>\n",
       "      <td>Architect</td>\n",
       "      <td>01-12-2022</td>\n",
       "    </tr>\n",
       "    <tr>\n",
       "      <th>E05</th>\n",
       "      <td>Anna</td>\n",
       "      <td>40</td>\n",
       "      <td>V.P.</td>\n",
       "      <td>01-08-2000</td>\n",
       "    </tr>\n",
       "  </tbody>\n",
       "</table>\n",
       "</div>"
      ],
      "text/plain": [
       "     Name  Age                 Role         DOJ\n",
       "E01  Alex   31            Senior SD  01-06-2021\n",
       "E02  Ajax   31  Associate Architect  01-01-2025\n",
       "E03  Jane   28            Junior SD  01-03-2023\n",
       "E04  John   35            Architect  01-12-2022\n",
       "E05  Anna   40                 V.P.  01-08-2000"
      ]
     },
     "execution_count": 44,
     "metadata": {},
     "output_type": "execute_result"
    }
   ],
   "source": [
    "emp_df"
   ]
  },
  {
   "cell_type": "code",
   "execution_count": 45,
   "id": "18e1e263-fc1b-4d92-9229-9d94e210c729",
   "metadata": {},
   "outputs": [],
   "source": [
    "emp_df.rename({\"DOJ\": \"DateOfJoining\"}, axis=1, inplace=True)"
   ]
  },
  {
   "cell_type": "markdown",
   "id": "3d5c7d83-ca15-4c2a-bb6f-8163090529f6",
   "metadata": {},
   "source": [
    "##### Modified DataFrame"
   ]
  },
  {
   "cell_type": "code",
   "execution_count": 46,
   "id": "c7b63803-cbdd-4d9c-a029-54c89ff7c769",
   "metadata": {},
   "outputs": [
    {
     "data": {
      "text/html": [
       "<div>\n",
       "<style scoped>\n",
       "    .dataframe tbody tr th:only-of-type {\n",
       "        vertical-align: middle;\n",
       "    }\n",
       "\n",
       "    .dataframe tbody tr th {\n",
       "        vertical-align: top;\n",
       "    }\n",
       "\n",
       "    .dataframe thead th {\n",
       "        text-align: right;\n",
       "    }\n",
       "</style>\n",
       "<table border=\"1\" class=\"dataframe\">\n",
       "  <thead>\n",
       "    <tr style=\"text-align: right;\">\n",
       "      <th></th>\n",
       "      <th>Name</th>\n",
       "      <th>Age</th>\n",
       "      <th>Role</th>\n",
       "      <th>DateOfJoining</th>\n",
       "    </tr>\n",
       "  </thead>\n",
       "  <tbody>\n",
       "    <tr>\n",
       "      <th>E01</th>\n",
       "      <td>Alex</td>\n",
       "      <td>31</td>\n",
       "      <td>Senior SD</td>\n",
       "      <td>01-06-2021</td>\n",
       "    </tr>\n",
       "    <tr>\n",
       "      <th>E02</th>\n",
       "      <td>Ajax</td>\n",
       "      <td>31</td>\n",
       "      <td>Associate Architect</td>\n",
       "      <td>01-01-2025</td>\n",
       "    </tr>\n",
       "    <tr>\n",
       "      <th>E03</th>\n",
       "      <td>Jane</td>\n",
       "      <td>28</td>\n",
       "      <td>Junior SD</td>\n",
       "      <td>01-03-2023</td>\n",
       "    </tr>\n",
       "    <tr>\n",
       "      <th>E04</th>\n",
       "      <td>John</td>\n",
       "      <td>35</td>\n",
       "      <td>Architect</td>\n",
       "      <td>01-12-2022</td>\n",
       "    </tr>\n",
       "    <tr>\n",
       "      <th>E05</th>\n",
       "      <td>Anna</td>\n",
       "      <td>40</td>\n",
       "      <td>V.P.</td>\n",
       "      <td>01-08-2000</td>\n",
       "    </tr>\n",
       "  </tbody>\n",
       "</table>\n",
       "</div>"
      ],
      "text/plain": [
       "     Name  Age                 Role DateOfJoining\n",
       "E01  Alex   31            Senior SD    01-06-2021\n",
       "E02  Ajax   31  Associate Architect    01-01-2025\n",
       "E03  Jane   28            Junior SD    01-03-2023\n",
       "E04  John   35            Architect    01-12-2022\n",
       "E05  Anna   40                 V.P.    01-08-2000"
      ]
     },
     "execution_count": 46,
     "metadata": {},
     "output_type": "execute_result"
    }
   ],
   "source": [
    "emp_df"
   ]
  },
  {
   "cell_type": "markdown",
   "id": "51536c5e-4ae9-4538-bd9f-1dbbe0c66d6b",
   "metadata": {},
   "source": [
    "### 5.2 Rename Row Index"
   ]
  },
  {
   "cell_type": "code",
   "execution_count": 47,
   "id": "3eebfdda-20a1-43ed-8e24-86a8df6e9289",
   "metadata": {},
   "outputs": [
    {
     "data": {
      "text/html": [
       "<div>\n",
       "<style scoped>\n",
       "    .dataframe tbody tr th:only-of-type {\n",
       "        vertical-align: middle;\n",
       "    }\n",
       "\n",
       "    .dataframe tbody tr th {\n",
       "        vertical-align: top;\n",
       "    }\n",
       "\n",
       "    .dataframe thead th {\n",
       "        text-align: right;\n",
       "    }\n",
       "</style>\n",
       "<table border=\"1\" class=\"dataframe\">\n",
       "  <thead>\n",
       "    <tr style=\"text-align: right;\">\n",
       "      <th></th>\n",
       "      <th>Name</th>\n",
       "      <th>Age</th>\n",
       "      <th>Role</th>\n",
       "      <th>DateOfJoining</th>\n",
       "    </tr>\n",
       "  </thead>\n",
       "  <tbody>\n",
       "    <tr>\n",
       "      <th>E01</th>\n",
       "      <td>Alex</td>\n",
       "      <td>31</td>\n",
       "      <td>Senior SD</td>\n",
       "      <td>01-06-2021</td>\n",
       "    </tr>\n",
       "    <tr>\n",
       "      <th>A65</th>\n",
       "      <td>Ajax</td>\n",
       "      <td>31</td>\n",
       "      <td>Associate Architect</td>\n",
       "      <td>01-01-2025</td>\n",
       "    </tr>\n",
       "    <tr>\n",
       "      <th>E03</th>\n",
       "      <td>Jane</td>\n",
       "      <td>28</td>\n",
       "      <td>Junior SD</td>\n",
       "      <td>01-03-2023</td>\n",
       "    </tr>\n",
       "    <tr>\n",
       "      <th>E04</th>\n",
       "      <td>John</td>\n",
       "      <td>35</td>\n",
       "      <td>Architect</td>\n",
       "      <td>01-12-2022</td>\n",
       "    </tr>\n",
       "    <tr>\n",
       "      <th>VP01</th>\n",
       "      <td>Anna</td>\n",
       "      <td>40</td>\n",
       "      <td>V.P.</td>\n",
       "      <td>01-08-2000</td>\n",
       "    </tr>\n",
       "  </tbody>\n",
       "</table>\n",
       "</div>"
      ],
      "text/plain": [
       "      Name  Age                 Role DateOfJoining\n",
       "E01   Alex   31            Senior SD    01-06-2021\n",
       "A65   Ajax   31  Associate Architect    01-01-2025\n",
       "E03   Jane   28            Junior SD    01-03-2023\n",
       "E04   John   35            Architect    01-12-2022\n",
       "VP01  Anna   40                 V.P.    01-08-2000"
      ]
     },
     "execution_count": 47,
     "metadata": {},
     "output_type": "execute_result"
    }
   ],
   "source": [
    "emp_df.rename({\"E02\": \"A65\", \"E05\": \"VP01\"}, axis=0)"
   ]
  },
  {
   "cell_type": "markdown",
   "id": "4ddb8aa5-33b5-4503-b51c-f37e9dd76f07",
   "metadata": {},
   "source": [
    "> **Note**:\n",
    ">\n",
    "> Original DataFrame is not updated since `inplace` is not set to `True`."
   ]
  },
  {
   "cell_type": "markdown",
   "id": "0bf10ff9-f0e1-4b53-bc8d-bf2cc25ca097",
   "metadata": {},
   "source": [
    "## 6 Typecasting"
   ]
  },
  {
   "cell_type": "markdown",
   "id": "06230c3a-edd3-42db-afa8-3dce270cb7ca",
   "metadata": {},
   "source": [
    "### 6.1 Typecasting `DataFrame`"
   ]
  },
  {
   "cell_type": "code",
   "execution_count": 48,
   "id": "b75c4b2c-7a33-4a02-86d9-cb07d3072fa3",
   "metadata": {},
   "outputs": [
    {
     "data": {
      "text/html": [
       "<div>\n",
       "<style scoped>\n",
       "    .dataframe tbody tr th:only-of-type {\n",
       "        vertical-align: middle;\n",
       "    }\n",
       "\n",
       "    .dataframe tbody tr th {\n",
       "        vertical-align: top;\n",
       "    }\n",
       "\n",
       "    .dataframe thead th {\n",
       "        text-align: right;\n",
       "    }\n",
       "</style>\n",
       "<table border=\"1\" class=\"dataframe\">\n",
       "  <thead>\n",
       "    <tr style=\"text-align: right;\">\n",
       "      <th></th>\n",
       "      <th>0</th>\n",
       "      <th>1</th>\n",
       "      <th>2</th>\n",
       "      <th>3</th>\n",
       "    </tr>\n",
       "  </thead>\n",
       "  <tbody>\n",
       "    <tr>\n",
       "      <th>0</th>\n",
       "      <td>1</td>\n",
       "      <td>3.14</td>\n",
       "      <td>True</td>\n",
       "      <td>Abc</td>\n",
       "    </tr>\n",
       "    <tr>\n",
       "      <th>1</th>\n",
       "      <td>2</td>\n",
       "      <td>0.5</td>\n",
       "      <td>False</td>\n",
       "      <td>Xyz</td>\n",
       "    </tr>\n",
       "    <tr>\n",
       "      <th>2</th>\n",
       "      <td>3</td>\n",
       "      <td>0</td>\n",
       "      <td>0</td>\n",
       "      <td>None</td>\n",
       "    </tr>\n",
       "  </tbody>\n",
       "</table>\n",
       "</div>"
      ],
      "text/plain": [
       "   0     1      2     3\n",
       "0  1  3.14   True   Abc\n",
       "1  2   0.5  False   Xyz\n",
       "2  3     0      0  None"
      ]
     },
     "metadata": {},
     "output_type": "display_data"
    },
    {
     "name": "stdout",
     "output_type": "stream",
     "text": [
      "<class 'pandas.core.frame.DataFrame'>\n",
      "RangeIndex: 3 entries, 0 to 2\n",
      "Data columns (total 4 columns):\n",
      " #   Column  Non-Null Count  Dtype \n",
      "---  ------  --------------  ----- \n",
      " 0   0       3 non-null      object\n",
      " 1   1       3 non-null      object\n",
      " 2   2       3 non-null      object\n",
      " 3   3       2 non-null      object\n",
      "dtypes: object(4)\n",
      "memory usage: 228.0+ bytes\n"
     ]
    }
   ],
   "source": [
    "temp = pd.DataFrame(\n",
    "    data=[\n",
    "        [1, 3.14, True, \"Abc\"],\n",
    "        [2, 0.5, False, \"Xyz\"],\n",
    "        [3, 0, 0, None],\n",
    "    ],\n",
    "    dtype=object,\n",
    ")\n",
    "\n",
    "display(temp)\n",
    "temp.info()"
   ]
  },
  {
   "cell_type": "markdown",
   "id": "b035b1a3-d7ed-4273-bbf0-ae35313c047c",
   "metadata": {},
   "source": [
    "### 6.2 Typecasting `Series`"
   ]
  },
  {
   "cell_type": "markdown",
   "id": "85df6046-4a21-456e-bce4-0d880849b46d",
   "metadata": {},
   "source": [
    "In pandas columns can be typecast using `astype`"
   ]
  },
  {
   "cell_type": "code",
   "execution_count": 49,
   "id": "432e1d4c-ca18-42a9-a9de-c9de347ba4ed",
   "metadata": {},
   "outputs": [
    {
     "data": {
      "text/html": [
       "<div>\n",
       "<style scoped>\n",
       "    .dataframe tbody tr th:only-of-type {\n",
       "        vertical-align: middle;\n",
       "    }\n",
       "\n",
       "    .dataframe tbody tr th {\n",
       "        vertical-align: top;\n",
       "    }\n",
       "\n",
       "    .dataframe thead th {\n",
       "        text-align: right;\n",
       "    }\n",
       "</style>\n",
       "<table border=\"1\" class=\"dataframe\">\n",
       "  <thead>\n",
       "    <tr style=\"text-align: right;\">\n",
       "      <th></th>\n",
       "      <th>0</th>\n",
       "      <th>1</th>\n",
       "      <th>2</th>\n",
       "      <th>3</th>\n",
       "    </tr>\n",
       "  </thead>\n",
       "  <tbody>\n",
       "    <tr>\n",
       "      <th>0</th>\n",
       "      <td>1</td>\n",
       "      <td>3.14</td>\n",
       "      <td>True</td>\n",
       "      <td>Abc</td>\n",
       "    </tr>\n",
       "    <tr>\n",
       "      <th>1</th>\n",
       "      <td>2</td>\n",
       "      <td>0.50</td>\n",
       "      <td>False</td>\n",
       "      <td>Xyz</td>\n",
       "    </tr>\n",
       "    <tr>\n",
       "      <th>2</th>\n",
       "      <td>3</td>\n",
       "      <td>0.00</td>\n",
       "      <td>False</td>\n",
       "      <td>None</td>\n",
       "    </tr>\n",
       "  </tbody>\n",
       "</table>\n",
       "</div>"
      ],
      "text/plain": [
       "   0     1      2     3\n",
       "0  1  3.14   True   Abc\n",
       "1  2  0.50  False   Xyz\n",
       "2  3  0.00  False  None"
      ]
     },
     "metadata": {},
     "output_type": "display_data"
    },
    {
     "name": "stdout",
     "output_type": "stream",
     "text": [
      "<class 'pandas.core.frame.DataFrame'>\n",
      "RangeIndex: 3 entries, 0 to 2\n",
      "Data columns (total 4 columns):\n",
      " #   Column  Non-Null Count  Dtype  \n",
      "---  ------  --------------  -----  \n",
      " 0   0       3 non-null      int64  \n",
      " 1   1       3 non-null      float64\n",
      " 2   2       3 non-null      bool   \n",
      " 3   3       3 non-null      object \n",
      "dtypes: bool(1), float64(1), int64(1), object(1)\n",
      "memory usage: 207.0+ bytes\n"
     ]
    }
   ],
   "source": [
    "# Typecast each column.\n",
    "temp[0] = temp[0].astype(int)\n",
    "temp[1] = temp[1].astype(float)\n",
    "temp[2] = temp[2].astype(bool)\n",
    "temp[3] = temp[3].astype(str)\n",
    "\n",
    "display(temp)\n",
    "temp.info()"
   ]
  },
  {
   "cell_type": "markdown",
   "id": "49eae253-0b52-47db-af03-d7d3d2de6430",
   "metadata": {},
   "source": [
    "> **Note**:\n",
    ">\n",
    "> Typecasting reduced the size of DataFrame from ~228 bytes to ~207 bytes"
   ]
  },
  {
   "cell_type": "markdown",
   "id": "4db582b3-9af7-4b58-bab8-733a71548cb3",
   "metadata": {},
   "source": [
    "#### Handling Dates"
   ]
  },
  {
   "cell_type": "code",
   "execution_count": 50,
   "id": "4b9a67a1-7584-461d-b153-30331bf63451",
   "metadata": {},
   "outputs": [
    {
     "name": "stdout",
     "output_type": "stream",
     "text": [
      "<class 'pandas.core.series.Series'>\n",
      "Index: 5 entries, E01 to E05\n",
      "Series name: DateOfJoining\n",
      "Non-Null Count  Dtype         \n",
      "--------------  -----         \n",
      "5 non-null      datetime64[ns]\n",
      "dtypes: datetime64[ns](1)\n",
      "memory usage: 252.0+ bytes\n"
     ]
    }
   ],
   "source": [
    "emp_df[\"DateOfJoining\"] = pd.to_datetime(emp_df[\"DateOfJoining\"], format=\"%d-%m-%Y\")\n",
    "emp_df[\"DateOfJoining\"].info()"
   ]
  },
  {
   "cell_type": "markdown",
   "id": "55e0030d-9ae1-4a23-a59c-878fa29f93d8",
   "metadata": {},
   "source": [
    "`DateOfJoining` was converted from `object` to `datetime64[ns]`"
   ]
  },
  {
   "cell_type": "markdown",
   "id": "b91656f7-89fc-4ec9-a989-8f984da79223",
   "metadata": {},
   "source": [
    "## 7 Read"
   ]
  },
  {
   "cell_type": "markdown",
   "id": "5066b546-919d-4768-955e-05550f2f99ef",
   "metadata": {},
   "source": [
    "Before accessing rows using indices lets update index of DataFrame to create distinction between row-explicit index and row-implicit index."
   ]
  },
  {
   "cell_type": "markdown",
   "id": "4bd2ffac-ff4d-4607-a73b-54d3b868b891",
   "metadata": {},
   "source": [
    "For the `mk_df` DataFrame, implicit row indices range from 0 to 1703 as seen below (1704 is exclusive)."
   ]
  },
  {
   "cell_type": "markdown",
   "id": "4dbd0095-31dc-42cc-ac36-dcca28e6c25d",
   "metadata": {},
   "source": [
    "##### Old Explicit Indices"
   ]
  },
  {
   "cell_type": "code",
   "execution_count": 51,
   "id": "f2018f00-eb12-4bb8-80ed-ec971d03382a",
   "metadata": {},
   "outputs": [
    {
     "data": {
      "text/plain": [
       "array([   0,    1,    2, ..., 1701, 1702, 1703], shape=(1704,))"
      ]
     },
     "execution_count": 51,
     "metadata": {},
     "output_type": "execute_result"
    }
   ],
   "source": [
    "mk_df.index.values"
   ]
  },
  {
   "cell_type": "code",
   "execution_count": 52,
   "id": "06b107b1-b5d8-4ebf-a1cf-cd23b2044180",
   "metadata": {},
   "outputs": [],
   "source": [
    "mk_df.index = list(range(1, len(mk_df) + 1))"
   ]
  },
  {
   "cell_type": "markdown",
   "id": "1565d872-cac9-49da-8b5d-fa564bc26a43",
   "metadata": {},
   "source": [
    "##### New Explicit Indices"
   ]
  },
  {
   "cell_type": "code",
   "execution_count": 53,
   "id": "745da976-38df-4e13-9f53-def57c4b70b7",
   "metadata": {},
   "outputs": [
    {
     "data": {
      "text/plain": [
       "array([   1,    2,    3, ..., 1702, 1703, 1704], shape=(1704,))"
      ]
     },
     "execution_count": 53,
     "metadata": {},
     "output_type": "execute_result"
    }
   ],
   "source": [
    "mk_df.index.values"
   ]
  },
  {
   "cell_type": "markdown",
   "id": "4e9878ec-0713-4ffd-9ff3-221c68840f1e",
   "metadata": {},
   "source": [
    "### 7.1 Access Rows"
   ]
  },
  {
   "cell_type": "markdown",
   "id": "278a7d89-fa82-4803-8521-a53e6a2efdba",
   "metadata": {},
   "source": [
    "#### Direct Access"
   ]
  },
  {
   "cell_type": "markdown",
   "id": "6362355c-de16-4e84-8972-9445ab1ee25b",
   "metadata": {},
   "source": [
    "##### Example #1"
   ]
  },
  {
   "cell_type": "markdown",
   "id": "9f4b9406-2ef1-4e05-8fc6-273e67635c47",
   "metadata": {},
   "source": [
    "Explicit row index cannot be used with DataFrame. Trying to access rows using explicit row index throws error."
   ]
  },
  {
   "cell_type": "code",
   "execution_count": 54,
   "id": "1149da84-e796-43c5-b563-17d2888c7d63",
   "metadata": {},
   "outputs": [
    {
     "name": "stdout",
     "output_type": "stream",
     "text": [
      "KeyError: 1\n"
     ]
    }
   ],
   "source": [
    "try:\n",
    "    mk_df[1]\n",
    "except KeyError as err:\n",
    "    print(\"KeyError:\", err)"
   ]
  },
  {
   "cell_type": "code",
   "execution_count": 55,
   "id": "0d6118f4-169b-4b51-9e62-28ddbbc4f1bd",
   "metadata": {},
   "outputs": [
    {
     "name": "stdout",
     "output_type": "stream",
     "text": [
      "KeyError: (1, 2, 3)\n"
     ]
    }
   ],
   "source": [
    "try:\n",
    "    mk_df[1, 2, 3]\n",
    "except KeyError as err:\n",
    "    print(\"KeyError:\", err)"
   ]
  },
  {
   "cell_type": "code",
   "execution_count": 56,
   "id": "38b3b358-4e32-4ad2-8bbc-b50293afe733",
   "metadata": {},
   "outputs": [
    {
     "data": {
      "text/html": [
       "<div>\n",
       "<style scoped>\n",
       "    .dataframe tbody tr th:only-of-type {\n",
       "        vertical-align: middle;\n",
       "    }\n",
       "\n",
       "    .dataframe tbody tr th {\n",
       "        vertical-align: top;\n",
       "    }\n",
       "\n",
       "    .dataframe thead th {\n",
       "        text-align: right;\n",
       "    }\n",
       "</style>\n",
       "<table border=\"1\" class=\"dataframe\">\n",
       "  <thead>\n",
       "    <tr style=\"text-align: right;\">\n",
       "      <th></th>\n",
       "      <th>country</th>\n",
       "      <th>year</th>\n",
       "      <th>population</th>\n",
       "      <th>continent</th>\n",
       "      <th>life_exp</th>\n",
       "      <th>gdp_cap</th>\n",
       "    </tr>\n",
       "  </thead>\n",
       "  <tbody>\n",
       "    <tr>\n",
       "      <th>101</th>\n",
       "      <td>Bangladesh</td>\n",
       "      <td>1972</td>\n",
       "      <td>70759295</td>\n",
       "      <td>Asia</td>\n",
       "      <td>45.252</td>\n",
       "      <td>630.233627</td>\n",
       "    </tr>\n",
       "    <tr>\n",
       "      <th>106</th>\n",
       "      <td>Bangladesh</td>\n",
       "      <td>1997</td>\n",
       "      <td>123315288</td>\n",
       "      <td>Asia</td>\n",
       "      <td>59.412</td>\n",
       "      <td>972.770035</td>\n",
       "    </tr>\n",
       "    <tr>\n",
       "      <th>111</th>\n",
       "      <td>Belgium</td>\n",
       "      <td>1962</td>\n",
       "      <td>9218400</td>\n",
       "      <td>Europe</td>\n",
       "      <td>70.250</td>\n",
       "      <td>10991.206760</td>\n",
       "    </tr>\n",
       "  </tbody>\n",
       "</table>\n",
       "</div>"
      ],
      "text/plain": [
       "        country  year  population continent  life_exp       gdp_cap\n",
       "101  Bangladesh  1972    70759295      Asia    45.252    630.233627\n",
       "106  Bangladesh  1997   123315288      Asia    59.412    972.770035\n",
       "111     Belgium  1962     9218400    Europe    70.250  10991.206760"
      ]
     },
     "execution_count": 56,
     "metadata": {},
     "output_type": "execute_result"
    }
   ],
   "source": [
    "mk_df[100:115:5]"
   ]
  },
  {
   "cell_type": "markdown",
   "id": "e08d372f-a409-4b09-91d2-e1bcd8921a73",
   "metadata": {},
   "source": [
    "##### Example #2"
   ]
  },
  {
   "cell_type": "markdown",
   "id": "fa4d1073-fe3b-47b4-9a32-8c95b0f9850c",
   "metadata": {},
   "source": [
    "Trying to access rows using explicit row index throws error."
   ]
  },
  {
   "cell_type": "code",
   "execution_count": 57,
   "id": "156d91f6-81f8-44ce-90d8-f4b964d746aa",
   "metadata": {},
   "outputs": [
    {
     "name": "stdout",
     "output_type": "stream",
     "text": [
      "KeyError: 'E05'\n"
     ]
    }
   ],
   "source": [
    "try:\n",
    "    emp_df[\"E05\"]\n",
    "except KeyError as err:\n",
    "    print(\"KeyError:\", err)"
   ]
  },
  {
   "cell_type": "markdown",
   "id": "9be215fe-b75d-46da-92b2-b51a937ae6a1",
   "metadata": {},
   "source": [
    "##### Example #3:"
   ]
  },
  {
   "cell_type": "code",
   "execution_count": 58,
   "id": "cc3f79ae-d4ec-4df9-9b77-205e2b1be846",
   "metadata": {},
   "outputs": [
    {
     "name": "stdout",
     "output_type": "stream",
     "text": [
      "KeyError: ('E03', 'E04', 'EO5')\n"
     ]
    }
   ],
   "source": [
    "try:\n",
    "    emp_df[\"E03\", \"E04\", \"EO5\"]\n",
    "except KeyError as err:\n",
    "    print(\"KeyError:\", err)"
   ]
  },
  {
   "cell_type": "code",
   "execution_count": 59,
   "id": "61371baa-84ab-4b6e-8cbd-5a21f9a9590e",
   "metadata": {},
   "outputs": [
    {
     "data": {
      "text/html": [
       "<div>\n",
       "<style scoped>\n",
       "    .dataframe tbody tr th:only-of-type {\n",
       "        vertical-align: middle;\n",
       "    }\n",
       "\n",
       "    .dataframe tbody tr th {\n",
       "        vertical-align: top;\n",
       "    }\n",
       "\n",
       "    .dataframe thead th {\n",
       "        text-align: right;\n",
       "    }\n",
       "</style>\n",
       "<table border=\"1\" class=\"dataframe\">\n",
       "  <thead>\n",
       "    <tr style=\"text-align: right;\">\n",
       "      <th></th>\n",
       "      <th>Name</th>\n",
       "      <th>Age</th>\n",
       "      <th>Role</th>\n",
       "      <th>DateOfJoining</th>\n",
       "    </tr>\n",
       "  </thead>\n",
       "  <tbody>\n",
       "    <tr>\n",
       "      <th>E03</th>\n",
       "      <td>Jane</td>\n",
       "      <td>28</td>\n",
       "      <td>Junior SD</td>\n",
       "      <td>2023-03-01</td>\n",
       "    </tr>\n",
       "    <tr>\n",
       "      <th>E04</th>\n",
       "      <td>John</td>\n",
       "      <td>35</td>\n",
       "      <td>Architect</td>\n",
       "      <td>2022-12-01</td>\n",
       "    </tr>\n",
       "    <tr>\n",
       "      <th>E05</th>\n",
       "      <td>Anna</td>\n",
       "      <td>40</td>\n",
       "      <td>V.P.</td>\n",
       "      <td>2000-08-01</td>\n",
       "    </tr>\n",
       "  </tbody>\n",
       "</table>\n",
       "</div>"
      ],
      "text/plain": [
       "     Name  Age       Role DateOfJoining\n",
       "E03  Jane   28  Junior SD    2023-03-01\n",
       "E04  John   35  Architect    2022-12-01\n",
       "E05  Anna   40       V.P.    2000-08-01"
      ]
     },
     "execution_count": 59,
     "metadata": {},
     "output_type": "execute_result"
    }
   ],
   "source": [
    "emp_df[\"E03\":\"EO5\"]"
   ]
  },
  {
   "cell_type": "markdown",
   "id": "4b6c3177-3863-4758-b023-dd696d36f43c",
   "metadata": {},
   "source": [
    "#### Using `loc`"
   ]
  },
  {
   "cell_type": "markdown",
   "id": "f6eb0c3a-8ec7-4f75-97d3-2b001c6d12bc",
   "metadata": {},
   "source": [
    "##### Example #1"
   ]
  },
  {
   "cell_type": "code",
   "execution_count": 60,
   "id": "ff75e5fb-8e4e-46db-ba29-2e202852b465",
   "metadata": {},
   "outputs": [
    {
     "data": {
      "text/plain": [
       "country       Afghanistan\n",
       "year                 1952\n",
       "population        8425333\n",
       "continent            Asia\n",
       "life_exp           28.801\n",
       "gdp_cap        779.445314\n",
       "Name: 1, dtype: object"
      ]
     },
     "execution_count": 60,
     "metadata": {},
     "output_type": "execute_result"
    }
   ],
   "source": [
    "mk_df.loc[1]"
   ]
  },
  {
   "cell_type": "markdown",
   "id": "d8d75628-adfe-474d-820c-808de87c5596",
   "metadata": {},
   "source": [
    "##### Example #2"
   ]
  },
  {
   "cell_type": "code",
   "execution_count": 61,
   "id": "f7496479-e596-4503-98b2-f38c76bb9e4f",
   "metadata": {},
   "outputs": [
    {
     "data": {
      "text/plain": [
       "Name                            Anna\n",
       "Age                               40\n",
       "Role                            V.P.\n",
       "DateOfJoining    2000-08-01 00:00:00\n",
       "Name: E05, dtype: object"
      ]
     },
     "execution_count": 61,
     "metadata": {},
     "output_type": "execute_result"
    }
   ],
   "source": [
    "emp_df.loc[\"E05\"]"
   ]
  },
  {
   "cell_type": "markdown",
   "id": "12d7f291-bc95-4987-bc73-464c300bbff0",
   "metadata": {},
   "source": [
    "#### Using `iloc`"
   ]
  },
  {
   "cell_type": "code",
   "execution_count": 62,
   "id": "0a6e7ad1-b796-4512-bb76-0492b92e9659",
   "metadata": {},
   "outputs": [
    {
     "data": {
      "text/plain": [
       "country       Afghanistan\n",
       "year                 1952\n",
       "population        8425333\n",
       "continent            Asia\n",
       "life_exp           28.801\n",
       "gdp_cap        779.445314\n",
       "Name: 1, dtype: object"
      ]
     },
     "execution_count": 62,
     "metadata": {},
     "output_type": "execute_result"
    }
   ],
   "source": [
    "mk_df.iloc[0]"
   ]
  },
  {
   "cell_type": "code",
   "execution_count": 63,
   "id": "d6d6d390-1264-445a-b46b-51947df6cf7e",
   "metadata": {},
   "outputs": [
    {
     "data": {
      "text/plain": [
       "Name                            Anna\n",
       "Age                               40\n",
       "Role                            V.P.\n",
       "DateOfJoining    2000-08-01 00:00:00\n",
       "Name: E05, dtype: object"
      ]
     },
     "execution_count": 63,
     "metadata": {},
     "output_type": "execute_result"
    }
   ],
   "source": [
    "emp_df.iloc[4]"
   ]
  },
  {
   "cell_type": "code",
   "execution_count": null,
   "id": "208c60f2-71a2-45ec-a253-76cbb33fcf57",
   "metadata": {},
   "outputs": [],
   "source": []
  },
  {
   "cell_type": "markdown",
   "id": "75254ea2-43c8-4851-9394-8c9139f0d503",
   "metadata": {},
   "source": [
    "### 7.2 Access Columns"
   ]
  },
  {
   "cell_type": "markdown",
   "id": "42c07cf4-ee11-457a-b5c5-8862f4ad9ec6",
   "metadata": {},
   "source": [
    "##### Example #1"
   ]
  },
  {
   "cell_type": "code",
   "execution_count": 64,
   "id": "1b6673dc-a642-47dd-a343-f60167924247",
   "metadata": {},
   "outputs": [
    {
     "data": {
      "text/plain": [
       "E01    Alex\n",
       "E02    Ajax\n",
       "E03    Jane\n",
       "E04    John\n",
       "E05    Anna\n",
       "Name: Name, dtype: object"
      ]
     },
     "execution_count": 64,
     "metadata": {},
     "output_type": "execute_result"
    }
   ],
   "source": [
    "emp_df[\"Name\"]"
   ]
  },
  {
   "cell_type": "markdown",
   "id": "db3eb4cd-cf53-406f-9fba-4195c4c81777",
   "metadata": {},
   "source": [
    "Explicit row index can be used with Series."
   ]
  },
  {
   "cell_type": "code",
   "execution_count": 65,
   "id": "9ea6a59a-d35e-4cd6-be83-2c5c4cde0474",
   "metadata": {},
   "outputs": [
    {
     "data": {
      "text/plain": [
       "'Anna'"
      ]
     },
     "execution_count": 65,
     "metadata": {},
     "output_type": "execute_result"
    }
   ],
   "source": [
    "emp_df[\"Name\"][\"E05\"]"
   ]
  },
  {
   "cell_type": "markdown",
   "id": "303f5a29-5748-48bc-a2ad-ee7d508f1ff5",
   "metadata": {},
   "source": [
    "##### Example #2"
   ]
  },
  {
   "cell_type": "code",
   "execution_count": 66,
   "id": "e440a619-2b6a-46b3-804c-f20ab56234d2",
   "metadata": {},
   "outputs": [
    {
     "data": {
      "text/plain": [
       "1702    Africa\n",
       "1703    Africa\n",
       "1704    Africa\n",
       "Name: continent, dtype: object"
      ]
     },
     "execution_count": 66,
     "metadata": {},
     "output_type": "execute_result"
    }
   ],
   "source": [
    "mk_df[\"continent\"].tail(3)"
   ]
  },
  {
   "cell_type": "markdown",
   "id": "17ed7b06-67f2-46f4-aa74-1686bfe3ff2f",
   "metadata": {},
   "source": [
    "Explicit row index can be used with Series."
   ]
  },
  {
   "cell_type": "code",
   "execution_count": 67,
   "id": "b76bd509-c1fc-4c52-b979-3446c99d59af",
   "metadata": {},
   "outputs": [
    {
     "data": {
      "text/plain": [
       "'Africa'"
      ]
     },
     "execution_count": 67,
     "metadata": {},
     "output_type": "execute_result"
    }
   ],
   "source": [
    "mk_df[\"continent\"][1702]"
   ]
  },
  {
   "cell_type": "code",
   "execution_count": 68,
   "id": "2685d28b-0a06-4e7d-bd17-d749fbd8bd28",
   "metadata": {},
   "outputs": [
    {
     "data": {
      "text/html": [
       "<div>\n",
       "<style scoped>\n",
       "    .dataframe tbody tr th:only-of-type {\n",
       "        vertical-align: middle;\n",
       "    }\n",
       "\n",
       "    .dataframe tbody tr th {\n",
       "        vertical-align: top;\n",
       "    }\n",
       "\n",
       "    .dataframe thead th {\n",
       "        text-align: right;\n",
       "    }\n",
       "</style>\n",
       "<table border=\"1\" class=\"dataframe\">\n",
       "  <thead>\n",
       "    <tr style=\"text-align: right;\">\n",
       "      <th></th>\n",
       "      <th>country</th>\n",
       "      <th>year</th>\n",
       "      <th>population</th>\n",
       "      <th>continent</th>\n",
       "      <th>life_exp</th>\n",
       "      <th>gdp_cap</th>\n",
       "    </tr>\n",
       "  </thead>\n",
       "  <tbody>\n",
       "    <tr>\n",
       "      <th>1</th>\n",
       "      <td>Afghanistan</td>\n",
       "      <td>1952</td>\n",
       "      <td>8425333</td>\n",
       "      <td>Asia</td>\n",
       "      <td>28.801</td>\n",
       "      <td>779.445314</td>\n",
       "    </tr>\n",
       "    <tr>\n",
       "      <th>2</th>\n",
       "      <td>Afghanistan</td>\n",
       "      <td>1957</td>\n",
       "      <td>9240934</td>\n",
       "      <td>Asia</td>\n",
       "      <td>30.332</td>\n",
       "      <td>820.853030</td>\n",
       "    </tr>\n",
       "    <tr>\n",
       "      <th>3</th>\n",
       "      <td>Afghanistan</td>\n",
       "      <td>1962</td>\n",
       "      <td>10267083</td>\n",
       "      <td>Asia</td>\n",
       "      <td>31.997</td>\n",
       "      <td>853.100710</td>\n",
       "    </tr>\n",
       "  </tbody>\n",
       "</table>\n",
       "</div>"
      ],
      "text/plain": [
       "       country  year  population continent  life_exp     gdp_cap\n",
       "1  Afghanistan  1952     8425333      Asia    28.801  779.445314\n",
       "2  Afghanistan  1957     9240934      Asia    30.332  820.853030\n",
       "3  Afghanistan  1962    10267083      Asia    31.997  853.100710"
      ]
     },
     "execution_count": 68,
     "metadata": {},
     "output_type": "execute_result"
    }
   ],
   "source": [
    "mk_df.head(3)"
   ]
  },
  {
   "cell_type": "code",
   "execution_count": 69,
   "id": "c7e2e70c-e3b7-4825-8b16-308ae1e33eb9",
   "metadata": {},
   "outputs": [
    {
     "data": {
      "text/html": [
       "<div>\n",
       "<style scoped>\n",
       "    .dataframe tbody tr th:only-of-type {\n",
       "        vertical-align: middle;\n",
       "    }\n",
       "\n",
       "    .dataframe tbody tr th {\n",
       "        vertical-align: top;\n",
       "    }\n",
       "\n",
       "    .dataframe thead th {\n",
       "        text-align: right;\n",
       "    }\n",
       "</style>\n",
       "<table border=\"1\" class=\"dataframe\">\n",
       "  <thead>\n",
       "    <tr style=\"text-align: right;\">\n",
       "      <th></th>\n",
       "      <th>year</th>\n",
       "      <th>population</th>\n",
       "      <th>continent</th>\n",
       "    </tr>\n",
       "  </thead>\n",
       "  <tbody>\n",
       "    <tr>\n",
       "      <th>1</th>\n",
       "      <td>1952</td>\n",
       "      <td>8425333</td>\n",
       "      <td>Asia</td>\n",
       "    </tr>\n",
       "    <tr>\n",
       "      <th>2</th>\n",
       "      <td>1957</td>\n",
       "      <td>9240934</td>\n",
       "      <td>Asia</td>\n",
       "    </tr>\n",
       "  </tbody>\n",
       "</table>\n",
       "</div>"
      ],
      "text/plain": [
       "   year  population continent\n",
       "1  1952     8425333      Asia\n",
       "2  1957     9240934      Asia"
      ]
     },
     "execution_count": 69,
     "metadata": {},
     "output_type": "execute_result"
    }
   ],
   "source": [
    "mk_df.loc[:2, \"year\":\"continent\"]"
   ]
  },
  {
   "cell_type": "markdown",
   "id": "94ce0742-7e85-4225-9b28-17f907f37256",
   "metadata": {},
   "source": [
    "```python\n",
    "pd.Series(['a','b','c'], index=[1,2,2])\n",
    "print(a[2])\n",
    "```"
   ]
  },
  {
   "cell_type": "code",
   "execution_count": 70,
   "id": "11ce9d1e-eb89-4083-a4ce-db5c8a6cfeee",
   "metadata": {},
   "outputs": [
    {
     "data": {
      "text/plain": [
       "'Afghanistan'"
      ]
     },
     "execution_count": 70,
     "metadata": {},
     "output_type": "execute_result"
    }
   ],
   "source": [
    "mk_df[\"country\"][1]"
   ]
  },
  {
   "cell_type": "markdown",
   "id": "a6979d41-a7b8-4a1e-a852-72624ca9cac1",
   "metadata": {},
   "source": [
    "#### Using `loc` and `iloc`"
   ]
  },
  {
   "cell_type": "code",
   "execution_count": 71,
   "id": "161e1e68-da1c-4cfd-902c-7ebb8e8a6198",
   "metadata": {},
   "outputs": [],
   "source": [
    "# df.index = list(range(1, len(df)+1))\n",
    "# df.head(10)"
   ]
  },
  {
   "cell_type": "code",
   "execution_count": 72,
   "id": "46995f24-03ee-42bc-a319-96bad6724ac6",
   "metadata": {},
   "outputs": [],
   "source": [
    "# df.loc[1:3]"
   ]
  },
  {
   "cell_type": "code",
   "execution_count": 73,
   "id": "402777d8-3284-4a0e-947b-7b34c93b1dc6",
   "metadata": {},
   "outputs": [],
   "source": [
    "# df.iloc[1:3]"
   ]
  },
  {
   "cell_type": "markdown",
   "id": "d5db9bac-015e-4125-bb10-2a56cb79e179",
   "metadata": {},
   "source": [
    "iloc end index is exclusive and it works on implicit index."
   ]
  },
  {
   "cell_type": "code",
   "execution_count": 74,
   "id": "28424301-4c26-4cd5-9ac5-ab535687680a",
   "metadata": {},
   "outputs": [],
   "source": [
    "# temp[\"column name 1\"]"
   ]
  },
  {
   "cell_type": "code",
   "execution_count": 75,
   "id": "a08a1686-447c-4448-9942-ca8e20bce783",
   "metadata": {},
   "outputs": [],
   "source": [
    "# temp.loc[\"a\"]"
   ]
  },
  {
   "cell_type": "code",
   "execution_count": 76,
   "id": "fea14100-83e1-4a95-9ff2-dd229cc55ae9",
   "metadata": {},
   "outputs": [],
   "source": [
    "# temp.loc[[\"a\"]]"
   ]
  },
  {
   "cell_type": "code",
   "execution_count": 77,
   "id": "ab39cfc2-9bb6-4725-b997-6a156c3bd631",
   "metadata": {},
   "outputs": [],
   "source": [
    "# temp.loc[[\"a\", \"c\"]]"
   ]
  },
  {
   "cell_type": "code",
   "execution_count": 78,
   "id": "220ba9ea-429e-41a2-8163-f12849587ebc",
   "metadata": {},
   "outputs": [],
   "source": [
    "# temp.reset_index(drop=True)"
   ]
  },
  {
   "cell_type": "code",
   "execution_count": 79,
   "id": "8591a0b6-f143-4362-add5-ed785f842f69",
   "metadata": {},
   "outputs": [],
   "source": [
    "# df.loc[9::-3]"
   ]
  },
  {
   "cell_type": "markdown",
   "id": "31242e0e-4fd8-48f7-be28-db446f3aff15",
   "metadata": {},
   "source": [
    "### 7.3 Access Index"
   ]
  },
  {
   "cell_type": "code",
   "execution_count": 80,
   "id": "1d9c9f5c-bd25-450c-9ed4-5e30230e17e5",
   "metadata": {},
   "outputs": [],
   "source": [
    "# df.head(10)"
   ]
  },
  {
   "cell_type": "code",
   "execution_count": 81,
   "id": "96257211-75ba-411b-9438-98c17bb41f46",
   "metadata": {},
   "outputs": [],
   "source": [
    "# pd.DataFrame(df, columns=['country', 'year'])\n",
    "# df.iloc[:, 0:2]"
   ]
  },
  {
   "cell_type": "code",
   "execution_count": 82,
   "id": "0a7f3c07-9388-402f-9b95-e78fab7d9f10",
   "metadata": {},
   "outputs": [],
   "source": [
    "# df.nunique()"
   ]
  },
  {
   "cell_type": "code",
   "execution_count": 83,
   "id": "3c0bdccf-fae5-4dd6-97ed-b4ec5f917936",
   "metadata": {},
   "outputs": [],
   "source": [
    "# df.iloc[:20]"
   ]
  },
  {
   "cell_type": "markdown",
   "id": "bc1bedd8-d97e-4f7a-84ac-43a3a8df8d00",
   "metadata": {},
   "source": [
    "## 8 Insert"
   ]
  },
  {
   "cell_type": "markdown",
   "id": "02c8194a-f1e0-4a55-b272-855ff0916e68",
   "metadata": {},
   "source": [
    "### 8.1 Insert Row"
   ]
  },
  {
   "cell_type": "markdown",
   "id": "d0720d81-7626-4a29-846e-567caeafe84d",
   "metadata": {},
   "source": [
    "#### Using `concat` Method"
   ]
  },
  {
   "cell_type": "markdown",
   "id": "bfa3df83-1383-43d0-82b6-355608db078e",
   "metadata": {},
   "source": [
    "##### Insert single row"
   ]
  },
  {
   "cell_type": "code",
   "execution_count": 84,
   "id": "fb2a9db1-a921-4b2c-a42d-e11dff176c88",
   "metadata": {},
   "outputs": [
    {
     "data": {
      "text/html": [
       "<div>\n",
       "<style scoped>\n",
       "    .dataframe tbody tr th:only-of-type {\n",
       "        vertical-align: middle;\n",
       "    }\n",
       "\n",
       "    .dataframe tbody tr th {\n",
       "        vertical-align: top;\n",
       "    }\n",
       "\n",
       "    .dataframe thead th {\n",
       "        text-align: right;\n",
       "    }\n",
       "</style>\n",
       "<table border=\"1\" class=\"dataframe\">\n",
       "  <thead>\n",
       "    <tr style=\"text-align: right;\">\n",
       "      <th></th>\n",
       "      <th>Name</th>\n",
       "      <th>Age</th>\n",
       "      <th>Role</th>\n",
       "      <th>DateOfJoining</th>\n",
       "    </tr>\n",
       "  </thead>\n",
       "  <tbody>\n",
       "    <tr>\n",
       "      <th>0</th>\n",
       "      <td>Bob</td>\n",
       "      <td>30</td>\n",
       "      <td>Junior SD</td>\n",
       "      <td>01-07-2024</td>\n",
       "    </tr>\n",
       "  </tbody>\n",
       "</table>\n",
       "</div>"
      ],
      "text/plain": [
       "  Name  Age       Role DateOfJoining\n",
       "0  Bob   30  Junior SD    01-07-2024"
      ]
     },
     "execution_count": 84,
     "metadata": {},
     "output_type": "execute_result"
    }
   ],
   "source": [
    "# New employee record.\n",
    "new_emp = [\n",
    "    {\n",
    "        \"Name\": \"Bob\",\n",
    "        \"Age\": 30,\n",
    "        \"Role\": \"Junior SD\",\n",
    "        \"DateOfJoining\": \"01-07-2024\",\n",
    "    }\n",
    "]\n",
    "\n",
    "# Create new DataFrame for new employee record.\n",
    "new_emp_df1 = pd.DataFrame(data=new_emp)\n",
    "new_emp_df1"
   ]
  },
  {
   "cell_type": "markdown",
   "id": "53378256-b33c-4dcd-844e-77f415e130b5",
   "metadata": {},
   "source": [
    "Observe that new DataFrame has explicit index `0`"
   ]
  },
  {
   "cell_type": "code",
   "execution_count": 85,
   "id": "f25620bf-b8f7-4bc1-a877-1e59397b0884",
   "metadata": {},
   "outputs": [
    {
     "data": {
      "text/html": [
       "<div>\n",
       "<style scoped>\n",
       "    .dataframe tbody tr th:only-of-type {\n",
       "        vertical-align: middle;\n",
       "    }\n",
       "\n",
       "    .dataframe tbody tr th {\n",
       "        vertical-align: top;\n",
       "    }\n",
       "\n",
       "    .dataframe thead th {\n",
       "        text-align: right;\n",
       "    }\n",
       "</style>\n",
       "<table border=\"1\" class=\"dataframe\">\n",
       "  <thead>\n",
       "    <tr style=\"text-align: right;\">\n",
       "      <th></th>\n",
       "      <th>Name</th>\n",
       "      <th>Age</th>\n",
       "      <th>Role</th>\n",
       "      <th>DateOfJoining</th>\n",
       "    </tr>\n",
       "  </thead>\n",
       "  <tbody>\n",
       "    <tr>\n",
       "      <th>E01</th>\n",
       "      <td>Alex</td>\n",
       "      <td>31</td>\n",
       "      <td>Senior SD</td>\n",
       "      <td>2021-06-01 00:00:00</td>\n",
       "    </tr>\n",
       "    <tr>\n",
       "      <th>E02</th>\n",
       "      <td>Ajax</td>\n",
       "      <td>31</td>\n",
       "      <td>Associate Architect</td>\n",
       "      <td>2025-01-01 00:00:00</td>\n",
       "    </tr>\n",
       "    <tr>\n",
       "      <th>E03</th>\n",
       "      <td>Jane</td>\n",
       "      <td>28</td>\n",
       "      <td>Junior SD</td>\n",
       "      <td>2023-03-01 00:00:00</td>\n",
       "    </tr>\n",
       "    <tr>\n",
       "      <th>E04</th>\n",
       "      <td>John</td>\n",
       "      <td>35</td>\n",
       "      <td>Architect</td>\n",
       "      <td>2022-12-01 00:00:00</td>\n",
       "    </tr>\n",
       "    <tr>\n",
       "      <th>E05</th>\n",
       "      <td>Anna</td>\n",
       "      <td>40</td>\n",
       "      <td>V.P.</td>\n",
       "      <td>2000-08-01 00:00:00</td>\n",
       "    </tr>\n",
       "    <tr>\n",
       "      <th>0</th>\n",
       "      <td>Bob</td>\n",
       "      <td>30</td>\n",
       "      <td>Junior SD</td>\n",
       "      <td>01-07-2024</td>\n",
       "    </tr>\n",
       "  </tbody>\n",
       "</table>\n",
       "</div>"
      ],
      "text/plain": [
       "     Name  Age                 Role        DateOfJoining\n",
       "E01  Alex   31            Senior SD  2021-06-01 00:00:00\n",
       "E02  Ajax   31  Associate Architect  2025-01-01 00:00:00\n",
       "E03  Jane   28            Junior SD  2023-03-01 00:00:00\n",
       "E04  John   35            Architect  2022-12-01 00:00:00\n",
       "E05  Anna   40                 V.P.  2000-08-01 00:00:00\n",
       "0     Bob   30            Junior SD           01-07-2024"
      ]
     },
     "execution_count": 85,
     "metadata": {},
     "output_type": "execute_result"
    }
   ],
   "source": [
    "# Concatenate new DataFrame to main DataFrame.\n",
    "emp_df = pd.concat([emp_df, new_emp_df1])\n",
    "emp_df"
   ]
  },
  {
   "cell_type": "markdown",
   "id": "6e69507b-37d0-41bf-b2e6-0182fe282fed",
   "metadata": {},
   "source": [
    "> **Note**:\n",
    ">\n",
    "> If `ignore_index` parameter of `concat` method is not set to `True` then explicit indices from both the DataFrames are retained as it is."
   ]
  },
  {
   "cell_type": "markdown",
   "id": "ca6eaadb-667a-435e-b6d1-ea3aede1c7be",
   "metadata": {},
   "source": [
    "Check explicit indices"
   ]
  },
  {
   "cell_type": "code",
   "execution_count": 86,
   "id": "ba721f37-ca3e-49ee-afd2-47eed095c5e0",
   "metadata": {},
   "outputs": [
    {
     "data": {
      "text/plain": [
       "Index(['E01', 'E02', 'E03', 'E04', 'E05', 0], dtype='object')"
      ]
     },
     "execution_count": 86,
     "metadata": {},
     "output_type": "execute_result"
    }
   ],
   "source": [
    "emp_df.index"
   ]
  },
  {
   "cell_type": "markdown",
   "id": "371cfce8-3b86-4fac-88e1-c2ea6067fe8d",
   "metadata": {},
   "source": [
    "Check implicit indices"
   ]
  },
  {
   "cell_type": "code",
   "execution_count": 87,
   "id": "05877dd3-6480-44be-884f-03aa6eb22a6d",
   "metadata": {},
   "outputs": [
    {
     "data": {
      "text/plain": [
       "[0, 1, 2, 3, 4, 5]"
      ]
     },
     "execution_count": 87,
     "metadata": {},
     "output_type": "execute_result"
    }
   ],
   "source": [
    "[emp_df.index.get_loc(exp_idx) for exp_idx in emp_df.index]"
   ]
  },
  {
   "cell_type": "markdown",
   "id": "a8a6d5c8-5bca-4344-8c23-cfdf251cc5ea",
   "metadata": {},
   "source": [
    "##### Insert multiple rows"
   ]
  },
  {
   "cell_type": "code",
   "execution_count": 88,
   "id": "a6854261-0087-466e-83b9-a7f904aaec9d",
   "metadata": {},
   "outputs": [
    {
     "data": {
      "text/html": [
       "<div>\n",
       "<style scoped>\n",
       "    .dataframe tbody tr th:only-of-type {\n",
       "        vertical-align: middle;\n",
       "    }\n",
       "\n",
       "    .dataframe tbody tr th {\n",
       "        vertical-align: top;\n",
       "    }\n",
       "\n",
       "    .dataframe thead th {\n",
       "        text-align: right;\n",
       "    }\n",
       "</style>\n",
       "<table border=\"1\" class=\"dataframe\">\n",
       "  <thead>\n",
       "    <tr style=\"text-align: right;\">\n",
       "      <th></th>\n",
       "      <th>Name</th>\n",
       "      <th>Age</th>\n",
       "      <th>Role</th>\n",
       "      <th>DateOfJoining</th>\n",
       "    </tr>\n",
       "  </thead>\n",
       "  <tbody>\n",
       "    <tr>\n",
       "      <th>0</th>\n",
       "      <td>David</td>\n",
       "      <td>30</td>\n",
       "      <td>Junior SD</td>\n",
       "      <td>01-07-2024</td>\n",
       "    </tr>\n",
       "    <tr>\n",
       "      <th>1</th>\n",
       "      <td>Karen</td>\n",
       "      <td>40</td>\n",
       "      <td>Associate Architect</td>\n",
       "      <td>01-07-2024</td>\n",
       "    </tr>\n",
       "  </tbody>\n",
       "</table>\n",
       "</div>"
      ],
      "text/plain": [
       "    Name  Age                 Role DateOfJoining\n",
       "0  David   30            Junior SD    01-07-2024\n",
       "1  Karen   40  Associate Architect    01-07-2024"
      ]
     },
     "execution_count": 88,
     "metadata": {},
     "output_type": "execute_result"
    }
   ],
   "source": [
    "new_emps = [\n",
    "    [\"David\", 30, \"Junior SD\", \"01-07-2024\"],\n",
    "    [\"Karen\", 40, \"Associate Architect\", \"01-07-2024\"],\n",
    "]\n",
    "column_names = [\"Name\", \"Age\", \"Role\", \"DateOfJoining\"]\n",
    "\n",
    "new_emp_df2 = pd.DataFrame(data=new_emps, columns=column_names)\n",
    "new_emp_df2"
   ]
  },
  {
   "cell_type": "code",
   "execution_count": 89,
   "id": "0d9b20ee-ad1b-4fc4-a463-7d288bea021b",
   "metadata": {},
   "outputs": [
    {
     "data": {
      "text/html": [
       "<div>\n",
       "<style scoped>\n",
       "    .dataframe tbody tr th:only-of-type {\n",
       "        vertical-align: middle;\n",
       "    }\n",
       "\n",
       "    .dataframe tbody tr th {\n",
       "        vertical-align: top;\n",
       "    }\n",
       "\n",
       "    .dataframe thead th {\n",
       "        text-align: right;\n",
       "    }\n",
       "</style>\n",
       "<table border=\"1\" class=\"dataframe\">\n",
       "  <thead>\n",
       "    <tr style=\"text-align: right;\">\n",
       "      <th></th>\n",
       "      <th>Name</th>\n",
       "      <th>Age</th>\n",
       "      <th>Role</th>\n",
       "      <th>DateOfJoining</th>\n",
       "    </tr>\n",
       "  </thead>\n",
       "  <tbody>\n",
       "    <tr>\n",
       "      <th>0</th>\n",
       "      <td>Alex</td>\n",
       "      <td>31</td>\n",
       "      <td>Senior SD</td>\n",
       "      <td>2021-06-01 00:00:00</td>\n",
       "    </tr>\n",
       "    <tr>\n",
       "      <th>1</th>\n",
       "      <td>Ajax</td>\n",
       "      <td>31</td>\n",
       "      <td>Associate Architect</td>\n",
       "      <td>2025-01-01 00:00:00</td>\n",
       "    </tr>\n",
       "    <tr>\n",
       "      <th>2</th>\n",
       "      <td>Jane</td>\n",
       "      <td>28</td>\n",
       "      <td>Junior SD</td>\n",
       "      <td>2023-03-01 00:00:00</td>\n",
       "    </tr>\n",
       "    <tr>\n",
       "      <th>3</th>\n",
       "      <td>John</td>\n",
       "      <td>35</td>\n",
       "      <td>Architect</td>\n",
       "      <td>2022-12-01 00:00:00</td>\n",
       "    </tr>\n",
       "    <tr>\n",
       "      <th>4</th>\n",
       "      <td>Anna</td>\n",
       "      <td>40</td>\n",
       "      <td>V.P.</td>\n",
       "      <td>2000-08-01 00:00:00</td>\n",
       "    </tr>\n",
       "    <tr>\n",
       "      <th>5</th>\n",
       "      <td>Bob</td>\n",
       "      <td>30</td>\n",
       "      <td>Junior SD</td>\n",
       "      <td>01-07-2024</td>\n",
       "    </tr>\n",
       "    <tr>\n",
       "      <th>6</th>\n",
       "      <td>David</td>\n",
       "      <td>30</td>\n",
       "      <td>Junior SD</td>\n",
       "      <td>01-07-2024</td>\n",
       "    </tr>\n",
       "    <tr>\n",
       "      <th>7</th>\n",
       "      <td>Karen</td>\n",
       "      <td>40</td>\n",
       "      <td>Associate Architect</td>\n",
       "      <td>01-07-2024</td>\n",
       "    </tr>\n",
       "  </tbody>\n",
       "</table>\n",
       "</div>"
      ],
      "text/plain": [
       "    Name  Age                 Role        DateOfJoining\n",
       "0   Alex   31            Senior SD  2021-06-01 00:00:00\n",
       "1   Ajax   31  Associate Architect  2025-01-01 00:00:00\n",
       "2   Jane   28            Junior SD  2023-03-01 00:00:00\n",
       "3   John   35            Architect  2022-12-01 00:00:00\n",
       "4   Anna   40                 V.P.  2000-08-01 00:00:00\n",
       "5    Bob   30            Junior SD           01-07-2024\n",
       "6  David   30            Junior SD           01-07-2024\n",
       "7  Karen   40  Associate Architect           01-07-2024"
      ]
     },
     "execution_count": 89,
     "metadata": {},
     "output_type": "execute_result"
    }
   ],
   "source": [
    "# Concatenate new DataFrame to main DataFrame.\n",
    "emp_df = pd.concat([emp_df, new_emp_df2], axis=0, ignore_index=True)\n",
    "emp_df"
   ]
  },
  {
   "cell_type": "markdown",
   "id": "547f91f7-0f34-426d-b7e1-4b94451be8db",
   "metadata": {},
   "source": [
    "> **Note**:\n",
    ">\n",
    "> `concat()` method does not have `inplace` parameter."
   ]
  },
  {
   "cell_type": "code",
   "execution_count": 90,
   "id": "9e743ab0-038e-455b-b891-5955842bc2f8",
   "metadata": {},
   "outputs": [
    {
     "name": "stdout",
     "output_type": "stream",
     "text": [
      "<class 'pandas.core.series.Series'>\n",
      "RangeIndex: 8 entries, 0 to 7\n",
      "Series name: DateOfJoining\n",
      "Non-Null Count  Dtype \n",
      "--------------  ----- \n",
      "8 non-null      object\n",
      "dtypes: object(1)\n",
      "memory usage: 196.0+ bytes\n"
     ]
    }
   ],
   "source": [
    "emp_df[\"DateOfJoining\"].info()"
   ]
  },
  {
   "cell_type": "code",
   "execution_count": 91,
   "id": "6cb4d954-c863-407e-8403-6f527655831a",
   "metadata": {},
   "outputs": [
    {
     "name": "stdout",
     "output_type": "stream",
     "text": [
      "<class 'pandas.core.series.Series'>\n",
      "RangeIndex: 8 entries, 0 to 7\n",
      "Series name: DateOfJoining\n",
      "Non-Null Count  Dtype         \n",
      "--------------  -----         \n",
      "8 non-null      datetime64[ns]\n",
      "dtypes: datetime64[ns](1)\n",
      "memory usage: 196.0 bytes\n"
     ]
    }
   ],
   "source": [
    "emp_df[\"DateOfJoining\"] = pd.to_datetime(emp_df[\"DateOfJoining\"], format=\"%d-%m-%Y\")\n",
    "emp_df[\"DateOfJoining\"].info()"
   ]
  },
  {
   "cell_type": "markdown",
   "id": "b92871fa-3ca7-44a5-98e6-c87f8a190450",
   "metadata": {},
   "source": [
    "#### Using `loc` and `iloc`"
   ]
  },
  {
   "cell_type": "code",
   "execution_count": null,
   "id": "aaa20ac5-f5bf-4174-907c-0b9f1d5a786c",
   "metadata": {},
   "outputs": [],
   "source": []
  },
  {
   "cell_type": "markdown",
   "id": "64eb80a5-50e7-43a0-bed2-fa2030686b0c",
   "metadata": {},
   "source": [
    "### 8.2 Insert Column"
   ]
  },
  {
   "cell_type": "markdown",
   "id": "dd3721af-8302-478c-b550-9ef24d43763d",
   "metadata": {},
   "source": [
    "Columns can be directly added to DataFrame as shown in below examples:"
   ]
  },
  {
   "cell_type": "markdown",
   "id": "53c72dba-bb79-416c-a623-258e961ee823",
   "metadata": {},
   "source": [
    "#### Using direct assignment"
   ]
  },
  {
   "cell_type": "markdown",
   "id": "106b639f-08fe-4744-95b6-ebb79ab2f20f",
   "metadata": {},
   "source": [
    "##### Example #1"
   ]
  },
  {
   "cell_type": "markdown",
   "id": "2752e79e-0ffa-4207-a607-619d3d5bb442",
   "metadata": {},
   "source": [
    "Lets insert a new column called `Experinace` into `emp_df`"
   ]
  },
  {
   "cell_type": "code",
   "execution_count": 92,
   "id": "5f9788f0-0458-4085-9e4f-31830fbf2090",
   "metadata": {},
   "outputs": [
    {
     "data": {
      "text/html": [
       "<div>\n",
       "<style scoped>\n",
       "    .dataframe tbody tr th:only-of-type {\n",
       "        vertical-align: middle;\n",
       "    }\n",
       "\n",
       "    .dataframe tbody tr th {\n",
       "        vertical-align: top;\n",
       "    }\n",
       "\n",
       "    .dataframe thead th {\n",
       "        text-align: right;\n",
       "    }\n",
       "</style>\n",
       "<table border=\"1\" class=\"dataframe\">\n",
       "  <thead>\n",
       "    <tr style=\"text-align: right;\">\n",
       "      <th></th>\n",
       "      <th>Name</th>\n",
       "      <th>Age</th>\n",
       "      <th>Role</th>\n",
       "      <th>DateOfJoining</th>\n",
       "      <th>Experinace</th>\n",
       "    </tr>\n",
       "  </thead>\n",
       "  <tbody>\n",
       "    <tr>\n",
       "      <th>0</th>\n",
       "      <td>Alex</td>\n",
       "      <td>31</td>\n",
       "      <td>Senior SD</td>\n",
       "      <td>2021-06-01</td>\n",
       "      <td>1310 days</td>\n",
       "    </tr>\n",
       "    <tr>\n",
       "      <th>1</th>\n",
       "      <td>Ajax</td>\n",
       "      <td>31</td>\n",
       "      <td>Associate Architect</td>\n",
       "      <td>2025-01-01</td>\n",
       "      <td>0 days</td>\n",
       "    </tr>\n",
       "    <tr>\n",
       "      <th>2</th>\n",
       "      <td>Jane</td>\n",
       "      <td>28</td>\n",
       "      <td>Junior SD</td>\n",
       "      <td>2023-03-01</td>\n",
       "      <td>672 days</td>\n",
       "    </tr>\n",
       "    <tr>\n",
       "      <th>3</th>\n",
       "      <td>John</td>\n",
       "      <td>35</td>\n",
       "      <td>Architect</td>\n",
       "      <td>2022-12-01</td>\n",
       "      <td>762 days</td>\n",
       "    </tr>\n",
       "    <tr>\n",
       "      <th>4</th>\n",
       "      <td>Anna</td>\n",
       "      <td>40</td>\n",
       "      <td>V.P.</td>\n",
       "      <td>2000-08-01</td>\n",
       "      <td>8919 days</td>\n",
       "    </tr>\n",
       "    <tr>\n",
       "      <th>5</th>\n",
       "      <td>Bob</td>\n",
       "      <td>30</td>\n",
       "      <td>Junior SD</td>\n",
       "      <td>2024-07-01</td>\n",
       "      <td>184 days</td>\n",
       "    </tr>\n",
       "    <tr>\n",
       "      <th>6</th>\n",
       "      <td>David</td>\n",
       "      <td>30</td>\n",
       "      <td>Junior SD</td>\n",
       "      <td>2024-07-01</td>\n",
       "      <td>184 days</td>\n",
       "    </tr>\n",
       "    <tr>\n",
       "      <th>7</th>\n",
       "      <td>Karen</td>\n",
       "      <td>40</td>\n",
       "      <td>Associate Architect</td>\n",
       "      <td>2024-07-01</td>\n",
       "      <td>184 days</td>\n",
       "    </tr>\n",
       "  </tbody>\n",
       "</table>\n",
       "</div>"
      ],
      "text/plain": [
       "    Name  Age                 Role DateOfJoining Experinace\n",
       "0   Alex   31            Senior SD    2021-06-01  1310 days\n",
       "1   Ajax   31  Associate Architect    2025-01-01     0 days\n",
       "2   Jane   28            Junior SD    2023-03-01   672 days\n",
       "3   John   35            Architect    2022-12-01   762 days\n",
       "4   Anna   40                 V.P.    2000-08-01  8919 days\n",
       "5    Bob   30            Junior SD    2024-07-01   184 days\n",
       "6  David   30            Junior SD    2024-07-01   184 days\n",
       "7  Karen   40  Associate Architect    2024-07-01   184 days"
      ]
     },
     "execution_count": 92,
     "metadata": {},
     "output_type": "execute_result"
    }
   ],
   "source": [
    "emp_df[\"Experinace\"] = datetime(2025, 1, 1) - emp_df[\"DateOfJoining\"]\n",
    "emp_df"
   ]
  },
  {
   "cell_type": "markdown",
   "id": "4a687fa9-8ef8-421a-be6c-4d009257f89b",
   "metadata": {},
   "source": [
    "##### Example #2"
   ]
  },
  {
   "cell_type": "code",
   "execution_count": 93,
   "id": "cef17bcc-f493-4ce0-b996-0ae94bd5623b",
   "metadata": {},
   "outputs": [
    {
     "data": {
      "text/html": [
       "<div>\n",
       "<style scoped>\n",
       "    .dataframe tbody tr th:only-of-type {\n",
       "        vertical-align: middle;\n",
       "    }\n",
       "\n",
       "    .dataframe tbody tr th {\n",
       "        vertical-align: top;\n",
       "    }\n",
       "\n",
       "    .dataframe thead th {\n",
       "        text-align: right;\n",
       "    }\n",
       "</style>\n",
       "<table border=\"1\" class=\"dataframe\">\n",
       "  <thead>\n",
       "    <tr style=\"text-align: right;\">\n",
       "      <th></th>\n",
       "      <th>country</th>\n",
       "      <th>year</th>\n",
       "      <th>population</th>\n",
       "      <th>continent</th>\n",
       "      <th>life_exp</th>\n",
       "      <th>gdp_cap</th>\n",
       "      <th>gdp</th>\n",
       "    </tr>\n",
       "  </thead>\n",
       "  <tbody>\n",
       "    <tr>\n",
       "      <th>1</th>\n",
       "      <td>Afghanistan</td>\n",
       "      <td>1952</td>\n",
       "      <td>8425333</td>\n",
       "      <td>Asia</td>\n",
       "      <td>28.801</td>\n",
       "      <td>779.445314</td>\n",
       "      <td>6.567086e+09</td>\n",
       "    </tr>\n",
       "    <tr>\n",
       "      <th>2</th>\n",
       "      <td>Afghanistan</td>\n",
       "      <td>1957</td>\n",
       "      <td>9240934</td>\n",
       "      <td>Asia</td>\n",
       "      <td>30.332</td>\n",
       "      <td>820.853030</td>\n",
       "      <td>7.585449e+09</td>\n",
       "    </tr>\n",
       "    <tr>\n",
       "      <th>3</th>\n",
       "      <td>Afghanistan</td>\n",
       "      <td>1962</td>\n",
       "      <td>10267083</td>\n",
       "      <td>Asia</td>\n",
       "      <td>31.997</td>\n",
       "      <td>853.100710</td>\n",
       "      <td>8.758856e+09</td>\n",
       "    </tr>\n",
       "  </tbody>\n",
       "</table>\n",
       "</div>"
      ],
      "text/plain": [
       "       country  year  population continent  life_exp     gdp_cap           gdp\n",
       "1  Afghanistan  1952     8425333      Asia    28.801  779.445314  6.567086e+09\n",
       "2  Afghanistan  1957     9240934      Asia    30.332  820.853030  7.585449e+09\n",
       "3  Afghanistan  1962    10267083      Asia    31.997  853.100710  8.758856e+09"
      ]
     },
     "execution_count": 93,
     "metadata": {},
     "output_type": "execute_result"
    }
   ],
   "source": [
    "mk_df[\"gdp\"] = mk_df[\"gdp_cap\"] * mk_df[\"population\"]\n",
    "mk_df.head(3)"
   ]
  },
  {
   "cell_type": "markdown",
   "id": "5bcac392-d360-49aa-9241-50053657faab",
   "metadata": {},
   "source": [
    "#### Using `concat`"
   ]
  },
  {
   "cell_type": "code",
   "execution_count": 94,
   "id": "035585b0-2f28-4e6e-9c85-09018071c140",
   "metadata": {},
   "outputs": [
    {
     "data": {
      "text/html": [
       "<div>\n",
       "<style scoped>\n",
       "    .dataframe tbody tr th:only-of-type {\n",
       "        vertical-align: middle;\n",
       "    }\n",
       "\n",
       "    .dataframe tbody tr th {\n",
       "        vertical-align: top;\n",
       "    }\n",
       "\n",
       "    .dataframe thead th {\n",
       "        text-align: right;\n",
       "    }\n",
       "</style>\n",
       "<table border=\"1\" class=\"dataframe\">\n",
       "  <thead>\n",
       "    <tr style=\"text-align: right;\">\n",
       "      <th></th>\n",
       "      <th>Gender</th>\n",
       "    </tr>\n",
       "  </thead>\n",
       "  <tbody>\n",
       "    <tr>\n",
       "      <th>0</th>\n",
       "      <td>M</td>\n",
       "    </tr>\n",
       "    <tr>\n",
       "      <th>1</th>\n",
       "      <td>M</td>\n",
       "    </tr>\n",
       "    <tr>\n",
       "      <th>2</th>\n",
       "      <td>F</td>\n",
       "    </tr>\n",
       "  </tbody>\n",
       "</table>\n",
       "</div>"
      ],
      "text/plain": [
       "  Gender\n",
       "0      M\n",
       "1      M\n",
       "2      F"
      ]
     },
     "execution_count": 94,
     "metadata": {},
     "output_type": "execute_result"
    }
   ],
   "source": [
    "emp_gender = pd.DataFrame(\n",
    "    data=[\"M\", \"M\", \"F\", \"M\", \"F\", \"M\", \"M\", \"F\"],\n",
    "    columns=[\"Gender\"],\n",
    ")\n",
    "emp_gender.head(3)"
   ]
  },
  {
   "cell_type": "code",
   "execution_count": 95,
   "id": "1073322f-1df3-4f76-8bb1-c6a7f84715d6",
   "metadata": {},
   "outputs": [
    {
     "data": {
      "text/html": [
       "<div>\n",
       "<style scoped>\n",
       "    .dataframe tbody tr th:only-of-type {\n",
       "        vertical-align: middle;\n",
       "    }\n",
       "\n",
       "    .dataframe tbody tr th {\n",
       "        vertical-align: top;\n",
       "    }\n",
       "\n",
       "    .dataframe thead th {\n",
       "        text-align: right;\n",
       "    }\n",
       "</style>\n",
       "<table border=\"1\" class=\"dataframe\">\n",
       "  <thead>\n",
       "    <tr style=\"text-align: right;\">\n",
       "      <th></th>\n",
       "      <th>Name</th>\n",
       "      <th>Age</th>\n",
       "      <th>Role</th>\n",
       "      <th>DateOfJoining</th>\n",
       "      <th>Experinace</th>\n",
       "      <th>Gender</th>\n",
       "    </tr>\n",
       "  </thead>\n",
       "  <tbody>\n",
       "    <tr>\n",
       "      <th>0</th>\n",
       "      <td>Alex</td>\n",
       "      <td>31</td>\n",
       "      <td>Senior SD</td>\n",
       "      <td>2021-06-01</td>\n",
       "      <td>1310 days</td>\n",
       "      <td>M</td>\n",
       "    </tr>\n",
       "    <tr>\n",
       "      <th>1</th>\n",
       "      <td>Ajax</td>\n",
       "      <td>31</td>\n",
       "      <td>Associate Architect</td>\n",
       "      <td>2025-01-01</td>\n",
       "      <td>0 days</td>\n",
       "      <td>M</td>\n",
       "    </tr>\n",
       "    <tr>\n",
       "      <th>2</th>\n",
       "      <td>Jane</td>\n",
       "      <td>28</td>\n",
       "      <td>Junior SD</td>\n",
       "      <td>2023-03-01</td>\n",
       "      <td>672 days</td>\n",
       "      <td>F</td>\n",
       "    </tr>\n",
       "    <tr>\n",
       "      <th>3</th>\n",
       "      <td>John</td>\n",
       "      <td>35</td>\n",
       "      <td>Architect</td>\n",
       "      <td>2022-12-01</td>\n",
       "      <td>762 days</td>\n",
       "      <td>M</td>\n",
       "    </tr>\n",
       "    <tr>\n",
       "      <th>4</th>\n",
       "      <td>Anna</td>\n",
       "      <td>40</td>\n",
       "      <td>V.P.</td>\n",
       "      <td>2000-08-01</td>\n",
       "      <td>8919 days</td>\n",
       "      <td>F</td>\n",
       "    </tr>\n",
       "    <tr>\n",
       "      <th>5</th>\n",
       "      <td>Bob</td>\n",
       "      <td>30</td>\n",
       "      <td>Junior SD</td>\n",
       "      <td>2024-07-01</td>\n",
       "      <td>184 days</td>\n",
       "      <td>M</td>\n",
       "    </tr>\n",
       "    <tr>\n",
       "      <th>6</th>\n",
       "      <td>David</td>\n",
       "      <td>30</td>\n",
       "      <td>Junior SD</td>\n",
       "      <td>2024-07-01</td>\n",
       "      <td>184 days</td>\n",
       "      <td>M</td>\n",
       "    </tr>\n",
       "    <tr>\n",
       "      <th>7</th>\n",
       "      <td>Karen</td>\n",
       "      <td>40</td>\n",
       "      <td>Associate Architect</td>\n",
       "      <td>2024-07-01</td>\n",
       "      <td>184 days</td>\n",
       "      <td>F</td>\n",
       "    </tr>\n",
       "  </tbody>\n",
       "</table>\n",
       "</div>"
      ],
      "text/plain": [
       "    Name  Age                 Role DateOfJoining Experinace Gender\n",
       "0   Alex   31            Senior SD    2021-06-01  1310 days      M\n",
       "1   Ajax   31  Associate Architect    2025-01-01     0 days      M\n",
       "2   Jane   28            Junior SD    2023-03-01   672 days      F\n",
       "3   John   35            Architect    2022-12-01   762 days      M\n",
       "4   Anna   40                 V.P.    2000-08-01  8919 days      F\n",
       "5    Bob   30            Junior SD    2024-07-01   184 days      M\n",
       "6  David   30            Junior SD    2024-07-01   184 days      M\n",
       "7  Karen   40  Associate Architect    2024-07-01   184 days      F"
      ]
     },
     "execution_count": 95,
     "metadata": {},
     "output_type": "execute_result"
    }
   ],
   "source": [
    "pd.concat([emp_df, emp_gender], axis=1)"
   ]
  },
  {
   "cell_type": "code",
   "execution_count": 96,
   "id": "6c45a7b0-c8ab-4f03-98f9-07b97bdce1ff",
   "metadata": {},
   "outputs": [
    {
     "data": {
      "text/html": [
       "<div>\n",
       "<style scoped>\n",
       "    .dataframe tbody tr th:only-of-type {\n",
       "        vertical-align: middle;\n",
       "    }\n",
       "\n",
       "    .dataframe tbody tr th {\n",
       "        vertical-align: top;\n",
       "    }\n",
       "\n",
       "    .dataframe thead th {\n",
       "        text-align: right;\n",
       "    }\n",
       "</style>\n",
       "<table border=\"1\" class=\"dataframe\">\n",
       "  <thead>\n",
       "    <tr style=\"text-align: right;\">\n",
       "      <th></th>\n",
       "      <th>Name</th>\n",
       "      <th>Age</th>\n",
       "      <th>Role</th>\n",
       "      <th>DateOfJoining</th>\n",
       "      <th>Experinace</th>\n",
       "      <th>Name</th>\n",
       "      <th>Age</th>\n",
       "      <th>Role</th>\n",
       "      <th>DateOfJoining</th>\n",
       "    </tr>\n",
       "  </thead>\n",
       "  <tbody>\n",
       "    <tr>\n",
       "      <th>0</th>\n",
       "      <td>Alex</td>\n",
       "      <td>31</td>\n",
       "      <td>Senior SD</td>\n",
       "      <td>2021-06-01</td>\n",
       "      <td>1310 days</td>\n",
       "      <td>David</td>\n",
       "      <td>30.0</td>\n",
       "      <td>Junior SD</td>\n",
       "      <td>01-07-2024</td>\n",
       "    </tr>\n",
       "    <tr>\n",
       "      <th>1</th>\n",
       "      <td>Ajax</td>\n",
       "      <td>31</td>\n",
       "      <td>Associate Architect</td>\n",
       "      <td>2025-01-01</td>\n",
       "      <td>0 days</td>\n",
       "      <td>Karen</td>\n",
       "      <td>40.0</td>\n",
       "      <td>Associate Architect</td>\n",
       "      <td>01-07-2024</td>\n",
       "    </tr>\n",
       "    <tr>\n",
       "      <th>2</th>\n",
       "      <td>Jane</td>\n",
       "      <td>28</td>\n",
       "      <td>Junior SD</td>\n",
       "      <td>2023-03-01</td>\n",
       "      <td>672 days</td>\n",
       "      <td>NaN</td>\n",
       "      <td>NaN</td>\n",
       "      <td>NaN</td>\n",
       "      <td>NaN</td>\n",
       "    </tr>\n",
       "    <tr>\n",
       "      <th>3</th>\n",
       "      <td>John</td>\n",
       "      <td>35</td>\n",
       "      <td>Architect</td>\n",
       "      <td>2022-12-01</td>\n",
       "      <td>762 days</td>\n",
       "      <td>NaN</td>\n",
       "      <td>NaN</td>\n",
       "      <td>NaN</td>\n",
       "      <td>NaN</td>\n",
       "    </tr>\n",
       "    <tr>\n",
       "      <th>4</th>\n",
       "      <td>Anna</td>\n",
       "      <td>40</td>\n",
       "      <td>V.P.</td>\n",
       "      <td>2000-08-01</td>\n",
       "      <td>8919 days</td>\n",
       "      <td>NaN</td>\n",
       "      <td>NaN</td>\n",
       "      <td>NaN</td>\n",
       "      <td>NaN</td>\n",
       "    </tr>\n",
       "    <tr>\n",
       "      <th>5</th>\n",
       "      <td>Bob</td>\n",
       "      <td>30</td>\n",
       "      <td>Junior SD</td>\n",
       "      <td>2024-07-01</td>\n",
       "      <td>184 days</td>\n",
       "      <td>NaN</td>\n",
       "      <td>NaN</td>\n",
       "      <td>NaN</td>\n",
       "      <td>NaN</td>\n",
       "    </tr>\n",
       "    <tr>\n",
       "      <th>6</th>\n",
       "      <td>David</td>\n",
       "      <td>30</td>\n",
       "      <td>Junior SD</td>\n",
       "      <td>2024-07-01</td>\n",
       "      <td>184 days</td>\n",
       "      <td>NaN</td>\n",
       "      <td>NaN</td>\n",
       "      <td>NaN</td>\n",
       "      <td>NaN</td>\n",
       "    </tr>\n",
       "    <tr>\n",
       "      <th>7</th>\n",
       "      <td>Karen</td>\n",
       "      <td>40</td>\n",
       "      <td>Associate Architect</td>\n",
       "      <td>2024-07-01</td>\n",
       "      <td>184 days</td>\n",
       "      <td>NaN</td>\n",
       "      <td>NaN</td>\n",
       "      <td>NaN</td>\n",
       "      <td>NaN</td>\n",
       "    </tr>\n",
       "  </tbody>\n",
       "</table>\n",
       "</div>"
      ],
      "text/plain": [
       "    Name  Age                 Role DateOfJoining Experinace   Name   Age  \\\n",
       "0   Alex   31            Senior SD    2021-06-01  1310 days  David  30.0   \n",
       "1   Ajax   31  Associate Architect    2025-01-01     0 days  Karen  40.0   \n",
       "2   Jane   28            Junior SD    2023-03-01   672 days    NaN   NaN   \n",
       "3   John   35            Architect    2022-12-01   762 days    NaN   NaN   \n",
       "4   Anna   40                 V.P.    2000-08-01  8919 days    NaN   NaN   \n",
       "5    Bob   30            Junior SD    2024-07-01   184 days    NaN   NaN   \n",
       "6  David   30            Junior SD    2024-07-01   184 days    NaN   NaN   \n",
       "7  Karen   40  Associate Architect    2024-07-01   184 days    NaN   NaN   \n",
       "\n",
       "                  Role DateOfJoining  \n",
       "0            Junior SD    01-07-2024  \n",
       "1  Associate Architect    01-07-2024  \n",
       "2                  NaN           NaN  \n",
       "3                  NaN           NaN  \n",
       "4                  NaN           NaN  \n",
       "5                  NaN           NaN  \n",
       "6                  NaN           NaN  \n",
       "7                  NaN           NaN  "
      ]
     },
     "execution_count": 96,
     "metadata": {},
     "output_type": "execute_result"
    }
   ],
   "source": [
    "# Concatenate new DataFrame to main DataFrame.\n",
    "emp_df = pd.concat([emp_df, new_emp_df2], axis=1)\n",
    "emp_df"
   ]
  },
  {
   "cell_type": "markdown",
   "id": "77b31aa0-4a3d-49d3-8a44-b82a683f0fb6",
   "metadata": {},
   "source": [
    "#### Using `loc` and `iloc`"
   ]
  },
  {
   "cell_type": "code",
   "execution_count": null,
   "id": "2d32045a-affd-48c4-8733-844e9f0837bc",
   "metadata": {},
   "outputs": [],
   "source": []
  },
  {
   "cell_type": "markdown",
   "id": "a62bdd66-bc58-48f9-a4d6-0f2d143b47d4",
   "metadata": {},
   "source": [
    "## 9 Update"
   ]
  },
  {
   "cell_type": "markdown",
   "id": "36bca55d-72ec-4b05-a1fc-eb3340ff4a3d",
   "metadata": {},
   "source": [
    "### 9.1 Update Index"
   ]
  },
  {
   "cell_type": "markdown",
   "id": "a8de7b58-8f6e-4b5d-8e89-a52654277a25",
   "metadata": {},
   "source": [
    "#### Using `index` Attribute"
   ]
  },
  {
   "cell_type": "markdown",
   "id": "e509fefa-d887-4929-92c5-75b1df6670c9",
   "metadata": {},
   "source": [
    "For the `mk_df` DataFrame, implicit row indices range from 0 to 1703 as seen below (1704 is exclusive)."
   ]
  },
  {
   "cell_type": "markdown",
   "id": "ad435085-6572-4743-96f4-e743f903e56a",
   "metadata": {},
   "source": [
    "##### Before update"
   ]
  },
  {
   "cell_type": "code",
   "execution_count": 97,
   "id": "010b49a4-be36-4076-8497-4e05cd419f2e",
   "metadata": {},
   "outputs": [
    {
     "data": {
      "text/plain": [
       "array([   1,    2,    3, ..., 1702, 1703, 1704], shape=(1704,))"
      ]
     },
     "execution_count": 97,
     "metadata": {},
     "output_type": "execute_result"
    }
   ],
   "source": [
    "mk_df.index.values"
   ]
  },
  {
   "cell_type": "markdown",
   "id": "725d7293-21b1-4005-9c07-c90a07495925",
   "metadata": {},
   "source": [
    "By default Explicit index is same as Implicit index. Default Explicit indices can be update as shown below:"
   ]
  },
  {
   "cell_type": "code",
   "execution_count": 98,
   "id": "02ca89bf-0c64-4b55-a6fc-4c0bd32629fc",
   "metadata": {},
   "outputs": [],
   "source": [
    "mk_df.index = list(range(1, 1705))"
   ]
  },
  {
   "cell_type": "markdown",
   "id": "5cf16d3c-3a87-45c3-bad0-cb67e45af654",
   "metadata": {},
   "source": [
    "##### After update"
   ]
  },
  {
   "cell_type": "code",
   "execution_count": 99,
   "id": "f9d161b4-5642-418c-94ac-f8930808afff",
   "metadata": {},
   "outputs": [
    {
     "data": {
      "text/plain": [
       "array([   1,    2,    3, ..., 1702, 1703, 1704], shape=(1704,))"
      ]
     },
     "execution_count": 99,
     "metadata": {},
     "output_type": "execute_result"
    }
   ],
   "source": [
    "mk_df.index.values"
   ]
  },
  {
   "cell_type": "markdown",
   "id": "f7f9b86d-f9d2-434b-a506-4fea423d381e",
   "metadata": {},
   "source": [
    "#### Reset Index"
   ]
  },
  {
   "cell_type": "markdown",
   "id": "3997d894-9a8d-4b02-b341-eaa5b901a197",
   "metadata": {},
   "source": [
    "##### Without `drop` parameter"
   ]
  },
  {
   "cell_type": "code",
   "execution_count": 100,
   "id": "873b2a00-bcd9-4b56-9bc2-3a9414b6d07d",
   "metadata": {},
   "outputs": [
    {
     "data": {
      "text/html": [
       "<div>\n",
       "<style scoped>\n",
       "    .dataframe tbody tr th:only-of-type {\n",
       "        vertical-align: middle;\n",
       "    }\n",
       "\n",
       "    .dataframe tbody tr th {\n",
       "        vertical-align: top;\n",
       "    }\n",
       "\n",
       "    .dataframe thead th {\n",
       "        text-align: right;\n",
       "    }\n",
       "</style>\n",
       "<table border=\"1\" class=\"dataframe\">\n",
       "  <thead>\n",
       "    <tr style=\"text-align: right;\">\n",
       "      <th></th>\n",
       "      <th>index</th>\n",
       "      <th>country</th>\n",
       "      <th>year</th>\n",
       "      <th>population</th>\n",
       "      <th>continent</th>\n",
       "      <th>life_exp</th>\n",
       "      <th>gdp_cap</th>\n",
       "      <th>gdp</th>\n",
       "    </tr>\n",
       "  </thead>\n",
       "  <tbody>\n",
       "    <tr>\n",
       "      <th>0</th>\n",
       "      <td>1</td>\n",
       "      <td>Afghanistan</td>\n",
       "      <td>1952</td>\n",
       "      <td>8425333</td>\n",
       "      <td>Asia</td>\n",
       "      <td>28.801</td>\n",
       "      <td>779.445314</td>\n",
       "      <td>6.567086e+09</td>\n",
       "    </tr>\n",
       "    <tr>\n",
       "      <th>1</th>\n",
       "      <td>2</td>\n",
       "      <td>Afghanistan</td>\n",
       "      <td>1957</td>\n",
       "      <td>9240934</td>\n",
       "      <td>Asia</td>\n",
       "      <td>30.332</td>\n",
       "      <td>820.853030</td>\n",
       "      <td>7.585449e+09</td>\n",
       "    </tr>\n",
       "    <tr>\n",
       "      <th>2</th>\n",
       "      <td>3</td>\n",
       "      <td>Afghanistan</td>\n",
       "      <td>1962</td>\n",
       "      <td>10267083</td>\n",
       "      <td>Asia</td>\n",
       "      <td>31.997</td>\n",
       "      <td>853.100710</td>\n",
       "      <td>8.758856e+09</td>\n",
       "    </tr>\n",
       "  </tbody>\n",
       "</table>\n",
       "</div>"
      ],
      "text/plain": [
       "   index      country  year  population continent  life_exp     gdp_cap  \\\n",
       "0      1  Afghanistan  1952     8425333      Asia    28.801  779.445314   \n",
       "1      2  Afghanistan  1957     9240934      Asia    30.332  820.853030   \n",
       "2      3  Afghanistan  1962    10267083      Asia    31.997  853.100710   \n",
       "\n",
       "            gdp  \n",
       "0  6.567086e+09  \n",
       "1  7.585449e+09  \n",
       "2  8.758856e+09  "
      ]
     },
     "execution_count": 100,
     "metadata": {},
     "output_type": "execute_result"
    }
   ],
   "source": [
    "mk_df.reset_index().head(3)"
   ]
  },
  {
   "cell_type": "markdown",
   "id": "23e96d89-0aa6-48fc-a532-7c5b3d2e84cc",
   "metadata": {},
   "source": [
    "> **Note**:\n",
    ">\n",
    "> In above call to `reset_index`, `inplace` parameter was purposefully not set to `True` for testing `drop` parameter next."
   ]
  },
  {
   "cell_type": "markdown",
   "id": "3f0b8c02-3ca3-4e35-b96c-b2cb0330e759",
   "metadata": {},
   "source": [
    "##### With `drop` parameter"
   ]
  },
  {
   "cell_type": "code",
   "execution_count": 101,
   "id": "65398b34-2809-4eb5-8391-a7a257d8352c",
   "metadata": {},
   "outputs": [
    {
     "data": {
      "text/html": [
       "<div>\n",
       "<style scoped>\n",
       "    .dataframe tbody tr th:only-of-type {\n",
       "        vertical-align: middle;\n",
       "    }\n",
       "\n",
       "    .dataframe tbody tr th {\n",
       "        vertical-align: top;\n",
       "    }\n",
       "\n",
       "    .dataframe thead th {\n",
       "        text-align: right;\n",
       "    }\n",
       "</style>\n",
       "<table border=\"1\" class=\"dataframe\">\n",
       "  <thead>\n",
       "    <tr style=\"text-align: right;\">\n",
       "      <th></th>\n",
       "      <th>country</th>\n",
       "      <th>year</th>\n",
       "      <th>population</th>\n",
       "      <th>continent</th>\n",
       "      <th>life_exp</th>\n",
       "      <th>gdp_cap</th>\n",
       "      <th>gdp</th>\n",
       "    </tr>\n",
       "  </thead>\n",
       "  <tbody>\n",
       "    <tr>\n",
       "      <th>0</th>\n",
       "      <td>Afghanistan</td>\n",
       "      <td>1952</td>\n",
       "      <td>8425333</td>\n",
       "      <td>Asia</td>\n",
       "      <td>28.801</td>\n",
       "      <td>779.445314</td>\n",
       "      <td>6.567086e+09</td>\n",
       "    </tr>\n",
       "    <tr>\n",
       "      <th>1</th>\n",
       "      <td>Afghanistan</td>\n",
       "      <td>1957</td>\n",
       "      <td>9240934</td>\n",
       "      <td>Asia</td>\n",
       "      <td>30.332</td>\n",
       "      <td>820.853030</td>\n",
       "      <td>7.585449e+09</td>\n",
       "    </tr>\n",
       "    <tr>\n",
       "      <th>2</th>\n",
       "      <td>Afghanistan</td>\n",
       "      <td>1962</td>\n",
       "      <td>10267083</td>\n",
       "      <td>Asia</td>\n",
       "      <td>31.997</td>\n",
       "      <td>853.100710</td>\n",
       "      <td>8.758856e+09</td>\n",
       "    </tr>\n",
       "    <tr>\n",
       "      <th>3</th>\n",
       "      <td>Afghanistan</td>\n",
       "      <td>1967</td>\n",
       "      <td>11537966</td>\n",
       "      <td>Asia</td>\n",
       "      <td>34.020</td>\n",
       "      <td>836.197138</td>\n",
       "      <td>9.648014e+09</td>\n",
       "    </tr>\n",
       "    <tr>\n",
       "      <th>4</th>\n",
       "      <td>Afghanistan</td>\n",
       "      <td>1972</td>\n",
       "      <td>13079460</td>\n",
       "      <td>Asia</td>\n",
       "      <td>36.088</td>\n",
       "      <td>739.981106</td>\n",
       "      <td>9.678553e+09</td>\n",
       "    </tr>\n",
       "  </tbody>\n",
       "</table>\n",
       "</div>"
      ],
      "text/plain": [
       "       country  year  population continent  life_exp     gdp_cap           gdp\n",
       "0  Afghanistan  1952     8425333      Asia    28.801  779.445314  6.567086e+09\n",
       "1  Afghanistan  1957     9240934      Asia    30.332  820.853030  7.585449e+09\n",
       "2  Afghanistan  1962    10267083      Asia    31.997  853.100710  8.758856e+09\n",
       "3  Afghanistan  1967    11537966      Asia    34.020  836.197138  9.648014e+09\n",
       "4  Afghanistan  1972    13079460      Asia    36.088  739.981106  9.678553e+09"
      ]
     },
     "execution_count": 101,
     "metadata": {},
     "output_type": "execute_result"
    }
   ],
   "source": [
    "mk_df.reset_index(drop=True, inplace=True)\n",
    "mk_df.head()"
   ]
  },
  {
   "cell_type": "markdown",
   "id": "0b05f503-748b-45d9-bb89-02d2cfea8f71",
   "metadata": {},
   "source": [
    "> **Note**:\n",
    ">\n",
    "> In `reset_index` method `drop` parameter is set to `False` by default."
   ]
  },
  {
   "cell_type": "markdown",
   "id": "65f0457d-e872-48c2-bb79-4b1d370d3ac6",
   "metadata": {},
   "source": [
    "#### Set Index"
   ]
  },
  {
   "cell_type": "markdown",
   "id": "21c7512e-a5d1-4957-a7d4-c177d0e2d4c3",
   "metadata": {},
   "source": [
    "##### Before set index"
   ]
  },
  {
   "cell_type": "code",
   "execution_count": 102,
   "id": "ded78bb1-6561-4ff1-a32e-ee85d4b8445a",
   "metadata": {},
   "outputs": [
    {
     "data": {
      "text/html": [
       "<div>\n",
       "<style scoped>\n",
       "    .dataframe tbody tr th:only-of-type {\n",
       "        vertical-align: middle;\n",
       "    }\n",
       "\n",
       "    .dataframe tbody tr th {\n",
       "        vertical-align: top;\n",
       "    }\n",
       "\n",
       "    .dataframe thead th {\n",
       "        text-align: right;\n",
       "    }\n",
       "</style>\n",
       "<table border=\"1\" class=\"dataframe\">\n",
       "  <thead>\n",
       "    <tr style=\"text-align: right;\">\n",
       "      <th></th>\n",
       "      <th>Name</th>\n",
       "      <th>Age</th>\n",
       "      <th>Role</th>\n",
       "      <th>DateOfJoining</th>\n",
       "      <th>Experinace</th>\n",
       "      <th>Name</th>\n",
       "      <th>Age</th>\n",
       "      <th>Role</th>\n",
       "      <th>DateOfJoining</th>\n",
       "    </tr>\n",
       "  </thead>\n",
       "  <tbody>\n",
       "    <tr>\n",
       "      <th>0</th>\n",
       "      <td>Alex</td>\n",
       "      <td>31</td>\n",
       "      <td>Senior SD</td>\n",
       "      <td>2021-06-01</td>\n",
       "      <td>1310 days</td>\n",
       "      <td>David</td>\n",
       "      <td>30.0</td>\n",
       "      <td>Junior SD</td>\n",
       "      <td>01-07-2024</td>\n",
       "    </tr>\n",
       "    <tr>\n",
       "      <th>1</th>\n",
       "      <td>Ajax</td>\n",
       "      <td>31</td>\n",
       "      <td>Associate Architect</td>\n",
       "      <td>2025-01-01</td>\n",
       "      <td>0 days</td>\n",
       "      <td>Karen</td>\n",
       "      <td>40.0</td>\n",
       "      <td>Associate Architect</td>\n",
       "      <td>01-07-2024</td>\n",
       "    </tr>\n",
       "    <tr>\n",
       "      <th>2</th>\n",
       "      <td>Jane</td>\n",
       "      <td>28</td>\n",
       "      <td>Junior SD</td>\n",
       "      <td>2023-03-01</td>\n",
       "      <td>672 days</td>\n",
       "      <td>NaN</td>\n",
       "      <td>NaN</td>\n",
       "      <td>NaN</td>\n",
       "      <td>NaN</td>\n",
       "    </tr>\n",
       "    <tr>\n",
       "      <th>3</th>\n",
       "      <td>John</td>\n",
       "      <td>35</td>\n",
       "      <td>Architect</td>\n",
       "      <td>2022-12-01</td>\n",
       "      <td>762 days</td>\n",
       "      <td>NaN</td>\n",
       "      <td>NaN</td>\n",
       "      <td>NaN</td>\n",
       "      <td>NaN</td>\n",
       "    </tr>\n",
       "    <tr>\n",
       "      <th>4</th>\n",
       "      <td>Anna</td>\n",
       "      <td>40</td>\n",
       "      <td>V.P.</td>\n",
       "      <td>2000-08-01</td>\n",
       "      <td>8919 days</td>\n",
       "      <td>NaN</td>\n",
       "      <td>NaN</td>\n",
       "      <td>NaN</td>\n",
       "      <td>NaN</td>\n",
       "    </tr>\n",
       "    <tr>\n",
       "      <th>5</th>\n",
       "      <td>Bob</td>\n",
       "      <td>30</td>\n",
       "      <td>Junior SD</td>\n",
       "      <td>2024-07-01</td>\n",
       "      <td>184 days</td>\n",
       "      <td>NaN</td>\n",
       "      <td>NaN</td>\n",
       "      <td>NaN</td>\n",
       "      <td>NaN</td>\n",
       "    </tr>\n",
       "    <tr>\n",
       "      <th>6</th>\n",
       "      <td>David</td>\n",
       "      <td>30</td>\n",
       "      <td>Junior SD</td>\n",
       "      <td>2024-07-01</td>\n",
       "      <td>184 days</td>\n",
       "      <td>NaN</td>\n",
       "      <td>NaN</td>\n",
       "      <td>NaN</td>\n",
       "      <td>NaN</td>\n",
       "    </tr>\n",
       "    <tr>\n",
       "      <th>7</th>\n",
       "      <td>Karen</td>\n",
       "      <td>40</td>\n",
       "      <td>Associate Architect</td>\n",
       "      <td>2024-07-01</td>\n",
       "      <td>184 days</td>\n",
       "      <td>NaN</td>\n",
       "      <td>NaN</td>\n",
       "      <td>NaN</td>\n",
       "      <td>NaN</td>\n",
       "    </tr>\n",
       "  </tbody>\n",
       "</table>\n",
       "</div>"
      ],
      "text/plain": [
       "    Name  Age                 Role DateOfJoining Experinace   Name   Age  \\\n",
       "0   Alex   31            Senior SD    2021-06-01  1310 days  David  30.0   \n",
       "1   Ajax   31  Associate Architect    2025-01-01     0 days  Karen  40.0   \n",
       "2   Jane   28            Junior SD    2023-03-01   672 days    NaN   NaN   \n",
       "3   John   35            Architect    2022-12-01   762 days    NaN   NaN   \n",
       "4   Anna   40                 V.P.    2000-08-01  8919 days    NaN   NaN   \n",
       "5    Bob   30            Junior SD    2024-07-01   184 days    NaN   NaN   \n",
       "6  David   30            Junior SD    2024-07-01   184 days    NaN   NaN   \n",
       "7  Karen   40  Associate Architect    2024-07-01   184 days    NaN   NaN   \n",
       "\n",
       "                  Role DateOfJoining  \n",
       "0            Junior SD    01-07-2024  \n",
       "1  Associate Architect    01-07-2024  \n",
       "2                  NaN           NaN  \n",
       "3                  NaN           NaN  \n",
       "4                  NaN           NaN  \n",
       "5                  NaN           NaN  \n",
       "6                  NaN           NaN  \n",
       "7                  NaN           NaN  "
      ]
     },
     "execution_count": 102,
     "metadata": {},
     "output_type": "execute_result"
    }
   ],
   "source": [
    "emp_df"
   ]
  },
  {
   "cell_type": "code",
   "execution_count": 103,
   "id": "a9322542-4442-4d4c-99e0-af45abe2d800",
   "metadata": {},
   "outputs": [],
   "source": [
    "emp_df.set_index(keys=\"Name\", inplace=True)"
   ]
  },
  {
   "cell_type": "markdown",
   "id": "6f6ecc34-6957-49bc-ade0-e648ebc87bdf",
   "metadata": {},
   "source": [
    "##### After set index"
   ]
  },
  {
   "cell_type": "code",
   "execution_count": 104,
   "id": "e7768869-e7c9-43ce-98a0-21f415038ad9",
   "metadata": {},
   "outputs": [
    {
     "data": {
      "text/html": [
       "<div>\n",
       "<style scoped>\n",
       "    .dataframe tbody tr th:only-of-type {\n",
       "        vertical-align: middle;\n",
       "    }\n",
       "\n",
       "    .dataframe tbody tr th {\n",
       "        vertical-align: top;\n",
       "    }\n",
       "\n",
       "    .dataframe thead th {\n",
       "        text-align: right;\n",
       "    }\n",
       "</style>\n",
       "<table border=\"1\" class=\"dataframe\">\n",
       "  <thead>\n",
       "    <tr style=\"text-align: right;\">\n",
       "      <th></th>\n",
       "      <th>Age</th>\n",
       "      <th>Role</th>\n",
       "      <th>DateOfJoining</th>\n",
       "      <th>Experinace</th>\n",
       "      <th>Age</th>\n",
       "      <th>Role</th>\n",
       "      <th>DateOfJoining</th>\n",
       "    </tr>\n",
       "    <tr>\n",
       "      <th>Name</th>\n",
       "      <th></th>\n",
       "      <th></th>\n",
       "      <th></th>\n",
       "      <th></th>\n",
       "      <th></th>\n",
       "      <th></th>\n",
       "      <th></th>\n",
       "    </tr>\n",
       "  </thead>\n",
       "  <tbody>\n",
       "    <tr>\n",
       "      <th>(Alex, David)</th>\n",
       "      <td>31</td>\n",
       "      <td>Senior SD</td>\n",
       "      <td>2021-06-01</td>\n",
       "      <td>1310 days</td>\n",
       "      <td>30.0</td>\n",
       "      <td>Junior SD</td>\n",
       "      <td>01-07-2024</td>\n",
       "    </tr>\n",
       "    <tr>\n",
       "      <th>(Ajax, Karen)</th>\n",
       "      <td>31</td>\n",
       "      <td>Associate Architect</td>\n",
       "      <td>2025-01-01</td>\n",
       "      <td>0 days</td>\n",
       "      <td>40.0</td>\n",
       "      <td>Associate Architect</td>\n",
       "      <td>01-07-2024</td>\n",
       "    </tr>\n",
       "    <tr>\n",
       "      <th>(Jane, nan)</th>\n",
       "      <td>28</td>\n",
       "      <td>Junior SD</td>\n",
       "      <td>2023-03-01</td>\n",
       "      <td>672 days</td>\n",
       "      <td>NaN</td>\n",
       "      <td>NaN</td>\n",
       "      <td>NaN</td>\n",
       "    </tr>\n",
       "    <tr>\n",
       "      <th>(John, nan)</th>\n",
       "      <td>35</td>\n",
       "      <td>Architect</td>\n",
       "      <td>2022-12-01</td>\n",
       "      <td>762 days</td>\n",
       "      <td>NaN</td>\n",
       "      <td>NaN</td>\n",
       "      <td>NaN</td>\n",
       "    </tr>\n",
       "    <tr>\n",
       "      <th>(Anna, nan)</th>\n",
       "      <td>40</td>\n",
       "      <td>V.P.</td>\n",
       "      <td>2000-08-01</td>\n",
       "      <td>8919 days</td>\n",
       "      <td>NaN</td>\n",
       "      <td>NaN</td>\n",
       "      <td>NaN</td>\n",
       "    </tr>\n",
       "    <tr>\n",
       "      <th>(Bob, nan)</th>\n",
       "      <td>30</td>\n",
       "      <td>Junior SD</td>\n",
       "      <td>2024-07-01</td>\n",
       "      <td>184 days</td>\n",
       "      <td>NaN</td>\n",
       "      <td>NaN</td>\n",
       "      <td>NaN</td>\n",
       "    </tr>\n",
       "    <tr>\n",
       "      <th>(David, nan)</th>\n",
       "      <td>30</td>\n",
       "      <td>Junior SD</td>\n",
       "      <td>2024-07-01</td>\n",
       "      <td>184 days</td>\n",
       "      <td>NaN</td>\n",
       "      <td>NaN</td>\n",
       "      <td>NaN</td>\n",
       "    </tr>\n",
       "    <tr>\n",
       "      <th>(Karen, nan)</th>\n",
       "      <td>40</td>\n",
       "      <td>Associate Architect</td>\n",
       "      <td>2024-07-01</td>\n",
       "      <td>184 days</td>\n",
       "      <td>NaN</td>\n",
       "      <td>NaN</td>\n",
       "      <td>NaN</td>\n",
       "    </tr>\n",
       "  </tbody>\n",
       "</table>\n",
       "</div>"
      ],
      "text/plain": [
       "               Age                 Role DateOfJoining Experinace   Age  \\\n",
       "Name                                                                     \n",
       "(Alex, David)   31            Senior SD    2021-06-01  1310 days  30.0   \n",
       "(Ajax, Karen)   31  Associate Architect    2025-01-01     0 days  40.0   \n",
       "(Jane, nan)     28            Junior SD    2023-03-01   672 days   NaN   \n",
       "(John, nan)     35            Architect    2022-12-01   762 days   NaN   \n",
       "(Anna, nan)     40                 V.P.    2000-08-01  8919 days   NaN   \n",
       "(Bob, nan)      30            Junior SD    2024-07-01   184 days   NaN   \n",
       "(David, nan)    30            Junior SD    2024-07-01   184 days   NaN   \n",
       "(Karen, nan)    40  Associate Architect    2024-07-01   184 days   NaN   \n",
       "\n",
       "                              Role DateOfJoining  \n",
       "Name                                              \n",
       "(Alex, David)            Junior SD    01-07-2024  \n",
       "(Ajax, Karen)  Associate Architect    01-07-2024  \n",
       "(Jane, nan)                    NaN           NaN  \n",
       "(John, nan)                    NaN           NaN  \n",
       "(Anna, nan)                    NaN           NaN  \n",
       "(Bob, nan)                     NaN           NaN  \n",
       "(David, nan)                   NaN           NaN  \n",
       "(Karen, nan)                   NaN           NaN  "
      ]
     },
     "execution_count": 104,
     "metadata": {},
     "output_type": "execute_result"
    }
   ],
   "source": [
    "emp_df"
   ]
  },
  {
   "cell_type": "markdown",
   "id": "ce92b823-c250-4725-b98a-b3cb87e0f9ad",
   "metadata": {},
   "source": [
    "> **Note**:\n",
    ">\n",
    "> `set_index` method also has `drop` parameter but it is set to `True` by default."
   ]
  },
  {
   "cell_type": "markdown",
   "id": "ab3e6ac4-5516-471f-bdfc-749927470687",
   "metadata": {},
   "source": [
    "### 9.2 Update Column"
   ]
  },
  {
   "cell_type": "code",
   "execution_count": 105,
   "id": "6815a801-9b46-46b4-989e-2dd6a77ff9ee",
   "metadata": {},
   "outputs": [],
   "source": [
    "# df.index = list(range(1, len(df)+1))\n",
    "# df"
   ]
  },
  {
   "cell_type": "code",
   "execution_count": null,
   "id": "dd4b6d0a-dd35-4528-835e-775c227129be",
   "metadata": {},
   "outputs": [],
   "source": []
  },
  {
   "cell_type": "markdown",
   "id": "47682eaf-1760-47f6-a7e7-31f5fe2c757f",
   "metadata": {},
   "source": [
    "### 9.3 Update Row"
   ]
  },
  {
   "cell_type": "code",
   "execution_count": 106,
   "id": "267425ce-7717-43db-b9de-37ec4a8011b8",
   "metadata": {},
   "outputs": [],
   "source": [
    "# test_df.iloc[3] = [\"Row 4 Column 1\", \"Row 4 Column 2\", \"Row 4 Column 3\"]"
   ]
  },
  {
   "cell_type": "code",
   "execution_count": null,
   "id": "18655c9e-d8ae-4329-bfbc-0ef12b221ce8",
   "metadata": {},
   "outputs": [],
   "source": []
  },
  {
   "cell_type": "markdown",
   "id": "c8197a99-5f00-46d1-8356-7ea04778e03c",
   "metadata": {},
   "source": [
    "## 10 Drop"
   ]
  },
  {
   "cell_type": "markdown",
   "id": "a04af300-b4b8-4dc2-893f-451fc84c5052",
   "metadata": {},
   "source": [
    "### 10.1 Deleting Rows (Explicit Indices)"
   ]
  },
  {
   "cell_type": "markdown",
   "id": "ba2d11d4-edaf-446b-a23c-de01ea80c5a1",
   "metadata": {},
   "source": [
    "#### Using `axis`"
   ]
  },
  {
   "cell_type": "markdown",
   "id": "b59a6a25-150b-4ec0-8e76-df1b2b0051ad",
   "metadata": {},
   "source": [
    "For the `mk_df` DataFrame:\n",
    "1. Explicit row indices range from 1 to 1704.\n",
    "2. Implicit row indices range from 0 to 1703."
   ]
  },
  {
   "cell_type": "markdown",
   "id": "c27f8170-6729-42fb-b1d3-33d2162b537b",
   "metadata": {},
   "source": [
    "##### Before delete"
   ]
  },
  {
   "cell_type": "code",
   "execution_count": 107,
   "id": "b6c5f6be-b619-421b-be16-713301981798",
   "metadata": {},
   "outputs": [
    {
     "data": {
      "text/html": [
       "<div>\n",
       "<style scoped>\n",
       "    .dataframe tbody tr th:only-of-type {\n",
       "        vertical-align: middle;\n",
       "    }\n",
       "\n",
       "    .dataframe tbody tr th {\n",
       "        vertical-align: top;\n",
       "    }\n",
       "\n",
       "    .dataframe thead th {\n",
       "        text-align: right;\n",
       "    }\n",
       "</style>\n",
       "<table border=\"1\" class=\"dataframe\">\n",
       "  <thead>\n",
       "    <tr style=\"text-align: right;\">\n",
       "      <th></th>\n",
       "      <th>country</th>\n",
       "      <th>year</th>\n",
       "      <th>population</th>\n",
       "      <th>continent</th>\n",
       "      <th>life_exp</th>\n",
       "      <th>gdp_cap</th>\n",
       "      <th>gdp</th>\n",
       "    </tr>\n",
       "  </thead>\n",
       "  <tbody>\n",
       "    <tr>\n",
       "      <th>801</th>\n",
       "      <td>Japan</td>\n",
       "      <td>1997</td>\n",
       "      <td>125956499</td>\n",
       "      <td>Asia</td>\n",
       "      <td>80.690</td>\n",
       "      <td>28816.584990</td>\n",
       "      <td>3.629636e+12</td>\n",
       "    </tr>\n",
       "    <tr>\n",
       "      <th>802</th>\n",
       "      <td>Japan</td>\n",
       "      <td>2002</td>\n",
       "      <td>127065841</td>\n",
       "      <td>Asia</td>\n",
       "      <td>82.000</td>\n",
       "      <td>28604.591900</td>\n",
       "      <td>3.634667e+12</td>\n",
       "    </tr>\n",
       "    <tr>\n",
       "      <th>803</th>\n",
       "      <td>Japan</td>\n",
       "      <td>2007</td>\n",
       "      <td>127467972</td>\n",
       "      <td>Asia</td>\n",
       "      <td>82.603</td>\n",
       "      <td>31656.068060</td>\n",
       "      <td>4.035135e+12</td>\n",
       "    </tr>\n",
       "    <tr>\n",
       "      <th>804</th>\n",
       "      <td>Jordan</td>\n",
       "      <td>1952</td>\n",
       "      <td>607914</td>\n",
       "      <td>Asia</td>\n",
       "      <td>43.158</td>\n",
       "      <td>1546.907807</td>\n",
       "      <td>9.403869e+08</td>\n",
       "    </tr>\n",
       "    <tr>\n",
       "      <th>805</th>\n",
       "      <td>Jordan</td>\n",
       "      <td>1957</td>\n",
       "      <td>746559</td>\n",
       "      <td>Asia</td>\n",
       "      <td>45.669</td>\n",
       "      <td>1886.080591</td>\n",
       "      <td>1.408070e+09</td>\n",
       "    </tr>\n",
       "  </tbody>\n",
       "</table>\n",
       "</div>"
      ],
      "text/plain": [
       "    country  year  population continent  life_exp       gdp_cap           gdp\n",
       "801   Japan  1997   125956499      Asia    80.690  28816.584990  3.629636e+12\n",
       "802   Japan  2002   127065841      Asia    82.000  28604.591900  3.634667e+12\n",
       "803   Japan  2007   127467972      Asia    82.603  31656.068060  4.035135e+12\n",
       "804  Jordan  1952      607914      Asia    43.158   1546.907807  9.403869e+08\n",
       "805  Jordan  1957      746559      Asia    45.669   1886.080591  1.408070e+09"
      ]
     },
     "execution_count": 107,
     "metadata": {},
     "output_type": "execute_result"
    }
   ],
   "source": [
    "mk_df.loc[801:805]"
   ]
  },
  {
   "cell_type": "markdown",
   "id": "05804f1a-9c82-4741-9896-9c0859f39cca",
   "metadata": {},
   "source": [
    "##### Single row delete"
   ]
  },
  {
   "cell_type": "code",
   "execution_count": 108,
   "id": "80cc1c12-480b-4f99-a294-ba8b6370bfbe",
   "metadata": {},
   "outputs": [],
   "source": [
    "try:\n",
    "    mk_df.drop(802, axis=0, inplace=True)\n",
    "except KeyError as err:\n",
    "    print(err)"
   ]
  },
  {
   "cell_type": "markdown",
   "id": "b311d8b2-1ad5-4e1a-9c91-066fed75e67f",
   "metadata": {},
   "source": [
    "##### Multi row delete"
   ]
  },
  {
   "cell_type": "code",
   "execution_count": 109,
   "id": "8511e36d-96ad-4726-8eaa-f9dd56a51ec1",
   "metadata": {},
   "outputs": [],
   "source": [
    "try:\n",
    "    mk_df.drop([803, 804], axis=0, inplace=True)\n",
    "except KeyError as err:\n",
    "    print(err)"
   ]
  },
  {
   "cell_type": "markdown",
   "id": "ba657a70-6a60-4771-bced-39c104bf04e8",
   "metadata": {},
   "source": [
    "##### After delete"
   ]
  },
  {
   "cell_type": "code",
   "execution_count": 110,
   "id": "9a55e8c6-3271-4b4e-81f9-0d7148c0b5ae",
   "metadata": {},
   "outputs": [
    {
     "data": {
      "text/html": [
       "<div>\n",
       "<style scoped>\n",
       "    .dataframe tbody tr th:only-of-type {\n",
       "        vertical-align: middle;\n",
       "    }\n",
       "\n",
       "    .dataframe tbody tr th {\n",
       "        vertical-align: top;\n",
       "    }\n",
       "\n",
       "    .dataframe thead th {\n",
       "        text-align: right;\n",
       "    }\n",
       "</style>\n",
       "<table border=\"1\" class=\"dataframe\">\n",
       "  <thead>\n",
       "    <tr style=\"text-align: right;\">\n",
       "      <th></th>\n",
       "      <th>country</th>\n",
       "      <th>year</th>\n",
       "      <th>population</th>\n",
       "      <th>continent</th>\n",
       "      <th>life_exp</th>\n",
       "      <th>gdp_cap</th>\n",
       "      <th>gdp</th>\n",
       "    </tr>\n",
       "  </thead>\n",
       "  <tbody>\n",
       "    <tr>\n",
       "      <th>801</th>\n",
       "      <td>Japan</td>\n",
       "      <td>1997</td>\n",
       "      <td>125956499</td>\n",
       "      <td>Asia</td>\n",
       "      <td>80.690</td>\n",
       "      <td>28816.584990</td>\n",
       "      <td>3.629636e+12</td>\n",
       "    </tr>\n",
       "    <tr>\n",
       "      <th>805</th>\n",
       "      <td>Jordan</td>\n",
       "      <td>1957</td>\n",
       "      <td>746559</td>\n",
       "      <td>Asia</td>\n",
       "      <td>45.669</td>\n",
       "      <td>1886.080591</td>\n",
       "      <td>1.408070e+09</td>\n",
       "    </tr>\n",
       "  </tbody>\n",
       "</table>\n",
       "</div>"
      ],
      "text/plain": [
       "    country  year  population continent  life_exp       gdp_cap           gdp\n",
       "801   Japan  1997   125956499      Asia    80.690  28816.584990  3.629636e+12\n",
       "805  Jordan  1957      746559      Asia    45.669   1886.080591  1.408070e+09"
      ]
     },
     "execution_count": 110,
     "metadata": {},
     "output_type": "execute_result"
    }
   ],
   "source": [
    "mk_df.loc[801:805]"
   ]
  },
  {
   "cell_type": "markdown",
   "id": "fcbc46b7-6039-4b33-a3b1-5598da952a5a",
   "metadata": {},
   "source": [
    "#### Using `index` parameter"
   ]
  },
  {
   "cell_type": "markdown",
   "id": "f5737c5a-ffef-41dc-9c4c-504bb1457a74",
   "metadata": {},
   "source": [
    "##### Before delete"
   ]
  },
  {
   "cell_type": "code",
   "execution_count": 111,
   "id": "50b89424-6598-4fb7-8320-2774883380b8",
   "metadata": {},
   "outputs": [
    {
     "data": {
      "text/html": [
       "<div>\n",
       "<style scoped>\n",
       "    .dataframe tbody tr th:only-of-type {\n",
       "        vertical-align: middle;\n",
       "    }\n",
       "\n",
       "    .dataframe tbody tr th {\n",
       "        vertical-align: top;\n",
       "    }\n",
       "\n",
       "    .dataframe thead th {\n",
       "        text-align: right;\n",
       "    }\n",
       "</style>\n",
       "<table border=\"1\" class=\"dataframe\">\n",
       "  <thead>\n",
       "    <tr style=\"text-align: right;\">\n",
       "      <th></th>\n",
       "      <th>country</th>\n",
       "      <th>year</th>\n",
       "      <th>population</th>\n",
       "      <th>continent</th>\n",
       "      <th>life_exp</th>\n",
       "      <th>gdp_cap</th>\n",
       "      <th>gdp</th>\n",
       "    </tr>\n",
       "  </thead>\n",
       "  <tbody>\n",
       "    <tr>\n",
       "      <th>601</th>\n",
       "      <td>Guatemala</td>\n",
       "      <td>1957</td>\n",
       "      <td>3640876</td>\n",
       "      <td>Americas</td>\n",
       "      <td>44.142</td>\n",
       "      <td>2617.155967</td>\n",
       "      <td>9.528740e+09</td>\n",
       "    </tr>\n",
       "    <tr>\n",
       "      <th>602</th>\n",
       "      <td>Guatemala</td>\n",
       "      <td>1962</td>\n",
       "      <td>4208858</td>\n",
       "      <td>Americas</td>\n",
       "      <td>46.954</td>\n",
       "      <td>2750.364446</td>\n",
       "      <td>1.157589e+10</td>\n",
       "    </tr>\n",
       "    <tr>\n",
       "      <th>603</th>\n",
       "      <td>Guatemala</td>\n",
       "      <td>1967</td>\n",
       "      <td>4690773</td>\n",
       "      <td>Americas</td>\n",
       "      <td>50.016</td>\n",
       "      <td>3242.531147</td>\n",
       "      <td>1.520998e+10</td>\n",
       "    </tr>\n",
       "    <tr>\n",
       "      <th>604</th>\n",
       "      <td>Guatemala</td>\n",
       "      <td>1972</td>\n",
       "      <td>5149581</td>\n",
       "      <td>Americas</td>\n",
       "      <td>53.738</td>\n",
       "      <td>4031.408271</td>\n",
       "      <td>2.076006e+10</td>\n",
       "    </tr>\n",
       "    <tr>\n",
       "      <th>605</th>\n",
       "      <td>Guatemala</td>\n",
       "      <td>1977</td>\n",
       "      <td>5703430</td>\n",
       "      <td>Americas</td>\n",
       "      <td>56.029</td>\n",
       "      <td>4879.992748</td>\n",
       "      <td>2.783270e+10</td>\n",
       "    </tr>\n",
       "  </tbody>\n",
       "</table>\n",
       "</div>"
      ],
      "text/plain": [
       "       country  year  population continent  life_exp      gdp_cap  \\\n",
       "601  Guatemala  1957     3640876  Americas    44.142  2617.155967   \n",
       "602  Guatemala  1962     4208858  Americas    46.954  2750.364446   \n",
       "603  Guatemala  1967     4690773  Americas    50.016  3242.531147   \n",
       "604  Guatemala  1972     5149581  Americas    53.738  4031.408271   \n",
       "605  Guatemala  1977     5703430  Americas    56.029  4879.992748   \n",
       "\n",
       "              gdp  \n",
       "601  9.528740e+09  \n",
       "602  1.157589e+10  \n",
       "603  1.520998e+10  \n",
       "604  2.076006e+10  \n",
       "605  2.783270e+10  "
      ]
     },
     "execution_count": 111,
     "metadata": {},
     "output_type": "execute_result"
    }
   ],
   "source": [
    "mk_df.loc[601:605]"
   ]
  },
  {
   "cell_type": "markdown",
   "id": "32f66f0e-b99e-49e2-9585-81b305d3d23d",
   "metadata": {},
   "source": [
    "##### Single row delete"
   ]
  },
  {
   "cell_type": "code",
   "execution_count": 112,
   "id": "0051333a-d4da-4c8c-ad7d-cf85fb1b3c62",
   "metadata": {},
   "outputs": [],
   "source": [
    "try:\n",
    "    mk_df.drop(index=602, axis=0, inplace=True)\n",
    "except KeyError as err:\n",
    "    print(err)"
   ]
  },
  {
   "cell_type": "markdown",
   "id": "73b78df8-09da-4c42-9c6e-c5e5fdc4a8f4",
   "metadata": {},
   "source": [
    "##### Multi row delete"
   ]
  },
  {
   "cell_type": "code",
   "execution_count": 113,
   "id": "ea065256-e9e0-4806-87f8-edd19e985fc4",
   "metadata": {},
   "outputs": [],
   "source": [
    "try:\n",
    "    mk_df.drop(index=range(603, 605), inplace=True)\n",
    "except KeyError as err:\n",
    "    print(err)"
   ]
  },
  {
   "cell_type": "markdown",
   "id": "b1c8cdac-5338-42dc-81c3-854c9c105a79",
   "metadata": {},
   "source": [
    "##### After"
   ]
  },
  {
   "cell_type": "code",
   "execution_count": 114,
   "id": "8efef78a-0632-46dc-a880-77509c9db65d",
   "metadata": {},
   "outputs": [
    {
     "data": {
      "text/html": [
       "<div>\n",
       "<style scoped>\n",
       "    .dataframe tbody tr th:only-of-type {\n",
       "        vertical-align: middle;\n",
       "    }\n",
       "\n",
       "    .dataframe tbody tr th {\n",
       "        vertical-align: top;\n",
       "    }\n",
       "\n",
       "    .dataframe thead th {\n",
       "        text-align: right;\n",
       "    }\n",
       "</style>\n",
       "<table border=\"1\" class=\"dataframe\">\n",
       "  <thead>\n",
       "    <tr style=\"text-align: right;\">\n",
       "      <th></th>\n",
       "      <th>country</th>\n",
       "      <th>year</th>\n",
       "      <th>population</th>\n",
       "      <th>continent</th>\n",
       "      <th>life_exp</th>\n",
       "      <th>gdp_cap</th>\n",
       "      <th>gdp</th>\n",
       "    </tr>\n",
       "  </thead>\n",
       "  <tbody>\n",
       "    <tr>\n",
       "      <th>601</th>\n",
       "      <td>Guatemala</td>\n",
       "      <td>1957</td>\n",
       "      <td>3640876</td>\n",
       "      <td>Americas</td>\n",
       "      <td>44.142</td>\n",
       "      <td>2617.155967</td>\n",
       "      <td>9.528740e+09</td>\n",
       "    </tr>\n",
       "    <tr>\n",
       "      <th>605</th>\n",
       "      <td>Guatemala</td>\n",
       "      <td>1977</td>\n",
       "      <td>5703430</td>\n",
       "      <td>Americas</td>\n",
       "      <td>56.029</td>\n",
       "      <td>4879.992748</td>\n",
       "      <td>2.783270e+10</td>\n",
       "    </tr>\n",
       "  </tbody>\n",
       "</table>\n",
       "</div>"
      ],
      "text/plain": [
       "       country  year  population continent  life_exp      gdp_cap  \\\n",
       "601  Guatemala  1957     3640876  Americas    44.142  2617.155967   \n",
       "605  Guatemala  1977     5703430  Americas    56.029  4879.992748   \n",
       "\n",
       "              gdp  \n",
       "601  9.528740e+09  \n",
       "605  2.783270e+10  "
      ]
     },
     "execution_count": 114,
     "metadata": {},
     "output_type": "execute_result"
    }
   ],
   "source": [
    "mk_df.loc[601:605]"
   ]
  },
  {
   "cell_type": "markdown",
   "id": "f84bbf59-0f69-48d7-a960-51fb172f43ca",
   "metadata": {},
   "source": [
    "### 10.2 Deleting Columns"
   ]
  },
  {
   "cell_type": "markdown",
   "id": "52bbcacd-85ed-4c07-8501-35a57ccbde8d",
   "metadata": {},
   "source": [
    "#### Using `axis`"
   ]
  },
  {
   "cell_type": "markdown",
   "id": "a5574de5-56c1-47f9-91b6-0ab85b3ade2a",
   "metadata": {},
   "source": [
    "##### Before delete"
   ]
  },
  {
   "cell_type": "code",
   "execution_count": 115,
   "id": "a7e2d873-50b3-472c-ac9d-ae3db9daa6f6",
   "metadata": {},
   "outputs": [
    {
     "data": {
      "text/html": [
       "<div>\n",
       "<style scoped>\n",
       "    .dataframe tbody tr th:only-of-type {\n",
       "        vertical-align: middle;\n",
       "    }\n",
       "\n",
       "    .dataframe tbody tr th {\n",
       "        vertical-align: top;\n",
       "    }\n",
       "\n",
       "    .dataframe thead th {\n",
       "        text-align: right;\n",
       "    }\n",
       "</style>\n",
       "<table border=\"1\" class=\"dataframe\">\n",
       "  <thead>\n",
       "    <tr style=\"text-align: right;\">\n",
       "      <th></th>\n",
       "      <th>country</th>\n",
       "      <th>year</th>\n",
       "      <th>population</th>\n",
       "      <th>continent</th>\n",
       "      <th>life_exp</th>\n",
       "      <th>gdp_cap</th>\n",
       "      <th>gdp</th>\n",
       "    </tr>\n",
       "  </thead>\n",
       "  <tbody>\n",
       "    <tr>\n",
       "      <th>0</th>\n",
       "      <td>Afghanistan</td>\n",
       "      <td>1952</td>\n",
       "      <td>8425333</td>\n",
       "      <td>Asia</td>\n",
       "      <td>28.801</td>\n",
       "      <td>779.445314</td>\n",
       "      <td>6.567086e+09</td>\n",
       "    </tr>\n",
       "    <tr>\n",
       "      <th>1</th>\n",
       "      <td>Afghanistan</td>\n",
       "      <td>1957</td>\n",
       "      <td>9240934</td>\n",
       "      <td>Asia</td>\n",
       "      <td>30.332</td>\n",
       "      <td>820.853030</td>\n",
       "      <td>7.585449e+09</td>\n",
       "    </tr>\n",
       "  </tbody>\n",
       "</table>\n",
       "</div>"
      ],
      "text/plain": [
       "       country  year  population continent  life_exp     gdp_cap           gdp\n",
       "0  Afghanistan  1952     8425333      Asia    28.801  779.445314  6.567086e+09\n",
       "1  Afghanistan  1957     9240934      Asia    30.332  820.853030  7.585449e+09"
      ]
     },
     "execution_count": 115,
     "metadata": {},
     "output_type": "execute_result"
    }
   ],
   "source": [
    "mk_df.head(2)"
   ]
  },
  {
   "cell_type": "markdown",
   "id": "1b690c95-65d4-4e8d-ab0e-ba5ae9fc8bd4",
   "metadata": {},
   "source": [
    "##### Single column delete"
   ]
  },
  {
   "cell_type": "code",
   "execution_count": 116,
   "id": "3e16a0fb-f9c7-4800-b8d8-66ab716071cc",
   "metadata": {},
   "outputs": [],
   "source": [
    "mk_df.drop(\"population\", axis=1, inplace=True)"
   ]
  },
  {
   "cell_type": "markdown",
   "id": "a2e34a1a-9ffe-4de5-83e5-284d1c4e3010",
   "metadata": {},
   "source": [
    "##### Multi column delete"
   ]
  },
  {
   "cell_type": "code",
   "execution_count": 117,
   "id": "c0052ca2-0189-4202-b6c1-8c29f3223e81",
   "metadata": {},
   "outputs": [],
   "source": [
    "mk_df.drop([\"life_exp\", \"country\"], axis=1, inplace=True)"
   ]
  },
  {
   "cell_type": "markdown",
   "id": "924beca3-e57e-4cbb-b066-b2a10a1e071c",
   "metadata": {},
   "source": [
    "##### After delete"
   ]
  },
  {
   "cell_type": "code",
   "execution_count": 118,
   "id": "a3a6ac53-ec61-49cd-a612-cf329a3dc1e4",
   "metadata": {},
   "outputs": [
    {
     "data": {
      "text/html": [
       "<div>\n",
       "<style scoped>\n",
       "    .dataframe tbody tr th:only-of-type {\n",
       "        vertical-align: middle;\n",
       "    }\n",
       "\n",
       "    .dataframe tbody tr th {\n",
       "        vertical-align: top;\n",
       "    }\n",
       "\n",
       "    .dataframe thead th {\n",
       "        text-align: right;\n",
       "    }\n",
       "</style>\n",
       "<table border=\"1\" class=\"dataframe\">\n",
       "  <thead>\n",
       "    <tr style=\"text-align: right;\">\n",
       "      <th></th>\n",
       "      <th>year</th>\n",
       "      <th>continent</th>\n",
       "      <th>gdp_cap</th>\n",
       "      <th>gdp</th>\n",
       "    </tr>\n",
       "  </thead>\n",
       "  <tbody>\n",
       "    <tr>\n",
       "      <th>0</th>\n",
       "      <td>1952</td>\n",
       "      <td>Asia</td>\n",
       "      <td>779.445314</td>\n",
       "      <td>6.567086e+09</td>\n",
       "    </tr>\n",
       "    <tr>\n",
       "      <th>1</th>\n",
       "      <td>1957</td>\n",
       "      <td>Asia</td>\n",
       "      <td>820.853030</td>\n",
       "      <td>7.585449e+09</td>\n",
       "    </tr>\n",
       "  </tbody>\n",
       "</table>\n",
       "</div>"
      ],
      "text/plain": [
       "   year continent     gdp_cap           gdp\n",
       "0  1952      Asia  779.445314  6.567086e+09\n",
       "1  1957      Asia  820.853030  7.585449e+09"
      ]
     },
     "execution_count": 118,
     "metadata": {},
     "output_type": "execute_result"
    }
   ],
   "source": [
    "mk_df.head(2)"
   ]
  },
  {
   "cell_type": "markdown",
   "id": "c1c8c49a-eb36-41cc-8992-7825d4f3032d",
   "metadata": {},
   "source": [
    "#### Using `columns` parameter"
   ]
  },
  {
   "cell_type": "markdown",
   "id": "a910bd3c-6369-4614-a7a0-e0de4effc461",
   "metadata": {},
   "source": [
    "##### Before delete"
   ]
  },
  {
   "cell_type": "code",
   "execution_count": 119,
   "id": "ebeac934-5255-4f49-9266-384857aa11ff",
   "metadata": {},
   "outputs": [
    {
     "data": {
      "text/html": [
       "<div>\n",
       "<style scoped>\n",
       "    .dataframe tbody tr th:only-of-type {\n",
       "        vertical-align: middle;\n",
       "    }\n",
       "\n",
       "    .dataframe tbody tr th {\n",
       "        vertical-align: top;\n",
       "    }\n",
       "\n",
       "    .dataframe thead th {\n",
       "        text-align: right;\n",
       "    }\n",
       "</style>\n",
       "<table border=\"1\" class=\"dataframe\">\n",
       "  <thead>\n",
       "    <tr style=\"text-align: right;\">\n",
       "      <th></th>\n",
       "      <th>year</th>\n",
       "      <th>continent</th>\n",
       "      <th>gdp_cap</th>\n",
       "      <th>gdp</th>\n",
       "    </tr>\n",
       "  </thead>\n",
       "  <tbody>\n",
       "    <tr>\n",
       "      <th>0</th>\n",
       "      <td>1952</td>\n",
       "      <td>Asia</td>\n",
       "      <td>779.445314</td>\n",
       "      <td>6.567086e+09</td>\n",
       "    </tr>\n",
       "    <tr>\n",
       "      <th>1</th>\n",
       "      <td>1957</td>\n",
       "      <td>Asia</td>\n",
       "      <td>820.853030</td>\n",
       "      <td>7.585449e+09</td>\n",
       "    </tr>\n",
       "  </tbody>\n",
       "</table>\n",
       "</div>"
      ],
      "text/plain": [
       "   year continent     gdp_cap           gdp\n",
       "0  1952      Asia  779.445314  6.567086e+09\n",
       "1  1957      Asia  820.853030  7.585449e+09"
      ]
     },
     "execution_count": 119,
     "metadata": {},
     "output_type": "execute_result"
    }
   ],
   "source": [
    "mk_df.head(2)"
   ]
  },
  {
   "cell_type": "markdown",
   "id": "333a7620-9668-408d-8fd1-3b4900423c60",
   "metadata": {},
   "source": [
    "##### Single column delete"
   ]
  },
  {
   "cell_type": "code",
   "execution_count": 120,
   "id": "e3130bf3-7dd5-4886-b642-cce719d78669",
   "metadata": {},
   "outputs": [],
   "source": [
    "mk_df.drop(columns=\"continent\", inplace=True)"
   ]
  },
  {
   "cell_type": "markdown",
   "id": "2311ac47-cf08-4b55-85e6-95b29e9723a5",
   "metadata": {},
   "source": [
    "##### Multi column delete"
   ]
  },
  {
   "cell_type": "code",
   "execution_count": 121,
   "id": "f83a98a8-dcf3-40fe-b1a5-08ccb9f769df",
   "metadata": {},
   "outputs": [],
   "source": [
    "mk_df.drop(columns=[\"year\", \"gdp_cap\"], inplace=True)"
   ]
  },
  {
   "cell_type": "markdown",
   "id": "f5b7bf09-116e-40dd-9bab-b9fe4bbbf602",
   "metadata": {},
   "source": [
    "##### After delete"
   ]
  },
  {
   "cell_type": "code",
   "execution_count": 122,
   "id": "80ff844d-38dd-4a8c-8393-79e6ef968227",
   "metadata": {},
   "outputs": [
    {
     "data": {
      "text/html": [
       "<div>\n",
       "<style scoped>\n",
       "    .dataframe tbody tr th:only-of-type {\n",
       "        vertical-align: middle;\n",
       "    }\n",
       "\n",
       "    .dataframe tbody tr th {\n",
       "        vertical-align: top;\n",
       "    }\n",
       "\n",
       "    .dataframe thead th {\n",
       "        text-align: right;\n",
       "    }\n",
       "</style>\n",
       "<table border=\"1\" class=\"dataframe\">\n",
       "  <thead>\n",
       "    <tr style=\"text-align: right;\">\n",
       "      <th></th>\n",
       "      <th>gdp</th>\n",
       "    </tr>\n",
       "  </thead>\n",
       "  <tbody>\n",
       "    <tr>\n",
       "      <th>0</th>\n",
       "      <td>6.567086e+09</td>\n",
       "    </tr>\n",
       "    <tr>\n",
       "      <th>1</th>\n",
       "      <td>7.585449e+09</td>\n",
       "    </tr>\n",
       "  </tbody>\n",
       "</table>\n",
       "</div>"
      ],
      "text/plain": [
       "            gdp\n",
       "0  6.567086e+09\n",
       "1  7.585449e+09"
      ]
     },
     "execution_count": 122,
     "metadata": {},
     "output_type": "execute_result"
    }
   ],
   "source": [
    "mk_df.head(2)"
   ]
  }
 ],
 "metadata": {
  "kernelspec": {
   "display_name": "Python 3 (ipykernel)",
   "language": "python",
   "name": "python3"
  },
  "language_info": {
   "codemirror_mode": {
    "name": "ipython",
    "version": 3
   },
   "file_extension": ".py",
   "mimetype": "text/x-python",
   "name": "python",
   "nbconvert_exporter": "python",
   "pygments_lexer": "ipython3",
   "version": "3.12.6"
  }
 },
 "nbformat": 4,
 "nbformat_minor": 5
}
