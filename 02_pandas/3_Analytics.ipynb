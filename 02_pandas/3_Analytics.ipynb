{
 "cells": [
  {
   "cell_type": "markdown",
   "id": "7eda1481-b07e-4d0c-94ed-11016d6cf32f",
   "metadata": {},
   "source": [
    "## Setup"
   ]
  },
  {
   "cell_type": "markdown",
   "id": "d534d0f5-bd14-459f-927e-07e3b5654af5",
   "metadata": {},
   "source": [
    "### Import Libraries"
   ]
  },
  {
   "cell_type": "code",
   "execution_count": 1,
   "id": "a72cfb89-8e0d-460d-aadc-d12018697318",
   "metadata": {},
   "outputs": [
    {
     "name": "stdout",
     "output_type": "stream",
     "text": [
      "Pandas version: 2.3.0\n"
     ]
    }
   ],
   "source": [
    "from datetime import datetime\n",
    "\n",
    "import numpy as np\n",
    "import pandas as pd\n",
    "\n",
    "print(\"Pandas version:\", pd.__version__)"
   ]
  },
  {
   "cell_type": "markdown",
   "id": "a17e239f-9009-4855-aec5-331b9e7701a7",
   "metadata": {},
   "source": [
    "### Import Data"
   ]
  },
  {
   "cell_type": "markdown",
   "id": "4a8c758f-7f96-4629-969b-7c8528124798",
   "metadata": {},
   "source": [
    "#### Mckinsey GDP Dataset"
   ]
  },
  {
   "cell_type": "code",
   "execution_count": 2,
   "id": "03f5a89c-76ff-4c2a-b626-6fdb3ee3db98",
   "metadata": {},
   "outputs": [
    {
     "data": {
      "text/html": [
       "<div>\n",
       "<style scoped>\n",
       "    .dataframe tbody tr th:only-of-type {\n",
       "        vertical-align: middle;\n",
       "    }\n",
       "\n",
       "    .dataframe tbody tr th {\n",
       "        vertical-align: top;\n",
       "    }\n",
       "\n",
       "    .dataframe thead th {\n",
       "        text-align: right;\n",
       "    }\n",
       "</style>\n",
       "<table border=\"1\" class=\"dataframe\">\n",
       "  <thead>\n",
       "    <tr style=\"text-align: right;\">\n",
       "      <th></th>\n",
       "      <th>country</th>\n",
       "      <th>year</th>\n",
       "      <th>population</th>\n",
       "      <th>continent</th>\n",
       "      <th>life_exp</th>\n",
       "      <th>gdp_cap</th>\n",
       "    </tr>\n",
       "  </thead>\n",
       "  <tbody>\n",
       "    <tr>\n",
       "      <th>0</th>\n",
       "      <td>Afghanistan</td>\n",
       "      <td>1952</td>\n",
       "      <td>8425333</td>\n",
       "      <td>Asia</td>\n",
       "      <td>28.801</td>\n",
       "      <td>779.445314</td>\n",
       "    </tr>\n",
       "    <tr>\n",
       "      <th>1</th>\n",
       "      <td>Afghanistan</td>\n",
       "      <td>1957</td>\n",
       "      <td>9240934</td>\n",
       "      <td>Asia</td>\n",
       "      <td>30.332</td>\n",
       "      <td>820.853030</td>\n",
       "    </tr>\n",
       "    <tr>\n",
       "      <th>2</th>\n",
       "      <td>Afghanistan</td>\n",
       "      <td>1962</td>\n",
       "      <td>10267083</td>\n",
       "      <td>Asia</td>\n",
       "      <td>31.997</td>\n",
       "      <td>853.100710</td>\n",
       "    </tr>\n",
       "  </tbody>\n",
       "</table>\n",
       "</div>"
      ],
      "text/plain": [
       "       country  year  population continent  life_exp     gdp_cap\n",
       "0  Afghanistan  1952     8425333      Asia    28.801  779.445314\n",
       "1  Afghanistan  1957     9240934      Asia    30.332  820.853030\n",
       "2  Afghanistan  1962    10267083      Asia    31.997  853.100710"
      ]
     },
     "execution_count": 2,
     "metadata": {},
     "output_type": "execute_result"
    }
   ],
   "source": [
    "mk_df = pd.read_csv(\"data/mckinsey.csv\")\n",
    "mk_df.head(3)"
   ]
  },
  {
   "cell_type": "markdown",
   "id": "215344dc-9021-4060-b1c2-cc5aaa3d6316",
   "metadata": {},
   "source": [
    "#### Employees Dataset"
   ]
  },
  {
   "cell_type": "code",
   "execution_count": 3,
   "id": "926b7dec-f75b-4705-9efd-4e6435cf2f26",
   "metadata": {},
   "outputs": [
    {
     "data": {
      "text/html": [
       "<div>\n",
       "<style scoped>\n",
       "    .dataframe tbody tr th:only-of-type {\n",
       "        vertical-align: middle;\n",
       "    }\n",
       "\n",
       "    .dataframe tbody tr th {\n",
       "        vertical-align: top;\n",
       "    }\n",
       "\n",
       "    .dataframe thead th {\n",
       "        text-align: right;\n",
       "    }\n",
       "</style>\n",
       "<table border=\"1\" class=\"dataframe\">\n",
       "  <thead>\n",
       "    <tr style=\"text-align: right;\">\n",
       "      <th></th>\n",
       "      <th>Name</th>\n",
       "      <th>Age</th>\n",
       "      <th>Role</th>\n",
       "      <th>D.O.J</th>\n",
       "    </tr>\n",
       "  </thead>\n",
       "  <tbody>\n",
       "    <tr>\n",
       "      <th>0</th>\n",
       "      <td>Alex</td>\n",
       "      <td>31</td>\n",
       "      <td>Senior SD</td>\n",
       "      <td>01-06-2021</td>\n",
       "    </tr>\n",
       "    <tr>\n",
       "      <th>1</th>\n",
       "      <td>Ajax</td>\n",
       "      <td>31</td>\n",
       "      <td>Senior SD</td>\n",
       "      <td>01-01-2025</td>\n",
       "    </tr>\n",
       "    <tr>\n",
       "      <th>2</th>\n",
       "      <td>Anna</td>\n",
       "      <td>40</td>\n",
       "      <td>V.P.</td>\n",
       "      <td>01-08-2000</td>\n",
       "    </tr>\n",
       "    <tr>\n",
       "      <th>3</th>\n",
       "      <td>Jane</td>\n",
       "      <td>28</td>\n",
       "      <td>Junior SD</td>\n",
       "      <td>01-03-2023</td>\n",
       "    </tr>\n",
       "    <tr>\n",
       "      <th>4</th>\n",
       "      <td>John</td>\n",
       "      <td>35</td>\n",
       "      <td>Architect</td>\n",
       "      <td>01-12-2022</td>\n",
       "    </tr>\n",
       "  </tbody>\n",
       "</table>\n",
       "</div>"
      ],
      "text/plain": [
       "   Name  Age       Role       D.O.J\n",
       "0  Alex   31  Senior SD  01-06-2021\n",
       "1  Ajax   31  Senior SD  01-01-2025\n",
       "2  Anna   40       V.P.  01-08-2000\n",
       "3  Jane   28  Junior SD  01-03-2023\n",
       "4  John   35  Architect  01-12-2022"
      ]
     },
     "execution_count": 3,
     "metadata": {},
     "output_type": "execute_result"
    }
   ],
   "source": [
    "employee_data = [\n",
    "    [\"Alex\", 31, \"Senior SD\", \"01-06-2021\"],\n",
    "    [\"Ajax\", 31, \"Senior SD\", \"01-01-2025\"],\n",
    "    [\"Anna\", 40, \"V.P.\", \"01-08-2000\"],\n",
    "    [\"Jane\", 28, \"Junior SD\", \"01-03-2023\"],\n",
    "    [\"John\", 35, \"Architect\", \"01-12-2022\"],\n",
    "    [\"Anna\", 40, \"V.P.\", \"01-08-2000\"],\n",
    "]\n",
    "\n",
    "column_names = [\"Name\", \"Age\", \"Role\", \"D.O.J\"]\n",
    "\n",
    "emp_df = pd.DataFrame(data=employee_data, columns=column_names)\n",
    "emp_df.head()"
   ]
  },
  {
   "cell_type": "code",
   "execution_count": 4,
   "id": "eddf5197-7ba6-4ab6-bd8d-cc9c2becc0ed",
   "metadata": {},
   "outputs": [
    {
     "name": "stdout",
     "output_type": "stream",
     "text": [
      "<class 'pandas.core.series.Series'>\n",
      "RangeIndex: 6 entries, 0 to 5\n",
      "Series name: D.O.J\n",
      "Non-Null Count  Dtype         \n",
      "--------------  -----         \n",
      "6 non-null      datetime64[ns]\n",
      "dtypes: datetime64[ns](1)\n",
      "memory usage: 180.0 bytes\n"
     ]
    }
   ],
   "source": [
    "emp_df[\"D.O.J\"] = pd.to_datetime(emp_df[\"D.O.J\"], format=\"%d-%m-%Y\")\n",
    "emp_df[\"D.O.J\"].info()"
   ]
  },
  {
   "cell_type": "markdown",
   "id": "fdff1584-e7bd-48d0-a23a-63baa8c2a141",
   "metadata": {},
   "source": [
    "## Duplicate Data"
   ]
  },
  {
   "cell_type": "markdown",
   "id": "4b28d973-8ba0-455a-9ae0-04fb0cc852f6",
   "metadata": {},
   "source": [
    "### Fetch Duplicates"
   ]
  },
  {
   "cell_type": "code",
   "execution_count": 5,
   "id": "08e7d526-60c0-4d90-86ec-6bc0d22bdab2",
   "metadata": {},
   "outputs": [
    {
     "data": {
      "text/plain": [
       "0    False\n",
       "1    False\n",
       "2    False\n",
       "3    False\n",
       "4    False\n",
       "5     True\n",
       "dtype: bool"
      ]
     },
     "execution_count": 5,
     "metadata": {},
     "output_type": "execute_result"
    }
   ],
   "source": [
    "fltr = emp_df.duplicated()\n",
    "fltr"
   ]
  },
  {
   "cell_type": "code",
   "execution_count": 6,
   "id": "e2baa36a-2530-41a1-ada3-387c1b8b6831",
   "metadata": {},
   "outputs": [
    {
     "data": {
      "text/plain": [
       "pandas.core.series.Series"
      ]
     },
     "execution_count": 6,
     "metadata": {},
     "output_type": "execute_result"
    }
   ],
   "source": [
    "type(fltr)"
   ]
  },
  {
   "cell_type": "code",
   "execution_count": 7,
   "id": "bba477a5-0e1b-4a35-aa10-01bcaae97524",
   "metadata": {},
   "outputs": [
    {
     "data": {
      "text/html": [
       "<div>\n",
       "<style scoped>\n",
       "    .dataframe tbody tr th:only-of-type {\n",
       "        vertical-align: middle;\n",
       "    }\n",
       "\n",
       "    .dataframe tbody tr th {\n",
       "        vertical-align: top;\n",
       "    }\n",
       "\n",
       "    .dataframe thead th {\n",
       "        text-align: right;\n",
       "    }\n",
       "</style>\n",
       "<table border=\"1\" class=\"dataframe\">\n",
       "  <thead>\n",
       "    <tr style=\"text-align: right;\">\n",
       "      <th></th>\n",
       "      <th>Name</th>\n",
       "      <th>Age</th>\n",
       "      <th>Role</th>\n",
       "      <th>D.O.J</th>\n",
       "    </tr>\n",
       "  </thead>\n",
       "  <tbody>\n",
       "    <tr>\n",
       "      <th>5</th>\n",
       "      <td>Anna</td>\n",
       "      <td>40</td>\n",
       "      <td>V.P.</td>\n",
       "      <td>2000-08-01</td>\n",
       "    </tr>\n",
       "  </tbody>\n",
       "</table>\n",
       "</div>"
      ],
      "text/plain": [
       "   Name  Age  Role      D.O.J\n",
       "5  Anna   40  V.P. 2000-08-01"
      ]
     },
     "execution_count": 7,
     "metadata": {},
     "output_type": "execute_result"
    }
   ],
   "source": [
    "emp_df[fltr]"
   ]
  },
  {
   "cell_type": "markdown",
   "id": "e834d35a-3984-4683-8e6c-0d21ac93587e",
   "metadata": {},
   "source": [
    "### Delete Duplicates"
   ]
  },
  {
   "cell_type": "markdown",
   "id": "ef9f01cd-4e60-4a5a-9559-78e23fb63322",
   "metadata": {},
   "source": [
    "#### Entire DataFrame"
   ]
  },
  {
   "cell_type": "code",
   "execution_count": 8,
   "id": "878f77a1-bda3-44fe-8227-5e0e6b80743d",
   "metadata": {},
   "outputs": [
    {
     "data": {
      "text/html": [
       "<div>\n",
       "<style scoped>\n",
       "    .dataframe tbody tr th:only-of-type {\n",
       "        vertical-align: middle;\n",
       "    }\n",
       "\n",
       "    .dataframe tbody tr th {\n",
       "        vertical-align: top;\n",
       "    }\n",
       "\n",
       "    .dataframe thead th {\n",
       "        text-align: right;\n",
       "    }\n",
       "</style>\n",
       "<table border=\"1\" class=\"dataframe\">\n",
       "  <thead>\n",
       "    <tr style=\"text-align: right;\">\n",
       "      <th></th>\n",
       "      <th>Name</th>\n",
       "      <th>Age</th>\n",
       "      <th>Role</th>\n",
       "      <th>D.O.J</th>\n",
       "    </tr>\n",
       "  </thead>\n",
       "  <tbody>\n",
       "    <tr>\n",
       "      <th>0</th>\n",
       "      <td>Alex</td>\n",
       "      <td>31</td>\n",
       "      <td>Senior SD</td>\n",
       "      <td>2021-06-01</td>\n",
       "    </tr>\n",
       "    <tr>\n",
       "      <th>1</th>\n",
       "      <td>Ajax</td>\n",
       "      <td>31</td>\n",
       "      <td>Senior SD</td>\n",
       "      <td>2025-01-01</td>\n",
       "    </tr>\n",
       "    <tr>\n",
       "      <th>2</th>\n",
       "      <td>Anna</td>\n",
       "      <td>40</td>\n",
       "      <td>V.P.</td>\n",
       "      <td>2000-08-01</td>\n",
       "    </tr>\n",
       "    <tr>\n",
       "      <th>3</th>\n",
       "      <td>Jane</td>\n",
       "      <td>28</td>\n",
       "      <td>Junior SD</td>\n",
       "      <td>2023-03-01</td>\n",
       "    </tr>\n",
       "    <tr>\n",
       "      <th>4</th>\n",
       "      <td>John</td>\n",
       "      <td>35</td>\n",
       "      <td>Architect</td>\n",
       "      <td>2022-12-01</td>\n",
       "    </tr>\n",
       "  </tbody>\n",
       "</table>\n",
       "</div>"
      ],
      "text/plain": [
       "   Name  Age       Role      D.O.J\n",
       "0  Alex   31  Senior SD 2021-06-01\n",
       "1  Ajax   31  Senior SD 2025-01-01\n",
       "2  Anna   40       V.P. 2000-08-01\n",
       "3  Jane   28  Junior SD 2023-03-01\n",
       "4  John   35  Architect 2022-12-01"
      ]
     },
     "execution_count": 8,
     "metadata": {},
     "output_type": "execute_result"
    }
   ],
   "source": [
    "emp_df.drop_duplicates()"
   ]
  },
  {
   "cell_type": "code",
   "execution_count": 9,
   "id": "0c186f23-a930-4ce7-a24c-c5dc99a8043f",
   "metadata": {},
   "outputs": [],
   "source": [
    "emp_df.drop_duplicates(inplace=True, keep=\"last\")"
   ]
  },
  {
   "cell_type": "markdown",
   "id": "8f6ba752-c864-4e75-93ae-4071ec58b792",
   "metadata": {},
   "source": [
    "#### Subset"
   ]
  },
  {
   "cell_type": "code",
   "execution_count": 10,
   "id": "78805154-b5fc-4d77-af02-38a9d293ffb1",
   "metadata": {},
   "outputs": [
    {
     "data": {
      "text/plain": [
       "Role\n",
       "Senior SD    2\n",
       "Junior SD    1\n",
       "Architect    1\n",
       "V.P.         1\n",
       "Name: count, dtype: int64"
      ]
     },
     "execution_count": 10,
     "metadata": {},
     "output_type": "execute_result"
    }
   ],
   "source": [
    "emp_df[\"Role\"].value_counts()"
   ]
  },
  {
   "cell_type": "code",
   "execution_count": 11,
   "id": "f1eab91e-76ba-4ce6-bd2b-3c36b2368f94",
   "metadata": {},
   "outputs": [
    {
     "data": {
      "text/html": [
       "<div>\n",
       "<style scoped>\n",
       "    .dataframe tbody tr th:only-of-type {\n",
       "        vertical-align: middle;\n",
       "    }\n",
       "\n",
       "    .dataframe tbody tr th {\n",
       "        vertical-align: top;\n",
       "    }\n",
       "\n",
       "    .dataframe thead th {\n",
       "        text-align: right;\n",
       "    }\n",
       "</style>\n",
       "<table border=\"1\" class=\"dataframe\">\n",
       "  <thead>\n",
       "    <tr style=\"text-align: right;\">\n",
       "      <th></th>\n",
       "      <th>Name</th>\n",
       "      <th>Age</th>\n",
       "      <th>Role</th>\n",
       "      <th>D.O.J</th>\n",
       "    </tr>\n",
       "  </thead>\n",
       "  <tbody>\n",
       "    <tr>\n",
       "      <th>0</th>\n",
       "      <td>Alex</td>\n",
       "      <td>31</td>\n",
       "      <td>Senior SD</td>\n",
       "      <td>2021-06-01</td>\n",
       "    </tr>\n",
       "    <tr>\n",
       "      <th>3</th>\n",
       "      <td>Jane</td>\n",
       "      <td>28</td>\n",
       "      <td>Junior SD</td>\n",
       "      <td>2023-03-01</td>\n",
       "    </tr>\n",
       "    <tr>\n",
       "      <th>4</th>\n",
       "      <td>John</td>\n",
       "      <td>35</td>\n",
       "      <td>Architect</td>\n",
       "      <td>2022-12-01</td>\n",
       "    </tr>\n",
       "    <tr>\n",
       "      <th>5</th>\n",
       "      <td>Anna</td>\n",
       "      <td>40</td>\n",
       "      <td>V.P.</td>\n",
       "      <td>2000-08-01</td>\n",
       "    </tr>\n",
       "  </tbody>\n",
       "</table>\n",
       "</div>"
      ],
      "text/plain": [
       "   Name  Age       Role      D.O.J\n",
       "0  Alex   31  Senior SD 2021-06-01\n",
       "3  Jane   28  Junior SD 2023-03-01\n",
       "4  John   35  Architect 2022-12-01\n",
       "5  Anna   40       V.P. 2000-08-01"
      ]
     },
     "execution_count": 11,
     "metadata": {},
     "output_type": "execute_result"
    }
   ],
   "source": [
    "emp_df.drop_duplicates(subset=[\"Role\"])"
   ]
  },
  {
   "cell_type": "code",
   "execution_count": 12,
   "id": "23d7a064-b932-4163-b75d-4f15f64fe4b9",
   "metadata": {},
   "outputs": [
    {
     "data": {
      "text/html": [
       "<div>\n",
       "<style scoped>\n",
       "    .dataframe tbody tr th:only-of-type {\n",
       "        vertical-align: middle;\n",
       "    }\n",
       "\n",
       "    .dataframe tbody tr th {\n",
       "        vertical-align: top;\n",
       "    }\n",
       "\n",
       "    .dataframe thead th {\n",
       "        text-align: right;\n",
       "    }\n",
       "</style>\n",
       "<table border=\"1\" class=\"dataframe\">\n",
       "  <thead>\n",
       "    <tr style=\"text-align: right;\">\n",
       "      <th></th>\n",
       "      <th>Name</th>\n",
       "      <th>Age</th>\n",
       "      <th>Role</th>\n",
       "      <th>D.O.J</th>\n",
       "    </tr>\n",
       "  </thead>\n",
       "  <tbody>\n",
       "    <tr>\n",
       "      <th>1</th>\n",
       "      <td>Ajax</td>\n",
       "      <td>31</td>\n",
       "      <td>Senior SD</td>\n",
       "      <td>2025-01-01</td>\n",
       "    </tr>\n",
       "    <tr>\n",
       "      <th>3</th>\n",
       "      <td>Jane</td>\n",
       "      <td>28</td>\n",
       "      <td>Junior SD</td>\n",
       "      <td>2023-03-01</td>\n",
       "    </tr>\n",
       "    <tr>\n",
       "      <th>4</th>\n",
       "      <td>John</td>\n",
       "      <td>35</td>\n",
       "      <td>Architect</td>\n",
       "      <td>2022-12-01</td>\n",
       "    </tr>\n",
       "    <tr>\n",
       "      <th>5</th>\n",
       "      <td>Anna</td>\n",
       "      <td>40</td>\n",
       "      <td>V.P.</td>\n",
       "      <td>2000-08-01</td>\n",
       "    </tr>\n",
       "  </tbody>\n",
       "</table>\n",
       "</div>"
      ],
      "text/plain": [
       "   Name  Age       Role      D.O.J\n",
       "1  Ajax   31  Senior SD 2025-01-01\n",
       "3  Jane   28  Junior SD 2023-03-01\n",
       "4  John   35  Architect 2022-12-01\n",
       "5  Anna   40       V.P. 2000-08-01"
      ]
     },
     "execution_count": 12,
     "metadata": {},
     "output_type": "execute_result"
    }
   ],
   "source": [
    "emp_df.drop_duplicates(subset=[\"Role\"], keep=\"last\")"
   ]
  },
  {
   "cell_type": "markdown",
   "id": "c922dbfc-07af-4745-aaa2-4aeefbcc4665",
   "metadata": {},
   "source": [
    "## Concatenation"
   ]
  },
  {
   "cell_type": "markdown",
   "id": "2d2ccd1e-981f-4297-b0be-6d759814b589",
   "metadata": {},
   "source": [
    "### Row Concatenation"
   ]
  },
  {
   "cell_type": "markdown",
   "id": "0a970bd6-d66a-46f1-996d-29c04240abe5",
   "metadata": {},
   "source": [
    "#### Insert single row"
   ]
  },
  {
   "cell_type": "code",
   "execution_count": 13,
   "id": "77a8b519-7200-4814-9e5e-ea2f2ae3e339",
   "metadata": {},
   "outputs": [
    {
     "data": {
      "text/html": [
       "<div>\n",
       "<style scoped>\n",
       "    .dataframe tbody tr th:only-of-type {\n",
       "        vertical-align: middle;\n",
       "    }\n",
       "\n",
       "    .dataframe tbody tr th {\n",
       "        vertical-align: top;\n",
       "    }\n",
       "\n",
       "    .dataframe thead th {\n",
       "        text-align: right;\n",
       "    }\n",
       "</style>\n",
       "<table border=\"1\" class=\"dataframe\">\n",
       "  <thead>\n",
       "    <tr style=\"text-align: right;\">\n",
       "      <th></th>\n",
       "      <th>Name</th>\n",
       "      <th>Age</th>\n",
       "      <th>Role</th>\n",
       "      <th>D.O.J</th>\n",
       "    </tr>\n",
       "  </thead>\n",
       "  <tbody>\n",
       "    <tr>\n",
       "      <th>0</th>\n",
       "      <td>Bob</td>\n",
       "      <td>30</td>\n",
       "      <td>Junior SD</td>\n",
       "      <td>01-07-2024</td>\n",
       "    </tr>\n",
       "  </tbody>\n",
       "</table>\n",
       "</div>"
      ],
      "text/plain": [
       "  Name  Age       Role       D.O.J\n",
       "0  Bob   30  Junior SD  01-07-2024"
      ]
     },
     "execution_count": 13,
     "metadata": {},
     "output_type": "execute_result"
    }
   ],
   "source": [
    "# New employee record.\n",
    "new_emp = [\n",
    "    {\n",
    "        \"Name\": \"Bob\",\n",
    "        \"Age\": 30,\n",
    "        \"Role\": \"Junior SD\",\n",
    "        \"D.O.J\": \"01-07-2024\",\n",
    "    }\n",
    "]\n",
    "\n",
    "# Create new DataFrame for new employee record.\n",
    "new_emp_df1 = pd.DataFrame(data=new_emp)\n",
    "new_emp_df1"
   ]
  },
  {
   "cell_type": "markdown",
   "id": "18cdcedc-737e-4359-9505-a2189d59ce7b",
   "metadata": {},
   "source": [
    "Observe that new DataFrame has explicit index `0`"
   ]
  },
  {
   "cell_type": "code",
   "execution_count": 14,
   "id": "5c772fe3-2f8d-4877-a201-47e8abf9bdaf",
   "metadata": {},
   "outputs": [
    {
     "data": {
      "text/html": [
       "<div>\n",
       "<style scoped>\n",
       "    .dataframe tbody tr th:only-of-type {\n",
       "        vertical-align: middle;\n",
       "    }\n",
       "\n",
       "    .dataframe tbody tr th {\n",
       "        vertical-align: top;\n",
       "    }\n",
       "\n",
       "    .dataframe thead th {\n",
       "        text-align: right;\n",
       "    }\n",
       "</style>\n",
       "<table border=\"1\" class=\"dataframe\">\n",
       "  <thead>\n",
       "    <tr style=\"text-align: right;\">\n",
       "      <th></th>\n",
       "      <th>Name</th>\n",
       "      <th>Age</th>\n",
       "      <th>Role</th>\n",
       "      <th>D.O.J</th>\n",
       "    </tr>\n",
       "  </thead>\n",
       "  <tbody>\n",
       "    <tr>\n",
       "      <th>0</th>\n",
       "      <td>Alex</td>\n",
       "      <td>31</td>\n",
       "      <td>Senior SD</td>\n",
       "      <td>2021-06-01 00:00:00</td>\n",
       "    </tr>\n",
       "    <tr>\n",
       "      <th>1</th>\n",
       "      <td>Ajax</td>\n",
       "      <td>31</td>\n",
       "      <td>Senior SD</td>\n",
       "      <td>2025-01-01 00:00:00</td>\n",
       "    </tr>\n",
       "    <tr>\n",
       "      <th>3</th>\n",
       "      <td>Jane</td>\n",
       "      <td>28</td>\n",
       "      <td>Junior SD</td>\n",
       "      <td>2023-03-01 00:00:00</td>\n",
       "    </tr>\n",
       "    <tr>\n",
       "      <th>4</th>\n",
       "      <td>John</td>\n",
       "      <td>35</td>\n",
       "      <td>Architect</td>\n",
       "      <td>2022-12-01 00:00:00</td>\n",
       "    </tr>\n",
       "    <tr>\n",
       "      <th>5</th>\n",
       "      <td>Anna</td>\n",
       "      <td>40</td>\n",
       "      <td>V.P.</td>\n",
       "      <td>2000-08-01 00:00:00</td>\n",
       "    </tr>\n",
       "    <tr>\n",
       "      <th>0</th>\n",
       "      <td>Bob</td>\n",
       "      <td>30</td>\n",
       "      <td>Junior SD</td>\n",
       "      <td>01-07-2024</td>\n",
       "    </tr>\n",
       "  </tbody>\n",
       "</table>\n",
       "</div>"
      ],
      "text/plain": [
       "   Name  Age       Role                D.O.J\n",
       "0  Alex   31  Senior SD  2021-06-01 00:00:00\n",
       "1  Ajax   31  Senior SD  2025-01-01 00:00:00\n",
       "3  Jane   28  Junior SD  2023-03-01 00:00:00\n",
       "4  John   35  Architect  2022-12-01 00:00:00\n",
       "5  Anna   40       V.P.  2000-08-01 00:00:00\n",
       "0   Bob   30  Junior SD           01-07-2024"
      ]
     },
     "execution_count": 14,
     "metadata": {},
     "output_type": "execute_result"
    }
   ],
   "source": [
    "# Concatenate new DataFrame to main DataFrame.\n",
    "emp_df = pd.concat([emp_df, new_emp_df1])\n",
    "emp_df"
   ]
  },
  {
   "cell_type": "markdown",
   "id": "017c5675-071b-45b2-9e68-627d7f8f9b56",
   "metadata": {},
   "source": [
    "> **Note**:\n",
    ">\n",
    "> If `ignore_index` parameter of `concat` method is not set to `True` then explicit indices from both the DataFrames are retained as it is."
   ]
  },
  {
   "cell_type": "markdown",
   "id": "513f58bc-dfde-4400-a60a-38e50ade1cf0",
   "metadata": {},
   "source": [
    "#### Insert multiple rows"
   ]
  },
  {
   "cell_type": "code",
   "execution_count": 15,
   "id": "66ecacbf-9103-4a44-bd0f-dc3f280869de",
   "metadata": {},
   "outputs": [
    {
     "data": {
      "text/html": [
       "<div>\n",
       "<style scoped>\n",
       "    .dataframe tbody tr th:only-of-type {\n",
       "        vertical-align: middle;\n",
       "    }\n",
       "\n",
       "    .dataframe tbody tr th {\n",
       "        vertical-align: top;\n",
       "    }\n",
       "\n",
       "    .dataframe thead th {\n",
       "        text-align: right;\n",
       "    }\n",
       "</style>\n",
       "<table border=\"1\" class=\"dataframe\">\n",
       "  <thead>\n",
       "    <tr style=\"text-align: right;\">\n",
       "      <th></th>\n",
       "      <th>Name</th>\n",
       "      <th>Age</th>\n",
       "      <th>Role</th>\n",
       "      <th>D.O.J</th>\n",
       "    </tr>\n",
       "  </thead>\n",
       "  <tbody>\n",
       "    <tr>\n",
       "      <th>0</th>\n",
       "      <td>David</td>\n",
       "      <td>30</td>\n",
       "      <td>Junior SD</td>\n",
       "      <td>01-07-2024</td>\n",
       "    </tr>\n",
       "    <tr>\n",
       "      <th>1</th>\n",
       "      <td>Karen</td>\n",
       "      <td>33</td>\n",
       "      <td>Associate Architect</td>\n",
       "      <td>01-07-2024</td>\n",
       "    </tr>\n",
       "  </tbody>\n",
       "</table>\n",
       "</div>"
      ],
      "text/plain": [
       "    Name  Age                 Role       D.O.J\n",
       "0  David   30            Junior SD  01-07-2024\n",
       "1  Karen   33  Associate Architect  01-07-2024"
      ]
     },
     "execution_count": 15,
     "metadata": {},
     "output_type": "execute_result"
    }
   ],
   "source": [
    "new_emps = [\n",
    "    [\"David\", 30, \"Junior SD\", \"01-07-2024\"],\n",
    "    [\"Karen\", 33, \"Associate Architect\", \"01-07-2024\"],\n",
    "]\n",
    "column_names = [\"Name\", \"Age\", \"Role\", \"D.O.J\"]\n",
    "\n",
    "new_emp_df2 = pd.DataFrame(data=new_emps, columns=column_names)\n",
    "new_emp_df2"
   ]
  },
  {
   "cell_type": "code",
   "execution_count": 16,
   "id": "dab41ed4-9643-4d80-a5bb-00cea2f8a704",
   "metadata": {},
   "outputs": [
    {
     "data": {
      "text/html": [
       "<div>\n",
       "<style scoped>\n",
       "    .dataframe tbody tr th:only-of-type {\n",
       "        vertical-align: middle;\n",
       "    }\n",
       "\n",
       "    .dataframe tbody tr th {\n",
       "        vertical-align: top;\n",
       "    }\n",
       "\n",
       "    .dataframe thead th {\n",
       "        text-align: right;\n",
       "    }\n",
       "</style>\n",
       "<table border=\"1\" class=\"dataframe\">\n",
       "  <thead>\n",
       "    <tr style=\"text-align: right;\">\n",
       "      <th></th>\n",
       "      <th>Name</th>\n",
       "      <th>Age</th>\n",
       "      <th>Role</th>\n",
       "      <th>D.O.J</th>\n",
       "    </tr>\n",
       "  </thead>\n",
       "  <tbody>\n",
       "    <tr>\n",
       "      <th>0</th>\n",
       "      <td>Alex</td>\n",
       "      <td>31</td>\n",
       "      <td>Senior SD</td>\n",
       "      <td>2021-06-01 00:00:00</td>\n",
       "    </tr>\n",
       "    <tr>\n",
       "      <th>1</th>\n",
       "      <td>Ajax</td>\n",
       "      <td>31</td>\n",
       "      <td>Senior SD</td>\n",
       "      <td>2025-01-01 00:00:00</td>\n",
       "    </tr>\n",
       "    <tr>\n",
       "      <th>2</th>\n",
       "      <td>Jane</td>\n",
       "      <td>28</td>\n",
       "      <td>Junior SD</td>\n",
       "      <td>2023-03-01 00:00:00</td>\n",
       "    </tr>\n",
       "    <tr>\n",
       "      <th>3</th>\n",
       "      <td>John</td>\n",
       "      <td>35</td>\n",
       "      <td>Architect</td>\n",
       "      <td>2022-12-01 00:00:00</td>\n",
       "    </tr>\n",
       "    <tr>\n",
       "      <th>4</th>\n",
       "      <td>Anna</td>\n",
       "      <td>40</td>\n",
       "      <td>V.P.</td>\n",
       "      <td>2000-08-01 00:00:00</td>\n",
       "    </tr>\n",
       "    <tr>\n",
       "      <th>5</th>\n",
       "      <td>Bob</td>\n",
       "      <td>30</td>\n",
       "      <td>Junior SD</td>\n",
       "      <td>01-07-2024</td>\n",
       "    </tr>\n",
       "    <tr>\n",
       "      <th>6</th>\n",
       "      <td>David</td>\n",
       "      <td>30</td>\n",
       "      <td>Junior SD</td>\n",
       "      <td>01-07-2024</td>\n",
       "    </tr>\n",
       "    <tr>\n",
       "      <th>7</th>\n",
       "      <td>Karen</td>\n",
       "      <td>33</td>\n",
       "      <td>Associate Architect</td>\n",
       "      <td>01-07-2024</td>\n",
       "    </tr>\n",
       "  </tbody>\n",
       "</table>\n",
       "</div>"
      ],
      "text/plain": [
       "    Name  Age                 Role                D.O.J\n",
       "0   Alex   31            Senior SD  2021-06-01 00:00:00\n",
       "1   Ajax   31            Senior SD  2025-01-01 00:00:00\n",
       "2   Jane   28            Junior SD  2023-03-01 00:00:00\n",
       "3   John   35            Architect  2022-12-01 00:00:00\n",
       "4   Anna   40                 V.P.  2000-08-01 00:00:00\n",
       "5    Bob   30            Junior SD           01-07-2024\n",
       "6  David   30            Junior SD           01-07-2024\n",
       "7  Karen   33  Associate Architect           01-07-2024"
      ]
     },
     "execution_count": 16,
     "metadata": {},
     "output_type": "execute_result"
    }
   ],
   "source": [
    "# Concatenate new DataFrame to main DataFrame.\n",
    "emp_df = pd.concat([emp_df, new_emp_df2], axis=0, ignore_index=True)\n",
    "emp_df"
   ]
  },
  {
   "cell_type": "markdown",
   "id": "feb2418f-5e05-4cf0-850f-15738b486c86",
   "metadata": {},
   "source": [
    "Check explicit indices"
   ]
  },
  {
   "cell_type": "code",
   "execution_count": 17,
   "id": "ddeb5fa2-b884-438f-b693-d4efdf3f6e37",
   "metadata": {},
   "outputs": [
    {
     "data": {
      "text/plain": [
       "array([0, 1, 2, 3, 4, 5, 6, 7])"
      ]
     },
     "execution_count": 17,
     "metadata": {},
     "output_type": "execute_result"
    }
   ],
   "source": [
    "emp_df.index.values"
   ]
  },
  {
   "cell_type": "markdown",
   "id": "703f79cf-654d-4c84-828c-e4e9d0ded7fc",
   "metadata": {},
   "source": [
    "Check implicit indices"
   ]
  },
  {
   "cell_type": "code",
   "execution_count": 18,
   "id": "d062e6a4-f3d5-4184-af21-df1bd858f118",
   "metadata": {},
   "outputs": [
    {
     "data": {
      "text/plain": [
       "[0, 1, 2, 3, 4, 5, 6, 7]"
      ]
     },
     "execution_count": 18,
     "metadata": {},
     "output_type": "execute_result"
    }
   ],
   "source": [
    "np.where(emp_df.index.values)\n",
    "[emp_df.index.get_loc(exp_idx) for exp_idx in emp_df.index.values]"
   ]
  },
  {
   "cell_type": "markdown",
   "id": "45aadc03-7d8d-4f74-81e1-a1c589a3b277",
   "metadata": {},
   "source": [
    "> **Note**:\n",
    ">\n",
    "> `concat()` method does not have `inplace` parameter."
   ]
  },
  {
   "cell_type": "markdown",
   "id": "4d2a8262-048d-4fc4-9ada-8d203f0dd2fb",
   "metadata": {},
   "source": [
    "#### Typecasting"
   ]
  },
  {
   "cell_type": "markdown",
   "id": "15d4f6fa-2587-4d08-8069-2736ce57296e",
   "metadata": {},
   "source": [
    "##### Before Typecasting"
   ]
  },
  {
   "cell_type": "code",
   "execution_count": 19,
   "id": "709be4cb-4d8a-4329-805e-97d0076e988c",
   "metadata": {},
   "outputs": [
    {
     "name": "stdout",
     "output_type": "stream",
     "text": [
      "<class 'pandas.core.series.Series'>\n",
      "RangeIndex: 8 entries, 0 to 7\n",
      "Series name: D.O.J\n",
      "Non-Null Count  Dtype \n",
      "--------------  ----- \n",
      "8 non-null      object\n",
      "dtypes: object(1)\n",
      "memory usage: 196.0+ bytes\n"
     ]
    }
   ],
   "source": [
    "emp_df[\"D.O.J\"].info()"
   ]
  },
  {
   "cell_type": "code",
   "execution_count": 20,
   "id": "6f192813-a57c-4cc8-b94d-905890709456",
   "metadata": {},
   "outputs": [],
   "source": [
    "emp_df[\"D.O.J\"] = pd.to_datetime(emp_df[\"D.O.J\"], format=\"%d-%m-%Y\")"
   ]
  },
  {
   "cell_type": "markdown",
   "id": "04c497ef-051f-4e3d-9eac-0d082b435291",
   "metadata": {},
   "source": [
    "##### After Typecasting"
   ]
  },
  {
   "cell_type": "code",
   "execution_count": 21,
   "id": "a3766dc5-e0ca-4aa6-90d3-bf20a1642d67",
   "metadata": {},
   "outputs": [
    {
     "name": "stdout",
     "output_type": "stream",
     "text": [
      "<class 'pandas.core.series.Series'>\n",
      "RangeIndex: 8 entries, 0 to 7\n",
      "Series name: D.O.J\n",
      "Non-Null Count  Dtype         \n",
      "--------------  -----         \n",
      "8 non-null      datetime64[ns]\n",
      "dtypes: datetime64[ns](1)\n",
      "memory usage: 196.0 bytes\n"
     ]
    }
   ],
   "source": [
    "emp_df[\"D.O.J\"].info()"
   ]
  },
  {
   "cell_type": "markdown",
   "id": "71c02a86-7d0c-404c-a2a3-4ea9a3994336",
   "metadata": {},
   "source": [
    "### Column Concatenation"
   ]
  },
  {
   "cell_type": "code",
   "execution_count": 22,
   "id": "d6f5233e-13c9-4012-a77c-693eab976583",
   "metadata": {},
   "outputs": [
    {
     "data": {
      "text/html": [
       "<div>\n",
       "<style scoped>\n",
       "    .dataframe tbody tr th:only-of-type {\n",
       "        vertical-align: middle;\n",
       "    }\n",
       "\n",
       "    .dataframe tbody tr th {\n",
       "        vertical-align: top;\n",
       "    }\n",
       "\n",
       "    .dataframe thead th {\n",
       "        text-align: right;\n",
       "    }\n",
       "</style>\n",
       "<table border=\"1\" class=\"dataframe\">\n",
       "  <thead>\n",
       "    <tr style=\"text-align: right;\">\n",
       "      <th></th>\n",
       "      <th>Gender</th>\n",
       "    </tr>\n",
       "  </thead>\n",
       "  <tbody>\n",
       "    <tr>\n",
       "      <th>0</th>\n",
       "      <td>M</td>\n",
       "    </tr>\n",
       "    <tr>\n",
       "      <th>1</th>\n",
       "      <td>M</td>\n",
       "    </tr>\n",
       "    <tr>\n",
       "      <th>2</th>\n",
       "      <td>F</td>\n",
       "    </tr>\n",
       "  </tbody>\n",
       "</table>\n",
       "</div>"
      ],
      "text/plain": [
       "  Gender\n",
       "0      M\n",
       "1      M\n",
       "2      F"
      ]
     },
     "execution_count": 22,
     "metadata": {},
     "output_type": "execute_result"
    }
   ],
   "source": [
    "emp_gender = pd.DataFrame(\n",
    "    data=[\"M\", \"M\", \"F\", \"M\", \"F\", \"M\", \"M\", \"F\"],\n",
    "    columns=[\"Gender\"],\n",
    ")\n",
    "emp_gender.head(3)"
   ]
  },
  {
   "cell_type": "code",
   "execution_count": 23,
   "id": "d07a9f7d-3599-464f-a9ea-c964bd12d528",
   "metadata": {},
   "outputs": [
    {
     "data": {
      "text/html": [
       "<div>\n",
       "<style scoped>\n",
       "    .dataframe tbody tr th:only-of-type {\n",
       "        vertical-align: middle;\n",
       "    }\n",
       "\n",
       "    .dataframe tbody tr th {\n",
       "        vertical-align: top;\n",
       "    }\n",
       "\n",
       "    .dataframe thead th {\n",
       "        text-align: right;\n",
       "    }\n",
       "</style>\n",
       "<table border=\"1\" class=\"dataframe\">\n",
       "  <thead>\n",
       "    <tr style=\"text-align: right;\">\n",
       "      <th></th>\n",
       "      <th>Name</th>\n",
       "      <th>Age</th>\n",
       "      <th>Role</th>\n",
       "      <th>D.O.J</th>\n",
       "      <th>Gender</th>\n",
       "    </tr>\n",
       "  </thead>\n",
       "  <tbody>\n",
       "    <tr>\n",
       "      <th>0</th>\n",
       "      <td>Alex</td>\n",
       "      <td>31</td>\n",
       "      <td>Senior SD</td>\n",
       "      <td>2021-06-01</td>\n",
       "      <td>M</td>\n",
       "    </tr>\n",
       "    <tr>\n",
       "      <th>1</th>\n",
       "      <td>Ajax</td>\n",
       "      <td>31</td>\n",
       "      <td>Senior SD</td>\n",
       "      <td>2025-01-01</td>\n",
       "      <td>M</td>\n",
       "    </tr>\n",
       "    <tr>\n",
       "      <th>2</th>\n",
       "      <td>Jane</td>\n",
       "      <td>28</td>\n",
       "      <td>Junior SD</td>\n",
       "      <td>2023-03-01</td>\n",
       "      <td>F</td>\n",
       "    </tr>\n",
       "    <tr>\n",
       "      <th>3</th>\n",
       "      <td>John</td>\n",
       "      <td>35</td>\n",
       "      <td>Architect</td>\n",
       "      <td>2022-12-01</td>\n",
       "      <td>M</td>\n",
       "    </tr>\n",
       "    <tr>\n",
       "      <th>4</th>\n",
       "      <td>Anna</td>\n",
       "      <td>40</td>\n",
       "      <td>V.P.</td>\n",
       "      <td>2000-08-01</td>\n",
       "      <td>F</td>\n",
       "    </tr>\n",
       "    <tr>\n",
       "      <th>5</th>\n",
       "      <td>Bob</td>\n",
       "      <td>30</td>\n",
       "      <td>Junior SD</td>\n",
       "      <td>2024-07-01</td>\n",
       "      <td>M</td>\n",
       "    </tr>\n",
       "    <tr>\n",
       "      <th>6</th>\n",
       "      <td>David</td>\n",
       "      <td>30</td>\n",
       "      <td>Junior SD</td>\n",
       "      <td>2024-07-01</td>\n",
       "      <td>M</td>\n",
       "    </tr>\n",
       "    <tr>\n",
       "      <th>7</th>\n",
       "      <td>Karen</td>\n",
       "      <td>33</td>\n",
       "      <td>Associate Architect</td>\n",
       "      <td>2024-07-01</td>\n",
       "      <td>F</td>\n",
       "    </tr>\n",
       "  </tbody>\n",
       "</table>\n",
       "</div>"
      ],
      "text/plain": [
       "    Name  Age                 Role      D.O.J Gender\n",
       "0   Alex   31            Senior SD 2021-06-01      M\n",
       "1   Ajax   31            Senior SD 2025-01-01      M\n",
       "2   Jane   28            Junior SD 2023-03-01      F\n",
       "3   John   35            Architect 2022-12-01      M\n",
       "4   Anna   40                 V.P. 2000-08-01      F\n",
       "5    Bob   30            Junior SD 2024-07-01      M\n",
       "6  David   30            Junior SD 2024-07-01      M\n",
       "7  Karen   33  Associate Architect 2024-07-01      F"
      ]
     },
     "execution_count": 23,
     "metadata": {},
     "output_type": "execute_result"
    }
   ],
   "source": [
    "pd.concat([emp_df, emp_gender], axis=1)"
   ]
  },
  {
   "cell_type": "code",
   "execution_count": 24,
   "id": "123cdfb3-39d8-43de-8400-0dc4332b91f9",
   "metadata": {},
   "outputs": [
    {
     "data": {
      "text/html": [
       "<div>\n",
       "<style scoped>\n",
       "    .dataframe tbody tr th:only-of-type {\n",
       "        vertical-align: middle;\n",
       "    }\n",
       "\n",
       "    .dataframe tbody tr th {\n",
       "        vertical-align: top;\n",
       "    }\n",
       "\n",
       "    .dataframe thead th {\n",
       "        text-align: right;\n",
       "    }\n",
       "</style>\n",
       "<table border=\"1\" class=\"dataframe\">\n",
       "  <thead>\n",
       "    <tr style=\"text-align: right;\">\n",
       "      <th></th>\n",
       "      <th>Name</th>\n",
       "      <th>Age</th>\n",
       "      <th>Role</th>\n",
       "      <th>D.O.J</th>\n",
       "      <th>Gender</th>\n",
       "    </tr>\n",
       "  </thead>\n",
       "  <tbody>\n",
       "    <tr>\n",
       "      <th>0</th>\n",
       "      <td>Alex</td>\n",
       "      <td>31</td>\n",
       "      <td>Senior SD</td>\n",
       "      <td>2021-06-01</td>\n",
       "      <td>M</td>\n",
       "    </tr>\n",
       "    <tr>\n",
       "      <th>1</th>\n",
       "      <td>Ajax</td>\n",
       "      <td>31</td>\n",
       "      <td>Senior SD</td>\n",
       "      <td>2025-01-01</td>\n",
       "      <td>M</td>\n",
       "    </tr>\n",
       "    <tr>\n",
       "      <th>2</th>\n",
       "      <td>Jane</td>\n",
       "      <td>28</td>\n",
       "      <td>Junior SD</td>\n",
       "      <td>2023-03-01</td>\n",
       "      <td>F</td>\n",
       "    </tr>\n",
       "    <tr>\n",
       "      <th>3</th>\n",
       "      <td>John</td>\n",
       "      <td>35</td>\n",
       "      <td>Architect</td>\n",
       "      <td>2022-12-01</td>\n",
       "      <td>M</td>\n",
       "    </tr>\n",
       "    <tr>\n",
       "      <th>4</th>\n",
       "      <td>Anna</td>\n",
       "      <td>40</td>\n",
       "      <td>V.P.</td>\n",
       "      <td>2000-08-01</td>\n",
       "      <td>F</td>\n",
       "    </tr>\n",
       "    <tr>\n",
       "      <th>5</th>\n",
       "      <td>Bob</td>\n",
       "      <td>30</td>\n",
       "      <td>Junior SD</td>\n",
       "      <td>2024-07-01</td>\n",
       "      <td>M</td>\n",
       "    </tr>\n",
       "    <tr>\n",
       "      <th>6</th>\n",
       "      <td>David</td>\n",
       "      <td>30</td>\n",
       "      <td>Junior SD</td>\n",
       "      <td>2024-07-01</td>\n",
       "      <td>M</td>\n",
       "    </tr>\n",
       "    <tr>\n",
       "      <th>7</th>\n",
       "      <td>Karen</td>\n",
       "      <td>33</td>\n",
       "      <td>Associate Architect</td>\n",
       "      <td>2024-07-01</td>\n",
       "      <td>F</td>\n",
       "    </tr>\n",
       "  </tbody>\n",
       "</table>\n",
       "</div>"
      ],
      "text/plain": [
       "    Name  Age                 Role      D.O.J Gender\n",
       "0   Alex   31            Senior SD 2021-06-01      M\n",
       "1   Ajax   31            Senior SD 2025-01-01      M\n",
       "2   Jane   28            Junior SD 2023-03-01      F\n",
       "3   John   35            Architect 2022-12-01      M\n",
       "4   Anna   40                 V.P. 2000-08-01      F\n",
       "5    Bob   30            Junior SD 2024-07-01      M\n",
       "6  David   30            Junior SD 2024-07-01      M\n",
       "7  Karen   33  Associate Architect 2024-07-01      F"
      ]
     },
     "execution_count": 24,
     "metadata": {},
     "output_type": "execute_result"
    }
   ],
   "source": [
    "# Concatenate new DataFrame to main DataFrame.\n",
    "emp_df = pd.concat([emp_df, emp_gender], axis=1)\n",
    "emp_df"
   ]
  },
  {
   "cell_type": "markdown",
   "id": "2ba83bab-196b-4c70-8fd4-36bb8938a4b3",
   "metadata": {},
   "source": [
    "## Merging"
   ]
  },
  {
   "cell_type": "markdown",
   "id": "68382882-943e-4176-8ccc-deb74512bb64",
   "metadata": {},
   "source": [
    "Merging is done using Joins"
   ]
  },
  {
   "cell_type": "code",
   "execution_count": null,
   "id": "094905e8-1031-471d-93cd-7c26852ff8b9",
   "metadata": {},
   "outputs": [],
   "source": []
  },
  {
   "cell_type": "code",
   "execution_count": null,
   "id": "9df44f34-9860-41a8-bedf-25bb7dabe755",
   "metadata": {},
   "outputs": [],
   "source": []
  },
  {
   "cell_type": "markdown",
   "id": "47cc125a-dcc6-4134-aca1-dd36882e162d",
   "metadata": {},
   "source": [
    "## Aggregation"
   ]
  },
  {
   "cell_type": "markdown",
   "id": "fda1bab4-147c-4589-b19b-23306dbe9075",
   "metadata": {},
   "source": [
    "### Aggregation functions"
   ]
  },
  {
   "cell_type": "code",
   "execution_count": 25,
   "id": "5417fa35-c2e7-45f7-8465-4478b6d9640f",
   "metadata": {},
   "outputs": [
    {
     "data": {
      "text/html": [
       "<div>\n",
       "<style scoped>\n",
       "    .dataframe tbody tr th:only-of-type {\n",
       "        vertical-align: middle;\n",
       "    }\n",
       "\n",
       "    .dataframe tbody tr th {\n",
       "        vertical-align: top;\n",
       "    }\n",
       "\n",
       "    .dataframe thead th {\n",
       "        text-align: right;\n",
       "    }\n",
       "</style>\n",
       "<table border=\"1\" class=\"dataframe\">\n",
       "  <thead>\n",
       "    <tr style=\"text-align: right;\">\n",
       "      <th></th>\n",
       "      <th>country</th>\n",
       "      <th>year</th>\n",
       "      <th>population</th>\n",
       "      <th>continent</th>\n",
       "      <th>life_exp</th>\n",
       "      <th>gdp_cap</th>\n",
       "    </tr>\n",
       "  </thead>\n",
       "  <tbody>\n",
       "    <tr>\n",
       "      <th>0</th>\n",
       "      <td>Afghanistan</td>\n",
       "      <td>1952</td>\n",
       "      <td>8425333</td>\n",
       "      <td>Asia</td>\n",
       "      <td>28.801</td>\n",
       "      <td>779.445314</td>\n",
       "    </tr>\n",
       "    <tr>\n",
       "      <th>1</th>\n",
       "      <td>Afghanistan</td>\n",
       "      <td>1957</td>\n",
       "      <td>9240934</td>\n",
       "      <td>Asia</td>\n",
       "      <td>30.332</td>\n",
       "      <td>820.853030</td>\n",
       "    </tr>\n",
       "    <tr>\n",
       "      <th>2</th>\n",
       "      <td>Afghanistan</td>\n",
       "      <td>1962</td>\n",
       "      <td>10267083</td>\n",
       "      <td>Asia</td>\n",
       "      <td>31.997</td>\n",
       "      <td>853.100710</td>\n",
       "    </tr>\n",
       "    <tr>\n",
       "      <th>3</th>\n",
       "      <td>Afghanistan</td>\n",
       "      <td>1967</td>\n",
       "      <td>11537966</td>\n",
       "      <td>Asia</td>\n",
       "      <td>34.020</td>\n",
       "      <td>836.197138</td>\n",
       "    </tr>\n",
       "    <tr>\n",
       "      <th>4</th>\n",
       "      <td>Afghanistan</td>\n",
       "      <td>1972</td>\n",
       "      <td>13079460</td>\n",
       "      <td>Asia</td>\n",
       "      <td>36.088</td>\n",
       "      <td>739.981106</td>\n",
       "    </tr>\n",
       "  </tbody>\n",
       "</table>\n",
       "</div>"
      ],
      "text/plain": [
       "       country  year  population continent  life_exp     gdp_cap\n",
       "0  Afghanistan  1952     8425333      Asia    28.801  779.445314\n",
       "1  Afghanistan  1957     9240934      Asia    30.332  820.853030\n",
       "2  Afghanistan  1962    10267083      Asia    31.997  853.100710\n",
       "3  Afghanistan  1967    11537966      Asia    34.020  836.197138\n",
       "4  Afghanistan  1972    13079460      Asia    36.088  739.981106"
      ]
     },
     "execution_count": 25,
     "metadata": {},
     "output_type": "execute_result"
    }
   ],
   "source": [
    "mk_df.head()"
   ]
  },
  {
   "cell_type": "code",
   "execution_count": 26,
   "id": "09ff1ade-e25f-4d9f-9a66-61c5e1a336b9",
   "metadata": {},
   "outputs": [
    {
     "data": {
      "text/plain": [
       "np.float64(59.474439366197174)"
      ]
     },
     "execution_count": 26,
     "metadata": {},
     "output_type": "execute_result"
    }
   ],
   "source": [
    "mk_df[\"life_exp\"].mean()"
   ]
  },
  {
   "cell_type": "code",
   "execution_count": 27,
   "id": "437801c2-70d5-4c03-8f25-4c2e71c45fe6",
   "metadata": {},
   "outputs": [
    {
     "data": {
      "text/plain": [
       "np.float64(101344.44467999999)"
      ]
     },
     "execution_count": 27,
     "metadata": {},
     "output_type": "execute_result"
    }
   ],
   "source": [
    "mk_df[\"life_exp\"].sum()"
   ]
  },
  {
   "cell_type": "code",
   "execution_count": 28,
   "id": "94400687-e22f-4e62-88a2-cb3a93bb68de",
   "metadata": {},
   "outputs": [
    {
     "data": {
      "text/plain": [
       "np.int64(1704)"
      ]
     },
     "execution_count": 28,
     "metadata": {},
     "output_type": "execute_result"
    }
   ],
   "source": [
    "mk_df[\"life_exp\"].count()"
   ]
  },
  {
   "cell_type": "code",
   "execution_count": 29,
   "id": "5cd62069-45b1-4c41-b4c9-ba39942b49df",
   "metadata": {},
   "outputs": [
    {
     "data": {
      "text/plain": [
       "count    1704.000000\n",
       "mean       59.474439\n",
       "std        12.917107\n",
       "min        23.599000\n",
       "25%        48.198000\n",
       "50%        60.712500\n",
       "75%        70.845500\n",
       "max        82.603000\n",
       "Name: life_exp, dtype: float64"
      ]
     },
     "execution_count": 29,
     "metadata": {},
     "output_type": "execute_result"
    }
   ],
   "source": [
    "mk_df[\"life_exp\"].describe()"
   ]
  },
  {
   "cell_type": "markdown",
   "id": "89b58a5c-d6d5-4d08-abfa-6045bbf94399",
   "metadata": {},
   "source": [
    "### Sorting"
   ]
  },
  {
   "cell_type": "markdown",
   "id": "9460785d-be5a-468b-8786-6eecb3f76bc7",
   "metadata": {},
   "source": [
    "#### Sorting by single column"
   ]
  },
  {
   "cell_type": "code",
   "execution_count": 30,
   "id": "1e768813-1307-4256-b320-d93c8fc02e95",
   "metadata": {},
   "outputs": [
    {
     "data": {
      "text/html": [
       "<div>\n",
       "<style scoped>\n",
       "    .dataframe tbody tr th:only-of-type {\n",
       "        vertical-align: middle;\n",
       "    }\n",
       "\n",
       "    .dataframe tbody tr th {\n",
       "        vertical-align: top;\n",
       "    }\n",
       "\n",
       "    .dataframe thead th {\n",
       "        text-align: right;\n",
       "    }\n",
       "</style>\n",
       "<table border=\"1\" class=\"dataframe\">\n",
       "  <thead>\n",
       "    <tr style=\"text-align: right;\">\n",
       "      <th></th>\n",
       "      <th>Name</th>\n",
       "      <th>Age</th>\n",
       "      <th>Role</th>\n",
       "      <th>D.O.J</th>\n",
       "      <th>Gender</th>\n",
       "    </tr>\n",
       "  </thead>\n",
       "  <tbody>\n",
       "    <tr>\n",
       "      <th>2</th>\n",
       "      <td>Jane</td>\n",
       "      <td>28</td>\n",
       "      <td>Junior SD</td>\n",
       "      <td>2023-03-01</td>\n",
       "      <td>F</td>\n",
       "    </tr>\n",
       "    <tr>\n",
       "      <th>5</th>\n",
       "      <td>Bob</td>\n",
       "      <td>30</td>\n",
       "      <td>Junior SD</td>\n",
       "      <td>2024-07-01</td>\n",
       "      <td>M</td>\n",
       "    </tr>\n",
       "    <tr>\n",
       "      <th>6</th>\n",
       "      <td>David</td>\n",
       "      <td>30</td>\n",
       "      <td>Junior SD</td>\n",
       "      <td>2024-07-01</td>\n",
       "      <td>M</td>\n",
       "    </tr>\n",
       "    <tr>\n",
       "      <th>0</th>\n",
       "      <td>Alex</td>\n",
       "      <td>31</td>\n",
       "      <td>Senior SD</td>\n",
       "      <td>2021-06-01</td>\n",
       "      <td>M</td>\n",
       "    </tr>\n",
       "    <tr>\n",
       "      <th>1</th>\n",
       "      <td>Ajax</td>\n",
       "      <td>31</td>\n",
       "      <td>Senior SD</td>\n",
       "      <td>2025-01-01</td>\n",
       "      <td>M</td>\n",
       "    </tr>\n",
       "    <tr>\n",
       "      <th>7</th>\n",
       "      <td>Karen</td>\n",
       "      <td>33</td>\n",
       "      <td>Associate Architect</td>\n",
       "      <td>2024-07-01</td>\n",
       "      <td>F</td>\n",
       "    </tr>\n",
       "    <tr>\n",
       "      <th>3</th>\n",
       "      <td>John</td>\n",
       "      <td>35</td>\n",
       "      <td>Architect</td>\n",
       "      <td>2022-12-01</td>\n",
       "      <td>M</td>\n",
       "    </tr>\n",
       "    <tr>\n",
       "      <th>4</th>\n",
       "      <td>Anna</td>\n",
       "      <td>40</td>\n",
       "      <td>V.P.</td>\n",
       "      <td>2000-08-01</td>\n",
       "      <td>F</td>\n",
       "    </tr>\n",
       "  </tbody>\n",
       "</table>\n",
       "</div>"
      ],
      "text/plain": [
       "    Name  Age                 Role      D.O.J Gender\n",
       "2   Jane   28            Junior SD 2023-03-01      F\n",
       "5    Bob   30            Junior SD 2024-07-01      M\n",
       "6  David   30            Junior SD 2024-07-01      M\n",
       "0   Alex   31            Senior SD 2021-06-01      M\n",
       "1   Ajax   31            Senior SD 2025-01-01      M\n",
       "7  Karen   33  Associate Architect 2024-07-01      F\n",
       "3   John   35            Architect 2022-12-01      M\n",
       "4   Anna   40                 V.P. 2000-08-01      F"
      ]
     },
     "execution_count": 30,
     "metadata": {},
     "output_type": "execute_result"
    }
   ],
   "source": [
    "emp_df.sort_values(by=\"Age\")"
   ]
  },
  {
   "cell_type": "code",
   "execution_count": 31,
   "id": "34e24344-ab6e-4bb3-883b-c77d09bb2fa9",
   "metadata": {},
   "outputs": [
    {
     "data": {
      "text/html": [
       "<div>\n",
       "<style scoped>\n",
       "    .dataframe tbody tr th:only-of-type {\n",
       "        vertical-align: middle;\n",
       "    }\n",
       "\n",
       "    .dataframe tbody tr th {\n",
       "        vertical-align: top;\n",
       "    }\n",
       "\n",
       "    .dataframe thead th {\n",
       "        text-align: right;\n",
       "    }\n",
       "</style>\n",
       "<table border=\"1\" class=\"dataframe\">\n",
       "  <thead>\n",
       "    <tr style=\"text-align: right;\">\n",
       "      <th></th>\n",
       "      <th>Name</th>\n",
       "      <th>Age</th>\n",
       "      <th>Role</th>\n",
       "      <th>D.O.J</th>\n",
       "      <th>Gender</th>\n",
       "    </tr>\n",
       "  </thead>\n",
       "  <tbody>\n",
       "    <tr>\n",
       "      <th>1</th>\n",
       "      <td>Ajax</td>\n",
       "      <td>31</td>\n",
       "      <td>Senior SD</td>\n",
       "      <td>2025-01-01</td>\n",
       "      <td>M</td>\n",
       "    </tr>\n",
       "    <tr>\n",
       "      <th>5</th>\n",
       "      <td>Bob</td>\n",
       "      <td>30</td>\n",
       "      <td>Junior SD</td>\n",
       "      <td>2024-07-01</td>\n",
       "      <td>M</td>\n",
       "    </tr>\n",
       "    <tr>\n",
       "      <th>6</th>\n",
       "      <td>David</td>\n",
       "      <td>30</td>\n",
       "      <td>Junior SD</td>\n",
       "      <td>2024-07-01</td>\n",
       "      <td>M</td>\n",
       "    </tr>\n",
       "    <tr>\n",
       "      <th>7</th>\n",
       "      <td>Karen</td>\n",
       "      <td>33</td>\n",
       "      <td>Associate Architect</td>\n",
       "      <td>2024-07-01</td>\n",
       "      <td>F</td>\n",
       "    </tr>\n",
       "    <tr>\n",
       "      <th>2</th>\n",
       "      <td>Jane</td>\n",
       "      <td>28</td>\n",
       "      <td>Junior SD</td>\n",
       "      <td>2023-03-01</td>\n",
       "      <td>F</td>\n",
       "    </tr>\n",
       "    <tr>\n",
       "      <th>3</th>\n",
       "      <td>John</td>\n",
       "      <td>35</td>\n",
       "      <td>Architect</td>\n",
       "      <td>2022-12-01</td>\n",
       "      <td>M</td>\n",
       "    </tr>\n",
       "    <tr>\n",
       "      <th>0</th>\n",
       "      <td>Alex</td>\n",
       "      <td>31</td>\n",
       "      <td>Senior SD</td>\n",
       "      <td>2021-06-01</td>\n",
       "      <td>M</td>\n",
       "    </tr>\n",
       "    <tr>\n",
       "      <th>4</th>\n",
       "      <td>Anna</td>\n",
       "      <td>40</td>\n",
       "      <td>V.P.</td>\n",
       "      <td>2000-08-01</td>\n",
       "      <td>F</td>\n",
       "    </tr>\n",
       "  </tbody>\n",
       "</table>\n",
       "</div>"
      ],
      "text/plain": [
       "    Name  Age                 Role      D.O.J Gender\n",
       "1   Ajax   31            Senior SD 2025-01-01      M\n",
       "5    Bob   30            Junior SD 2024-07-01      M\n",
       "6  David   30            Junior SD 2024-07-01      M\n",
       "7  Karen   33  Associate Architect 2024-07-01      F\n",
       "2   Jane   28            Junior SD 2023-03-01      F\n",
       "3   John   35            Architect 2022-12-01      M\n",
       "0   Alex   31            Senior SD 2021-06-01      M\n",
       "4   Anna   40                 V.P. 2000-08-01      F"
      ]
     },
     "execution_count": 31,
     "metadata": {},
     "output_type": "execute_result"
    }
   ],
   "source": [
    "emp_df.sort_values(by=\"D.O.J\", ascending=False)"
   ]
  },
  {
   "cell_type": "markdown",
   "id": "c3f449a5-6df5-489a-960d-123963a33604",
   "metadata": {},
   "source": [
    "#### Sorting by multiple columns"
   ]
  },
  {
   "cell_type": "code",
   "execution_count": 32,
   "id": "85536945-35aa-482f-8db6-4a5b923fd55f",
   "metadata": {},
   "outputs": [
    {
     "data": {
      "text/html": [
       "<div>\n",
       "<style scoped>\n",
       "    .dataframe tbody tr th:only-of-type {\n",
       "        vertical-align: middle;\n",
       "    }\n",
       "\n",
       "    .dataframe tbody tr th {\n",
       "        vertical-align: top;\n",
       "    }\n",
       "\n",
       "    .dataframe thead th {\n",
       "        text-align: right;\n",
       "    }\n",
       "</style>\n",
       "<table border=\"1\" class=\"dataframe\">\n",
       "  <thead>\n",
       "    <tr style=\"text-align: right;\">\n",
       "      <th></th>\n",
       "      <th>Name</th>\n",
       "      <th>Age</th>\n",
       "      <th>Role</th>\n",
       "      <th>D.O.J</th>\n",
       "      <th>Gender</th>\n",
       "    </tr>\n",
       "  </thead>\n",
       "  <tbody>\n",
       "    <tr>\n",
       "      <th>2</th>\n",
       "      <td>Jane</td>\n",
       "      <td>28</td>\n",
       "      <td>Junior SD</td>\n",
       "      <td>2023-03-01</td>\n",
       "      <td>F</td>\n",
       "    </tr>\n",
       "    <tr>\n",
       "      <th>7</th>\n",
       "      <td>Karen</td>\n",
       "      <td>33</td>\n",
       "      <td>Associate Architect</td>\n",
       "      <td>2024-07-01</td>\n",
       "      <td>F</td>\n",
       "    </tr>\n",
       "    <tr>\n",
       "      <th>4</th>\n",
       "      <td>Anna</td>\n",
       "      <td>40</td>\n",
       "      <td>V.P.</td>\n",
       "      <td>2000-08-01</td>\n",
       "      <td>F</td>\n",
       "    </tr>\n",
       "    <tr>\n",
       "      <th>5</th>\n",
       "      <td>Bob</td>\n",
       "      <td>30</td>\n",
       "      <td>Junior SD</td>\n",
       "      <td>2024-07-01</td>\n",
       "      <td>M</td>\n",
       "    </tr>\n",
       "    <tr>\n",
       "      <th>6</th>\n",
       "      <td>David</td>\n",
       "      <td>30</td>\n",
       "      <td>Junior SD</td>\n",
       "      <td>2024-07-01</td>\n",
       "      <td>M</td>\n",
       "    </tr>\n",
       "    <tr>\n",
       "      <th>1</th>\n",
       "      <td>Ajax</td>\n",
       "      <td>31</td>\n",
       "      <td>Senior SD</td>\n",
       "      <td>2025-01-01</td>\n",
       "      <td>M</td>\n",
       "    </tr>\n",
       "    <tr>\n",
       "      <th>0</th>\n",
       "      <td>Alex</td>\n",
       "      <td>31</td>\n",
       "      <td>Senior SD</td>\n",
       "      <td>2021-06-01</td>\n",
       "      <td>M</td>\n",
       "    </tr>\n",
       "    <tr>\n",
       "      <th>3</th>\n",
       "      <td>John</td>\n",
       "      <td>35</td>\n",
       "      <td>Architect</td>\n",
       "      <td>2022-12-01</td>\n",
       "      <td>M</td>\n",
       "    </tr>\n",
       "  </tbody>\n",
       "</table>\n",
       "</div>"
      ],
      "text/plain": [
       "    Name  Age                 Role      D.O.J Gender\n",
       "2   Jane   28            Junior SD 2023-03-01      F\n",
       "7  Karen   33  Associate Architect 2024-07-01      F\n",
       "4   Anna   40                 V.P. 2000-08-01      F\n",
       "5    Bob   30            Junior SD 2024-07-01      M\n",
       "6  David   30            Junior SD 2024-07-01      M\n",
       "1   Ajax   31            Senior SD 2025-01-01      M\n",
       "0   Alex   31            Senior SD 2021-06-01      M\n",
       "3   John   35            Architect 2022-12-01      M"
      ]
     },
     "execution_count": 32,
     "metadata": {},
     "output_type": "execute_result"
    }
   ],
   "source": [
    "emp_df.sort_values(\n",
    "    by=[\"Gender\", \"Age\", \"D.O.J\"],\n",
    "    ascending=[True, True, False],\n",
    ")"
   ]
  },
  {
   "cell_type": "markdown",
   "id": "c75ab60b-c165-4634-a83f-f6a575695ef5",
   "metadata": {},
   "source": [
    "> **Note**:\n",
    "> \n",
    "> Setting the parameter `inplace` to `True` in `sort` function will permanently sort the rows w.r.t selected Series in DataFrame."
   ]
  },
  {
   "cell_type": "code",
   "execution_count": null,
   "id": "0db026b6-454c-4ffb-b25d-bd16772b84ad",
   "metadata": {},
   "outputs": [],
   "source": []
  }
 ],
 "metadata": {
  "kernelspec": {
   "display_name": "Python 3 (ipykernel)",
   "language": "python",
   "name": "python3"
  },
  "language_info": {
   "codemirror_mode": {
    "name": "ipython",
    "version": 3
   },
   "file_extension": ".py",
   "mimetype": "text/x-python",
   "name": "python",
   "nbconvert_exporter": "python",
   "pygments_lexer": "ipython3",
   "version": "3.12.6"
  }
 },
 "nbformat": 4,
 "nbformat_minor": 5
}
