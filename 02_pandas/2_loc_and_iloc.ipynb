{
 "cells": [
  {
   "cell_type": "markdown",
   "id": "cdb50127-6bcc-4e5b-925b-f35f2c585de6",
   "metadata": {},
   "source": [
    "## 1 Setup"
   ]
  },
  {
   "cell_type": "markdown",
   "id": "2713001c-5e06-41c5-b47b-f295fc6c4b38",
   "metadata": {},
   "source": [
    "### 1.1 Import Libraries"
   ]
  },
  {
   "cell_type": "code",
   "execution_count": 1,
   "id": "ffcf5e65-54ce-4856-b03f-fd2a7d6dbe50",
   "metadata": {},
   "outputs": [
    {
     "name": "stdout",
     "output_type": "stream",
     "text": [
      "Pandas version: 2.3.0\n"
     ]
    }
   ],
   "source": [
    "from datetime import datetime\n",
    "\n",
    "import pandas as pd\n",
    "\n",
    "print(\"Pandas version:\", pd.__version__)"
   ]
  },
  {
   "cell_type": "markdown",
   "id": "ff905a8b-5cca-4116-bd6f-42ed853e54f9",
   "metadata": {},
   "source": [
    "### 1.2 Import Data"
   ]
  },
  {
   "cell_type": "code",
   "execution_count": 2,
   "id": "080d8de8-a9af-4452-a0f6-4de7ecd7f1e3",
   "metadata": {},
   "outputs": [
    {
     "data": {
      "text/html": [
       "<div>\n",
       "<style scoped>\n",
       "    .dataframe tbody tr th:only-of-type {\n",
       "        vertical-align: middle;\n",
       "    }\n",
       "\n",
       "    .dataframe tbody tr th {\n",
       "        vertical-align: top;\n",
       "    }\n",
       "\n",
       "    .dataframe thead th {\n",
       "        text-align: right;\n",
       "    }\n",
       "</style>\n",
       "<table border=\"1\" class=\"dataframe\">\n",
       "  <thead>\n",
       "    <tr style=\"text-align: right;\">\n",
       "      <th></th>\n",
       "      <th>country</th>\n",
       "      <th>year</th>\n",
       "      <th>population</th>\n",
       "      <th>continent</th>\n",
       "      <th>life_exp</th>\n",
       "      <th>gdp_cap</th>\n",
       "    </tr>\n",
       "  </thead>\n",
       "  <tbody>\n",
       "    <tr>\n",
       "      <th>0</th>\n",
       "      <td>Afghanistan</td>\n",
       "      <td>1952</td>\n",
       "      <td>8425333</td>\n",
       "      <td>Asia</td>\n",
       "      <td>28.801</td>\n",
       "      <td>779.445314</td>\n",
       "    </tr>\n",
       "    <tr>\n",
       "      <th>1</th>\n",
       "      <td>Afghanistan</td>\n",
       "      <td>1957</td>\n",
       "      <td>9240934</td>\n",
       "      <td>Asia</td>\n",
       "      <td>30.332</td>\n",
       "      <td>820.853030</td>\n",
       "    </tr>\n",
       "    <tr>\n",
       "      <th>2</th>\n",
       "      <td>Afghanistan</td>\n",
       "      <td>1962</td>\n",
       "      <td>10267083</td>\n",
       "      <td>Asia</td>\n",
       "      <td>31.997</td>\n",
       "      <td>853.100710</td>\n",
       "    </tr>\n",
       "  </tbody>\n",
       "</table>\n",
       "</div>"
      ],
      "text/plain": [
       "       country  year  population continent  life_exp     gdp_cap\n",
       "0  Afghanistan  1952     8425333      Asia    28.801  779.445314\n",
       "1  Afghanistan  1957     9240934      Asia    30.332  820.853030\n",
       "2  Afghanistan  1962    10267083      Asia    31.997  853.100710"
      ]
     },
     "execution_count": 2,
     "metadata": {},
     "output_type": "execute_result"
    }
   ],
   "source": [
    "mk_df = pd.read_csv(\"data/mckinsey.csv\")\n",
    "mk_df.head(3)"
   ]
  },
  {
   "cell_type": "code",
   "execution_count": 3,
   "id": "d510948c-3e87-46f2-9c29-b9501bf5f5ef",
   "metadata": {},
   "outputs": [
    {
     "data": {
      "text/html": [
       "<div>\n",
       "<style scoped>\n",
       "    .dataframe tbody tr th:only-of-type {\n",
       "        vertical-align: middle;\n",
       "    }\n",
       "\n",
       "    .dataframe tbody tr th {\n",
       "        vertical-align: top;\n",
       "    }\n",
       "\n",
       "    .dataframe thead th {\n",
       "        text-align: right;\n",
       "    }\n",
       "</style>\n",
       "<table border=\"1\" class=\"dataframe\">\n",
       "  <thead>\n",
       "    <tr style=\"text-align: right;\">\n",
       "      <th></th>\n",
       "      <th>Name</th>\n",
       "      <th>Age</th>\n",
       "      <th>Role</th>\n",
       "      <th>DOJ</th>\n",
       "    </tr>\n",
       "  </thead>\n",
       "  <tbody>\n",
       "    <tr>\n",
       "      <th>0</th>\n",
       "      <td>Alex</td>\n",
       "      <td>31</td>\n",
       "      <td>Senior SD</td>\n",
       "      <td>01-06-2021</td>\n",
       "    </tr>\n",
       "    <tr>\n",
       "      <th>1</th>\n",
       "      <td>Ajax</td>\n",
       "      <td>31</td>\n",
       "      <td>Associate Architect</td>\n",
       "      <td>01-01-2025</td>\n",
       "    </tr>\n",
       "    <tr>\n",
       "      <th>2</th>\n",
       "      <td>Jane</td>\n",
       "      <td>28</td>\n",
       "      <td>Junior SD</td>\n",
       "      <td>01-03-2023</td>\n",
       "    </tr>\n",
       "    <tr>\n",
       "      <th>3</th>\n",
       "      <td>John</td>\n",
       "      <td>35</td>\n",
       "      <td>Architect</td>\n",
       "      <td>01-12-2022</td>\n",
       "    </tr>\n",
       "    <tr>\n",
       "      <th>4</th>\n",
       "      <td>Anna</td>\n",
       "      <td>40</td>\n",
       "      <td>V.P.</td>\n",
       "      <td>01-08-2000</td>\n",
       "    </tr>\n",
       "  </tbody>\n",
       "</table>\n",
       "</div>"
      ],
      "text/plain": [
       "   Name  Age                 Role         DOJ\n",
       "0  Alex   31            Senior SD  01-06-2021\n",
       "1  Ajax   31  Associate Architect  01-01-2025\n",
       "2  Jane   28            Junior SD  01-03-2023\n",
       "3  John   35            Architect  01-12-2022\n",
       "4  Anna   40                 V.P.  01-08-2000"
      ]
     },
     "execution_count": 3,
     "metadata": {},
     "output_type": "execute_result"
    }
   ],
   "source": [
    "employee_data = {\n",
    "    \"Name\": [\"Alex\", \"Ajax\", \"Jane\", \"John\", \"Anna\"],\n",
    "    \"Age\": [31, 31, 28, 35, 40],\n",
    "    \"Role\": [\"Senior SD\", \"Associate Architect\", \"Junior SD\", \"Architect\", \"V.P.\"],\n",
    "    \"DOJ\": [\"01-06-2021\", \"01-01-2025\", \"01-03-2023\", \"01-12-2022\", \"01-08-2000\"],\n",
    "}\n",
    "\n",
    "emp_df = pd.DataFrame(data=employee_data)\n",
    "emp_df"
   ]
  },
  {
   "cell_type": "code",
   "execution_count": 4,
   "id": "17ab601d-d5ee-45ae-b652-1496dab5177d",
   "metadata": {},
   "outputs": [
    {
     "data": {
      "text/plain": [
       "(1704, 6)"
      ]
     },
     "execution_count": 4,
     "metadata": {},
     "output_type": "execute_result"
    }
   ],
   "source": [
    "mk_df.shape"
   ]
  },
  {
   "cell_type": "markdown",
   "id": "fb89d546-de88-46b9-a5ef-06d2af2678ab",
   "metadata": {},
   "source": [
    "### 1.3 Update Index"
   ]
  },
  {
   "cell_type": "markdown",
   "id": "ef78828e-a6d5-4716-a712-4f1e5820e9fc",
   "metadata": {},
   "source": [
    "#### Mckinskey `DataFrame`"
   ]
  },
  {
   "cell_type": "markdown",
   "id": "1b6f31a9-272a-498c-99fb-f1b6316edc9e",
   "metadata": {},
   "source": [
    "##### Before update"
   ]
  },
  {
   "cell_type": "code",
   "execution_count": 5,
   "id": "72b94301-65ce-48ec-b5da-0a0328981235",
   "metadata": {},
   "outputs": [
    {
     "data": {
      "text/plain": [
       "array([   0,    1,    2, ..., 1701, 1702, 1703], shape=(1704,))"
      ]
     },
     "execution_count": 5,
     "metadata": {},
     "output_type": "execute_result"
    }
   ],
   "source": [
    "mk_df.index.values"
   ]
  },
  {
   "cell_type": "code",
   "execution_count": 6,
   "id": "d30e098b-3f8d-4b74-818b-104fa5d49805",
   "metadata": {},
   "outputs": [],
   "source": [
    "mk_df.index = list(range(1, len(mk_df) + 1))"
   ]
  },
  {
   "cell_type": "markdown",
   "id": "3b489afb-2b99-4fdb-8c8b-ac48e5238f7c",
   "metadata": {},
   "source": [
    "##### After update"
   ]
  },
  {
   "cell_type": "code",
   "execution_count": 7,
   "id": "b6c1eca2-5985-4875-a465-23ccfcd88e26",
   "metadata": {},
   "outputs": [
    {
     "data": {
      "text/plain": [
       "array([   1,    2,    3, ..., 1702, 1703, 1704], shape=(1704,))"
      ]
     },
     "execution_count": 7,
     "metadata": {},
     "output_type": "execute_result"
    }
   ],
   "source": [
    "mk_df.index.values"
   ]
  },
  {
   "cell_type": "markdown",
   "id": "efaf6a1f-4001-4708-873c-c71ff78ef54b",
   "metadata": {},
   "source": [
    "#### Employee `DataFrame`"
   ]
  },
  {
   "cell_type": "markdown",
   "id": "8dd364de-3121-46a6-b8fd-8db0320e180e",
   "metadata": {},
   "source": [
    "##### Before update"
   ]
  },
  {
   "cell_type": "code",
   "execution_count": 8,
   "id": "32ced853-5ca7-451b-a1ca-aedf9b2e721e",
   "metadata": {},
   "outputs": [
    {
     "data": {
      "text/plain": [
       "array([0, 1, 2, 3, 4])"
      ]
     },
     "execution_count": 8,
     "metadata": {},
     "output_type": "execute_result"
    }
   ],
   "source": [
    "emp_df.index.values"
   ]
  },
  {
   "cell_type": "code",
   "execution_count": 9,
   "id": "0f05c6f8-767d-4d3d-8abb-2ccb14454581",
   "metadata": {},
   "outputs": [],
   "source": [
    "emp_df.index = [\"E01\", \"E02\", \"E03\", \"E04\", \"E05\"]"
   ]
  },
  {
   "cell_type": "markdown",
   "id": "72e32c5b-377d-489a-afb6-078540ba53ed",
   "metadata": {},
   "source": [
    "##### After update"
   ]
  },
  {
   "cell_type": "code",
   "execution_count": 10,
   "id": "d9c1cb34-0894-4705-9e3f-61fb63dd68be",
   "metadata": {},
   "outputs": [
    {
     "data": {
      "text/plain": [
       "array(['E01', 'E02', 'E03', 'E04', 'E05'], dtype=object)"
      ]
     },
     "execution_count": 10,
     "metadata": {},
     "output_type": "execute_result"
    }
   ],
   "source": [
    "emp_df.index.values"
   ]
  },
  {
   "cell_type": "markdown",
   "id": "69b85e7e-8512-423a-b2c0-9cf62dfef8d8",
   "metadata": {},
   "source": [
    "## 2 Access Rows"
   ]
  },
  {
   "cell_type": "markdown",
   "id": "8c8536fe-bbef-4d7f-972a-218b78d5da50",
   "metadata": {},
   "source": [
    "### 2.1 The Problem"
   ]
  },
  {
   "cell_type": "markdown",
   "id": "2be12b99-5ad5-44c5-a244-4c8e063b5d81",
   "metadata": {},
   "source": [
    "#### Case #1: Using Single Index"
   ]
  },
  {
   "cell_type": "code",
   "execution_count": 11,
   "id": "55d95db5-c747-44ac-bbfd-88f6ebcf120b",
   "metadata": {},
   "outputs": [
    {
     "name": "stdout",
     "output_type": "stream",
     "text": [
      "KeyError: 1\n"
     ]
    }
   ],
   "source": [
    "try:\n",
    "    mk_df[1]\n",
    "except KeyError as err:\n",
    "    print(\"KeyError:\", err)"
   ]
  },
  {
   "cell_type": "code",
   "execution_count": 12,
   "id": "578a485d-ed1d-4348-9b2f-8db7c98ed56c",
   "metadata": {},
   "outputs": [
    {
     "name": "stdout",
     "output_type": "stream",
     "text": [
      "KeyError: 'E05'\n"
     ]
    }
   ],
   "source": [
    "try:\n",
    "    emp_df[\"E05\"]\n",
    "except KeyError as err:\n",
    "    print(\"KeyError:\", err)"
   ]
  },
  {
   "cell_type": "markdown",
   "id": "f8c2bda1-e50a-45dc-824e-72aa50b6c3ec",
   "metadata": {},
   "source": [
    "#### Case #2: Using Multiple Index"
   ]
  },
  {
   "cell_type": "code",
   "execution_count": 13,
   "id": "5b0373c8-e218-4727-af7d-4a503932a647",
   "metadata": {},
   "outputs": [
    {
     "name": "stdout",
     "output_type": "stream",
     "text": [
      "KeyError: (1, 2, 3)\n"
     ]
    }
   ],
   "source": [
    "try:\n",
    "    mk_df[1, 2, 3]\n",
    "except KeyError as err:\n",
    "    print(\"KeyError:\", err)"
   ]
  },
  {
   "cell_type": "code",
   "execution_count": 14,
   "id": "bd6c5a08-c07c-478d-bb66-ea32966cc0b4",
   "metadata": {},
   "outputs": [
    {
     "name": "stdout",
     "output_type": "stream",
     "text": [
      "KeyError: ('E03', 'E04', 'EO5')\n"
     ]
    }
   ],
   "source": [
    "try:\n",
    "    emp_df[\"E03\", \"E04\", \"EO5\"]\n",
    "except KeyError as err:\n",
    "    print(\"KeyError:\", err)"
   ]
  },
  {
   "cell_type": "markdown",
   "id": "942f82ce-92c5-4174-9057-e15089abe2e8",
   "metadata": {},
   "source": [
    "#### Case #3: Using Slicing"
   ]
  },
  {
   "cell_type": "code",
   "execution_count": 15,
   "id": "bd6ac095-6b92-4e5c-b263-545168df64a4",
   "metadata": {},
   "outputs": [
    {
     "data": {
      "text/html": [
       "<div>\n",
       "<style scoped>\n",
       "    .dataframe tbody tr th:only-of-type {\n",
       "        vertical-align: middle;\n",
       "    }\n",
       "\n",
       "    .dataframe tbody tr th {\n",
       "        vertical-align: top;\n",
       "    }\n",
       "\n",
       "    .dataframe thead th {\n",
       "        text-align: right;\n",
       "    }\n",
       "</style>\n",
       "<table border=\"1\" class=\"dataframe\">\n",
       "  <thead>\n",
       "    <tr style=\"text-align: right;\">\n",
       "      <th></th>\n",
       "      <th>country</th>\n",
       "      <th>year</th>\n",
       "      <th>population</th>\n",
       "      <th>continent</th>\n",
       "      <th>life_exp</th>\n",
       "      <th>gdp_cap</th>\n",
       "    </tr>\n",
       "  </thead>\n",
       "  <tbody>\n",
       "    <tr>\n",
       "      <th>101</th>\n",
       "      <td>Bangladesh</td>\n",
       "      <td>1972</td>\n",
       "      <td>70759295</td>\n",
       "      <td>Asia</td>\n",
       "      <td>45.252</td>\n",
       "      <td>630.233627</td>\n",
       "    </tr>\n",
       "    <tr>\n",
       "      <th>106</th>\n",
       "      <td>Bangladesh</td>\n",
       "      <td>1997</td>\n",
       "      <td>123315288</td>\n",
       "      <td>Asia</td>\n",
       "      <td>59.412</td>\n",
       "      <td>972.770035</td>\n",
       "    </tr>\n",
       "    <tr>\n",
       "      <th>111</th>\n",
       "      <td>Belgium</td>\n",
       "      <td>1962</td>\n",
       "      <td>9218400</td>\n",
       "      <td>Europe</td>\n",
       "      <td>70.250</td>\n",
       "      <td>10991.206760</td>\n",
       "    </tr>\n",
       "  </tbody>\n",
       "</table>\n",
       "</div>"
      ],
      "text/plain": [
       "        country  year  population continent  life_exp       gdp_cap\n",
       "101  Bangladesh  1972    70759295      Asia    45.252    630.233627\n",
       "106  Bangladesh  1997   123315288      Asia    59.412    972.770035\n",
       "111     Belgium  1962     9218400    Europe    70.250  10991.206760"
      ]
     },
     "execution_count": 15,
     "metadata": {},
     "output_type": "execute_result"
    }
   ],
   "source": [
    "mk_df[100:115:5]"
   ]
  },
  {
   "cell_type": "code",
   "execution_count": 16,
   "id": "57c010e5-0878-4a08-ad4f-3196bda63151",
   "metadata": {},
   "outputs": [
    {
     "data": {
      "text/html": [
       "<div>\n",
       "<style scoped>\n",
       "    .dataframe tbody tr th:only-of-type {\n",
       "        vertical-align: middle;\n",
       "    }\n",
       "\n",
       "    .dataframe tbody tr th {\n",
       "        vertical-align: top;\n",
       "    }\n",
       "\n",
       "    .dataframe thead th {\n",
       "        text-align: right;\n",
       "    }\n",
       "</style>\n",
       "<table border=\"1\" class=\"dataframe\">\n",
       "  <thead>\n",
       "    <tr style=\"text-align: right;\">\n",
       "      <th></th>\n",
       "      <th>Name</th>\n",
       "      <th>Age</th>\n",
       "      <th>Role</th>\n",
       "      <th>DOJ</th>\n",
       "    </tr>\n",
       "  </thead>\n",
       "  <tbody>\n",
       "    <tr>\n",
       "      <th>E03</th>\n",
       "      <td>Jane</td>\n",
       "      <td>28</td>\n",
       "      <td>Junior SD</td>\n",
       "      <td>01-03-2023</td>\n",
       "    </tr>\n",
       "    <tr>\n",
       "      <th>E04</th>\n",
       "      <td>John</td>\n",
       "      <td>35</td>\n",
       "      <td>Architect</td>\n",
       "      <td>01-12-2022</td>\n",
       "    </tr>\n",
       "    <tr>\n",
       "      <th>E05</th>\n",
       "      <td>Anna</td>\n",
       "      <td>40</td>\n",
       "      <td>V.P.</td>\n",
       "      <td>01-08-2000</td>\n",
       "    </tr>\n",
       "  </tbody>\n",
       "</table>\n",
       "</div>"
      ],
      "text/plain": [
       "     Name  Age       Role         DOJ\n",
       "E03  Jane   28  Junior SD  01-03-2023\n",
       "E04  John   35  Architect  01-12-2022\n",
       "E05  Anna   40       V.P.  01-08-2000"
      ]
     },
     "execution_count": 16,
     "metadata": {},
     "output_type": "execute_result"
    }
   ],
   "source": [
    "emp_df[\"E03\":\"EO5\"]"
   ]
  },
  {
   "cell_type": "markdown",
   "id": "db62f754-b471-493d-b9c3-9b0b2642dfc9",
   "metadata": {},
   "source": [
    "### 2.2 Solution"
   ]
  },
  {
   "cell_type": "markdown",
   "id": "5961947d-5cf3-485d-8db8-9bfefa9da295",
   "metadata": {},
   "source": []
  },
  {
   "cell_type": "markdown",
   "id": "aeb9bac3-bfa4-4317-a76e-388e893c3e0e",
   "metadata": {},
   "source": [
    "### 2.3 Using `loc`"
   ]
  },
  {
   "cell_type": "markdown",
   "id": "532964c6-3eea-49bb-bc68-c1ad2b50fb85",
   "metadata": {},
   "source": [
    "#### Case #1: Using Single Index"
   ]
  },
  {
   "cell_type": "code",
   "execution_count": 17,
   "id": "c6bf286f-9c3e-45fe-ae56-80848173ff88",
   "metadata": {},
   "outputs": [
    {
     "data": {
      "text/plain": [
       "country       Afghanistan\n",
       "year                 1952\n",
       "population        8425333\n",
       "continent            Asia\n",
       "life_exp           28.801\n",
       "gdp_cap        779.445314\n",
       "Name: 1, dtype: object"
      ]
     },
     "execution_count": 17,
     "metadata": {},
     "output_type": "execute_result"
    }
   ],
   "source": [
    "mk_df.loc[1]"
   ]
  },
  {
   "cell_type": "code",
   "execution_count": 18,
   "id": "712a987c-a5b2-49dd-8252-deb916ed9832",
   "metadata": {},
   "outputs": [
    {
     "data": {
      "text/plain": [
       "Name          Anna\n",
       "Age             40\n",
       "Role          V.P.\n",
       "DOJ     01-08-2000\n",
       "Name: E05, dtype: object"
      ]
     },
     "execution_count": 18,
     "metadata": {},
     "output_type": "execute_result"
    }
   ],
   "source": [
    "emp_df.loc[\"E05\"]"
   ]
  },
  {
   "cell_type": "markdown",
   "id": "4226f52c-8e02-4117-ac04-150eb5ce156a",
   "metadata": {},
   "source": [
    "#### Case #2: Using Multiple Index"
   ]
  },
  {
   "cell_type": "code",
   "execution_count": 19,
   "id": "aabe8c2a-59d9-4670-a6f3-eb64e1979a95",
   "metadata": {},
   "outputs": [
    {
     "data": {
      "text/html": [
       "<div>\n",
       "<style scoped>\n",
       "    .dataframe tbody tr th:only-of-type {\n",
       "        vertical-align: middle;\n",
       "    }\n",
       "\n",
       "    .dataframe tbody tr th {\n",
       "        vertical-align: top;\n",
       "    }\n",
       "\n",
       "    .dataframe thead th {\n",
       "        text-align: right;\n",
       "    }\n",
       "</style>\n",
       "<table border=\"1\" class=\"dataframe\">\n",
       "  <thead>\n",
       "    <tr style=\"text-align: right;\">\n",
       "      <th></th>\n",
       "      <th>country</th>\n",
       "      <th>year</th>\n",
       "      <th>population</th>\n",
       "      <th>continent</th>\n",
       "      <th>life_exp</th>\n",
       "      <th>gdp_cap</th>\n",
       "    </tr>\n",
       "  </thead>\n",
       "  <tbody>\n",
       "    <tr>\n",
       "      <th>1</th>\n",
       "      <td>Afghanistan</td>\n",
       "      <td>1952</td>\n",
       "      <td>8425333</td>\n",
       "      <td>Asia</td>\n",
       "      <td>28.801</td>\n",
       "      <td>779.445314</td>\n",
       "    </tr>\n",
       "    <tr>\n",
       "      <th>2</th>\n",
       "      <td>Afghanistan</td>\n",
       "      <td>1957</td>\n",
       "      <td>9240934</td>\n",
       "      <td>Asia</td>\n",
       "      <td>30.332</td>\n",
       "      <td>820.853030</td>\n",
       "    </tr>\n",
       "    <tr>\n",
       "      <th>3</th>\n",
       "      <td>Afghanistan</td>\n",
       "      <td>1962</td>\n",
       "      <td>10267083</td>\n",
       "      <td>Asia</td>\n",
       "      <td>31.997</td>\n",
       "      <td>853.100710</td>\n",
       "    </tr>\n",
       "  </tbody>\n",
       "</table>\n",
       "</div>"
      ],
      "text/plain": [
       "       country  year  population continent  life_exp     gdp_cap\n",
       "1  Afghanistan  1952     8425333      Asia    28.801  779.445314\n",
       "2  Afghanistan  1957     9240934      Asia    30.332  820.853030\n",
       "3  Afghanistan  1962    10267083      Asia    31.997  853.100710"
      ]
     },
     "execution_count": 19,
     "metadata": {},
     "output_type": "execute_result"
    }
   ],
   "source": [
    "mk_df.loc[[1, 2, 3]]"
   ]
  },
  {
   "cell_type": "code",
   "execution_count": 20,
   "id": "9b2fd112-fc83-41e5-a298-1be2213f235d",
   "metadata": {},
   "outputs": [
    {
     "data": {
      "text/html": [
       "<div>\n",
       "<style scoped>\n",
       "    .dataframe tbody tr th:only-of-type {\n",
       "        vertical-align: middle;\n",
       "    }\n",
       "\n",
       "    .dataframe tbody tr th {\n",
       "        vertical-align: top;\n",
       "    }\n",
       "\n",
       "    .dataframe thead th {\n",
       "        text-align: right;\n",
       "    }\n",
       "</style>\n",
       "<table border=\"1\" class=\"dataframe\">\n",
       "  <thead>\n",
       "    <tr style=\"text-align: right;\">\n",
       "      <th></th>\n",
       "      <th>Name</th>\n",
       "      <th>Age</th>\n",
       "      <th>Role</th>\n",
       "      <th>DOJ</th>\n",
       "    </tr>\n",
       "  </thead>\n",
       "  <tbody>\n",
       "    <tr>\n",
       "      <th>E03</th>\n",
       "      <td>Jane</td>\n",
       "      <td>28</td>\n",
       "      <td>Junior SD</td>\n",
       "      <td>01-03-2023</td>\n",
       "    </tr>\n",
       "    <tr>\n",
       "      <th>E04</th>\n",
       "      <td>John</td>\n",
       "      <td>35</td>\n",
       "      <td>Architect</td>\n",
       "      <td>01-12-2022</td>\n",
       "    </tr>\n",
       "    <tr>\n",
       "      <th>E05</th>\n",
       "      <td>Anna</td>\n",
       "      <td>40</td>\n",
       "      <td>V.P.</td>\n",
       "      <td>01-08-2000</td>\n",
       "    </tr>\n",
       "  </tbody>\n",
       "</table>\n",
       "</div>"
      ],
      "text/plain": [
       "     Name  Age       Role         DOJ\n",
       "E03  Jane   28  Junior SD  01-03-2023\n",
       "E04  John   35  Architect  01-12-2022\n",
       "E05  Anna   40       V.P.  01-08-2000"
      ]
     },
     "execution_count": 20,
     "metadata": {},
     "output_type": "execute_result"
    }
   ],
   "source": [
    "emp_df.loc[[\"E03\", \"E04\", \"E05\"]]"
   ]
  },
  {
   "cell_type": "markdown",
   "id": "fb406ffd-891b-4b45-8187-0f98888fd0d0",
   "metadata": {},
   "source": [
    "#### Case #3: Using Slicing"
   ]
  },
  {
   "cell_type": "code",
   "execution_count": 21,
   "id": "39d654c8-5ddd-415a-81a6-bed176fcace2",
   "metadata": {},
   "outputs": [
    {
     "data": {
      "text/html": [
       "<div>\n",
       "<style scoped>\n",
       "    .dataframe tbody tr th:only-of-type {\n",
       "        vertical-align: middle;\n",
       "    }\n",
       "\n",
       "    .dataframe tbody tr th {\n",
       "        vertical-align: top;\n",
       "    }\n",
       "\n",
       "    .dataframe thead th {\n",
       "        text-align: right;\n",
       "    }\n",
       "</style>\n",
       "<table border=\"1\" class=\"dataframe\">\n",
       "  <thead>\n",
       "    <tr style=\"text-align: right;\">\n",
       "      <th></th>\n",
       "      <th>country</th>\n",
       "      <th>year</th>\n",
       "      <th>population</th>\n",
       "      <th>continent</th>\n",
       "      <th>life_exp</th>\n",
       "      <th>gdp_cap</th>\n",
       "    </tr>\n",
       "  </thead>\n",
       "  <tbody>\n",
       "    <tr>\n",
       "      <th>100</th>\n",
       "      <td>Bangladesh</td>\n",
       "      <td>1967</td>\n",
       "      <td>62821884</td>\n",
       "      <td>Asia</td>\n",
       "      <td>43.453</td>\n",
       "      <td>721.186086</td>\n",
       "    </tr>\n",
       "    <tr>\n",
       "      <th>105</th>\n",
       "      <td>Bangladesh</td>\n",
       "      <td>1992</td>\n",
       "      <td>113704579</td>\n",
       "      <td>Asia</td>\n",
       "      <td>56.018</td>\n",
       "      <td>837.810164</td>\n",
       "    </tr>\n",
       "    <tr>\n",
       "      <th>110</th>\n",
       "      <td>Belgium</td>\n",
       "      <td>1957</td>\n",
       "      <td>8989111</td>\n",
       "      <td>Europe</td>\n",
       "      <td>69.240</td>\n",
       "      <td>9714.960623</td>\n",
       "    </tr>\n",
       "    <tr>\n",
       "      <th>115</th>\n",
       "      <td>Belgium</td>\n",
       "      <td>1982</td>\n",
       "      <td>9856303</td>\n",
       "      <td>Europe</td>\n",
       "      <td>73.930</td>\n",
       "      <td>20979.845890</td>\n",
       "    </tr>\n",
       "  </tbody>\n",
       "</table>\n",
       "</div>"
      ],
      "text/plain": [
       "        country  year  population continent  life_exp       gdp_cap\n",
       "100  Bangladesh  1967    62821884      Asia    43.453    721.186086\n",
       "105  Bangladesh  1992   113704579      Asia    56.018    837.810164\n",
       "110     Belgium  1957     8989111    Europe    69.240   9714.960623\n",
       "115     Belgium  1982     9856303    Europe    73.930  20979.845890"
      ]
     },
     "execution_count": 21,
     "metadata": {},
     "output_type": "execute_result"
    }
   ],
   "source": [
    "mk_df.loc[100:115:5]"
   ]
  },
  {
   "cell_type": "code",
   "execution_count": 22,
   "id": "5be67ac2-e421-4f3d-91d8-85959c8f1530",
   "metadata": {},
   "outputs": [
    {
     "data": {
      "text/html": [
       "<div>\n",
       "<style scoped>\n",
       "    .dataframe tbody tr th:only-of-type {\n",
       "        vertical-align: middle;\n",
       "    }\n",
       "\n",
       "    .dataframe tbody tr th {\n",
       "        vertical-align: top;\n",
       "    }\n",
       "\n",
       "    .dataframe thead th {\n",
       "        text-align: right;\n",
       "    }\n",
       "</style>\n",
       "<table border=\"1\" class=\"dataframe\">\n",
       "  <thead>\n",
       "    <tr style=\"text-align: right;\">\n",
       "      <th></th>\n",
       "      <th>Name</th>\n",
       "      <th>Age</th>\n",
       "      <th>Role</th>\n",
       "      <th>DOJ</th>\n",
       "    </tr>\n",
       "  </thead>\n",
       "  <tbody>\n",
       "    <tr>\n",
       "      <th>E03</th>\n",
       "      <td>Jane</td>\n",
       "      <td>28</td>\n",
       "      <td>Junior SD</td>\n",
       "      <td>01-03-2023</td>\n",
       "    </tr>\n",
       "    <tr>\n",
       "      <th>E04</th>\n",
       "      <td>John</td>\n",
       "      <td>35</td>\n",
       "      <td>Architect</td>\n",
       "      <td>01-12-2022</td>\n",
       "    </tr>\n",
       "    <tr>\n",
       "      <th>E05</th>\n",
       "      <td>Anna</td>\n",
       "      <td>40</td>\n",
       "      <td>V.P.</td>\n",
       "      <td>01-08-2000</td>\n",
       "    </tr>\n",
       "  </tbody>\n",
       "</table>\n",
       "</div>"
      ],
      "text/plain": [
       "     Name  Age       Role         DOJ\n",
       "E03  Jane   28  Junior SD  01-03-2023\n",
       "E04  John   35  Architect  01-12-2022\n",
       "E05  Anna   40       V.P.  01-08-2000"
      ]
     },
     "execution_count": 22,
     "metadata": {},
     "output_type": "execute_result"
    }
   ],
   "source": [
    "emp_df.loc[\"E03\":\"E05\"]"
   ]
  },
  {
   "cell_type": "markdown",
   "id": "96215e22-e1e1-4fb5-a291-9a48cae953ba",
   "metadata": {},
   "source": [
    "### 2.4 Using `iloc`"
   ]
  },
  {
   "cell_type": "markdown",
   "id": "eda9e94d-fb08-4c30-a261-68369e5938ec",
   "metadata": {},
   "source": [
    "1. Since Implicit index supports negative values `iloc` supports negative value.\n",
    "2. End index is exclusive while slicing."
   ]
  },
  {
   "cell_type": "markdown",
   "id": "cc2663f2-54d0-4f29-9b51-9dac5d2d304d",
   "metadata": {},
   "source": [
    "#### Case #1: Using Single Index"
   ]
  },
  {
   "cell_type": "code",
   "execution_count": 23,
   "id": "838f1528-d219-47ef-b9ef-a00d38f206b7",
   "metadata": {},
   "outputs": [
    {
     "data": {
      "text/plain": [
       "country       Afghanistan\n",
       "year                 1952\n",
       "population        8425333\n",
       "continent            Asia\n",
       "life_exp           28.801\n",
       "gdp_cap        779.445314\n",
       "Name: 1, dtype: object"
      ]
     },
     "execution_count": 23,
     "metadata": {},
     "output_type": "execute_result"
    }
   ],
   "source": [
    "mk_df.iloc[0]"
   ]
  },
  {
   "cell_type": "code",
   "execution_count": 24,
   "id": "e63ad131-7016-42c9-8cd5-ab07c4bc434c",
   "metadata": {},
   "outputs": [
    {
     "data": {
      "text/plain": [
       "Name          Anna\n",
       "Age             40\n",
       "Role          V.P.\n",
       "DOJ     01-08-2000\n",
       "Name: E05, dtype: object"
      ]
     },
     "execution_count": 24,
     "metadata": {},
     "output_type": "execute_result"
    }
   ],
   "source": [
    "emp_df.iloc[4]"
   ]
  },
  {
   "cell_type": "markdown",
   "id": "3e12c12b-c481-4441-a82b-26491348882c",
   "metadata": {},
   "source": [
    "#### Case #2: Using Multiple Index"
   ]
  },
  {
   "cell_type": "code",
   "execution_count": 25,
   "id": "f62782b1-4a34-4bd9-b310-0748f7b44a50",
   "metadata": {},
   "outputs": [
    {
     "data": {
      "text/html": [
       "<div>\n",
       "<style scoped>\n",
       "    .dataframe tbody tr th:only-of-type {\n",
       "        vertical-align: middle;\n",
       "    }\n",
       "\n",
       "    .dataframe tbody tr th {\n",
       "        vertical-align: top;\n",
       "    }\n",
       "\n",
       "    .dataframe thead th {\n",
       "        text-align: right;\n",
       "    }\n",
       "</style>\n",
       "<table border=\"1\" class=\"dataframe\">\n",
       "  <thead>\n",
       "    <tr style=\"text-align: right;\">\n",
       "      <th></th>\n",
       "      <th>country</th>\n",
       "      <th>year</th>\n",
       "      <th>population</th>\n",
       "      <th>continent</th>\n",
       "      <th>life_exp</th>\n",
       "      <th>gdp_cap</th>\n",
       "    </tr>\n",
       "  </thead>\n",
       "  <tbody>\n",
       "    <tr>\n",
       "      <th>1</th>\n",
       "      <td>Afghanistan</td>\n",
       "      <td>1952</td>\n",
       "      <td>8425333</td>\n",
       "      <td>Asia</td>\n",
       "      <td>28.801</td>\n",
       "      <td>779.445314</td>\n",
       "    </tr>\n",
       "    <tr>\n",
       "      <th>11</th>\n",
       "      <td>Afghanistan</td>\n",
       "      <td>2002</td>\n",
       "      <td>25268405</td>\n",
       "      <td>Asia</td>\n",
       "      <td>42.129</td>\n",
       "      <td>726.734055</td>\n",
       "    </tr>\n",
       "    <tr>\n",
       "      <th>1704</th>\n",
       "      <td>Zimbabwe</td>\n",
       "      <td>2007</td>\n",
       "      <td>12311143</td>\n",
       "      <td>Africa</td>\n",
       "      <td>43.487</td>\n",
       "      <td>469.709298</td>\n",
       "    </tr>\n",
       "  </tbody>\n",
       "</table>\n",
       "</div>"
      ],
      "text/plain": [
       "          country  year  population continent  life_exp     gdp_cap\n",
       "1     Afghanistan  1952     8425333      Asia    28.801  779.445314\n",
       "11    Afghanistan  2002    25268405      Asia    42.129  726.734055\n",
       "1704     Zimbabwe  2007    12311143    Africa    43.487  469.709298"
      ]
     },
     "execution_count": 25,
     "metadata": {},
     "output_type": "execute_result"
    }
   ],
   "source": [
    "mk_df.iloc[[0, 10, 1703]]"
   ]
  },
  {
   "cell_type": "code",
   "execution_count": 26,
   "id": "9d47d1a0-3374-412c-b82f-40637b9bc91a",
   "metadata": {},
   "outputs": [
    {
     "data": {
      "text/html": [
       "<div>\n",
       "<style scoped>\n",
       "    .dataframe tbody tr th:only-of-type {\n",
       "        vertical-align: middle;\n",
       "    }\n",
       "\n",
       "    .dataframe tbody tr th {\n",
       "        vertical-align: top;\n",
       "    }\n",
       "\n",
       "    .dataframe thead th {\n",
       "        text-align: right;\n",
       "    }\n",
       "</style>\n",
       "<table border=\"1\" class=\"dataframe\">\n",
       "  <thead>\n",
       "    <tr style=\"text-align: right;\">\n",
       "      <th></th>\n",
       "      <th>Name</th>\n",
       "      <th>Age</th>\n",
       "      <th>Role</th>\n",
       "      <th>DOJ</th>\n",
       "    </tr>\n",
       "  </thead>\n",
       "  <tbody>\n",
       "    <tr>\n",
       "      <th>E05</th>\n",
       "      <td>Anna</td>\n",
       "      <td>40</td>\n",
       "      <td>V.P.</td>\n",
       "      <td>01-08-2000</td>\n",
       "    </tr>\n",
       "    <tr>\n",
       "      <th>E02</th>\n",
       "      <td>Ajax</td>\n",
       "      <td>31</td>\n",
       "      <td>Associate Architect</td>\n",
       "      <td>01-01-2025</td>\n",
       "    </tr>\n",
       "    <tr>\n",
       "      <th>E04</th>\n",
       "      <td>John</td>\n",
       "      <td>35</td>\n",
       "      <td>Architect</td>\n",
       "      <td>01-12-2022</td>\n",
       "    </tr>\n",
       "  </tbody>\n",
       "</table>\n",
       "</div>"
      ],
      "text/plain": [
       "     Name  Age                 Role         DOJ\n",
       "E05  Anna   40                 V.P.  01-08-2000\n",
       "E02  Ajax   31  Associate Architect  01-01-2025\n",
       "E04  John   35            Architect  01-12-2022"
      ]
     },
     "execution_count": 26,
     "metadata": {},
     "output_type": "execute_result"
    }
   ],
   "source": [
    "emp_df.iloc[[4, 1, 3]]"
   ]
  },
  {
   "cell_type": "markdown",
   "id": "f6a88058-d33f-4e1d-b070-111edc2fcf19",
   "metadata": {},
   "source": [
    "#### Case #3: Using Slicing"
   ]
  },
  {
   "cell_type": "code",
   "execution_count": 27,
   "id": "1c27467d-b329-48f1-9aa8-faf639d2276b",
   "metadata": {},
   "outputs": [
    {
     "data": {
      "text/html": [
       "<div>\n",
       "<style scoped>\n",
       "    .dataframe tbody tr th:only-of-type {\n",
       "        vertical-align: middle;\n",
       "    }\n",
       "\n",
       "    .dataframe tbody tr th {\n",
       "        vertical-align: top;\n",
       "    }\n",
       "\n",
       "    .dataframe thead th {\n",
       "        text-align: right;\n",
       "    }\n",
       "</style>\n",
       "<table border=\"1\" class=\"dataframe\">\n",
       "  <thead>\n",
       "    <tr style=\"text-align: right;\">\n",
       "      <th></th>\n",
       "      <th>country</th>\n",
       "      <th>year</th>\n",
       "      <th>population</th>\n",
       "      <th>continent</th>\n",
       "      <th>life_exp</th>\n",
       "      <th>gdp_cap</th>\n",
       "    </tr>\n",
       "  </thead>\n",
       "  <tbody>\n",
       "    <tr>\n",
       "      <th>101</th>\n",
       "      <td>Bangladesh</td>\n",
       "      <td>1972</td>\n",
       "      <td>70759295</td>\n",
       "      <td>Asia</td>\n",
       "      <td>45.252</td>\n",
       "      <td>630.233627</td>\n",
       "    </tr>\n",
       "    <tr>\n",
       "      <th>106</th>\n",
       "      <td>Bangladesh</td>\n",
       "      <td>1997</td>\n",
       "      <td>123315288</td>\n",
       "      <td>Asia</td>\n",
       "      <td>59.412</td>\n",
       "      <td>972.770035</td>\n",
       "    </tr>\n",
       "    <tr>\n",
       "      <th>111</th>\n",
       "      <td>Belgium</td>\n",
       "      <td>1962</td>\n",
       "      <td>9218400</td>\n",
       "      <td>Europe</td>\n",
       "      <td>70.250</td>\n",
       "      <td>10991.206760</td>\n",
       "    </tr>\n",
       "  </tbody>\n",
       "</table>\n",
       "</div>"
      ],
      "text/plain": [
       "        country  year  population continent  life_exp       gdp_cap\n",
       "101  Bangladesh  1972    70759295      Asia    45.252    630.233627\n",
       "106  Bangladesh  1997   123315288      Asia    59.412    972.770035\n",
       "111     Belgium  1962     9218400    Europe    70.250  10991.206760"
      ]
     },
     "execution_count": 27,
     "metadata": {},
     "output_type": "execute_result"
    }
   ],
   "source": [
    "mk_df.iloc[100:115:5]"
   ]
  },
  {
   "cell_type": "markdown",
   "id": "6dc37b22-023e-486a-b856-e5bbcd9d2d42",
   "metadata": {},
   "source": [
    "With `iloc` the end index is exclusive and it works on implicit index."
   ]
  },
  {
   "cell_type": "code",
   "execution_count": 28,
   "id": "fe574523-87ea-4a85-b780-68546424b2a6",
   "metadata": {},
   "outputs": [
    {
     "data": {
      "text/html": [
       "<div>\n",
       "<style scoped>\n",
       "    .dataframe tbody tr th:only-of-type {\n",
       "        vertical-align: middle;\n",
       "    }\n",
       "\n",
       "    .dataframe tbody tr th {\n",
       "        vertical-align: top;\n",
       "    }\n",
       "\n",
       "    .dataframe thead th {\n",
       "        text-align: right;\n",
       "    }\n",
       "</style>\n",
       "<table border=\"1\" class=\"dataframe\">\n",
       "  <thead>\n",
       "    <tr style=\"text-align: right;\">\n",
       "      <th></th>\n",
       "      <th>Name</th>\n",
       "      <th>Age</th>\n",
       "      <th>Role</th>\n",
       "      <th>DOJ</th>\n",
       "    </tr>\n",
       "  </thead>\n",
       "  <tbody>\n",
       "    <tr>\n",
       "      <th>E01</th>\n",
       "      <td>Alex</td>\n",
       "      <td>31</td>\n",
       "      <td>Senior SD</td>\n",
       "      <td>01-06-2021</td>\n",
       "    </tr>\n",
       "    <tr>\n",
       "      <th>E02</th>\n",
       "      <td>Ajax</td>\n",
       "      <td>31</td>\n",
       "      <td>Associate Architect</td>\n",
       "      <td>01-01-2025</td>\n",
       "    </tr>\n",
       "    <tr>\n",
       "      <th>E03</th>\n",
       "      <td>Jane</td>\n",
       "      <td>28</td>\n",
       "      <td>Junior SD</td>\n",
       "      <td>01-03-2023</td>\n",
       "    </tr>\n",
       "  </tbody>\n",
       "</table>\n",
       "</div>"
      ],
      "text/plain": [
       "     Name  Age                 Role         DOJ\n",
       "E01  Alex   31            Senior SD  01-06-2021\n",
       "E02  Ajax   31  Associate Architect  01-01-2025\n",
       "E03  Jane   28            Junior SD  01-03-2023"
      ]
     },
     "execution_count": 28,
     "metadata": {},
     "output_type": "execute_result"
    }
   ],
   "source": [
    "emp_df.iloc[0:3]"
   ]
  },
  {
   "cell_type": "markdown",
   "id": "7f2f4720-5b3d-4336-835f-b8bf4491cdcf",
   "metadata": {},
   "source": [
    "### 2.5 Conclusion"
   ]
  },
  {
   "cell_type": "code",
   "execution_count": null,
   "id": "ebcb8f80-f6e5-452a-9680-974a6d38d3d1",
   "metadata": {},
   "outputs": [],
   "source": []
  },
  {
   "cell_type": "markdown",
   "id": "2bf3a9f1-7a2b-4e29-a6f7-7e1100d49c2f",
   "metadata": {},
   "source": [
    "## 3 Access Columns"
   ]
  },
  {
   "cell_type": "markdown",
   "id": "c8404560-d183-4ea3-9a05-4796034b76d0",
   "metadata": {},
   "source": [
    "##### Example #1"
   ]
  },
  {
   "cell_type": "code",
   "execution_count": 29,
   "id": "3a3fdf89-5e6d-4340-9446-77a52621eb2c",
   "metadata": {},
   "outputs": [
    {
     "data": {
      "text/plain": [
       "E01    Alex\n",
       "E02    Ajax\n",
       "E03    Jane\n",
       "E04    John\n",
       "E05    Anna\n",
       "Name: Name, dtype: object"
      ]
     },
     "execution_count": 29,
     "metadata": {},
     "output_type": "execute_result"
    }
   ],
   "source": [
    "emp_df[\"Name\"]"
   ]
  },
  {
   "cell_type": "markdown",
   "id": "344c4a1b-daa3-4abb-bdbc-d2faeceb911d",
   "metadata": {},
   "source": [
    "Explicit row index can be used with Series."
   ]
  },
  {
   "cell_type": "code",
   "execution_count": 30,
   "id": "396d0809-2f17-4874-9628-0a65b4d62d5c",
   "metadata": {},
   "outputs": [
    {
     "data": {
      "text/plain": [
       "'Anna'"
      ]
     },
     "execution_count": 30,
     "metadata": {},
     "output_type": "execute_result"
    }
   ],
   "source": [
    "emp_df[\"Name\"][\"E05\"]"
   ]
  },
  {
   "cell_type": "markdown",
   "id": "80495bcf-2ab0-4b31-b937-dd4360ebd498",
   "metadata": {},
   "source": [
    "##### Example #2"
   ]
  },
  {
   "cell_type": "code",
   "execution_count": 31,
   "id": "6512cf3b-e862-49ac-8011-80d8480ed436",
   "metadata": {},
   "outputs": [
    {
     "data": {
      "text/plain": [
       "1702    Africa\n",
       "1703    Africa\n",
       "1704    Africa\n",
       "Name: continent, dtype: object"
      ]
     },
     "execution_count": 31,
     "metadata": {},
     "output_type": "execute_result"
    }
   ],
   "source": [
    "mk_df[\"continent\"].tail(3)"
   ]
  },
  {
   "cell_type": "markdown",
   "id": "458ff4f1-5fc0-4dcf-90cd-59a0bbfe21c8",
   "metadata": {},
   "source": [
    "Explicit row index can be used with Series."
   ]
  },
  {
   "cell_type": "code",
   "execution_count": 32,
   "id": "85939570-4421-4066-a92a-e838ba64b170",
   "metadata": {},
   "outputs": [
    {
     "data": {
      "text/plain": [
       "'Africa'"
      ]
     },
     "execution_count": 32,
     "metadata": {},
     "output_type": "execute_result"
    }
   ],
   "source": [
    "mk_df[\"continent\"][1702]"
   ]
  },
  {
   "cell_type": "code",
   "execution_count": 33,
   "id": "046e9d6b-02f9-4db5-a617-235e322419c4",
   "metadata": {},
   "outputs": [
    {
     "data": {
      "text/html": [
       "<div>\n",
       "<style scoped>\n",
       "    .dataframe tbody tr th:only-of-type {\n",
       "        vertical-align: middle;\n",
       "    }\n",
       "\n",
       "    .dataframe tbody tr th {\n",
       "        vertical-align: top;\n",
       "    }\n",
       "\n",
       "    .dataframe thead th {\n",
       "        text-align: right;\n",
       "    }\n",
       "</style>\n",
       "<table border=\"1\" class=\"dataframe\">\n",
       "  <thead>\n",
       "    <tr style=\"text-align: right;\">\n",
       "      <th></th>\n",
       "      <th>country</th>\n",
       "      <th>year</th>\n",
       "      <th>population</th>\n",
       "      <th>continent</th>\n",
       "      <th>life_exp</th>\n",
       "      <th>gdp_cap</th>\n",
       "    </tr>\n",
       "  </thead>\n",
       "  <tbody>\n",
       "    <tr>\n",
       "      <th>1</th>\n",
       "      <td>Afghanistan</td>\n",
       "      <td>1952</td>\n",
       "      <td>8425333</td>\n",
       "      <td>Asia</td>\n",
       "      <td>28.801</td>\n",
       "      <td>779.445314</td>\n",
       "    </tr>\n",
       "    <tr>\n",
       "      <th>2</th>\n",
       "      <td>Afghanistan</td>\n",
       "      <td>1957</td>\n",
       "      <td>9240934</td>\n",
       "      <td>Asia</td>\n",
       "      <td>30.332</td>\n",
       "      <td>820.853030</td>\n",
       "    </tr>\n",
       "    <tr>\n",
       "      <th>3</th>\n",
       "      <td>Afghanistan</td>\n",
       "      <td>1962</td>\n",
       "      <td>10267083</td>\n",
       "      <td>Asia</td>\n",
       "      <td>31.997</td>\n",
       "      <td>853.100710</td>\n",
       "    </tr>\n",
       "  </tbody>\n",
       "</table>\n",
       "</div>"
      ],
      "text/plain": [
       "       country  year  population continent  life_exp     gdp_cap\n",
       "1  Afghanistan  1952     8425333      Asia    28.801  779.445314\n",
       "2  Afghanistan  1957     9240934      Asia    30.332  820.853030\n",
       "3  Afghanistan  1962    10267083      Asia    31.997  853.100710"
      ]
     },
     "execution_count": 33,
     "metadata": {},
     "output_type": "execute_result"
    }
   ],
   "source": [
    "mk_df.head(3)"
   ]
  },
  {
   "cell_type": "code",
   "execution_count": 34,
   "id": "0c514488-452c-458e-b2f7-b4303abebf31",
   "metadata": {},
   "outputs": [
    {
     "data": {
      "text/html": [
       "<div>\n",
       "<style scoped>\n",
       "    .dataframe tbody tr th:only-of-type {\n",
       "        vertical-align: middle;\n",
       "    }\n",
       "\n",
       "    .dataframe tbody tr th {\n",
       "        vertical-align: top;\n",
       "    }\n",
       "\n",
       "    .dataframe thead th {\n",
       "        text-align: right;\n",
       "    }\n",
       "</style>\n",
       "<table border=\"1\" class=\"dataframe\">\n",
       "  <thead>\n",
       "    <tr style=\"text-align: right;\">\n",
       "      <th></th>\n",
       "      <th>year</th>\n",
       "      <th>population</th>\n",
       "      <th>continent</th>\n",
       "    </tr>\n",
       "  </thead>\n",
       "  <tbody>\n",
       "    <tr>\n",
       "      <th>1</th>\n",
       "      <td>1952</td>\n",
       "      <td>8425333</td>\n",
       "      <td>Asia</td>\n",
       "    </tr>\n",
       "    <tr>\n",
       "      <th>2</th>\n",
       "      <td>1957</td>\n",
       "      <td>9240934</td>\n",
       "      <td>Asia</td>\n",
       "    </tr>\n",
       "  </tbody>\n",
       "</table>\n",
       "</div>"
      ],
      "text/plain": [
       "   year  population continent\n",
       "1  1952     8425333      Asia\n",
       "2  1957     9240934      Asia"
      ]
     },
     "execution_count": 34,
     "metadata": {},
     "output_type": "execute_result"
    }
   ],
   "source": [
    "mk_df.loc[:2, \"year\":\"continent\"]"
   ]
  },
  {
   "cell_type": "markdown",
   "id": "7d2feb24-7abb-49bc-9d35-7fdcacf500fa",
   "metadata": {},
   "source": [
    "```python\n",
    "pd.Series(['a','b','c'], index=[1,2,2])\n",
    "print(a[2])\n",
    "```"
   ]
  },
  {
   "cell_type": "code",
   "execution_count": 35,
   "id": "f617c0c0-3c65-42a7-a7d5-01d286665483",
   "metadata": {},
   "outputs": [
    {
     "data": {
      "text/plain": [
       "'Afghanistan'"
      ]
     },
     "execution_count": 35,
     "metadata": {},
     "output_type": "execute_result"
    }
   ],
   "source": [
    "mk_df[\"country\"][1]"
   ]
  },
  {
   "cell_type": "markdown",
   "id": "7f8f299e-8625-42e7-b2c5-c56025b57d55",
   "metadata": {},
   "source": [
    "#### Using `loc` and `iloc`"
   ]
  },
  {
   "cell_type": "code",
   "execution_count": 36,
   "id": "a42a2da0-5c59-4418-b898-7faa40847b8d",
   "metadata": {},
   "outputs": [],
   "source": [
    "# temp[\"column name 1\"]"
   ]
  },
  {
   "cell_type": "code",
   "execution_count": 37,
   "id": "ba8e5088-263d-41b6-8244-c8e63bd6c1bb",
   "metadata": {},
   "outputs": [],
   "source": [
    "# temp.loc[\"a\"]"
   ]
  },
  {
   "cell_type": "code",
   "execution_count": 38,
   "id": "1e0d755f-567f-49c8-8aa2-dd503e271edc",
   "metadata": {},
   "outputs": [],
   "source": [
    "# temp.loc[[\"a\"]]"
   ]
  },
  {
   "cell_type": "code",
   "execution_count": 39,
   "id": "c797d042-518c-4fff-9f8e-fbc7ce86ed14",
   "metadata": {},
   "outputs": [],
   "source": [
    "# temp.loc[[\"a\", \"c\"]]"
   ]
  },
  {
   "cell_type": "code",
   "execution_count": 40,
   "id": "38a8f0f4-88f1-4106-97c8-e0533b98b5d6",
   "metadata": {},
   "outputs": [],
   "source": [
    "# temp.reset_index(drop=True)"
   ]
  },
  {
   "cell_type": "code",
   "execution_count": 41,
   "id": "007d2022-8574-4a13-be80-32ae11b23be8",
   "metadata": {},
   "outputs": [],
   "source": [
    "# df.loc[9::-3]"
   ]
  },
  {
   "cell_type": "markdown",
   "id": "7caf7923-8539-4014-85d8-64592b2b440d",
   "metadata": {},
   "source": [
    "### 9.3 Access Index"
   ]
  },
  {
   "cell_type": "code",
   "execution_count": 42,
   "id": "67cf5c6a-255c-411c-ba0b-2a4f7a3157dd",
   "metadata": {},
   "outputs": [],
   "source": [
    "# df.head(10)"
   ]
  },
  {
   "cell_type": "code",
   "execution_count": 43,
   "id": "fffc8b69-d6ed-40c6-a625-b990450f3bee",
   "metadata": {},
   "outputs": [],
   "source": [
    "# pd.DataFrame(df, columns=['country', 'year'])\n",
    "# df.iloc[:, 0:2]"
   ]
  },
  {
   "cell_type": "code",
   "execution_count": 44,
   "id": "b902e328-ae5a-4256-a054-13777438172a",
   "metadata": {},
   "outputs": [],
   "source": [
    "# df.nunique()"
   ]
  },
  {
   "cell_type": "code",
   "execution_count": 45,
   "id": "5c8e08af-3f63-48df-a8ec-0d3201d95bf0",
   "metadata": {},
   "outputs": [],
   "source": [
    "# df.iloc[:20]"
   ]
  },
  {
   "cell_type": "markdown",
   "id": "704f7abd-3842-42c7-9a3a-29b249ae259a",
   "metadata": {},
   "source": [
    "## Insert"
   ]
  },
  {
   "cell_type": "code",
   "execution_count": 46,
   "id": "28ee17a4-0147-4a4d-822b-29d5eb4ec625",
   "metadata": {},
   "outputs": [
    {
     "data": {
      "text/html": [
       "<div>\n",
       "<style scoped>\n",
       "    .dataframe tbody tr th:only-of-type {\n",
       "        vertical-align: middle;\n",
       "    }\n",
       "\n",
       "    .dataframe tbody tr th {\n",
       "        vertical-align: top;\n",
       "    }\n",
       "\n",
       "    .dataframe thead th {\n",
       "        text-align: right;\n",
       "    }\n",
       "</style>\n",
       "<table border=\"1\" class=\"dataframe\">\n",
       "  <thead>\n",
       "    <tr style=\"text-align: right;\">\n",
       "      <th></th>\n",
       "      <th>Name</th>\n",
       "      <th>Age</th>\n",
       "      <th>Role</th>\n",
       "      <th>DOJ</th>\n",
       "    </tr>\n",
       "  </thead>\n",
       "  <tbody>\n",
       "    <tr>\n",
       "      <th>E01</th>\n",
       "      <td>Alex</td>\n",
       "      <td>31</td>\n",
       "      <td>Senior SD</td>\n",
       "      <td>01-06-2021</td>\n",
       "    </tr>\n",
       "    <tr>\n",
       "      <th>E02</th>\n",
       "      <td>Ajax</td>\n",
       "      <td>31</td>\n",
       "      <td>Associate Architect</td>\n",
       "      <td>01-01-2025</td>\n",
       "    </tr>\n",
       "    <tr>\n",
       "      <th>E03</th>\n",
       "      <td>Jane</td>\n",
       "      <td>28</td>\n",
       "      <td>Junior SD</td>\n",
       "      <td>01-03-2023</td>\n",
       "    </tr>\n",
       "    <tr>\n",
       "      <th>E04</th>\n",
       "      <td>John</td>\n",
       "      <td>35</td>\n",
       "      <td>Architect</td>\n",
       "      <td>01-12-2022</td>\n",
       "    </tr>\n",
       "    <tr>\n",
       "      <th>E05</th>\n",
       "      <td>Anna</td>\n",
       "      <td>40</td>\n",
       "      <td>V.P.</td>\n",
       "      <td>01-08-2000</td>\n",
       "    </tr>\n",
       "  </tbody>\n",
       "</table>\n",
       "</div>"
      ],
      "text/plain": [
       "     Name  Age                 Role         DOJ\n",
       "E01  Alex   31            Senior SD  01-06-2021\n",
       "E02  Ajax   31  Associate Architect  01-01-2025\n",
       "E03  Jane   28            Junior SD  01-03-2023\n",
       "E04  John   35            Architect  01-12-2022\n",
       "E05  Anna   40                 V.P.  01-08-2000"
      ]
     },
     "execution_count": 46,
     "metadata": {},
     "output_type": "execute_result"
    }
   ],
   "source": [
    "emp_df"
   ]
  },
  {
   "cell_type": "code",
   "execution_count": 47,
   "id": "fe4c0065-7852-4cb4-b514-5a77c2a3e6c0",
   "metadata": {},
   "outputs": [
    {
     "data": {
      "text/html": [
       "<div>\n",
       "<style scoped>\n",
       "    .dataframe tbody tr th:only-of-type {\n",
       "        vertical-align: middle;\n",
       "    }\n",
       "\n",
       "    .dataframe tbody tr th {\n",
       "        vertical-align: top;\n",
       "    }\n",
       "\n",
       "    .dataframe thead th {\n",
       "        text-align: right;\n",
       "    }\n",
       "</style>\n",
       "<table border=\"1\" class=\"dataframe\">\n",
       "  <thead>\n",
       "    <tr style=\"text-align: right;\">\n",
       "      <th></th>\n",
       "      <th>Name</th>\n",
       "      <th>Age</th>\n",
       "      <th>Role</th>\n",
       "      <th>DOJ</th>\n",
       "    </tr>\n",
       "  </thead>\n",
       "  <tbody>\n",
       "    <tr>\n",
       "      <th>E01</th>\n",
       "      <td>Alex</td>\n",
       "      <td>31</td>\n",
       "      <td>Senior SD</td>\n",
       "      <td>01-06-2021</td>\n",
       "    </tr>\n",
       "    <tr>\n",
       "      <th>E02</th>\n",
       "      <td>Ajax</td>\n",
       "      <td>31</td>\n",
       "      <td>Associate Architect</td>\n",
       "      <td>01-01-2025</td>\n",
       "    </tr>\n",
       "    <tr>\n",
       "      <th>E03</th>\n",
       "      <td>Jane</td>\n",
       "      <td>28</td>\n",
       "      <td>Junior SD</td>\n",
       "      <td>01-03-2023</td>\n",
       "    </tr>\n",
       "    <tr>\n",
       "      <th>E04</th>\n",
       "      <td>John</td>\n",
       "      <td>35</td>\n",
       "      <td>Architect</td>\n",
       "      <td>01-12-2022</td>\n",
       "    </tr>\n",
       "    <tr>\n",
       "      <th>E05</th>\n",
       "      <td>Anna</td>\n",
       "      <td>40</td>\n",
       "      <td>V.P.</td>\n",
       "      <td>01-08-2000</td>\n",
       "    </tr>\n",
       "    <tr>\n",
       "      <th>E06</th>\n",
       "      <td>Bob</td>\n",
       "      <td>30</td>\n",
       "      <td>Junior SD</td>\n",
       "      <td>01-07-2025</td>\n",
       "    </tr>\n",
       "  </tbody>\n",
       "</table>\n",
       "</div>"
      ],
      "text/plain": [
       "     Name  Age                 Role         DOJ\n",
       "E01  Alex   31            Senior SD  01-06-2021\n",
       "E02  Ajax   31  Associate Architect  01-01-2025\n",
       "E03  Jane   28            Junior SD  01-03-2023\n",
       "E04  John   35            Architect  01-12-2022\n",
       "E05  Anna   40                 V.P.  01-08-2000\n",
       "E06   Bob   30            Junior SD  01-07-2025"
      ]
     },
     "execution_count": 47,
     "metadata": {},
     "output_type": "execute_result"
    }
   ],
   "source": [
    "emp_df.loc[\"E06\"] = [\"Bob\", 30, \"Junior SD\", \"01-07-2025\"]\n",
    "emp_df"
   ]
  },
  {
   "cell_type": "code",
   "execution_count": 48,
   "id": "1d381517-d607-4a1e-8d31-dd2b41f1650c",
   "metadata": {},
   "outputs": [
    {
     "name": "stdout",
     "output_type": "stream",
     "text": [
      "IndexError: iloc cannot enlarge its target object\n"
     ]
    }
   ],
   "source": [
    "try:\n",
    "    emp_df.iloc[6] = [\"Kavin\", 30, \"Junior SD\", \"01-07-2025\"]\n",
    "except IndexError as err:\n",
    "    print(\"IndexError:\", err)"
   ]
  },
  {
   "cell_type": "code",
   "execution_count": null,
   "id": "0c7b399b-7b31-4373-bc1e-f4013252b54a",
   "metadata": {},
   "outputs": [],
   "source": []
  }
 ],
 "metadata": {
  "kernelspec": {
   "display_name": "Python 3 (ipykernel)",
   "language": "python",
   "name": "python3"
  },
  "language_info": {
   "codemirror_mode": {
    "name": "ipython",
    "version": 3
   },
   "file_extension": ".py",
   "mimetype": "text/x-python",
   "name": "python",
   "nbconvert_exporter": "python",
   "pygments_lexer": "ipython3",
   "version": "3.12.6"
  }
 },
 "nbformat": 4,
 "nbformat_minor": 5
}
