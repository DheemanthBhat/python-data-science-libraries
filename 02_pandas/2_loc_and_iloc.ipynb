{
 "cells": [
  {
   "cell_type": "markdown",
   "id": "c5d75003-f42a-4c19-b512-84ad438af5bf",
   "metadata": {},
   "source": [
    "## 1 Setup"
   ]
  },
  {
   "cell_type": "markdown",
   "id": "8f9fffae-acf8-4d75-b29a-531f33d7c3fd",
   "metadata": {
    "jp-MarkdownHeadingCollapsed": true
   },
   "source": [
    "### 1.1 Import Libraries"
   ]
  },
  {
   "cell_type": "code",
   "execution_count": 1,
   "id": "ffcf5e65-54ce-4856-b03f-fd2a7d6dbe50",
   "metadata": {},
   "outputs": [
    {
     "name": "stdout",
     "output_type": "stream",
     "text": [
      "Pandas version: 2.3.0\n"
     ]
    }
   ],
   "source": [
    "import numpy as np\n",
    "import pandas as pd\n",
    "\n",
    "print(\"Pandas version:\", pd.__version__)"
   ]
  },
  {
   "cell_type": "markdown",
   "id": "f9b47e79-8c51-47ef-8c07-cc38f66e8a25",
   "metadata": {},
   "source": [
    "### 1.2 Import Data"
   ]
  },
  {
   "cell_type": "markdown",
   "id": "1fe5f26a-d97f-4288-9a78-77c11932923d",
   "metadata": {},
   "source": [
    "#### Mckinsey GDP Dataset"
   ]
  },
  {
   "cell_type": "code",
   "execution_count": 2,
   "id": "080d8de8-a9af-4452-a0f6-4de7ecd7f1e3",
   "metadata": {},
   "outputs": [
    {
     "data": {
      "text/html": [
       "<div>\n",
       "<style scoped>\n",
       "    .dataframe tbody tr th:only-of-type {\n",
       "        vertical-align: middle;\n",
       "    }\n",
       "\n",
       "    .dataframe tbody tr th {\n",
       "        vertical-align: top;\n",
       "    }\n",
       "\n",
       "    .dataframe thead th {\n",
       "        text-align: right;\n",
       "    }\n",
       "</style>\n",
       "<table border=\"1\" class=\"dataframe\">\n",
       "  <thead>\n",
       "    <tr style=\"text-align: right;\">\n",
       "      <th></th>\n",
       "      <th>country</th>\n",
       "      <th>year</th>\n",
       "      <th>population</th>\n",
       "      <th>continent</th>\n",
       "      <th>life_exp</th>\n",
       "      <th>gdp_cap</th>\n",
       "    </tr>\n",
       "  </thead>\n",
       "  <tbody>\n",
       "    <tr>\n",
       "      <th>0</th>\n",
       "      <td>Afghanistan</td>\n",
       "      <td>1952</td>\n",
       "      <td>8425333</td>\n",
       "      <td>Asia</td>\n",
       "      <td>28.801</td>\n",
       "      <td>779.445314</td>\n",
       "    </tr>\n",
       "    <tr>\n",
       "      <th>1</th>\n",
       "      <td>Afghanistan</td>\n",
       "      <td>1957</td>\n",
       "      <td>9240934</td>\n",
       "      <td>Asia</td>\n",
       "      <td>30.332</td>\n",
       "      <td>820.853030</td>\n",
       "    </tr>\n",
       "    <tr>\n",
       "      <th>2</th>\n",
       "      <td>Afghanistan</td>\n",
       "      <td>1962</td>\n",
       "      <td>10267083</td>\n",
       "      <td>Asia</td>\n",
       "      <td>31.997</td>\n",
       "      <td>853.100710</td>\n",
       "    </tr>\n",
       "  </tbody>\n",
       "</table>\n",
       "</div>"
      ],
      "text/plain": [
       "       country  year  population continent  life_exp     gdp_cap\n",
       "0  Afghanistan  1952     8425333      Asia    28.801  779.445314\n",
       "1  Afghanistan  1957     9240934      Asia    30.332  820.853030\n",
       "2  Afghanistan  1962    10267083      Asia    31.997  853.100710"
      ]
     },
     "execution_count": 2,
     "metadata": {},
     "output_type": "execute_result"
    }
   ],
   "source": [
    "mk_df = pd.read_csv(\"data/mckinsey.csv\")\n",
    "mk_df.head(3)"
   ]
  },
  {
   "cell_type": "markdown",
   "id": "db391b26-c463-48ac-9e8f-48229da6a0e6",
   "metadata": {},
   "source": [
    "#### Employees Dataset"
   ]
  },
  {
   "cell_type": "code",
   "execution_count": 3,
   "id": "d510948c-3e87-46f2-9c29-b9501bf5f5ef",
   "metadata": {},
   "outputs": [
    {
     "data": {
      "text/html": [
       "<div>\n",
       "<style scoped>\n",
       "    .dataframe tbody tr th:only-of-type {\n",
       "        vertical-align: middle;\n",
       "    }\n",
       "\n",
       "    .dataframe tbody tr th {\n",
       "        vertical-align: top;\n",
       "    }\n",
       "\n",
       "    .dataframe thead th {\n",
       "        text-align: right;\n",
       "    }\n",
       "</style>\n",
       "<table border=\"1\" class=\"dataframe\">\n",
       "  <thead>\n",
       "    <tr style=\"text-align: right;\">\n",
       "      <th></th>\n",
       "      <th>Name</th>\n",
       "      <th>Age</th>\n",
       "      <th>Role</th>\n",
       "      <th>DOJ</th>\n",
       "    </tr>\n",
       "  </thead>\n",
       "  <tbody>\n",
       "    <tr>\n",
       "      <th>0</th>\n",
       "      <td>Alex</td>\n",
       "      <td>31</td>\n",
       "      <td>Senior SD</td>\n",
       "      <td>01-06-2021</td>\n",
       "    </tr>\n",
       "    <tr>\n",
       "      <th>1</th>\n",
       "      <td>Ajax</td>\n",
       "      <td>31</td>\n",
       "      <td>Associate Architect</td>\n",
       "      <td>01-01-2025</td>\n",
       "    </tr>\n",
       "    <tr>\n",
       "      <th>2</th>\n",
       "      <td>Jane</td>\n",
       "      <td>28</td>\n",
       "      <td>Junior SD</td>\n",
       "      <td>01-03-2023</td>\n",
       "    </tr>\n",
       "    <tr>\n",
       "      <th>3</th>\n",
       "      <td>John</td>\n",
       "      <td>35</td>\n",
       "      <td>Architect</td>\n",
       "      <td>01-12-2022</td>\n",
       "    </tr>\n",
       "    <tr>\n",
       "      <th>4</th>\n",
       "      <td>Anna</td>\n",
       "      <td>40</td>\n",
       "      <td>V.P.</td>\n",
       "      <td>01-08-2000</td>\n",
       "    </tr>\n",
       "  </tbody>\n",
       "</table>\n",
       "</div>"
      ],
      "text/plain": [
       "   Name  Age                 Role         DOJ\n",
       "0  Alex   31            Senior SD  01-06-2021\n",
       "1  Ajax   31  Associate Architect  01-01-2025\n",
       "2  Jane   28            Junior SD  01-03-2023\n",
       "3  John   35            Architect  01-12-2022\n",
       "4  Anna   40                 V.P.  01-08-2000"
      ]
     },
     "execution_count": 3,
     "metadata": {},
     "output_type": "execute_result"
    }
   ],
   "source": [
    "employee_data = {\n",
    "    \"Name\": [\"Alex\", \"Ajax\", \"Jane\", \"John\", \"Anna\"],\n",
    "    \"Age\": [31, 31, 28, 35, 40],\n",
    "    \"Role\": [\"Senior SD\", \"Associate Architect\", \"Junior SD\", \"Architect\", \"V.P.\"],\n",
    "    \"DOJ\": [\"01-06-2021\", \"01-01-2025\", \"01-03-2023\", \"01-12-2022\", \"01-08-2000\"],\n",
    "}\n",
    "\n",
    "emp_df = pd.DataFrame(data=employee_data)\n",
    "emp_df"
   ]
  },
  {
   "cell_type": "markdown",
   "id": "89a65371-2bf5-4215-b055-59029d7dcc16",
   "metadata": {},
   "source": [
    "### 1.3 Update Index"
   ]
  },
  {
   "cell_type": "markdown",
   "id": "cb73cd0b-4545-4692-9398-fb8b9fafe9b7",
   "metadata": {},
   "source": [
    "Before accessing rows using indices lets update index of DataFrame to create distinction between row-explicit index and row-implicit index."
   ]
  },
  {
   "cell_type": "markdown",
   "id": "3d40c245-97c2-41c9-8dca-809c94d90395",
   "metadata": {},
   "source": [
    "#### Mckinskey `DataFrame`"
   ]
  },
  {
   "cell_type": "markdown",
   "id": "53271bec-73e6-483c-947f-11e0e72f8a4a",
   "metadata": {},
   "source": [
    "##### Old Explicit Indices"
   ]
  },
  {
   "cell_type": "markdown",
   "id": "61b92e22-d1f5-4c40-b230-39fe8e349bff",
   "metadata": {},
   "source": [
    "For the `mk_df` DataFrame, old explicit row indices range from 0 to 1703 as seen below."
   ]
  },
  {
   "cell_type": "code",
   "execution_count": 4,
   "id": "02b699be-ecc7-4d98-8182-377ea5a9670e",
   "metadata": {},
   "outputs": [
    {
     "data": {
      "text/plain": [
       "array([   0,    1,    2, ..., 1701, 1702, 1703], shape=(1704,))"
      ]
     },
     "execution_count": 4,
     "metadata": {},
     "output_type": "execute_result"
    }
   ],
   "source": [
    "mk_df.index.values"
   ]
  },
  {
   "cell_type": "code",
   "execution_count": 5,
   "id": "d30e098b-3f8d-4b74-818b-104fa5d49805",
   "metadata": {},
   "outputs": [],
   "source": [
    "mk_df.index = range(1, len(mk_df) + 1)"
   ]
  },
  {
   "cell_type": "markdown",
   "id": "1a6ab9c4-b476-41eb-a960-9587dba39962",
   "metadata": {},
   "source": [
    "##### New Explicit Indices"
   ]
  },
  {
   "cell_type": "markdown",
   "id": "659a4255-15ae-4773-b8c4-ad043886142d",
   "metadata": {},
   "source": [
    "For the `mk_df` DataFrame, new explicit row indices range from 1 to 1704 as seen below."
   ]
  },
  {
   "cell_type": "code",
   "execution_count": 6,
   "id": "d1fdad5c-0888-419e-80a2-a29aea85a600",
   "metadata": {},
   "outputs": [
    {
     "data": {
      "text/plain": [
       "array([   1,    2,    3, ..., 1702, 1703, 1704], shape=(1704,))"
      ]
     },
     "execution_count": 6,
     "metadata": {},
     "output_type": "execute_result"
    }
   ],
   "source": [
    "mk_df.index.values"
   ]
  },
  {
   "cell_type": "markdown",
   "id": "df34f1ad-7a76-4330-b737-5ab8266d5969",
   "metadata": {},
   "source": [
    "#### Employee `DataFrame`"
   ]
  },
  {
   "cell_type": "markdown",
   "id": "22fc6541-4169-4309-8e38-93a604d6b230",
   "metadata": {},
   "source": [
    "Explicit row indices can be strings hence using custom string indices for `emp_df`."
   ]
  },
  {
   "cell_type": "markdown",
   "id": "40b238b9-1519-4472-ac87-8719404d13d4",
   "metadata": {},
   "source": [
    "##### Old Explicit Indices"
   ]
  },
  {
   "cell_type": "code",
   "execution_count": 7,
   "id": "78643495-f49f-4cc3-a731-a7a76bcf3f2c",
   "metadata": {},
   "outputs": [
    {
     "data": {
      "text/plain": [
       "array([0, 1, 2, 3, 4])"
      ]
     },
     "execution_count": 7,
     "metadata": {},
     "output_type": "execute_result"
    }
   ],
   "source": [
    "emp_df.index.values"
   ]
  },
  {
   "cell_type": "code",
   "execution_count": 8,
   "id": "0f05c6f8-767d-4d3d-8abb-2ccb14454581",
   "metadata": {},
   "outputs": [],
   "source": [
    "emp_df.index = [\"E01\", \"E02\", \"E03\", \"E04\", \"E05\"]"
   ]
  },
  {
   "cell_type": "markdown",
   "id": "1a7f487c-d93a-462d-9e2f-a56b4fa4ae25",
   "metadata": {},
   "source": [
    "##### New Explicit Indices"
   ]
  },
  {
   "cell_type": "code",
   "execution_count": 9,
   "id": "5a867b7f-3094-4346-889e-9795b8e169a1",
   "metadata": {},
   "outputs": [
    {
     "data": {
      "text/plain": [
       "array(['E01', 'E02', 'E03', 'E04', 'E05'], dtype=object)"
      ]
     },
     "execution_count": 9,
     "metadata": {},
     "output_type": "execute_result"
    }
   ],
   "source": [
    "emp_df.index.values"
   ]
  },
  {
   "cell_type": "markdown",
   "id": "b789be40-436b-4296-ad7e-270f0f86f5ba",
   "metadata": {},
   "source": [
    "## 2 Implicit vs Explicit Index"
   ]
  },
  {
   "cell_type": "markdown",
   "id": "b46d75ba-3590-4f26-b67a-e65245070190",
   "metadata": {},
   "source": [
    "### 2.1 The Problem"
   ]
  },
  {
   "cell_type": "markdown",
   "id": "3a79396c-8617-4ca5-9b3f-5a09e671860c",
   "metadata": {},
   "source": [
    "#### Case #1: Using Single Index"
   ]
  },
  {
   "cell_type": "code",
   "execution_count": 10,
   "id": "55d95db5-c747-44ac-bbfd-88f6ebcf120b",
   "metadata": {},
   "outputs": [
    {
     "name": "stdout",
     "output_type": "stream",
     "text": [
      "KeyError: 1\n"
     ]
    }
   ],
   "source": [
    "try:\n",
    "    mk_df[1]\n",
    "except KeyError as err:\n",
    "    print(\"KeyError:\", err)"
   ]
  },
  {
   "cell_type": "code",
   "execution_count": 11,
   "id": "578a485d-ed1d-4348-9b2f-8db7c98ed56c",
   "metadata": {},
   "outputs": [
    {
     "name": "stdout",
     "output_type": "stream",
     "text": [
      "KeyError: 'E05'\n"
     ]
    }
   ],
   "source": [
    "try:\n",
    "    emp_df[\"E05\"]\n",
    "except KeyError as err:\n",
    "    print(\"KeyError:\", err)"
   ]
  },
  {
   "cell_type": "markdown",
   "id": "e1a3b93d-cf42-4bba-9bcc-bf687c35cf08",
   "metadata": {},
   "source": [
    "#### Case #2: Using Multiple Index"
   ]
  },
  {
   "cell_type": "code",
   "execution_count": 12,
   "id": "5b0373c8-e218-4727-af7d-4a503932a647",
   "metadata": {},
   "outputs": [
    {
     "name": "stdout",
     "output_type": "stream",
     "text": [
      "KeyError: (1, 2, 3)\n"
     ]
    }
   ],
   "source": [
    "try:\n",
    "    mk_df[1, 2, 3]\n",
    "except KeyError as err:\n",
    "    print(\"KeyError:\", err)"
   ]
  },
  {
   "cell_type": "code",
   "execution_count": 13,
   "id": "bd6c5a08-c07c-478d-bb66-ea32966cc0b4",
   "metadata": {},
   "outputs": [
    {
     "name": "stdout",
     "output_type": "stream",
     "text": [
      "KeyError: ('E03', 'E04', 'EO5')\n"
     ]
    }
   ],
   "source": [
    "try:\n",
    "    emp_df[\"E03\", \"E04\", \"EO5\"]\n",
    "except KeyError as err:\n",
    "    print(\"KeyError:\", err)"
   ]
  },
  {
   "cell_type": "markdown",
   "id": "ccf1d340-7a4e-4ba1-b23c-0eef483d7375",
   "metadata": {},
   "source": [
    "#### Case #3: Using Slicing"
   ]
  },
  {
   "cell_type": "code",
   "execution_count": 14,
   "id": "bd6ac095-6b92-4e5c-b263-545168df64a4",
   "metadata": {},
   "outputs": [
    {
     "data": {
      "text/html": [
       "<div>\n",
       "<style scoped>\n",
       "    .dataframe tbody tr th:only-of-type {\n",
       "        vertical-align: middle;\n",
       "    }\n",
       "\n",
       "    .dataframe tbody tr th {\n",
       "        vertical-align: top;\n",
       "    }\n",
       "\n",
       "    .dataframe thead th {\n",
       "        text-align: right;\n",
       "    }\n",
       "</style>\n",
       "<table border=\"1\" class=\"dataframe\">\n",
       "  <thead>\n",
       "    <tr style=\"text-align: right;\">\n",
       "      <th></th>\n",
       "      <th>country</th>\n",
       "      <th>year</th>\n",
       "      <th>population</th>\n",
       "      <th>continent</th>\n",
       "      <th>life_exp</th>\n",
       "      <th>gdp_cap</th>\n",
       "    </tr>\n",
       "  </thead>\n",
       "  <tbody>\n",
       "    <tr>\n",
       "      <th>101</th>\n",
       "      <td>Bangladesh</td>\n",
       "      <td>1972</td>\n",
       "      <td>70759295</td>\n",
       "      <td>Asia</td>\n",
       "      <td>45.252</td>\n",
       "      <td>630.233627</td>\n",
       "    </tr>\n",
       "    <tr>\n",
       "      <th>106</th>\n",
       "      <td>Bangladesh</td>\n",
       "      <td>1997</td>\n",
       "      <td>123315288</td>\n",
       "      <td>Asia</td>\n",
       "      <td>59.412</td>\n",
       "      <td>972.770035</td>\n",
       "    </tr>\n",
       "    <tr>\n",
       "      <th>111</th>\n",
       "      <td>Belgium</td>\n",
       "      <td>1962</td>\n",
       "      <td>9218400</td>\n",
       "      <td>Europe</td>\n",
       "      <td>70.250</td>\n",
       "      <td>10991.206760</td>\n",
       "    </tr>\n",
       "  </tbody>\n",
       "</table>\n",
       "</div>"
      ],
      "text/plain": [
       "        country  year  population continent  life_exp       gdp_cap\n",
       "101  Bangladesh  1972    70759295      Asia    45.252    630.233627\n",
       "106  Bangladesh  1997   123315288      Asia    59.412    972.770035\n",
       "111     Belgium  1962     9218400    Europe    70.250  10991.206760"
      ]
     },
     "execution_count": 14,
     "metadata": {},
     "output_type": "execute_result"
    }
   ],
   "source": [
    "mk_df[100:115:5]"
   ]
  },
  {
   "cell_type": "code",
   "execution_count": 15,
   "id": "57c010e5-0878-4a08-ad4f-3196bda63151",
   "metadata": {},
   "outputs": [
    {
     "data": {
      "text/html": [
       "<div>\n",
       "<style scoped>\n",
       "    .dataframe tbody tr th:only-of-type {\n",
       "        vertical-align: middle;\n",
       "    }\n",
       "\n",
       "    .dataframe tbody tr th {\n",
       "        vertical-align: top;\n",
       "    }\n",
       "\n",
       "    .dataframe thead th {\n",
       "        text-align: right;\n",
       "    }\n",
       "</style>\n",
       "<table border=\"1\" class=\"dataframe\">\n",
       "  <thead>\n",
       "    <tr style=\"text-align: right;\">\n",
       "      <th></th>\n",
       "      <th>Name</th>\n",
       "      <th>Age</th>\n",
       "      <th>Role</th>\n",
       "      <th>DOJ</th>\n",
       "    </tr>\n",
       "  </thead>\n",
       "  <tbody>\n",
       "    <tr>\n",
       "      <th>E03</th>\n",
       "      <td>Jane</td>\n",
       "      <td>28</td>\n",
       "      <td>Junior SD</td>\n",
       "      <td>01-03-2023</td>\n",
       "    </tr>\n",
       "    <tr>\n",
       "      <th>E04</th>\n",
       "      <td>John</td>\n",
       "      <td>35</td>\n",
       "      <td>Architect</td>\n",
       "      <td>01-12-2022</td>\n",
       "    </tr>\n",
       "    <tr>\n",
       "      <th>E05</th>\n",
       "      <td>Anna</td>\n",
       "      <td>40</td>\n",
       "      <td>V.P.</td>\n",
       "      <td>01-08-2000</td>\n",
       "    </tr>\n",
       "  </tbody>\n",
       "</table>\n",
       "</div>"
      ],
      "text/plain": [
       "     Name  Age       Role         DOJ\n",
       "E03  Jane   28  Junior SD  01-03-2023\n",
       "E04  John   35  Architect  01-12-2022\n",
       "E05  Anna   40       V.P.  01-08-2000"
      ]
     },
     "execution_count": 15,
     "metadata": {},
     "output_type": "execute_result"
    }
   ],
   "source": [
    "emp_df[\"E03\":\"EO5\"]"
   ]
  },
  {
   "cell_type": "markdown",
   "id": "9ca27f47-075f-441e-a412-0faf94c0cb26",
   "metadata": {},
   "source": [
    "### 2.2 Solution"
   ]
  },
  {
   "cell_type": "markdown",
   "id": "264afff0-8805-4613-9468-78ae7aec08fc",
   "metadata": {},
   "source": []
  },
  {
   "cell_type": "markdown",
   "id": "c29cf034-f702-4d5e-a7e6-69647f1c1973",
   "metadata": {},
   "source": [
    "## 3 Access Rows"
   ]
  },
  {
   "cell_type": "markdown",
   "id": "af5dd150-c640-4be8-9429-66f4d37e0a30",
   "metadata": {},
   "source": [
    "### 3.1 Using `loc`"
   ]
  },
  {
   "cell_type": "markdown",
   "id": "75a76308-cafc-4fd1-b5cc-b1cf43219bd7",
   "metadata": {},
   "source": [
    "#### Case #1: Using Single Index"
   ]
  },
  {
   "cell_type": "code",
   "execution_count": 16,
   "id": "c6bf286f-9c3e-45fe-ae56-80848173ff88",
   "metadata": {},
   "outputs": [
    {
     "data": {
      "text/plain": [
       "country       Afghanistan\n",
       "year                 1952\n",
       "population        8425333\n",
       "continent            Asia\n",
       "life_exp           28.801\n",
       "gdp_cap        779.445314\n",
       "Name: 1, dtype: object"
      ]
     },
     "execution_count": 16,
     "metadata": {},
     "output_type": "execute_result"
    }
   ],
   "source": [
    "mk_df.loc[1]"
   ]
  },
  {
   "cell_type": "code",
   "execution_count": 17,
   "id": "712a987c-a5b2-49dd-8252-deb916ed9832",
   "metadata": {},
   "outputs": [
    {
     "data": {
      "text/plain": [
       "Name          Anna\n",
       "Age             40\n",
       "Role          V.P.\n",
       "DOJ     01-08-2000\n",
       "Name: E05, dtype: object"
      ]
     },
     "execution_count": 17,
     "metadata": {},
     "output_type": "execute_result"
    }
   ],
   "source": [
    "emp_df.loc[\"E05\"]"
   ]
  },
  {
   "cell_type": "markdown",
   "id": "48b1a4ec-5175-42a4-bda5-846bc8c5b3ec",
   "metadata": {},
   "source": [
    "#### Case #2: Using Multiple Index"
   ]
  },
  {
   "cell_type": "code",
   "execution_count": 18,
   "id": "aabe8c2a-59d9-4670-a6f3-eb64e1979a95",
   "metadata": {},
   "outputs": [
    {
     "data": {
      "text/html": [
       "<div>\n",
       "<style scoped>\n",
       "    .dataframe tbody tr th:only-of-type {\n",
       "        vertical-align: middle;\n",
       "    }\n",
       "\n",
       "    .dataframe tbody tr th {\n",
       "        vertical-align: top;\n",
       "    }\n",
       "\n",
       "    .dataframe thead th {\n",
       "        text-align: right;\n",
       "    }\n",
       "</style>\n",
       "<table border=\"1\" class=\"dataframe\">\n",
       "  <thead>\n",
       "    <tr style=\"text-align: right;\">\n",
       "      <th></th>\n",
       "      <th>country</th>\n",
       "      <th>year</th>\n",
       "      <th>population</th>\n",
       "      <th>continent</th>\n",
       "      <th>life_exp</th>\n",
       "      <th>gdp_cap</th>\n",
       "    </tr>\n",
       "  </thead>\n",
       "  <tbody>\n",
       "    <tr>\n",
       "      <th>1</th>\n",
       "      <td>Afghanistan</td>\n",
       "      <td>1952</td>\n",
       "      <td>8425333</td>\n",
       "      <td>Asia</td>\n",
       "      <td>28.801</td>\n",
       "      <td>779.445314</td>\n",
       "    </tr>\n",
       "    <tr>\n",
       "      <th>2</th>\n",
       "      <td>Afghanistan</td>\n",
       "      <td>1957</td>\n",
       "      <td>9240934</td>\n",
       "      <td>Asia</td>\n",
       "      <td>30.332</td>\n",
       "      <td>820.853030</td>\n",
       "    </tr>\n",
       "    <tr>\n",
       "      <th>3</th>\n",
       "      <td>Afghanistan</td>\n",
       "      <td>1962</td>\n",
       "      <td>10267083</td>\n",
       "      <td>Asia</td>\n",
       "      <td>31.997</td>\n",
       "      <td>853.100710</td>\n",
       "    </tr>\n",
       "  </tbody>\n",
       "</table>\n",
       "</div>"
      ],
      "text/plain": [
       "       country  year  population continent  life_exp     gdp_cap\n",
       "1  Afghanistan  1952     8425333      Asia    28.801  779.445314\n",
       "2  Afghanistan  1957     9240934      Asia    30.332  820.853030\n",
       "3  Afghanistan  1962    10267083      Asia    31.997  853.100710"
      ]
     },
     "execution_count": 18,
     "metadata": {},
     "output_type": "execute_result"
    }
   ],
   "source": [
    "mk_df.loc[[1, 2, 3]]"
   ]
  },
  {
   "cell_type": "code",
   "execution_count": 19,
   "id": "9b2fd112-fc83-41e5-a298-1be2213f235d",
   "metadata": {},
   "outputs": [
    {
     "data": {
      "text/html": [
       "<div>\n",
       "<style scoped>\n",
       "    .dataframe tbody tr th:only-of-type {\n",
       "        vertical-align: middle;\n",
       "    }\n",
       "\n",
       "    .dataframe tbody tr th {\n",
       "        vertical-align: top;\n",
       "    }\n",
       "\n",
       "    .dataframe thead th {\n",
       "        text-align: right;\n",
       "    }\n",
       "</style>\n",
       "<table border=\"1\" class=\"dataframe\">\n",
       "  <thead>\n",
       "    <tr style=\"text-align: right;\">\n",
       "      <th></th>\n",
       "      <th>Name</th>\n",
       "      <th>Age</th>\n",
       "      <th>Role</th>\n",
       "      <th>DOJ</th>\n",
       "    </tr>\n",
       "  </thead>\n",
       "  <tbody>\n",
       "    <tr>\n",
       "      <th>E03</th>\n",
       "      <td>Jane</td>\n",
       "      <td>28</td>\n",
       "      <td>Junior SD</td>\n",
       "      <td>01-03-2023</td>\n",
       "    </tr>\n",
       "    <tr>\n",
       "      <th>E04</th>\n",
       "      <td>John</td>\n",
       "      <td>35</td>\n",
       "      <td>Architect</td>\n",
       "      <td>01-12-2022</td>\n",
       "    </tr>\n",
       "    <tr>\n",
       "      <th>E05</th>\n",
       "      <td>Anna</td>\n",
       "      <td>40</td>\n",
       "      <td>V.P.</td>\n",
       "      <td>01-08-2000</td>\n",
       "    </tr>\n",
       "  </tbody>\n",
       "</table>\n",
       "</div>"
      ],
      "text/plain": [
       "     Name  Age       Role         DOJ\n",
       "E03  Jane   28  Junior SD  01-03-2023\n",
       "E04  John   35  Architect  01-12-2022\n",
       "E05  Anna   40       V.P.  01-08-2000"
      ]
     },
     "execution_count": 19,
     "metadata": {},
     "output_type": "execute_result"
    }
   ],
   "source": [
    "emp_df.loc[[\"E03\", \"E04\", \"E05\"]]"
   ]
  },
  {
   "cell_type": "markdown",
   "id": "4852e508-d1fa-4d52-82fb-e306f26e428c",
   "metadata": {},
   "source": [
    "#### Case #3: Using Slicing"
   ]
  },
  {
   "cell_type": "code",
   "execution_count": 20,
   "id": "39d654c8-5ddd-415a-81a6-bed176fcace2",
   "metadata": {},
   "outputs": [
    {
     "data": {
      "text/html": [
       "<div>\n",
       "<style scoped>\n",
       "    .dataframe tbody tr th:only-of-type {\n",
       "        vertical-align: middle;\n",
       "    }\n",
       "\n",
       "    .dataframe tbody tr th {\n",
       "        vertical-align: top;\n",
       "    }\n",
       "\n",
       "    .dataframe thead th {\n",
       "        text-align: right;\n",
       "    }\n",
       "</style>\n",
       "<table border=\"1\" class=\"dataframe\">\n",
       "  <thead>\n",
       "    <tr style=\"text-align: right;\">\n",
       "      <th></th>\n",
       "      <th>country</th>\n",
       "      <th>year</th>\n",
       "      <th>population</th>\n",
       "      <th>continent</th>\n",
       "      <th>life_exp</th>\n",
       "      <th>gdp_cap</th>\n",
       "    </tr>\n",
       "  </thead>\n",
       "  <tbody>\n",
       "    <tr>\n",
       "      <th>100</th>\n",
       "      <td>Bangladesh</td>\n",
       "      <td>1967</td>\n",
       "      <td>62821884</td>\n",
       "      <td>Asia</td>\n",
       "      <td>43.453</td>\n",
       "      <td>721.186086</td>\n",
       "    </tr>\n",
       "    <tr>\n",
       "      <th>105</th>\n",
       "      <td>Bangladesh</td>\n",
       "      <td>1992</td>\n",
       "      <td>113704579</td>\n",
       "      <td>Asia</td>\n",
       "      <td>56.018</td>\n",
       "      <td>837.810164</td>\n",
       "    </tr>\n",
       "    <tr>\n",
       "      <th>110</th>\n",
       "      <td>Belgium</td>\n",
       "      <td>1957</td>\n",
       "      <td>8989111</td>\n",
       "      <td>Europe</td>\n",
       "      <td>69.240</td>\n",
       "      <td>9714.960623</td>\n",
       "    </tr>\n",
       "    <tr>\n",
       "      <th>115</th>\n",
       "      <td>Belgium</td>\n",
       "      <td>1982</td>\n",
       "      <td>9856303</td>\n",
       "      <td>Europe</td>\n",
       "      <td>73.930</td>\n",
       "      <td>20979.845890</td>\n",
       "    </tr>\n",
       "  </tbody>\n",
       "</table>\n",
       "</div>"
      ],
      "text/plain": [
       "        country  year  population continent  life_exp       gdp_cap\n",
       "100  Bangladesh  1967    62821884      Asia    43.453    721.186086\n",
       "105  Bangladesh  1992   113704579      Asia    56.018    837.810164\n",
       "110     Belgium  1957     8989111    Europe    69.240   9714.960623\n",
       "115     Belgium  1982     9856303    Europe    73.930  20979.845890"
      ]
     },
     "execution_count": 20,
     "metadata": {},
     "output_type": "execute_result"
    }
   ],
   "source": [
    "mk_df.loc[100:115:5]"
   ]
  },
  {
   "cell_type": "code",
   "execution_count": 21,
   "id": "5be67ac2-e421-4f3d-91d8-85959c8f1530",
   "metadata": {},
   "outputs": [
    {
     "data": {
      "text/html": [
       "<div>\n",
       "<style scoped>\n",
       "    .dataframe tbody tr th:only-of-type {\n",
       "        vertical-align: middle;\n",
       "    }\n",
       "\n",
       "    .dataframe tbody tr th {\n",
       "        vertical-align: top;\n",
       "    }\n",
       "\n",
       "    .dataframe thead th {\n",
       "        text-align: right;\n",
       "    }\n",
       "</style>\n",
       "<table border=\"1\" class=\"dataframe\">\n",
       "  <thead>\n",
       "    <tr style=\"text-align: right;\">\n",
       "      <th></th>\n",
       "      <th>Name</th>\n",
       "      <th>Age</th>\n",
       "      <th>Role</th>\n",
       "      <th>DOJ</th>\n",
       "    </tr>\n",
       "  </thead>\n",
       "  <tbody>\n",
       "    <tr>\n",
       "      <th>E03</th>\n",
       "      <td>Jane</td>\n",
       "      <td>28</td>\n",
       "      <td>Junior SD</td>\n",
       "      <td>01-03-2023</td>\n",
       "    </tr>\n",
       "    <tr>\n",
       "      <th>E04</th>\n",
       "      <td>John</td>\n",
       "      <td>35</td>\n",
       "      <td>Architect</td>\n",
       "      <td>01-12-2022</td>\n",
       "    </tr>\n",
       "    <tr>\n",
       "      <th>E05</th>\n",
       "      <td>Anna</td>\n",
       "      <td>40</td>\n",
       "      <td>V.P.</td>\n",
       "      <td>01-08-2000</td>\n",
       "    </tr>\n",
       "  </tbody>\n",
       "</table>\n",
       "</div>"
      ],
      "text/plain": [
       "     Name  Age       Role         DOJ\n",
       "E03  Jane   28  Junior SD  01-03-2023\n",
       "E04  John   35  Architect  01-12-2022\n",
       "E05  Anna   40       V.P.  01-08-2000"
      ]
     },
     "execution_count": 21,
     "metadata": {},
     "output_type": "execute_result"
    }
   ],
   "source": [
    "emp_df.loc[\"E03\":\"E05\"]"
   ]
  },
  {
   "cell_type": "markdown",
   "id": "be73d943-6709-4682-a993-7b949800ce8d",
   "metadata": {},
   "source": [
    "### 3.2 Using `iloc`"
   ]
  },
  {
   "cell_type": "markdown",
   "id": "184866a7-d15f-447a-8d77-1e618de6a400",
   "metadata": {},
   "source": [
    "1. Since Implicit index supports negative values `iloc` supports negative value.\n",
    "2. End index is exclusive while slicing."
   ]
  },
  {
   "cell_type": "markdown",
   "id": "64701aea-2d08-499b-9097-717c745defc6",
   "metadata": {},
   "source": [
    "#### Case #1: Using Single Index"
   ]
  },
  {
   "cell_type": "code",
   "execution_count": 22,
   "id": "838f1528-d219-47ef-b9ef-a00d38f206b7",
   "metadata": {},
   "outputs": [
    {
     "data": {
      "text/plain": [
       "country       Afghanistan\n",
       "year                 1952\n",
       "population        8425333\n",
       "continent            Asia\n",
       "life_exp           28.801\n",
       "gdp_cap        779.445314\n",
       "Name: 1, dtype: object"
      ]
     },
     "execution_count": 22,
     "metadata": {},
     "output_type": "execute_result"
    }
   ],
   "source": [
    "mk_df.iloc[0]"
   ]
  },
  {
   "cell_type": "code",
   "execution_count": 23,
   "id": "e63ad131-7016-42c9-8cd5-ab07c4bc434c",
   "metadata": {},
   "outputs": [
    {
     "data": {
      "text/plain": [
       "Name          Anna\n",
       "Age             40\n",
       "Role          V.P.\n",
       "DOJ     01-08-2000\n",
       "Name: E05, dtype: object"
      ]
     },
     "execution_count": 23,
     "metadata": {},
     "output_type": "execute_result"
    }
   ],
   "source": [
    "emp_df.iloc[4]"
   ]
  },
  {
   "cell_type": "markdown",
   "id": "0ff22cd0-04fa-4c23-8e20-c669b597be76",
   "metadata": {},
   "source": [
    "#### Case #2: Using Multiple Index"
   ]
  },
  {
   "cell_type": "code",
   "execution_count": 24,
   "id": "f62782b1-4a34-4bd9-b310-0748f7b44a50",
   "metadata": {},
   "outputs": [
    {
     "data": {
      "text/html": [
       "<div>\n",
       "<style scoped>\n",
       "    .dataframe tbody tr th:only-of-type {\n",
       "        vertical-align: middle;\n",
       "    }\n",
       "\n",
       "    .dataframe tbody tr th {\n",
       "        vertical-align: top;\n",
       "    }\n",
       "\n",
       "    .dataframe thead th {\n",
       "        text-align: right;\n",
       "    }\n",
       "</style>\n",
       "<table border=\"1\" class=\"dataframe\">\n",
       "  <thead>\n",
       "    <tr style=\"text-align: right;\">\n",
       "      <th></th>\n",
       "      <th>country</th>\n",
       "      <th>year</th>\n",
       "      <th>population</th>\n",
       "      <th>continent</th>\n",
       "      <th>life_exp</th>\n",
       "      <th>gdp_cap</th>\n",
       "    </tr>\n",
       "  </thead>\n",
       "  <tbody>\n",
       "    <tr>\n",
       "      <th>1</th>\n",
       "      <td>Afghanistan</td>\n",
       "      <td>1952</td>\n",
       "      <td>8425333</td>\n",
       "      <td>Asia</td>\n",
       "      <td>28.801</td>\n",
       "      <td>779.445314</td>\n",
       "    </tr>\n",
       "    <tr>\n",
       "      <th>11</th>\n",
       "      <td>Afghanistan</td>\n",
       "      <td>2002</td>\n",
       "      <td>25268405</td>\n",
       "      <td>Asia</td>\n",
       "      <td>42.129</td>\n",
       "      <td>726.734055</td>\n",
       "    </tr>\n",
       "    <tr>\n",
       "      <th>1704</th>\n",
       "      <td>Zimbabwe</td>\n",
       "      <td>2007</td>\n",
       "      <td>12311143</td>\n",
       "      <td>Africa</td>\n",
       "      <td>43.487</td>\n",
       "      <td>469.709298</td>\n",
       "    </tr>\n",
       "  </tbody>\n",
       "</table>\n",
       "</div>"
      ],
      "text/plain": [
       "          country  year  population continent  life_exp     gdp_cap\n",
       "1     Afghanistan  1952     8425333      Asia    28.801  779.445314\n",
       "11    Afghanistan  2002    25268405      Asia    42.129  726.734055\n",
       "1704     Zimbabwe  2007    12311143    Africa    43.487  469.709298"
      ]
     },
     "execution_count": 24,
     "metadata": {},
     "output_type": "execute_result"
    }
   ],
   "source": [
    "mk_df.iloc[[0, 10, 1703]]"
   ]
  },
  {
   "cell_type": "code",
   "execution_count": 25,
   "id": "9d47d1a0-3374-412c-b82f-40637b9bc91a",
   "metadata": {},
   "outputs": [
    {
     "data": {
      "text/html": [
       "<div>\n",
       "<style scoped>\n",
       "    .dataframe tbody tr th:only-of-type {\n",
       "        vertical-align: middle;\n",
       "    }\n",
       "\n",
       "    .dataframe tbody tr th {\n",
       "        vertical-align: top;\n",
       "    }\n",
       "\n",
       "    .dataframe thead th {\n",
       "        text-align: right;\n",
       "    }\n",
       "</style>\n",
       "<table border=\"1\" class=\"dataframe\">\n",
       "  <thead>\n",
       "    <tr style=\"text-align: right;\">\n",
       "      <th></th>\n",
       "      <th>Name</th>\n",
       "      <th>Age</th>\n",
       "      <th>Role</th>\n",
       "      <th>DOJ</th>\n",
       "    </tr>\n",
       "  </thead>\n",
       "  <tbody>\n",
       "    <tr>\n",
       "      <th>E05</th>\n",
       "      <td>Anna</td>\n",
       "      <td>40</td>\n",
       "      <td>V.P.</td>\n",
       "      <td>01-08-2000</td>\n",
       "    </tr>\n",
       "    <tr>\n",
       "      <th>E02</th>\n",
       "      <td>Ajax</td>\n",
       "      <td>31</td>\n",
       "      <td>Associate Architect</td>\n",
       "      <td>01-01-2025</td>\n",
       "    </tr>\n",
       "    <tr>\n",
       "      <th>E04</th>\n",
       "      <td>John</td>\n",
       "      <td>35</td>\n",
       "      <td>Architect</td>\n",
       "      <td>01-12-2022</td>\n",
       "    </tr>\n",
       "  </tbody>\n",
       "</table>\n",
       "</div>"
      ],
      "text/plain": [
       "     Name  Age                 Role         DOJ\n",
       "E05  Anna   40                 V.P.  01-08-2000\n",
       "E02  Ajax   31  Associate Architect  01-01-2025\n",
       "E04  John   35            Architect  01-12-2022"
      ]
     },
     "execution_count": 25,
     "metadata": {},
     "output_type": "execute_result"
    }
   ],
   "source": [
    "emp_df.iloc[[4, 1, 3]]"
   ]
  },
  {
   "cell_type": "markdown",
   "id": "e2b969ed-3072-48af-a65f-ce0770973aa6",
   "metadata": {},
   "source": [
    "#### Case #3: Using Slicing"
   ]
  },
  {
   "cell_type": "code",
   "execution_count": 26,
   "id": "1c27467d-b329-48f1-9aa8-faf639d2276b",
   "metadata": {},
   "outputs": [
    {
     "data": {
      "text/html": [
       "<div>\n",
       "<style scoped>\n",
       "    .dataframe tbody tr th:only-of-type {\n",
       "        vertical-align: middle;\n",
       "    }\n",
       "\n",
       "    .dataframe tbody tr th {\n",
       "        vertical-align: top;\n",
       "    }\n",
       "\n",
       "    .dataframe thead th {\n",
       "        text-align: right;\n",
       "    }\n",
       "</style>\n",
       "<table border=\"1\" class=\"dataframe\">\n",
       "  <thead>\n",
       "    <tr style=\"text-align: right;\">\n",
       "      <th></th>\n",
       "      <th>country</th>\n",
       "      <th>year</th>\n",
       "      <th>population</th>\n",
       "      <th>continent</th>\n",
       "      <th>life_exp</th>\n",
       "      <th>gdp_cap</th>\n",
       "    </tr>\n",
       "  </thead>\n",
       "  <tbody>\n",
       "    <tr>\n",
       "      <th>101</th>\n",
       "      <td>Bangladesh</td>\n",
       "      <td>1972</td>\n",
       "      <td>70759295</td>\n",
       "      <td>Asia</td>\n",
       "      <td>45.252</td>\n",
       "      <td>630.233627</td>\n",
       "    </tr>\n",
       "    <tr>\n",
       "      <th>106</th>\n",
       "      <td>Bangladesh</td>\n",
       "      <td>1997</td>\n",
       "      <td>123315288</td>\n",
       "      <td>Asia</td>\n",
       "      <td>59.412</td>\n",
       "      <td>972.770035</td>\n",
       "    </tr>\n",
       "    <tr>\n",
       "      <th>111</th>\n",
       "      <td>Belgium</td>\n",
       "      <td>1962</td>\n",
       "      <td>9218400</td>\n",
       "      <td>Europe</td>\n",
       "      <td>70.250</td>\n",
       "      <td>10991.206760</td>\n",
       "    </tr>\n",
       "  </tbody>\n",
       "</table>\n",
       "</div>"
      ],
      "text/plain": [
       "        country  year  population continent  life_exp       gdp_cap\n",
       "101  Bangladesh  1972    70759295      Asia    45.252    630.233627\n",
       "106  Bangladesh  1997   123315288      Asia    59.412    972.770035\n",
       "111     Belgium  1962     9218400    Europe    70.250  10991.206760"
      ]
     },
     "execution_count": 26,
     "metadata": {},
     "output_type": "execute_result"
    }
   ],
   "source": [
    "mk_df.iloc[100:115:5]"
   ]
  },
  {
   "cell_type": "markdown",
   "id": "c59bcb3d-833f-4621-a999-56aa88fb60ae",
   "metadata": {},
   "source": [
    "With `iloc` the end index is exclusive and it works on implicit index."
   ]
  },
  {
   "cell_type": "code",
   "execution_count": 27,
   "id": "fe574523-87ea-4a85-b780-68546424b2a6",
   "metadata": {},
   "outputs": [
    {
     "data": {
      "text/html": [
       "<div>\n",
       "<style scoped>\n",
       "    .dataframe tbody tr th:only-of-type {\n",
       "        vertical-align: middle;\n",
       "    }\n",
       "\n",
       "    .dataframe tbody tr th {\n",
       "        vertical-align: top;\n",
       "    }\n",
       "\n",
       "    .dataframe thead th {\n",
       "        text-align: right;\n",
       "    }\n",
       "</style>\n",
       "<table border=\"1\" class=\"dataframe\">\n",
       "  <thead>\n",
       "    <tr style=\"text-align: right;\">\n",
       "      <th></th>\n",
       "      <th>Name</th>\n",
       "      <th>Age</th>\n",
       "      <th>Role</th>\n",
       "      <th>DOJ</th>\n",
       "    </tr>\n",
       "  </thead>\n",
       "  <tbody>\n",
       "    <tr>\n",
       "      <th>E01</th>\n",
       "      <td>Alex</td>\n",
       "      <td>31</td>\n",
       "      <td>Senior SD</td>\n",
       "      <td>01-06-2021</td>\n",
       "    </tr>\n",
       "    <tr>\n",
       "      <th>E02</th>\n",
       "      <td>Ajax</td>\n",
       "      <td>31</td>\n",
       "      <td>Associate Architect</td>\n",
       "      <td>01-01-2025</td>\n",
       "    </tr>\n",
       "    <tr>\n",
       "      <th>E03</th>\n",
       "      <td>Jane</td>\n",
       "      <td>28</td>\n",
       "      <td>Junior SD</td>\n",
       "      <td>01-03-2023</td>\n",
       "    </tr>\n",
       "  </tbody>\n",
       "</table>\n",
       "</div>"
      ],
      "text/plain": [
       "     Name  Age                 Role         DOJ\n",
       "E01  Alex   31            Senior SD  01-06-2021\n",
       "E02  Ajax   31  Associate Architect  01-01-2025\n",
       "E03  Jane   28            Junior SD  01-03-2023"
      ]
     },
     "execution_count": 27,
     "metadata": {},
     "output_type": "execute_result"
    }
   ],
   "source": [
    "emp_df.iloc[0:3]"
   ]
  },
  {
   "cell_type": "code",
   "execution_count": 28,
   "id": "9ceef876-ae8f-41e9-bdf8-4ab26cb5978d",
   "metadata": {},
   "outputs": [
    {
     "data": {
      "text/html": [
       "<div>\n",
       "<style scoped>\n",
       "    .dataframe tbody tr th:only-of-type {\n",
       "        vertical-align: middle;\n",
       "    }\n",
       "\n",
       "    .dataframe tbody tr th {\n",
       "        vertical-align: top;\n",
       "    }\n",
       "\n",
       "    .dataframe thead th {\n",
       "        text-align: right;\n",
       "    }\n",
       "</style>\n",
       "<table border=\"1\" class=\"dataframe\">\n",
       "  <thead>\n",
       "    <tr style=\"text-align: right;\">\n",
       "      <th></th>\n",
       "      <th>country</th>\n",
       "      <th>year</th>\n",
       "      <th>population</th>\n",
       "      <th>continent</th>\n",
       "      <th>life_exp</th>\n",
       "      <th>gdp_cap</th>\n",
       "    </tr>\n",
       "  </thead>\n",
       "  <tbody>\n",
       "    <tr>\n",
       "      <th>2</th>\n",
       "      <td>Afghanistan</td>\n",
       "      <td>1957</td>\n",
       "      <td>9240934</td>\n",
       "      <td>Asia</td>\n",
       "      <td>30.332</td>\n",
       "      <td>820.853030</td>\n",
       "    </tr>\n",
       "    <tr>\n",
       "      <th>4</th>\n",
       "      <td>Afghanistan</td>\n",
       "      <td>1967</td>\n",
       "      <td>11537966</td>\n",
       "      <td>Asia</td>\n",
       "      <td>34.020</td>\n",
       "      <td>836.197138</td>\n",
       "    </tr>\n",
       "    <tr>\n",
       "      <th>6</th>\n",
       "      <td>Afghanistan</td>\n",
       "      <td>1977</td>\n",
       "      <td>14880372</td>\n",
       "      <td>Asia</td>\n",
       "      <td>38.438</td>\n",
       "      <td>786.113360</td>\n",
       "    </tr>\n",
       "    <tr>\n",
       "      <th>8</th>\n",
       "      <td>Afghanistan</td>\n",
       "      <td>1987</td>\n",
       "      <td>13867957</td>\n",
       "      <td>Asia</td>\n",
       "      <td>40.822</td>\n",
       "      <td>852.395945</td>\n",
       "    </tr>\n",
       "    <tr>\n",
       "      <th>10</th>\n",
       "      <td>Afghanistan</td>\n",
       "      <td>1997</td>\n",
       "      <td>22227415</td>\n",
       "      <td>Asia</td>\n",
       "      <td>41.763</td>\n",
       "      <td>635.341351</td>\n",
       "    </tr>\n",
       "  </tbody>\n",
       "</table>\n",
       "</div>"
      ],
      "text/plain": [
       "        country  year  population continent  life_exp     gdp_cap\n",
       "2   Afghanistan  1957     9240934      Asia    30.332  820.853030\n",
       "4   Afghanistan  1967    11537966      Asia    34.020  836.197138\n",
       "6   Afghanistan  1977    14880372      Asia    38.438  786.113360\n",
       "8   Afghanistan  1987    13867957      Asia    40.822  852.395945\n",
       "10  Afghanistan  1997    22227415      Asia    41.763  635.341351"
      ]
     },
     "execution_count": 28,
     "metadata": {},
     "output_type": "execute_result"
    }
   ],
   "source": [
    "mk_df.iloc[1:10:2]"
   ]
  },
  {
   "cell_type": "code",
   "execution_count": 29,
   "id": "c8de2117-b1f6-4da0-b2b5-1300d9dd272d",
   "metadata": {},
   "outputs": [
    {
     "data": {
      "text/html": [
       "<div>\n",
       "<style scoped>\n",
       "    .dataframe tbody tr th:only-of-type {\n",
       "        vertical-align: middle;\n",
       "    }\n",
       "\n",
       "    .dataframe tbody tr th {\n",
       "        vertical-align: top;\n",
       "    }\n",
       "\n",
       "    .dataframe thead th {\n",
       "        text-align: right;\n",
       "    }\n",
       "</style>\n",
       "<table border=\"1\" class=\"dataframe\">\n",
       "  <thead>\n",
       "    <tr style=\"text-align: right;\">\n",
       "      <th></th>\n",
       "      <th>country</th>\n",
       "      <th>year</th>\n",
       "      <th>population</th>\n",
       "      <th>continent</th>\n",
       "      <th>life_exp</th>\n",
       "      <th>gdp_cap</th>\n",
       "    </tr>\n",
       "  </thead>\n",
       "  <tbody>\n",
       "    <tr>\n",
       "      <th>1704</th>\n",
       "      <td>Zimbabwe</td>\n",
       "      <td>2007</td>\n",
       "      <td>12311143</td>\n",
       "      <td>Africa</td>\n",
       "      <td>43.487</td>\n",
       "      <td>469.709298</td>\n",
       "    </tr>\n",
       "    <tr>\n",
       "      <th>1702</th>\n",
       "      <td>Zimbabwe</td>\n",
       "      <td>1997</td>\n",
       "      <td>11404948</td>\n",
       "      <td>Africa</td>\n",
       "      <td>46.809</td>\n",
       "      <td>792.449960</td>\n",
       "    </tr>\n",
       "    <tr>\n",
       "      <th>1700</th>\n",
       "      <td>Zimbabwe</td>\n",
       "      <td>1987</td>\n",
       "      <td>9216418</td>\n",
       "      <td>Africa</td>\n",
       "      <td>62.351</td>\n",
       "      <td>706.157306</td>\n",
       "    </tr>\n",
       "    <tr>\n",
       "      <th>1698</th>\n",
       "      <td>Zimbabwe</td>\n",
       "      <td>1977</td>\n",
       "      <td>6642107</td>\n",
       "      <td>Africa</td>\n",
       "      <td>57.674</td>\n",
       "      <td>685.587682</td>\n",
       "    </tr>\n",
       "    <tr>\n",
       "      <th>1696</th>\n",
       "      <td>Zimbabwe</td>\n",
       "      <td>1967</td>\n",
       "      <td>4995432</td>\n",
       "      <td>Africa</td>\n",
       "      <td>53.995</td>\n",
       "      <td>569.795071</td>\n",
       "    </tr>\n",
       "  </tbody>\n",
       "</table>\n",
       "</div>"
      ],
      "text/plain": [
       "       country  year  population continent  life_exp     gdp_cap\n",
       "1704  Zimbabwe  2007    12311143    Africa    43.487  469.709298\n",
       "1702  Zimbabwe  1997    11404948    Africa    46.809  792.449960\n",
       "1700  Zimbabwe  1987     9216418    Africa    62.351  706.157306\n",
       "1698  Zimbabwe  1977     6642107    Africa    57.674  685.587682\n",
       "1696  Zimbabwe  1967     4995432    Africa    53.995  569.795071"
      ]
     },
     "execution_count": 29,
     "metadata": {},
     "output_type": "execute_result"
    }
   ],
   "source": [
    "mk_df.iloc[-1:-10:-2]"
   ]
  },
  {
   "cell_type": "markdown",
   "id": "e40a40ad-0cb0-4d1e-bc82-9cbfd26908f3",
   "metadata": {},
   "source": [
    "### 3.3 Conclusion"
   ]
  },
  {
   "cell_type": "code",
   "execution_count": null,
   "id": "ebcb8f80-f6e5-452a-9680-974a6d38d3d1",
   "metadata": {},
   "outputs": [],
   "source": []
  },
  {
   "cell_type": "markdown",
   "id": "aeaed1b7-d754-4b42-808f-03f1e8afa371",
   "metadata": {},
   "source": [
    "## 4 Access Columns"
   ]
  },
  {
   "cell_type": "markdown",
   "id": "51b52330-9cdf-4eab-8642-33b5cee26155",
   "metadata": {},
   "source": [
    "### 4.1 Using Lables"
   ]
  },
  {
   "cell_type": "markdown",
   "id": "98d3c547-2044-4df3-b419-af1a09320b13",
   "metadata": {},
   "source": [
    "#### Case #1: Using Single Index"
   ]
  },
  {
   "cell_type": "markdown",
   "id": "b58cabf7-71ee-4cdc-955c-648bcff16bf9",
   "metadata": {},
   "source": [
    "##### Example #1"
   ]
  },
  {
   "cell_type": "code",
   "execution_count": 30,
   "id": "3a3fdf89-5e6d-4340-9446-77a52621eb2c",
   "metadata": {},
   "outputs": [
    {
     "data": {
      "text/plain": [
       "E01    Alex\n",
       "E02    Ajax\n",
       "E03    Jane\n",
       "E04    John\n",
       "E05    Anna\n",
       "Name: Name, dtype: object"
      ]
     },
     "execution_count": 30,
     "metadata": {},
     "output_type": "execute_result"
    }
   ],
   "source": [
    "emp_df[\"Name\"]"
   ]
  },
  {
   "cell_type": "markdown",
   "id": "2fb369ce-c87b-40ad-9669-92c7968979ff",
   "metadata": {},
   "source": [
    "Explicit row index can be used with Series."
   ]
  },
  {
   "cell_type": "code",
   "execution_count": 31,
   "id": "396d0809-2f17-4874-9628-0a65b4d62d5c",
   "metadata": {},
   "outputs": [
    {
     "data": {
      "text/plain": [
       "'Anna'"
      ]
     },
     "execution_count": 31,
     "metadata": {},
     "output_type": "execute_result"
    }
   ],
   "source": [
    "emp_df[\"Name\"][\"E05\"]"
   ]
  },
  {
   "cell_type": "markdown",
   "id": "1c4965f6-5d74-40ab-908a-986aae88e4f9",
   "metadata": {},
   "source": [
    "##### Example #2"
   ]
  },
  {
   "cell_type": "markdown",
   "id": "40d51322-fd88-4dea-9502-d118dfeaccbc",
   "metadata": {},
   "source": [
    "Explicit row index can be used with Series."
   ]
  },
  {
   "cell_type": "code",
   "execution_count": 32,
   "id": "85939570-4421-4066-a92a-e838ba64b170",
   "metadata": {},
   "outputs": [
    {
     "data": {
      "text/plain": [
       "'Africa'"
      ]
     },
     "execution_count": 32,
     "metadata": {},
     "output_type": "execute_result"
    }
   ],
   "source": [
    "mk_df[\"continent\"][1702]"
   ]
  },
  {
   "cell_type": "markdown",
   "id": "e3b8b340-3b1d-4982-b01b-c318c749f2bb",
   "metadata": {},
   "source": [
    "#### Case #2: Using Multiple Index"
   ]
  },
  {
   "cell_type": "code",
   "execution_count": null,
   "id": "3ac4171b-2882-4cf0-b555-cfb6eddba8ad",
   "metadata": {},
   "outputs": [],
   "source": []
  },
  {
   "cell_type": "markdown",
   "id": "ec9b2a8d-3324-4eaa-95cf-9650edc9e533",
   "metadata": {},
   "source": [
    "#### Case #3: Using Slicing"
   ]
  },
  {
   "cell_type": "code",
   "execution_count": null,
   "id": "c26d80d1-1e20-474d-952d-e2e5cd80f5d2",
   "metadata": {},
   "outputs": [],
   "source": []
  },
  {
   "cell_type": "markdown",
   "id": "8226af4b-30e1-40ed-b499-bd7bdc29f33c",
   "metadata": {},
   "source": [
    "### 4.2 Using `loc`"
   ]
  },
  {
   "cell_type": "markdown",
   "id": "0bffca32-0331-4b9e-9a2c-d45001749518",
   "metadata": {},
   "source": [
    "#### Case #1: Using single column name"
   ]
  },
  {
   "cell_type": "code",
   "execution_count": 33,
   "id": "ba8e5088-263d-41b6-8244-c8e63bd6c1bb",
   "metadata": {},
   "outputs": [],
   "source": [
    "# temp.loc[\"a\"]"
   ]
  },
  {
   "cell_type": "code",
   "execution_count": 34,
   "id": "1e0d755f-567f-49c8-8aa2-dd503e271edc",
   "metadata": {},
   "outputs": [],
   "source": [
    "# temp.loc[[\"a\"]]"
   ]
  },
  {
   "cell_type": "markdown",
   "id": "e9546c69-a8ca-4f1f-bdbd-a5311d98d04c",
   "metadata": {},
   "source": [
    "#### Case #2: Using multiple column name"
   ]
  },
  {
   "cell_type": "code",
   "execution_count": 35,
   "id": "c797d042-518c-4fff-9f8e-fbc7ce86ed14",
   "metadata": {},
   "outputs": [],
   "source": [
    "# temp.loc[[\"a\", \"c\"]]"
   ]
  },
  {
   "cell_type": "markdown",
   "id": "2e388206-b3fc-4745-9054-7a2085c080a0",
   "metadata": {},
   "source": [
    "#### Case #3: Using slicing on column names"
   ]
  },
  {
   "cell_type": "code",
   "execution_count": 36,
   "id": "0c514488-452c-458e-b2f7-b4303abebf31",
   "metadata": {},
   "outputs": [
    {
     "data": {
      "text/html": [
       "<div>\n",
       "<style scoped>\n",
       "    .dataframe tbody tr th:only-of-type {\n",
       "        vertical-align: middle;\n",
       "    }\n",
       "\n",
       "    .dataframe tbody tr th {\n",
       "        vertical-align: top;\n",
       "    }\n",
       "\n",
       "    .dataframe thead th {\n",
       "        text-align: right;\n",
       "    }\n",
       "</style>\n",
       "<table border=\"1\" class=\"dataframe\">\n",
       "  <thead>\n",
       "    <tr style=\"text-align: right;\">\n",
       "      <th></th>\n",
       "      <th>year</th>\n",
       "      <th>population</th>\n",
       "      <th>continent</th>\n",
       "    </tr>\n",
       "  </thead>\n",
       "  <tbody>\n",
       "    <tr>\n",
       "      <th>1</th>\n",
       "      <td>1952</td>\n",
       "      <td>8425333</td>\n",
       "      <td>Asia</td>\n",
       "    </tr>\n",
       "    <tr>\n",
       "      <th>2</th>\n",
       "      <td>1957</td>\n",
       "      <td>9240934</td>\n",
       "      <td>Asia</td>\n",
       "    </tr>\n",
       "  </tbody>\n",
       "</table>\n",
       "</div>"
      ],
      "text/plain": [
       "   year  population continent\n",
       "1  1952     8425333      Asia\n",
       "2  1957     9240934      Asia"
      ]
     },
     "execution_count": 36,
     "metadata": {},
     "output_type": "execute_result"
    }
   ],
   "source": [
    "mk_df.loc[:2, \"year\":\"continent\"]"
   ]
  },
  {
   "cell_type": "code",
   "execution_count": 37,
   "id": "8d9696f1-ec88-4311-8420-5d4ad5531016",
   "metadata": {},
   "outputs": [
    {
     "data": {
      "text/html": [
       "<div>\n",
       "<style scoped>\n",
       "    .dataframe tbody tr th:only-of-type {\n",
       "        vertical-align: middle;\n",
       "    }\n",
       "\n",
       "    .dataframe tbody tr th {\n",
       "        vertical-align: top;\n",
       "    }\n",
       "\n",
       "    .dataframe thead th {\n",
       "        text-align: right;\n",
       "    }\n",
       "</style>\n",
       "<table border=\"1\" class=\"dataframe\">\n",
       "  <thead>\n",
       "    <tr style=\"text-align: right;\">\n",
       "      <th></th>\n",
       "      <th>country</th>\n",
       "      <th>year</th>\n",
       "      <th>population</th>\n",
       "    </tr>\n",
       "  </thead>\n",
       "  <tbody>\n",
       "    <tr>\n",
       "      <th>1</th>\n",
       "      <td>Afghanistan</td>\n",
       "      <td>1952</td>\n",
       "      <td>8425333</td>\n",
       "    </tr>\n",
       "    <tr>\n",
       "      <th>2</th>\n",
       "      <td>Afghanistan</td>\n",
       "      <td>1957</td>\n",
       "      <td>9240934</td>\n",
       "    </tr>\n",
       "    <tr>\n",
       "      <th>3</th>\n",
       "      <td>Afghanistan</td>\n",
       "      <td>1962</td>\n",
       "      <td>10267083</td>\n",
       "    </tr>\n",
       "  </tbody>\n",
       "</table>\n",
       "</div>"
      ],
      "text/plain": [
       "       country  year  population\n",
       "1  Afghanistan  1952     8425333\n",
       "2  Afghanistan  1957     9240934\n",
       "3  Afghanistan  1962    10267083"
      ]
     },
     "execution_count": 37,
     "metadata": {},
     "output_type": "execute_result"
    }
   ],
   "source": [
    "mk_df.loc[0:3, \"country\":\"population\"]"
   ]
  },
  {
   "cell_type": "code",
   "execution_count": 38,
   "id": "bb790dc6-060a-4af0-9e80-eeaaf9599e92",
   "metadata": {},
   "outputs": [
    {
     "data": {
      "text/html": [
       "<div>\n",
       "<style scoped>\n",
       "    .dataframe tbody tr th:only-of-type {\n",
       "        vertical-align: middle;\n",
       "    }\n",
       "\n",
       "    .dataframe tbody tr th {\n",
       "        vertical-align: top;\n",
       "    }\n",
       "\n",
       "    .dataframe thead th {\n",
       "        text-align: right;\n",
       "    }\n",
       "</style>\n",
       "<table border=\"1\" class=\"dataframe\">\n",
       "  <thead>\n",
       "    <tr style=\"text-align: right;\">\n",
       "      <th></th>\n",
       "      <th>country</th>\n",
       "      <th>population</th>\n",
       "      <th>life_exp</th>\n",
       "    </tr>\n",
       "  </thead>\n",
       "  <tbody>\n",
       "    <tr>\n",
       "      <th>6</th>\n",
       "      <td>Afghanistan</td>\n",
       "      <td>14880372</td>\n",
       "      <td>38.438</td>\n",
       "    </tr>\n",
       "    <tr>\n",
       "      <th>5</th>\n",
       "      <td>Afghanistan</td>\n",
       "      <td>13079460</td>\n",
       "      <td>36.088</td>\n",
       "    </tr>\n",
       "    <tr>\n",
       "      <th>4</th>\n",
       "      <td>Afghanistan</td>\n",
       "      <td>11537966</td>\n",
       "      <td>34.020</td>\n",
       "    </tr>\n",
       "    <tr>\n",
       "      <th>3</th>\n",
       "      <td>Afghanistan</td>\n",
       "      <td>10267083</td>\n",
       "      <td>31.997</td>\n",
       "    </tr>\n",
       "  </tbody>\n",
       "</table>\n",
       "</div>"
      ],
      "text/plain": [
       "       country  population  life_exp\n",
       "6  Afghanistan    14880372    38.438\n",
       "5  Afghanistan    13079460    36.088\n",
       "4  Afghanistan    11537966    34.020\n",
       "3  Afghanistan    10267083    31.997"
      ]
     },
     "execution_count": 38,
     "metadata": {},
     "output_type": "execute_result"
    }
   ],
   "source": [
    "mk_df.loc[6:3:-1, \"country\"::2]"
   ]
  },
  {
   "cell_type": "code",
   "execution_count": 39,
   "id": "007d2022-8574-4a13-be80-32ae11b23be8",
   "metadata": {},
   "outputs": [],
   "source": [
    "# df.loc[9::-3]"
   ]
  },
  {
   "cell_type": "markdown",
   "id": "625430d7-c889-4b3c-a856-4b3731bfaca2",
   "metadata": {},
   "source": [
    "### 4.2 Using `iloc`"
   ]
  },
  {
   "cell_type": "code",
   "execution_count": null,
   "id": "6cf0e1a0-a15f-4a24-b5c4-1e850a03026f",
   "metadata": {},
   "outputs": [],
   "source": []
  },
  {
   "cell_type": "markdown",
   "id": "ea5b8045-9c63-4f98-b393-a01f83b5eb11",
   "metadata": {},
   "source": [
    "#### Case #1: Using Single Index"
   ]
  },
  {
   "cell_type": "code",
   "execution_count": null,
   "id": "cc5b5035-4814-4431-bac5-3c598998394f",
   "metadata": {},
   "outputs": [],
   "source": []
  },
  {
   "cell_type": "markdown",
   "id": "a44e35a0-9813-4c1e-beda-cb5a8a6c77df",
   "metadata": {},
   "source": [
    "#### Case #2: Using Multiple Index"
   ]
  },
  {
   "cell_type": "code",
   "execution_count": 40,
   "id": "69f641bb-2336-4f61-a538-95af8cbc3c7a",
   "metadata": {},
   "outputs": [
    {
     "data": {
      "text/html": [
       "<div>\n",
       "<style scoped>\n",
       "    .dataframe tbody tr th:only-of-type {\n",
       "        vertical-align: middle;\n",
       "    }\n",
       "\n",
       "    .dataframe tbody tr th {\n",
       "        vertical-align: top;\n",
       "    }\n",
       "\n",
       "    .dataframe thead th {\n",
       "        text-align: right;\n",
       "    }\n",
       "</style>\n",
       "<table border=\"1\" class=\"dataframe\">\n",
       "  <thead>\n",
       "    <tr style=\"text-align: right;\">\n",
       "      <th></th>\n",
       "      <th>year</th>\n",
       "      <th>continent</th>\n",
       "    </tr>\n",
       "  </thead>\n",
       "  <tbody>\n",
       "    <tr>\n",
       "      <th>1</th>\n",
       "      <td>1952</td>\n",
       "      <td>Asia</td>\n",
       "    </tr>\n",
       "    <tr>\n",
       "      <th>2</th>\n",
       "      <td>1957</td>\n",
       "      <td>Asia</td>\n",
       "    </tr>\n",
       "    <tr>\n",
       "      <th>3</th>\n",
       "      <td>1962</td>\n",
       "      <td>Asia</td>\n",
       "    </tr>\n",
       "  </tbody>\n",
       "</table>\n",
       "</div>"
      ],
      "text/plain": [
       "   year continent\n",
       "1  1952      Asia\n",
       "2  1957      Asia\n",
       "3  1962      Asia"
      ]
     },
     "execution_count": 40,
     "metadata": {},
     "output_type": "execute_result"
    }
   ],
   "source": [
    "mk_df.iloc[[0, 1, 2], [1, 3]]"
   ]
  },
  {
   "cell_type": "markdown",
   "id": "deb857de-535c-425c-b52a-a8836bf94ce9",
   "metadata": {},
   "source": [
    "#### Case #3: Using Slicing"
   ]
  },
  {
   "cell_type": "code",
   "execution_count": 41,
   "id": "5c8e08af-3f63-48df-a8ec-0d3201d95bf0",
   "metadata": {},
   "outputs": [],
   "source": [
    "# df.iloc[:20]"
   ]
  },
  {
   "cell_type": "code",
   "execution_count": 42,
   "id": "fffc8b69-d6ed-40c6-a625-b990450f3bee",
   "metadata": {},
   "outputs": [],
   "source": [
    "# pd.DataFrame(df, columns=['country', 'year'])\n",
    "# df.iloc[:, 0:2]"
   ]
  },
  {
   "cell_type": "code",
   "execution_count": 43,
   "id": "c88f931e-3d45-456c-8d71-bf26e710c1ef",
   "metadata": {},
   "outputs": [
    {
     "data": {
      "text/html": [
       "<div>\n",
       "<style scoped>\n",
       "    .dataframe tbody tr th:only-of-type {\n",
       "        vertical-align: middle;\n",
       "    }\n",
       "\n",
       "    .dataframe tbody tr th {\n",
       "        vertical-align: top;\n",
       "    }\n",
       "\n",
       "    .dataframe thead th {\n",
       "        text-align: right;\n",
       "    }\n",
       "</style>\n",
       "<table border=\"1\" class=\"dataframe\">\n",
       "  <thead>\n",
       "    <tr style=\"text-align: right;\">\n",
       "      <th></th>\n",
       "      <th>country</th>\n",
       "      <th>year</th>\n",
       "      <th>population</th>\n",
       "    </tr>\n",
       "  </thead>\n",
       "  <tbody>\n",
       "    <tr>\n",
       "      <th>1</th>\n",
       "      <td>Afghanistan</td>\n",
       "      <td>1952</td>\n",
       "      <td>8425333</td>\n",
       "    </tr>\n",
       "    <tr>\n",
       "      <th>2</th>\n",
       "      <td>Afghanistan</td>\n",
       "      <td>1957</td>\n",
       "      <td>9240934</td>\n",
       "    </tr>\n",
       "    <tr>\n",
       "      <th>3</th>\n",
       "      <td>Afghanistan</td>\n",
       "      <td>1962</td>\n",
       "      <td>10267083</td>\n",
       "    </tr>\n",
       "    <tr>\n",
       "      <th>4</th>\n",
       "      <td>Afghanistan</td>\n",
       "      <td>1967</td>\n",
       "      <td>11537966</td>\n",
       "    </tr>\n",
       "  </tbody>\n",
       "</table>\n",
       "</div>"
      ],
      "text/plain": [
       "       country  year  population\n",
       "1  Afghanistan  1952     8425333\n",
       "2  Afghanistan  1957     9240934\n",
       "3  Afghanistan  1962    10267083\n",
       "4  Afghanistan  1967    11537966"
      ]
     },
     "execution_count": 43,
     "metadata": {},
     "output_type": "execute_result"
    }
   ],
   "source": [
    "mk_df.iloc[:4, :3]"
   ]
  },
  {
   "cell_type": "markdown",
   "id": "393cbd2d-f0c1-4944-8222-73091af8a9fa",
   "metadata": {
    "jp-MarkdownHeadingCollapsed": true
   },
   "source": [
    "## 5 Access Index"
   ]
  },
  {
   "cell_type": "code",
   "execution_count": null,
   "id": "983ef90b-b92c-4874-bc53-b6d34b2ec4e2",
   "metadata": {},
   "outputs": [],
   "source": []
  },
  {
   "cell_type": "markdown",
   "id": "50e9883d-0a50-4b51-8c54-600ef1c2fc7b",
   "metadata": {},
   "source": [
    "## 5 Insert Rows"
   ]
  },
  {
   "cell_type": "code",
   "execution_count": 44,
   "id": "28ee17a4-0147-4a4d-822b-29d5eb4ec625",
   "metadata": {},
   "outputs": [
    {
     "data": {
      "text/html": [
       "<div>\n",
       "<style scoped>\n",
       "    .dataframe tbody tr th:only-of-type {\n",
       "        vertical-align: middle;\n",
       "    }\n",
       "\n",
       "    .dataframe tbody tr th {\n",
       "        vertical-align: top;\n",
       "    }\n",
       "\n",
       "    .dataframe thead th {\n",
       "        text-align: right;\n",
       "    }\n",
       "</style>\n",
       "<table border=\"1\" class=\"dataframe\">\n",
       "  <thead>\n",
       "    <tr style=\"text-align: right;\">\n",
       "      <th></th>\n",
       "      <th>Name</th>\n",
       "      <th>Age</th>\n",
       "      <th>Role</th>\n",
       "      <th>DOJ</th>\n",
       "    </tr>\n",
       "  </thead>\n",
       "  <tbody>\n",
       "    <tr>\n",
       "      <th>E01</th>\n",
       "      <td>Alex</td>\n",
       "      <td>31</td>\n",
       "      <td>Senior SD</td>\n",
       "      <td>01-06-2021</td>\n",
       "    </tr>\n",
       "    <tr>\n",
       "      <th>E02</th>\n",
       "      <td>Ajax</td>\n",
       "      <td>31</td>\n",
       "      <td>Associate Architect</td>\n",
       "      <td>01-01-2025</td>\n",
       "    </tr>\n",
       "    <tr>\n",
       "      <th>E03</th>\n",
       "      <td>Jane</td>\n",
       "      <td>28</td>\n",
       "      <td>Junior SD</td>\n",
       "      <td>01-03-2023</td>\n",
       "    </tr>\n",
       "    <tr>\n",
       "      <th>E04</th>\n",
       "      <td>John</td>\n",
       "      <td>35</td>\n",
       "      <td>Architect</td>\n",
       "      <td>01-12-2022</td>\n",
       "    </tr>\n",
       "    <tr>\n",
       "      <th>E05</th>\n",
       "      <td>Anna</td>\n",
       "      <td>40</td>\n",
       "      <td>V.P.</td>\n",
       "      <td>01-08-2000</td>\n",
       "    </tr>\n",
       "  </tbody>\n",
       "</table>\n",
       "</div>"
      ],
      "text/plain": [
       "     Name  Age                 Role         DOJ\n",
       "E01  Alex   31            Senior SD  01-06-2021\n",
       "E02  Ajax   31  Associate Architect  01-01-2025\n",
       "E03  Jane   28            Junior SD  01-03-2023\n",
       "E04  John   35            Architect  01-12-2022\n",
       "E05  Anna   40                 V.P.  01-08-2000"
      ]
     },
     "execution_count": 44,
     "metadata": {},
     "output_type": "execute_result"
    }
   ],
   "source": [
    "emp_df"
   ]
  },
  {
   "cell_type": "markdown",
   "id": "47c56ff2-3bcd-4957-89c7-a8e81d85257b",
   "metadata": {},
   "source": [
    "### 5.1 Using `loc`"
   ]
  },
  {
   "cell_type": "code",
   "execution_count": 45,
   "id": "fe4c0065-7852-4cb4-b514-5a77c2a3e6c0",
   "metadata": {},
   "outputs": [
    {
     "data": {
      "text/html": [
       "<div>\n",
       "<style scoped>\n",
       "    .dataframe tbody tr th:only-of-type {\n",
       "        vertical-align: middle;\n",
       "    }\n",
       "\n",
       "    .dataframe tbody tr th {\n",
       "        vertical-align: top;\n",
       "    }\n",
       "\n",
       "    .dataframe thead th {\n",
       "        text-align: right;\n",
       "    }\n",
       "</style>\n",
       "<table border=\"1\" class=\"dataframe\">\n",
       "  <thead>\n",
       "    <tr style=\"text-align: right;\">\n",
       "      <th></th>\n",
       "      <th>Name</th>\n",
       "      <th>Age</th>\n",
       "      <th>Role</th>\n",
       "      <th>DOJ</th>\n",
       "    </tr>\n",
       "  </thead>\n",
       "  <tbody>\n",
       "    <tr>\n",
       "      <th>E01</th>\n",
       "      <td>Alex</td>\n",
       "      <td>31</td>\n",
       "      <td>Senior SD</td>\n",
       "      <td>01-06-2021</td>\n",
       "    </tr>\n",
       "    <tr>\n",
       "      <th>E02</th>\n",
       "      <td>Ajax</td>\n",
       "      <td>31</td>\n",
       "      <td>Associate Architect</td>\n",
       "      <td>01-01-2025</td>\n",
       "    </tr>\n",
       "    <tr>\n",
       "      <th>E03</th>\n",
       "      <td>Jane</td>\n",
       "      <td>28</td>\n",
       "      <td>Junior SD</td>\n",
       "      <td>01-03-2023</td>\n",
       "    </tr>\n",
       "    <tr>\n",
       "      <th>E04</th>\n",
       "      <td>John</td>\n",
       "      <td>35</td>\n",
       "      <td>Architect</td>\n",
       "      <td>01-12-2022</td>\n",
       "    </tr>\n",
       "    <tr>\n",
       "      <th>E05</th>\n",
       "      <td>Anna</td>\n",
       "      <td>40</td>\n",
       "      <td>V.P.</td>\n",
       "      <td>01-08-2000</td>\n",
       "    </tr>\n",
       "    <tr>\n",
       "      <th>E06</th>\n",
       "      <td>Bob</td>\n",
       "      <td>30</td>\n",
       "      <td>Junior SD</td>\n",
       "      <td>01-07-2024</td>\n",
       "    </tr>\n",
       "  </tbody>\n",
       "</table>\n",
       "</div>"
      ],
      "text/plain": [
       "     Name  Age                 Role         DOJ\n",
       "E01  Alex   31            Senior SD  01-06-2021\n",
       "E02  Ajax   31  Associate Architect  01-01-2025\n",
       "E03  Jane   28            Junior SD  01-03-2023\n",
       "E04  John   35            Architect  01-12-2022\n",
       "E05  Anna   40                 V.P.  01-08-2000\n",
       "E06   Bob   30            Junior SD  01-07-2024"
      ]
     },
     "execution_count": 45,
     "metadata": {},
     "output_type": "execute_result"
    }
   ],
   "source": [
    "emp_df.loc[\"E06\"] = [\"Bob\", 30, \"Junior SD\", \"01-07-2024\"]\n",
    "emp_df"
   ]
  },
  {
   "cell_type": "markdown",
   "id": "fb819925-82f7-42e3-bdc0-4aaa8b1930e7",
   "metadata": {},
   "source": [
    "Hence its is possible to add new row using `loc`."
   ]
  },
  {
   "cell_type": "markdown",
   "id": "1ac64211-f819-4fb1-acce-0d1872a2c256",
   "metadata": {},
   "source": [
    "### 5.2 Using `iloc`"
   ]
  },
  {
   "cell_type": "markdown",
   "id": "267cf8ce-96ec-4181-ad21-d5b84e3d5455",
   "metadata": {},
   "source": [
    "##### Example #1"
   ]
  },
  {
   "cell_type": "markdown",
   "id": "8c111e0e-0ceb-430a-a2fd-48cf1265bf59",
   "metadata": {},
   "source": [
    "Fetch explicit indices"
   ]
  },
  {
   "cell_type": "code",
   "execution_count": 46,
   "id": "9f7d86f7-5784-4bf2-bb0b-f041ffe3d69c",
   "metadata": {},
   "outputs": [
    {
     "data": {
      "text/plain": [
       "(array([   0,    1,    2, ..., 1701, 1702, 1703], shape=(1704,)),)"
      ]
     },
     "execution_count": 46,
     "metadata": {},
     "output_type": "execute_result"
    }
   ],
   "source": [
    "# [mk_df.index.get_loc(exp_idx) for exp_idx in mk_df.index]\n",
    "np.where(mk_df.index.values)"
   ]
  },
  {
   "cell_type": "code",
   "execution_count": 47,
   "id": "c26ff094-6f6e-447a-9a66-9cf0ceff004e",
   "metadata": {},
   "outputs": [
    {
     "name": "stdout",
     "output_type": "stream",
     "text": [
      "IndexError: iloc cannot enlarge its target object\n"
     ]
    }
   ],
   "source": [
    "try:\n",
    "    mk_df.iloc[1704] = [\"Zimbabwe\", 2008, 12311143, \"Africa\", 43.487, 469.709298]\n",
    "except IndexError as err:\n",
    "    print(\"IndexError:\", err)"
   ]
  },
  {
   "cell_type": "markdown",
   "id": "6953af88-adf2-4fe8-94f6-4f8ad0e8f421",
   "metadata": {},
   "source": [
    "##### Example #2"
   ]
  },
  {
   "cell_type": "markdown",
   "id": "1bbc9cb8-d280-4581-b2d1-70216225b321",
   "metadata": {},
   "source": [
    "Fetch explicit indices"
   ]
  },
  {
   "cell_type": "code",
   "execution_count": 48,
   "id": "f5ba1c7c-0c52-4ae1-aa55-88502304bd51",
   "metadata": {},
   "outputs": [
    {
     "data": {
      "text/plain": [
       "(array([0, 1, 2, 3, 4, 5]),)"
      ]
     },
     "execution_count": 48,
     "metadata": {},
     "output_type": "execute_result"
    }
   ],
   "source": [
    "# [emp_df.index.get_loc(exp_idx) for exp_idx in emp_df.index]\n",
    "np.where(emp_df.index.values)"
   ]
  },
  {
   "cell_type": "code",
   "execution_count": 49,
   "id": "1d381517-d607-4a1e-8d31-dd2b41f1650c",
   "metadata": {},
   "outputs": [
    {
     "name": "stdout",
     "output_type": "stream",
     "text": [
      "IndexError: iloc cannot enlarge its target object\n"
     ]
    }
   ],
   "source": [
    "try:\n",
    "    emp_df.iloc[6] = [\"Kavin\", 30, \"Junior SD\", \"01-07-2025\"]\n",
    "except IndexError as err:\n",
    "    print(\"IndexError:\", err)"
   ]
  },
  {
   "cell_type": "markdown",
   "id": "1467e91b-b70f-4fc6-9d4d-7ad63032a1b1",
   "metadata": {},
   "source": [
    "Hence its is **NOT** possible to add new row using `iloc`."
   ]
  },
  {
   "cell_type": "code",
   "execution_count": null,
   "id": "fae71090-9253-40dc-b61c-2ad4e1fe2ebf",
   "metadata": {},
   "outputs": [],
   "source": []
  }
 ],
 "metadata": {
  "kernelspec": {
   "display_name": "Python 3 (ipykernel)",
   "language": "python",
   "name": "python3"
  },
  "language_info": {
   "codemirror_mode": {
    "name": "ipython",
    "version": 3
   },
   "file_extension": ".py",
   "mimetype": "text/x-python",
   "name": "python",
   "nbconvert_exporter": "python",
   "pygments_lexer": "ipython3",
   "version": "3.12.6"
  }
 },
 "nbformat": 4,
 "nbformat_minor": 5
}
