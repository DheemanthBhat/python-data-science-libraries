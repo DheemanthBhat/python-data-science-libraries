{
 "cells": [
  {
   "cell_type": "markdown",
   "id": "2235d9b1-28f3-4e11-848b-d80f6e111408",
   "metadata": {},
   "source": [
    "![Numpy logo](images\\numpy.png)"
   ]
  },
  {
   "cell_type": "markdown",
   "id": "3aa03918-bcfb-4985-a79a-758f493b6e74",
   "metadata": {},
   "source": [
    "# NumPy Tutorials - PART 2: Functions"
   ]
  },
  {
   "cell_type": "markdown",
   "id": "5d419ed9-8dc1-4833-8def-b1719078a269",
   "metadata": {},
   "source": [
    "## Setup"
   ]
  },
  {
   "cell_type": "markdown",
   "id": "44a1fb9d-ad8d-4898-af74-1e71b2f06585",
   "metadata": {},
   "source": [
    "### Install library"
   ]
  },
  {
   "cell_type": "markdown",
   "id": "fdc33e51-f87d-4e3d-9098-7fd6cdc523af",
   "metadata": {},
   "source": [
    "Run below command if NumPy is not already installed.\n",
    "```cmd\n",
    "pip install numpy\n",
    "```\n",
    "or\n",
    "```cmd\n",
    "pip3 install numpy\n",
    "```"
   ]
  },
  {
   "cell_type": "markdown",
   "id": "907b5e3b-d3bd-48b3-8ec8-9f7d8ed0c45e",
   "metadata": {},
   "source": [
    "### Import Library"
   ]
  },
  {
   "cell_type": "code",
   "execution_count": 1,
   "id": "a3227553-e010-4fd1-9bd8-3f871445e9f3",
   "metadata": {},
   "outputs": [
    {
     "name": "stdout",
     "output_type": "stream",
     "text": [
      "NumPy version: 2.3.0\n"
     ]
    }
   ],
   "source": [
    "import numpy as np\n",
    "\n",
    "\n",
    "print(\"NumPy version:\", np.__version__)"
   ]
  },
  {
   "cell_type": "markdown",
   "id": "5ebfc839-69eb-454e-80c5-0eb624fa311b",
   "metadata": {},
   "source": [
    "### Preface"
   ]
  },
  {
   "cell_type": "markdown",
   "id": "35e4c935-926e-429b-b51b-8ae0a169cf34",
   "metadata": {},
   "source": [
    "1. `len()` always returns the total number of elements in first dimension.\n",
    "2. NumPy functions can be applied as global functions: `np.function_name(my_array)` or as object methods `my_array.function_name()`.\n",
    "3. `?` without invoking the function using paranthesis `()`, like `my_array.function_name?` or `np.function_name?`, returns its [docstring][1].\n",
    "\n",
    "[1]: https://peps.python.org/pep-0257/#what-is-a-docstring"
   ]
  },
  {
   "cell_type": "markdown",
   "id": "0ccdf21e-4840-45c5-86a9-184d952ba8ed",
   "metadata": {},
   "source": [
    "## Reshape"
   ]
  },
  {
   "cell_type": "code",
   "execution_count": 2,
   "id": "ec2629a6-3eae-4616-9cda-98244c96524b",
   "metadata": {},
   "outputs": [
    {
     "data": {
      "text/plain": [
       "array([ 1,  2,  3,  4,  5,  6,  7,  8,  9, 10, 11, 12])"
      ]
     },
     "execution_count": 2,
     "metadata": {},
     "output_type": "execute_result"
    }
   ],
   "source": [
    "arr = np.arange(1, 13)\n",
    "arr"
   ]
  },
  {
   "cell_type": "code",
   "execution_count": 3,
   "id": "6ef1ff71-8dba-49de-b5ec-4ff60c6e6406",
   "metadata": {},
   "outputs": [
    {
     "data": {
      "text/plain": [
       "(12,)"
      ]
     },
     "execution_count": 3,
     "metadata": {},
     "output_type": "execute_result"
    }
   ],
   "source": [
    "arr.shape"
   ]
  },
  {
   "cell_type": "markdown",
   "id": "aa115ed8-9503-45d3-8cb6-badd9f214797",
   "metadata": {},
   "source": [
    "#### Docstring"
   ]
  },
  {
   "cell_type": "code",
   "execution_count": 4,
   "id": "e121fba6-18bf-46ed-93ba-909af05f1064",
   "metadata": {},
   "outputs": [
    {
     "data": {
      "text/plain": [
       "\u001b[31mDocstring:\u001b[39m\n",
       "a.reshape(shape, /, *, order='C', copy=None)\n",
       "\n",
       "Returns an array containing the same data with a new shape.\n",
       "\n",
       "Refer to `numpy.reshape` for full documentation.\n",
       "\n",
       "See Also\n",
       "--------\n",
       "numpy.reshape : equivalent function\n",
       "\n",
       "Notes\n",
       "-----\n",
       "Unlike the free function `numpy.reshape`, this method on `ndarray` allows\n",
       "the elements of the shape parameter to be passed in as separate arguments.\n",
       "For example, ``a.reshape(10, 11)`` is equivalent to\n",
       "``a.reshape((10, 11))``.\n",
       "\u001b[31mType:\u001b[39m      builtin_function_or_method"
      ]
     },
     "metadata": {},
     "output_type": "display_data"
    }
   ],
   "source": [
    "arr.reshape?"
   ]
  },
  {
   "cell_type": "code",
   "execution_count": 5,
   "id": "a78aeeef-867e-4b78-8ef2-b3252aa0f264",
   "metadata": {},
   "outputs": [
    {
     "data": {
      "text/plain": [
       "array([[ 1,  2,  3,  4],\n",
       "       [ 5,  6,  7,  8],\n",
       "       [ 9, 10, 11, 12]])"
      ]
     },
     "execution_count": 5,
     "metadata": {},
     "output_type": "execute_result"
    }
   ],
   "source": [
    "arr.reshape(3, 4)"
   ]
  },
  {
   "cell_type": "code",
   "execution_count": 6,
   "id": "017aad1c-ddc9-4ab3-878a-fece05dff9eb",
   "metadata": {},
   "outputs": [
    {
     "data": {
      "text/plain": [
       "array([ 1,  2,  3,  4,  5,  6,  7,  8,  9, 10, 11, 12])"
      ]
     },
     "execution_count": 6,
     "metadata": {},
     "output_type": "execute_result"
    }
   ],
   "source": [
    "arr"
   ]
  },
  {
   "cell_type": "markdown",
   "id": "f1df5677-45f8-4894-80aa-5a89fcef7e2d",
   "metadata": {},
   "source": [
    "#### Reshape cannot loose data"
   ]
  },
  {
   "cell_type": "code",
   "execution_count": 7,
   "id": "c3214e75-2025-46f4-ae11-197401e10ea5",
   "metadata": {},
   "outputs": [
    {
     "name": "stdout",
     "output_type": "stream",
     "text": [
      "Error: cannot reshape array of size 13 into shape (3,4)\n"
     ]
    }
   ],
   "source": [
    "try:\n",
    "    np.arange(1, 14).reshape(3, 4)\n",
    "\n",
    "except ValueError as err:\n",
    "    print(\"Error:\", err)"
   ]
  },
  {
   "cell_type": "markdown",
   "id": "701eaff4-3ee4-498b-b3da-da1b575c0269",
   "metadata": {},
   "source": [
    "#### Auto reshape using `-1`"
   ]
  },
  {
   "cell_type": "code",
   "execution_count": 8,
   "id": "8715446d-e271-432d-8e30-bb83e79da48e",
   "metadata": {},
   "outputs": [
    {
     "data": {
      "text/plain": [
       "array([[ 1,  2,  3,  4],\n",
       "       [ 5,  6,  7,  8],\n",
       "       [ 9, 10, 11, 12]])"
      ]
     },
     "execution_count": 8,
     "metadata": {},
     "output_type": "execute_result"
    }
   ],
   "source": [
    "arr.reshape(3, -1)"
   ]
  },
  {
   "cell_type": "code",
   "execution_count": 9,
   "id": "5b6144b4-1dd3-4940-a276-cc85b1106694",
   "metadata": {},
   "outputs": [
    {
     "data": {
      "text/plain": [
       "array([[ 1,  2,  3,  4],\n",
       "       [ 5,  6,  7,  8],\n",
       "       [ 9, 10, 11, 12]])"
      ]
     },
     "execution_count": 9,
     "metadata": {},
     "output_type": "execute_result"
    }
   ],
   "source": [
    "arr.reshape(-1, 4)"
   ]
  },
  {
   "cell_type": "code",
   "execution_count": 10,
   "id": "6041493e-0e86-4bf1-a9b1-0d932c0c1127",
   "metadata": {},
   "outputs": [
    {
     "data": {
      "text/plain": [
       "array([[ 1,  2,  3,  4,  5,  6,  7,  8,  9, 10, 11, 12]])"
      ]
     },
     "execution_count": 10,
     "metadata": {},
     "output_type": "execute_result"
    }
   ],
   "source": [
    "arr.reshape(-1, 12)"
   ]
  },
  {
   "cell_type": "code",
   "execution_count": 11,
   "id": "0020047d-0082-4e15-ba13-880394aa0a6b",
   "metadata": {},
   "outputs": [
    {
     "data": {
      "text/plain": [
       "array([[ 1],\n",
       "       [ 2],\n",
       "       [ 3],\n",
       "       [ 4],\n",
       "       [ 5],\n",
       "       [ 6],\n",
       "       [ 7],\n",
       "       [ 8],\n",
       "       [ 9],\n",
       "       [10],\n",
       "       [11],\n",
       "       [12]])"
      ]
     },
     "execution_count": 11,
     "metadata": {},
     "output_type": "execute_result"
    }
   ],
   "source": [
    "arr.reshape(12, -1)"
   ]
  },
  {
   "cell_type": "code",
   "execution_count": 12,
   "id": "834a0fc2-579d-4548-8d5a-e1cec11a273f",
   "metadata": {},
   "outputs": [
    {
     "name": "stdout",
     "output_type": "stream",
     "text": [
      "Error: can only specify one unknown dimension\n"
     ]
    }
   ],
   "source": [
    "try:\n",
    "    arr.reshape(-1, -1)\n",
    "\n",
    "except ValueError as err:\n",
    "    print(\"Error:\", err)"
   ]
  },
  {
   "cell_type": "markdown",
   "id": "5bf00419-6dac-4dd8-a33c-a3387a3837c3",
   "metadata": {},
   "source": [
    "## Transpose"
   ]
  },
  {
   "cell_type": "code",
   "execution_count": 13,
   "id": "23deddf4-d6f6-4961-b278-5ddda1923824",
   "metadata": {},
   "outputs": [
    {
     "name": "stdout",
     "output_type": "stream",
     "text": [
      "[[ 1  2  3  4]\n",
      " [ 5  6  7  8]\n",
      " [ 9 10 11 12]]\n",
      "\n",
      "Shape: (3, 4)\n"
     ]
    }
   ],
   "source": [
    "# Create an array of length 12 containing elements from 1 to 12 and\n",
    "# rearrange those elements to form a 3-rows X 4-columns matrix.\n",
    "arr = np.arange(1, 13).reshape(3, 4)\n",
    "print(arr)\n",
    "print(\"\\nShape:\", arr.shape)"
   ]
  },
  {
   "cell_type": "code",
   "execution_count": 14,
   "id": "8068ea82-64ac-4d7b-9694-ac2c11f7330d",
   "metadata": {},
   "outputs": [],
   "source": [
    "# arr.transpose?"
   ]
  },
  {
   "cell_type": "markdown",
   "id": "98eccd85-31df-46fd-8e8f-19511b462801",
   "metadata": {},
   "source": [
    "### Using `T` attribute"
   ]
  },
  {
   "cell_type": "code",
   "execution_count": 15,
   "id": "5d9987df-40fa-47d8-a6b9-79ffdf03d021",
   "metadata": {},
   "outputs": [
    {
     "data": {
      "text/plain": [
       "array([[ 1,  5,  9],\n",
       "       [ 2,  6, 10],\n",
       "       [ 3,  7, 11],\n",
       "       [ 4,  8, 12]])"
      ]
     },
     "execution_count": 15,
     "metadata": {},
     "output_type": "execute_result"
    }
   ],
   "source": [
    "arr.T"
   ]
  },
  {
   "cell_type": "code",
   "execution_count": 16,
   "id": "c5463984-41ca-4525-bd23-950d9e253571",
   "metadata": {},
   "outputs": [
    {
     "data": {
      "text/plain": [
       "array([[ 1,  2,  3,  4],\n",
       "       [ 5,  6,  7,  8],\n",
       "       [ 9, 10, 11, 12]])"
      ]
     },
     "execution_count": 16,
     "metadata": {},
     "output_type": "execute_result"
    }
   ],
   "source": [
    "arr"
   ]
  },
  {
   "cell_type": "markdown",
   "id": "a721397c-aa0a-4543-b3ce-e8e8e45578d2",
   "metadata": {},
   "source": [
    "### Using `transpose` function"
   ]
  },
  {
   "cell_type": "code",
   "execution_count": 17,
   "id": "d0f6cd0b-6ef5-421b-aabb-4c06020261bd",
   "metadata": {},
   "outputs": [
    {
     "data": {
      "text/plain": [
       "array([[ 1,  5,  9],\n",
       "       [ 2,  6, 10],\n",
       "       [ 3,  7, 11],\n",
       "       [ 4,  8, 12]])"
      ]
     },
     "execution_count": 17,
     "metadata": {},
     "output_type": "execute_result"
    }
   ],
   "source": [
    "arr.transpose()"
   ]
  },
  {
   "cell_type": "code",
   "execution_count": 18,
   "id": "7357c5fd-8e7f-4556-8b6e-8103e19d1ffa",
   "metadata": {},
   "outputs": [
    {
     "data": {
      "text/plain": [
       "array([[ 1,  5,  9],\n",
       "       [ 2,  6, 10],\n",
       "       [ 3,  7, 11],\n",
       "       [ 4,  8, 12]])"
      ]
     },
     "execution_count": 18,
     "metadata": {},
     "output_type": "execute_result"
    }
   ],
   "source": [
    "np.transpose(arr)"
   ]
  },
  {
   "cell_type": "code",
   "execution_count": 19,
   "id": "8c4d0fc5-9bf6-4e2b-9a3e-8167609ecc97",
   "metadata": {},
   "outputs": [
    {
     "data": {
      "text/plain": [
       "array([[ 1,  2,  3,  4],\n",
       "       [ 5,  6,  7,  8],\n",
       "       [ 9, 10, 11, 12]])"
      ]
     },
     "execution_count": 19,
     "metadata": {},
     "output_type": "execute_result"
    }
   ],
   "source": [
    "arr"
   ]
  },
  {
   "cell_type": "markdown",
   "id": "2ebe1e42-731e-42cc-919f-12b9c3a05465",
   "metadata": {},
   "source": [
    "## Indexing"
   ]
  },
  {
   "cell_type": "markdown",
   "id": "7cefae76-25dc-41cb-b2d2-dcec45fe3097",
   "metadata": {},
   "source": [
    "NumPy array can be indexed in three ways:\n",
    "\n",
    "1. Explicit indexing: By passing separate list of row indexes and column indexes.\n",
    "2. Slicing: Using colon `:` operator.\n",
    "3. Fancy indexing or Masking: Using comparison operators (`<`, `>`, `==`, `>=`, `<=`, `!=`) on NumPy array."
   ]
  },
  {
   "cell_type": "markdown",
   "id": "0d474ed1-6345-42bb-9a0f-88d4ed2f071f",
   "metadata": {},
   "source": [
    "### Explicit indexing"
   ]
  },
  {
   "cell_type": "markdown",
   "id": "49254653-1d67-4e69-88be-9d0ed1a94a01",
   "metadata": {},
   "source": [
    "#### Case #1: Accessing single element"
   ]
  },
  {
   "cell_type": "code",
   "execution_count": 20,
   "id": "4b70c732-c501-445c-9be9-948c112a631f",
   "metadata": {},
   "outputs": [
    {
     "data": {
      "text/plain": [
       "array([[ 1,  2,  3,  4],\n",
       "       [ 5,  6,  7,  8],\n",
       "       [ 9, 10, 11, 12]])"
      ]
     },
     "execution_count": 20,
     "metadata": {},
     "output_type": "execute_result"
    }
   ],
   "source": [
    "# Reshape array of length 12 to 3X4 matrix.\n",
    "arr = np.arange(1, 13).reshape(3, 4)\n",
    "arr"
   ]
  },
  {
   "cell_type": "markdown",
   "id": "264821fe-9499-43c9-aae5-1c959d79956b",
   "metadata": {},
   "source": [
    "Different ways to access elements in 2D array. For example to access second row third element:\n",
    "\n",
    "1. Second row index: 1\n",
    "2. Third column index: 2"
   ]
  },
  {
   "cell_type": "code",
   "execution_count": 21,
   "id": "412f3d79-91b4-4f15-95f2-1dcfc3508473",
   "metadata": {},
   "outputs": [
    {
     "data": {
      "text/plain": [
       "np.int64(7)"
      ]
     },
     "execution_count": 21,
     "metadata": {},
     "output_type": "execute_result"
    }
   ],
   "source": [
    "arr[1][2]"
   ]
  },
  {
   "cell_type": "code",
   "execution_count": 22,
   "id": "625dc192-bb97-4e0b-9174-01d5764aca91",
   "metadata": {},
   "outputs": [
    {
     "data": {
      "text/plain": [
       "np.int64(7)"
      ]
     },
     "execution_count": 22,
     "metadata": {},
     "output_type": "execute_result"
    }
   ],
   "source": [
    "arr[1, 2]"
   ]
  },
  {
   "cell_type": "markdown",
   "id": "64521d2f-1845-4b8b-9411-421a0de7d500",
   "metadata": {},
   "source": [
    "#### Case #2: Accessing multiple elements"
   ]
  },
  {
   "cell_type": "code",
   "execution_count": 23,
   "id": "5996bedc-4617-4216-b3f9-d6cf99b1f135",
   "metadata": {},
   "outputs": [
    {
     "data": {
      "text/plain": [
       "array([[ 1,  2,  3,  4],\n",
       "       [ 5,  6,  7,  8],\n",
       "       [ 9, 10, 11, 12],\n",
       "       [13, 14, 15, 16]])"
      ]
     },
     "execution_count": 23,
     "metadata": {},
     "output_type": "execute_result"
    }
   ],
   "source": [
    "# Reshape array of length 16 to 4X4 matrix.\n",
    "arr = np.arange(1, 17).reshape(4, 4)\n",
    "arr"
   ]
  },
  {
   "cell_type": "markdown",
   "id": "678a6e02-3003-4eb7-9596-22fe98a0d2d4",
   "metadata": {},
   "source": [
    "```\n",
    "arr[\n",
    "    [list of row indices],\n",
    "    [list of column indices],\n",
    "]\n",
    "```"
   ]
  },
  {
   "cell_type": "code",
   "execution_count": 24,
   "id": "c6d0a1e4-a715-4f83-9a00-59672ce8189e",
   "metadata": {},
   "outputs": [
    {
     "data": {
      "text/plain": [
       "array([[ 5,  6,  7,  8],\n",
       "       [ 9, 10, 11, 12]])"
      ]
     },
     "execution_count": 24,
     "metadata": {},
     "output_type": "execute_result"
    }
   ],
   "source": [
    "arr[[1, 2]]"
   ]
  },
  {
   "cell_type": "code",
   "execution_count": 25,
   "id": "f6af8e8c-60f2-4acc-a0fa-339333115d08",
   "metadata": {},
   "outputs": [
    {
     "data": {
      "text/plain": [
       "array([ 6,  9, 16])"
      ]
     },
     "execution_count": 25,
     "metadata": {},
     "output_type": "execute_result"
    }
   ],
   "source": [
    "arr[[1, 2, 3], [1, 0, 3]]"
   ]
  },
  {
   "cell_type": "markdown",
   "id": "bb775337-d6c6-472a-b261-4bbd6f55bf71",
   "metadata": {},
   "source": [
    "### Slicing"
   ]
  },
  {
   "cell_type": "code",
   "execution_count": 26,
   "id": "6054e4d3-73e3-4b6a-9655-9855e71b183b",
   "metadata": {},
   "outputs": [
    {
     "data": {
      "text/plain": [
       "array([[ 1,  2,  3,  4],\n",
       "       [ 5,  6,  7,  8],\n",
       "       [ 9, 10, 11, 12],\n",
       "       [13, 14, 15, 16]])"
      ]
     },
     "execution_count": 26,
     "metadata": {},
     "output_type": "execute_result"
    }
   ],
   "source": [
    "arr = np.arange(1, 17).reshape(4, 4)\n",
    "arr"
   ]
  },
  {
   "cell_type": "markdown",
   "id": "fbe099bd-f489-4c39-904d-cd154c20c13a",
   "metadata": {},
   "source": [
    "```\n",
    "arr[row_index_start:row_index_end, column_index_start:column_index_end]\n",
    "```\n",
    "\n",
    "1. Default value for `row_index_start` is zero.\n",
    "2. Default value for `column_index_start` is zero.\n",
    "3. `row_index_end` is exclusive.\n",
    "4. `column_index_end` is exclusive."
   ]
  },
  {
   "cell_type": "markdown",
   "id": "4c002568-014a-430d-aa96-bbae0da6b2df",
   "metadata": {},
   "source": [
    "#### Row Slicing"
   ]
  },
  {
   "cell_type": "markdown",
   "id": "c57ee43c-5495-4562-9a6e-9d8818c22c8e",
   "metadata": {},
   "source": [
    "##### Case #1: Default indexes"
   ]
  },
  {
   "cell_type": "code",
   "execution_count": 27,
   "id": "b69eccd1-ea58-4a4c-a62d-b6e7af2cf9cc",
   "metadata": {},
   "outputs": [
    {
     "data": {
      "text/plain": [
       "array([[ 1,  2,  3,  4],\n",
       "       [ 5,  6,  7,  8],\n",
       "       [ 9, 10, 11, 12],\n",
       "       [13, 14, 15, 16]])"
      ]
     },
     "execution_count": 27,
     "metadata": {},
     "output_type": "execute_result"
    }
   ],
   "source": [
    "arr[:]"
   ]
  },
  {
   "cell_type": "markdown",
   "id": "8c791b86-32e1-4acc-ba31-84a746d8531f",
   "metadata": {},
   "source": [
    "##### Case #2: Index within range"
   ]
  },
  {
   "cell_type": "code",
   "execution_count": 28,
   "id": "4ea3fc25-ac0f-4681-ad2c-8b189e6a2770",
   "metadata": {},
   "outputs": [
    {
     "data": {
      "text/plain": [
       "array([[ 1,  2,  3,  4],\n",
       "       [ 5,  6,  7,  8],\n",
       "       [ 9, 10, 11, 12],\n",
       "       [13, 14, 15, 16]])"
      ]
     },
     "execution_count": 28,
     "metadata": {},
     "output_type": "execute_result"
    }
   ],
   "source": [
    "arr[0:4]"
   ]
  },
  {
   "cell_type": "markdown",
   "id": "c78d122a-54db-4b82-acda-7f760b277a91",
   "metadata": {},
   "source": [
    "##### Case #3: Index out of range"
   ]
  },
  {
   "cell_type": "markdown",
   "id": "369bf5f4-df53-49df-bdfd-3e97730eed09",
   "metadata": {},
   "source": [
    "When only `row_index_start` is out of range:"
   ]
  },
  {
   "cell_type": "code",
   "execution_count": 29,
   "id": "7f68471f-5e2c-4b28-bcf1-f81ea15f556f",
   "metadata": {},
   "outputs": [
    {
     "data": {
      "text/plain": [
       "array([], shape=(0, 4), dtype=int64)"
      ]
     },
     "execution_count": 29,
     "metadata": {},
     "output_type": "execute_result"
    }
   ],
   "source": [
    "arr[4:]"
   ]
  },
  {
   "cell_type": "markdown",
   "id": "941b646b-4c6a-45a9-b8cf-bd07cfe5a66a",
   "metadata": {},
   "source": [
    "When only `row_index_end` is out of range:"
   ]
  },
  {
   "cell_type": "code",
   "execution_count": 30,
   "id": "5d11c377-8d25-429b-aa12-ec00bd5538aa",
   "metadata": {},
   "outputs": [
    {
     "data": {
      "text/plain": [
       "array([[ 1,  2,  3,  4],\n",
       "       [ 5,  6,  7,  8],\n",
       "       [ 9, 10, 11, 12],\n",
       "       [13, 14, 15, 16]])"
      ]
     },
     "execution_count": 30,
     "metadata": {},
     "output_type": "execute_result"
    }
   ],
   "source": [
    "arr[:5]"
   ]
  },
  {
   "cell_type": "markdown",
   "id": "bc970f87-6a22-49f0-a436-5cd3a4eafaf3",
   "metadata": {},
   "source": [
    "##### Case #4: Negative indexes"
   ]
  },
  {
   "cell_type": "code",
   "execution_count": 31,
   "id": "ac25dad8-e697-4574-947d-a5cf3bd5fa3e",
   "metadata": {},
   "outputs": [
    {
     "data": {
      "text/plain": [
       "array([[5, 6, 7, 8]])"
      ]
     },
     "execution_count": 31,
     "metadata": {},
     "output_type": "execute_result"
    }
   ],
   "source": [
    "arr[1:-2]"
   ]
  },
  {
   "cell_type": "markdown",
   "id": "c2317984-6cb6-4268-85f0-410e6dac2c3e",
   "metadata": {},
   "source": [
    "#### Column Slicing"
   ]
  },
  {
   "cell_type": "markdown",
   "id": "be32a7f3-b2f0-4124-bd8d-536ffb4a921a",
   "metadata": {},
   "source": [
    "##### Case #1: Default Indexes"
   ]
  },
  {
   "cell_type": "code",
   "execution_count": 32,
   "id": "4508d9e3-b7b0-4222-b42d-ab706ed56996",
   "metadata": {},
   "outputs": [
    {
     "data": {
      "text/plain": [
       "array([[ 1,  2,  3,  4],\n",
       "       [ 5,  6,  7,  8],\n",
       "       [ 9, 10, 11, 12],\n",
       "       [13, 14, 15, 16]])"
      ]
     },
     "execution_count": 32,
     "metadata": {},
     "output_type": "execute_result"
    }
   ],
   "source": [
    "arr[:, :]"
   ]
  },
  {
   "cell_type": "markdown",
   "id": "d9e2007b-325d-4f9b-9c1f-a122ef823006",
   "metadata": {},
   "source": [
    "##### Case #2: Indexes within range"
   ]
  },
  {
   "cell_type": "code",
   "execution_count": 33,
   "id": "f85d6756-d195-4ede-97f7-fa9aff45a845",
   "metadata": {},
   "outputs": [
    {
     "data": {
      "text/plain": [
       "array([[ 1,  2,  3,  4],\n",
       "       [ 5,  6,  7,  8],\n",
       "       [ 9, 10, 11, 12],\n",
       "       [13, 14, 15, 16]])"
      ]
     },
     "execution_count": 33,
     "metadata": {},
     "output_type": "execute_result"
    }
   ],
   "source": [
    "arr[:, 0:]"
   ]
  },
  {
   "cell_type": "markdown",
   "id": "759dff14-1510-4b07-a96a-c7ac246be8c7",
   "metadata": {},
   "source": [
    "`column_index_end` is exclusive."
   ]
  },
  {
   "cell_type": "code",
   "execution_count": 34,
   "id": "61989ffe-b7e9-4334-b13a-ad8563b35bc2",
   "metadata": {},
   "outputs": [
    {
     "data": {
      "text/plain": [
       "array([[ 1,  2,  3],\n",
       "       [ 5,  6,  7],\n",
       "       [ 9, 10, 11],\n",
       "       [13, 14, 15]])"
      ]
     },
     "execution_count": 34,
     "metadata": {},
     "output_type": "execute_result"
    }
   ],
   "source": [
    "arr[:, 0:3]"
   ]
  },
  {
   "cell_type": "markdown",
   "id": "4ee3c534-f34c-43ba-878f-455f50512428",
   "metadata": {},
   "source": [
    "##### Case #3: Indexes out of range"
   ]
  },
  {
   "cell_type": "code",
   "execution_count": 35,
   "id": "6ee2cf0e-3a7f-47f4-820d-507165151ea2",
   "metadata": {},
   "outputs": [
    {
     "data": {
      "text/plain": [
       "array([[ 1,  2,  3,  4],\n",
       "       [ 5,  6,  7,  8],\n",
       "       [ 9, 10, 11, 12],\n",
       "       [13, 14, 15, 16]])"
      ]
     },
     "execution_count": 35,
     "metadata": {},
     "output_type": "execute_result"
    }
   ],
   "source": [
    "arr[:, :5]"
   ]
  },
  {
   "cell_type": "code",
   "execution_count": 36,
   "id": "a898ba3f-17f8-445e-a382-a8f4080aa7d5",
   "metadata": {},
   "outputs": [
    {
     "data": {
      "text/plain": [
       "array([ 1, 14,  3])"
      ]
     },
     "execution_count": 36,
     "metadata": {},
     "output_type": "execute_result"
    }
   ],
   "source": [
    "np.arange(1, 15)[[0, -1, 2]]"
   ]
  },
  {
   "cell_type": "markdown",
   "id": "6f9a0f80-115f-4c04-8621-36f240c8282d",
   "metadata": {},
   "source": [
    "##### Case #4: Negative indexes"
   ]
  },
  {
   "cell_type": "code",
   "execution_count": 37,
   "id": "4f6f7ce9-76c7-4542-bfe1-d9289af81fcd",
   "metadata": {},
   "outputs": [
    {
     "data": {
      "text/plain": [
       "array([[ 4],\n",
       "       [ 8],\n",
       "       [12],\n",
       "       [16]])"
      ]
     },
     "execution_count": 37,
     "metadata": {},
     "output_type": "execute_result"
    }
   ],
   "source": [
    "arr[:, -1:]"
   ]
  },
  {
   "cell_type": "code",
   "execution_count": 38,
   "id": "d36f37e0-2923-4099-95e2-6a3c5f049758",
   "metadata": {},
   "outputs": [
    {
     "data": {
      "text/plain": [
       "array([], shape=(4, 0), dtype=int64)"
      ]
     },
     "execution_count": 38,
     "metadata": {},
     "output_type": "execute_result"
    }
   ],
   "source": [
    "arr[:, -1:2]"
   ]
  },
  {
   "cell_type": "markdown",
   "id": "b8daa439-3d65-460a-b373-838a1da7e98e",
   "metadata": {},
   "source": [
    "### Fancy indexing / Masking"
   ]
  },
  {
   "cell_type": "code",
   "execution_count": 39,
   "id": "af5d827a-ed57-4736-a61f-cfb900268c91",
   "metadata": {},
   "outputs": [
    {
     "data": {
      "text/plain": [
       "array([[ 1,  2,  3,  4],\n",
       "       [ 5,  6,  7,  8],\n",
       "       [ 9, 10, 11, 12],\n",
       "       [13, 14, 15, 16]])"
      ]
     },
     "execution_count": 39,
     "metadata": {},
     "output_type": "execute_result"
    }
   ],
   "source": [
    "arr = np.arange(1, 17).reshape(4, 4)\n",
    "arr"
   ]
  },
  {
   "cell_type": "markdown",
   "id": "74cf1d13-9b09-432b-bd83-aaccbcc66792",
   "metadata": {},
   "source": [
    "#### Masking using single conditions"
   ]
  },
  {
   "cell_type": "code",
   "execution_count": 40,
   "id": "bff29565-4637-4bbf-acf6-d462c60b1d4a",
   "metadata": {},
   "outputs": [
    {
     "data": {
      "text/plain": [
       "array([[ True,  True,  True,  True],\n",
       "       [ True,  True,  True, False],\n",
       "       [False, False, False, False],\n",
       "       [False, False, False, False]])"
      ]
     },
     "execution_count": 40,
     "metadata": {},
     "output_type": "execute_result"
    }
   ],
   "source": [
    "arr < 8"
   ]
  },
  {
   "cell_type": "markdown",
   "id": "9f86a2c6-12b3-44c6-8f44-7ae531850729",
   "metadata": {},
   "source": [
    "#### Masking using multi conditions"
   ]
  },
  {
   "cell_type": "markdown",
   "id": "cc176d53-a04a-4668-b240-caf63259bc56",
   "metadata": {},
   "source": [
    "Multiple conditions can be applied using logical bitwise operators grouped in parentheses:\n",
    "1. `&`: AND\n",
    "2. `|`: OR\n",
    "3. `~`: NOT\n",
    "4. `^`: XOR\n",
    "5. `>>`: Right Shift\n",
    "6. `<<`: Left Shift"
   ]
  },
  {
   "cell_type": "markdown",
   "id": "36d9b745-045b-4295-95a1-5347662cd86b",
   "metadata": {},
   "source": [
    "For example below mask has multiple conditions inside parentheses separated by `&` operator."
   ]
  },
  {
   "cell_type": "code",
   "execution_count": 41,
   "id": "2ade709a-3bcb-4596-8bcc-82be0c1769b1",
   "metadata": {},
   "outputs": [
    {
     "data": {
      "text/plain": [
       "array([[False, False, False, False],\n",
       "       [False, False, False,  True],\n",
       "       [ True,  True,  True,  True],\n",
       "       [ True, False, False, False]])"
      ]
     },
     "execution_count": 41,
     "metadata": {},
     "output_type": "execute_result"
    }
   ],
   "source": [
    "(arr > 7) & (arr < 14)"
   ]
  },
  {
   "cell_type": "markdown",
   "id": "5726815d-7499-4fc2-bcb8-2c5e7eb96d36",
   "metadata": {},
   "source": [
    "#### Fetch data using Masking"
   ]
  },
  {
   "cell_type": "code",
   "execution_count": 42,
   "id": "e6cfd5db-cab7-4767-a8a5-0918954106b0",
   "metadata": {},
   "outputs": [
    {
     "data": {
      "text/plain": [
       "array([ 8,  9, 10, 11, 12, 13])"
      ]
     },
     "execution_count": 42,
     "metadata": {},
     "output_type": "execute_result"
    }
   ],
   "source": [
    "mask = (arr > 7) & (arr < 14)\n",
    "arr[mask]  # Apply mask on array"
   ]
  },
  {
   "cell_type": "markdown",
   "id": "bdbf2be8-949f-45b0-aaa2-dfc8096fd3b9",
   "metadata": {},
   "source": [
    "> **Note**:\n",
    ">\n",
    "> Fetching data (or filtering) using Masking always returns single dimensional array."
   ]
  },
  {
   "cell_type": "code",
   "execution_count": 43,
   "id": "ac99ee85-6f30-46cb-af3a-eb1847a57b44",
   "metadata": {},
   "outputs": [
    {
     "data": {
      "text/plain": [
       "array([ 0,  1,  3,  6, 10, 15, 21, 28, 36, 45])"
      ]
     },
     "execution_count": 43,
     "metadata": {},
     "output_type": "execute_result"
    }
   ],
   "source": [
    "np.cumsum([0, 1, 2, 3, 4, 5, 6, 7, 8, 9])"
   ]
  },
  {
   "cell_type": "markdown",
   "id": "8ce726a7-a80e-4bc3-8266-e526a36ff659",
   "metadata": {},
   "source": [
    "## Axis"
   ]
  },
  {
   "cell_type": "markdown",
   "id": "a14084c7-b449-4a86-9c4f-415e47ee58af",
   "metadata": {},
   "source": [
    "Before utilizing on different types of functions in NumPy, its important to understand the concept of **axis** w.r.t NumPy arrays."
   ]
  },
  {
   "cell_type": "markdown",
   "id": "d793ffe2-71d8-4a6c-beae-99f6fb558b41",
   "metadata": {},
   "source": [
    "##### TL;DR\n",
    "\n",
    "**Axis represents the index of dimension in the shape**"
   ]
  },
  {
   "cell_type": "markdown",
   "id": "572ca95f-c07d-4187-95d6-8beb64d09949",
   "metadata": {},
   "source": [
    "### Axis in 1D Array"
   ]
  },
  {
   "cell_type": "code",
   "execution_count": 44,
   "id": "097c43ef-adf6-4a4e-8706-fe207fb02877",
   "metadata": {},
   "outputs": [
    {
     "data": {
      "text/plain": [
       "(4,)"
      ]
     },
     "execution_count": 44,
     "metadata": {},
     "output_type": "execute_result"
    }
   ],
   "source": [
    "arr = np.array([0, 1, 2, 3])\n",
    "arr.shape"
   ]
  },
  {
   "cell_type": "markdown",
   "id": "7343393d-d50a-4814-8137-dc82f7e29523",
   "metadata": {},
   "source": [
    "#### No Axis"
   ]
  },
  {
   "cell_type": "code",
   "execution_count": 45,
   "id": "32419637-49b3-4b11-802a-83e4bd4c0a78",
   "metadata": {},
   "outputs": [
    {
     "data": {
      "text/plain": [
       "np.int64(6)"
      ]
     },
     "execution_count": 45,
     "metadata": {},
     "output_type": "execute_result"
    }
   ],
   "source": [
    "np.sum(arr)"
   ]
  },
  {
   "cell_type": "markdown",
   "id": "470d7aac-d684-4a2a-995c-272e5634fd77",
   "metadata": {},
   "source": [
    "#### Axis Zero"
   ]
  },
  {
   "cell_type": "code",
   "execution_count": 46,
   "id": "f0827c13-8e50-4b05-a0b8-a00949d76203",
   "metadata": {},
   "outputs": [
    {
     "data": {
      "text/plain": [
       "np.int64(6)"
      ]
     },
     "execution_count": 46,
     "metadata": {},
     "output_type": "execute_result"
    }
   ],
   "source": [
    "np.sum(arr, axis=0)"
   ]
  },
  {
   "cell_type": "markdown",
   "id": "24be5d1d-4121-4bfa-861d-f15e85251091",
   "metadata": {},
   "source": [
    "#### Axis One"
   ]
  },
  {
   "cell_type": "code",
   "execution_count": 47,
   "id": "0e596f92-1ba8-4bdf-9b39-a948cbf7fb00",
   "metadata": {},
   "outputs": [
    {
     "name": "stdout",
     "output_type": "stream",
     "text": [
      "axis 1 is out of bounds for array of dimension 1\n"
     ]
    }
   ],
   "source": [
    "try:\n",
    "    np.sum(arr, axis=1)\n",
    "\n",
    "except np.exceptions.AxisError as err:\n",
    "    print(err)"
   ]
  },
  {
   "cell_type": "markdown",
   "id": "75024cfb-3e10-4ede-90b2-32ae4b0fd47b",
   "metadata": {},
   "source": [
    "### Axis in 2D Array"
   ]
  },
  {
   "cell_type": "code",
   "execution_count": 48,
   "id": "32aa85c6-77d4-4cee-9d60-036b4f4d90b6",
   "metadata": {},
   "outputs": [
    {
     "name": "stdout",
     "output_type": "stream",
     "text": [
      "[[1 2 3]\n",
      " [4 5 6]]\n",
      "\n",
      "Shape: (2, 3)\n"
     ]
    }
   ],
   "source": [
    "arr = np.arange(1, 7).reshape(2, 3)\n",
    "print(arr)\n",
    "print(\"\\nShape:\", arr.shape)"
   ]
  },
  {
   "cell_type": "markdown",
   "id": "e9e954be-a3d1-4c65-af4c-ea7701615807",
   "metadata": {},
   "source": [
    "#### No Axis"
   ]
  },
  {
   "cell_type": "code",
   "execution_count": 49,
   "id": "1e181354-c9c6-4c1e-be2e-41f5a2844b92",
   "metadata": {},
   "outputs": [
    {
     "data": {
      "text/plain": [
       "np.int64(21)"
      ]
     },
     "execution_count": 49,
     "metadata": {},
     "output_type": "execute_result"
    }
   ],
   "source": [
    "np.sum(arr)"
   ]
  },
  {
   "cell_type": "markdown",
   "id": "32e7af75-5630-4fd4-a12b-95df19fd2929",
   "metadata": {},
   "source": [
    "#### Axis Zero"
   ]
  },
  {
   "cell_type": "code",
   "execution_count": 50,
   "id": "bf462946-c83d-484d-9d06-6dd3ca22d48c",
   "metadata": {},
   "outputs": [
    {
     "data": {
      "text/plain": [
       "array([5, 7, 9])"
      ]
     },
     "execution_count": 50,
     "metadata": {},
     "output_type": "execute_result"
    }
   ],
   "source": [
    "np.sum(arr, axis=0)"
   ]
  },
  {
   "cell_type": "markdown",
   "id": "c8814c4c-fae1-4480-a2e8-37b8aa10cecb",
   "metadata": {},
   "source": [
    "#### Axis One"
   ]
  },
  {
   "cell_type": "code",
   "execution_count": 51,
   "id": "0f537dd6-72d0-4692-9756-65a8cbe58018",
   "metadata": {},
   "outputs": [
    {
     "data": {
      "text/plain": [
       "array([ 6, 15])"
      ]
     },
     "execution_count": 51,
     "metadata": {},
     "output_type": "execute_result"
    }
   ],
   "source": [
    "np.sum(arr, axis=1)"
   ]
  },
  {
   "cell_type": "markdown",
   "id": "06d4b305-f575-4d26-88d3-0193baa7db89",
   "metadata": {},
   "source": [
    "#### Axis Two"
   ]
  },
  {
   "cell_type": "code",
   "execution_count": 52,
   "id": "14d58aa8-3aea-4b44-967e-793a6be14b76",
   "metadata": {},
   "outputs": [
    {
     "name": "stdout",
     "output_type": "stream",
     "text": [
      "axis 2 is out of bounds for array of dimension 2\n"
     ]
    }
   ],
   "source": [
    "try:\n",
    "    np.sum(arr, axis=2)\n",
    "\n",
    "except np.exceptions.AxisError as err:\n",
    "    print(err)"
   ]
  },
  {
   "cell_type": "markdown",
   "id": "b2357a28-ff69-4cd7-b18d-7ea178ce1ddc",
   "metadata": {},
   "source": [
    "### Axis in 3D Array"
   ]
  },
  {
   "cell_type": "code",
   "execution_count": 53,
   "id": "43767539-d861-4ce0-b80f-b7b952c390e1",
   "metadata": {},
   "outputs": [
    {
     "name": "stdout",
     "output_type": "stream",
     "text": [
      "[[[ 1  2  3]\n",
      "  [ 4  5  6]]\n",
      "\n",
      " [[ 7  8  9]\n",
      "  [10 11 12]]]\n",
      "\n",
      "Shape: (2, 2, 3)\n"
     ]
    }
   ],
   "source": [
    "arr = np.arange(1, 13).reshape(2, 2, 3)\n",
    "print(arr)\n",
    "print(\"\\nShape:\", arr.shape)"
   ]
  },
  {
   "cell_type": "markdown",
   "id": "3d9e89bf-52a4-4554-8a75-1c89a09f807f",
   "metadata": {},
   "source": [
    "#### No Axis"
   ]
  },
  {
   "cell_type": "code",
   "execution_count": 54,
   "id": "5897a3c3-a217-429a-8e67-eb0039231388",
   "metadata": {},
   "outputs": [
    {
     "data": {
      "text/plain": [
       "np.int64(78)"
      ]
     },
     "execution_count": 54,
     "metadata": {},
     "output_type": "execute_result"
    }
   ],
   "source": [
    "np.sum(arr)"
   ]
  },
  {
   "cell_type": "markdown",
   "id": "25531bb5-aa62-4a3e-a00a-6b54d29a9dfb",
   "metadata": {},
   "source": [
    "#### Axis Zero"
   ]
  },
  {
   "cell_type": "code",
   "execution_count": 55,
   "id": "48845502-915f-422e-8874-64f038acb285",
   "metadata": {},
   "outputs": [
    {
     "data": {
      "text/plain": [
       "array([[ 8, 10, 12],\n",
       "       [14, 16, 18]])"
      ]
     },
     "execution_count": 55,
     "metadata": {},
     "output_type": "execute_result"
    }
   ],
   "source": [
    "np.sum(arr, axis=0)"
   ]
  },
  {
   "cell_type": "markdown",
   "id": "4f43bd64-11f3-4b72-be58-dab983be7a7d",
   "metadata": {},
   "source": [
    "#### Axis One"
   ]
  },
  {
   "cell_type": "code",
   "execution_count": 56,
   "id": "f3e7a338-3a6a-4853-a443-6b34b835a998",
   "metadata": {},
   "outputs": [
    {
     "data": {
      "text/plain": [
       "array([[ 5,  7,  9],\n",
       "       [17, 19, 21]])"
      ]
     },
     "execution_count": 56,
     "metadata": {},
     "output_type": "execute_result"
    }
   ],
   "source": [
    "np.sum(arr, axis=1)"
   ]
  },
  {
   "cell_type": "markdown",
   "id": "82a7644b-25c5-4e9b-9c40-a3fdf4ab8314",
   "metadata": {},
   "source": [
    "#### Axis Two"
   ]
  },
  {
   "cell_type": "code",
   "execution_count": 57,
   "id": "ee8361b1-e053-4fe4-8aa4-a055aca1b70e",
   "metadata": {},
   "outputs": [
    {
     "data": {
      "text/plain": [
       "array([[ 6, 15],\n",
       "       [24, 33]])"
      ]
     },
     "execution_count": 57,
     "metadata": {},
     "output_type": "execute_result"
    }
   ],
   "source": [
    "np.sum(arr, axis=2)"
   ]
  },
  {
   "cell_type": "markdown",
   "id": "59c63a8a-73c5-44ee-a5b9-b6b98b803fac",
   "metadata": {},
   "source": [
    "#### Axis Three"
   ]
  },
  {
   "cell_type": "code",
   "execution_count": 58,
   "id": "b843b37f-8958-491d-962f-85e84720c347",
   "metadata": {},
   "outputs": [
    {
     "name": "stdout",
     "output_type": "stream",
     "text": [
      "axis 3 is out of bounds for array of dimension 3\n"
     ]
    }
   ],
   "source": [
    "try:\n",
    "    np.sum(arr, axis=3)\n",
    "\n",
    "except np.exceptions.AxisError as err:\n",
    "    print(err)"
   ]
  },
  {
   "cell_type": "markdown",
   "id": "d1c8333c-0944-4ecc-a19c-6a671713a8b1",
   "metadata": {},
   "source": [
    "## Mathematical Functions"
   ]
  },
  {
   "cell_type": "markdown",
   "id": "fb955003-48fb-4a8c-9e6c-9c14d44634d3",
   "metadata": {},
   "source": [
    "Some common aggregation functions:\n",
    "\n",
    "1. `np.sum()`: Calculates the sum of array elements.\n",
    "1. `np.mean()`: Computes the arithmetic mean (average) of array elements.\n",
    "1. `np.median()`: Determines the median value of array elements.\n",
    "1. `np.min()`: Finds the minimum value within the array.\n",
    "1. `np.max()`: Finds the maximum value within the array."
   ]
  },
  {
   "cell_type": "markdown",
   "id": "48a0f0ec-7a6f-4b6b-8bc9-eef73f8f5ae8",
   "metadata": {},
   "source": [
    "### `sum`"
   ]
  },
  {
   "cell_type": "code",
   "execution_count": 59,
   "id": "914a05db-d371-46b6-b76c-a9eeb1c3ebc6",
   "metadata": {},
   "outputs": [
    {
     "data": {
      "text/plain": [
       "array([[1, 2, 3],\n",
       "       [4, 5, 6]])"
      ]
     },
     "execution_count": 59,
     "metadata": {},
     "output_type": "execute_result"
    }
   ],
   "source": [
    "arr = np.arange(1, 7).reshape(2, 3)\n",
    "arr"
   ]
  },
  {
   "cell_type": "code",
   "execution_count": 60,
   "id": "00eace19-0d68-445c-aeb8-268e17c0656d",
   "metadata": {},
   "outputs": [
    {
     "data": {
      "text/plain": [
       "\u001b[31mDocstring:\u001b[39m\n",
       "a.sum(axis=None, dtype=None, out=None, keepdims=False, initial=0, where=True)\n",
       "\n",
       "Return the sum of the array elements over the given axis.\n",
       "\n",
       "Refer to `numpy.sum` for full documentation.\n",
       "\n",
       "See Also\n",
       "--------\n",
       "numpy.sum : equivalent function\n",
       "\u001b[31mType:\u001b[39m      builtin_function_or_method"
      ]
     },
     "metadata": {},
     "output_type": "display_data"
    }
   ],
   "source": [
    "arr.sum?"
   ]
  },
  {
   "cell_type": "markdown",
   "id": "a3c8e83e-1554-4578-9a56-523b83a86eae",
   "metadata": {},
   "source": [
    "#### No Axis"
   ]
  },
  {
   "cell_type": "code",
   "execution_count": 61,
   "id": "5cd63ccd-d1ac-44a4-bf31-cb7b0afce9c2",
   "metadata": {},
   "outputs": [
    {
     "data": {
      "text/plain": [
       "np.int64(21)"
      ]
     },
     "execution_count": 61,
     "metadata": {},
     "output_type": "execute_result"
    }
   ],
   "source": [
    "arr.sum()"
   ]
  },
  {
   "cell_type": "markdown",
   "id": "a1e98e38-40b4-4727-81ba-242b3b4cbb78",
   "metadata": {},
   "source": [
    "#### Axis Zero"
   ]
  },
  {
   "cell_type": "code",
   "execution_count": 62,
   "id": "d660c08a-27f3-4763-8c67-ea5338144482",
   "metadata": {},
   "outputs": [
    {
     "data": {
      "text/plain": [
       "array([5, 7, 9])"
      ]
     },
     "execution_count": 62,
     "metadata": {},
     "output_type": "execute_result"
    }
   ],
   "source": [
    "arr.sum(axis=0)"
   ]
  },
  {
   "cell_type": "markdown",
   "id": "4b5df7ba-57a0-4533-819a-4cc7bc31eb01",
   "metadata": {},
   "source": [
    "#### Axis One"
   ]
  },
  {
   "cell_type": "code",
   "execution_count": 63,
   "id": "f95a8cc2-cf87-4692-975f-2fb87eb2a2c3",
   "metadata": {},
   "outputs": [
    {
     "data": {
      "text/plain": [
       "array([ 6, 15])"
      ]
     },
     "execution_count": 63,
     "metadata": {},
     "output_type": "execute_result"
    }
   ],
   "source": [
    "arr.sum(axis=1)"
   ]
  },
  {
   "cell_type": "markdown",
   "id": "8e9c31c8-b4b7-47b4-a6aa-ac9913856d9c",
   "metadata": {},
   "source": [
    "### `max`"
   ]
  },
  {
   "cell_type": "code",
   "execution_count": 64,
   "id": "c1c3764d-39fc-4fd4-a500-1a5269fa478a",
   "metadata": {},
   "outputs": [
    {
     "data": {
      "text/plain": [
       "array([[1, 6, 3, 8],\n",
       "       [5, 2, 7, 4]])"
      ]
     },
     "execution_count": 64,
     "metadata": {},
     "output_type": "execute_result"
    }
   ],
   "source": [
    "arr = np.array(\n",
    "    [\n",
    "        [1, 6, 3, 8],\n",
    "        [5, 2, 7, 4],\n",
    "    ]\n",
    ")\n",
    "arr"
   ]
  },
  {
   "cell_type": "code",
   "execution_count": 65,
   "id": "d8aded12-d02d-48b2-87b9-84860eef073d",
   "metadata": {},
   "outputs": [
    {
     "data": {
      "text/plain": [
       "\u001b[31mDocstring:\u001b[39m\n",
       "a.max(axis=None, out=None, keepdims=False, initial=<no value>, where=True)\n",
       "\n",
       "Return the maximum along a given axis.\n",
       "\n",
       "Refer to `numpy.amax` for full documentation.\n",
       "\n",
       "See Also\n",
       "--------\n",
       "numpy.amax : equivalent function\n",
       "\u001b[31mType:\u001b[39m      builtin_function_or_method"
      ]
     },
     "metadata": {},
     "output_type": "display_data"
    }
   ],
   "source": [
    "arr.max?"
   ]
  },
  {
   "cell_type": "markdown",
   "id": "d31b5fd6-b476-4a64-a89e-e56ce953e9d8",
   "metadata": {},
   "source": [
    "#### No Axis"
   ]
  },
  {
   "cell_type": "code",
   "execution_count": 66,
   "id": "7309b0c7-19c4-451e-a6ba-096e1a9a48fc",
   "metadata": {},
   "outputs": [
    {
     "data": {
      "text/plain": [
       "np.int64(8)"
      ]
     },
     "execution_count": 66,
     "metadata": {},
     "output_type": "execute_result"
    }
   ],
   "source": [
    "arr.max()"
   ]
  },
  {
   "cell_type": "markdown",
   "id": "f0bace7b-a2b8-4f95-9647-16d95f230b28",
   "metadata": {},
   "source": [
    "#### Axis Zero"
   ]
  },
  {
   "cell_type": "code",
   "execution_count": 67,
   "id": "270f4e4f-492e-417c-96ca-8e50dc442c3e",
   "metadata": {},
   "outputs": [
    {
     "data": {
      "text/plain": [
       "array([5, 6, 7, 8])"
      ]
     },
     "execution_count": 67,
     "metadata": {},
     "output_type": "execute_result"
    }
   ],
   "source": [
    "arr.max(axis=0)"
   ]
  },
  {
   "cell_type": "markdown",
   "id": "a3e51efb-60f6-4784-99a6-abd632f9b913",
   "metadata": {},
   "source": [
    "#### Axis One"
   ]
  },
  {
   "cell_type": "code",
   "execution_count": 68,
   "id": "0cd95a51-0e3e-4f5f-87d2-40f68df694cc",
   "metadata": {},
   "outputs": [
    {
     "data": {
      "text/plain": [
       "array([8, 7])"
      ]
     },
     "execution_count": 68,
     "metadata": {},
     "output_type": "execute_result"
    }
   ],
   "source": [
    "arr.max(axis=1)"
   ]
  },
  {
   "cell_type": "markdown",
   "id": "0f47d25d-af8f-4399-b561-c51c897488a9",
   "metadata": {},
   "source": [
    "## Logical Functions"
   ]
  },
  {
   "cell_type": "markdown",
   "id": "472248a9-7879-42b0-85a4-82eba4aeb288",
   "metadata": {},
   "source": [
    "https://numpy.org/doc/stable/reference/routines.logic.html"
   ]
  },
  {
   "cell_type": "markdown",
   "id": "ae3b3224-d9ff-469d-91b0-597c32585342",
   "metadata": {},
   "source": [
    "### Truth value testing"
   ]
  },
  {
   "cell_type": "markdown",
   "id": "87ff8e26-dc87-44f7-a717-2c974d50b392",
   "metadata": {},
   "source": [
    "https://numpy.org/doc/stable/reference/routines.logic.html#truth-value-testing"
   ]
  },
  {
   "cell_type": "markdown",
   "id": "918731e1-c378-477f-a937-1c679a8591bc",
   "metadata": {},
   "source": [
    "#### `any`"
   ]
  },
  {
   "cell_type": "code",
   "execution_count": 69,
   "id": "d2afd3aa-5e90-4681-a1fd-a5bb962c562f",
   "metadata": {},
   "outputs": [
    {
     "data": {
      "text/plain": [
       "array([32, 16, 18, 24, 50])"
      ]
     },
     "execution_count": 69,
     "metadata": {},
     "output_type": "execute_result"
    }
   ],
   "source": [
    "ages = np.array([32, 16, 18, 24, 50])\n",
    "ages"
   ]
  },
  {
   "cell_type": "markdown",
   "id": "cea97020-ac20-49f0-a66e-00bf0972ba04",
   "metadata": {},
   "source": [
    "##### `any` on filters"
   ]
  },
  {
   "cell_type": "markdown",
   "id": "0db5e2c4-9a3b-40db-9b65-3a0d5347c975",
   "metadata": {},
   "source": [
    "###### Option #1"
   ]
  },
  {
   "cell_type": "code",
   "execution_count": 70,
   "id": "f30128db-f7a5-40a6-a12d-e4c9c864cb46",
   "metadata": {},
   "outputs": [
    {
     "data": {
      "text/plain": [
       "array([ True, False, False,  True,  True])"
      ]
     },
     "execution_count": 70,
     "metadata": {},
     "output_type": "execute_result"
    }
   ],
   "source": [
    "ages > 18"
   ]
  },
  {
   "cell_type": "code",
   "execution_count": 71,
   "id": "935edb6f-768d-44f7-81b1-15fe1ffe54a4",
   "metadata": {},
   "outputs": [
    {
     "data": {
      "text/plain": [
       "np.True_"
      ]
     },
     "execution_count": 71,
     "metadata": {},
     "output_type": "execute_result"
    }
   ],
   "source": [
    "np.any(ages > 18)"
   ]
  },
  {
   "cell_type": "markdown",
   "id": "0c12b02a-d6da-4e6c-9e7c-91791782255e",
   "metadata": {},
   "source": [
    "###### Option #2"
   ]
  },
  {
   "cell_type": "code",
   "execution_count": 72,
   "id": "09416127-590c-4f58-9d47-98871ae6b228",
   "metadata": {},
   "outputs": [
    {
     "data": {
      "text/plain": [
       "array([False, False, False, False, False])"
      ]
     },
     "execution_count": 72,
     "metadata": {},
     "output_type": "execute_result"
    }
   ],
   "source": [
    "(ages < 12)"
   ]
  },
  {
   "cell_type": "code",
   "execution_count": 73,
   "id": "445c35bd-df14-4751-916f-a9dceffa1463",
   "metadata": {},
   "outputs": [
    {
     "data": {
      "text/plain": [
       "np.False_"
      ]
     },
     "execution_count": 73,
     "metadata": {},
     "output_type": "execute_result"
    }
   ],
   "source": [
    "(ages < 12).any()"
   ]
  },
  {
   "cell_type": "code",
   "execution_count": 74,
   "id": "b6eadd80-1e1c-4578-90ba-9896954119ac",
   "metadata": {},
   "outputs": [
    {
     "data": {
      "text/plain": [
       "array([ True,  True,  True,  True,  True])"
      ]
     },
     "execution_count": 74,
     "metadata": {},
     "output_type": "execute_result"
    }
   ],
   "source": [
    "(ages > 12)"
   ]
  },
  {
   "cell_type": "code",
   "execution_count": 75,
   "id": "f115233c-7e00-414c-9268-825446466fd4",
   "metadata": {},
   "outputs": [
    {
     "data": {
      "text/plain": [
       "np.True_"
      ]
     },
     "execution_count": 75,
     "metadata": {},
     "output_type": "execute_result"
    }
   ],
   "source": [
    "(ages > 12).any()"
   ]
  },
  {
   "cell_type": "markdown",
   "id": "1acefd93-fdd9-4ce6-baf9-0f8c18c72402",
   "metadata": {},
   "source": [
    "##### `any` on Arrays"
   ]
  },
  {
   "cell_type": "markdown",
   "id": "01bec6f3-bf58-4ae7-8b29-4cc89f924b02",
   "metadata": {},
   "source": [
    "###### Case #1: Negative, Zero and Positive numbers"
   ]
  },
  {
   "cell_type": "code",
   "execution_count": 76,
   "id": "1a2bb997-3f65-4f72-90ee-c331a197c936",
   "metadata": {},
   "outputs": [
    {
     "data": {
      "text/plain": [
       "array([-1,  0,  1,  2])"
      ]
     },
     "execution_count": 76,
     "metadata": {},
     "output_type": "execute_result"
    }
   ],
   "source": [
    "arr = np.array([-1, 0, 1, 2])\n",
    "arr"
   ]
  },
  {
   "cell_type": "code",
   "execution_count": 77,
   "id": "b14f11d5-4459-440c-aefa-674a70f2ecf1",
   "metadata": {},
   "outputs": [
    {
     "data": {
      "text/plain": [
       "np.True_"
      ]
     },
     "execution_count": 77,
     "metadata": {},
     "output_type": "execute_result"
    }
   ],
   "source": [
    "arr.any()"
   ]
  },
  {
   "cell_type": "markdown",
   "id": "f09d940d-2135-4652-9910-e23dfb48d24b",
   "metadata": {},
   "source": [
    "###### Case #2: Zero and Negative numbers"
   ]
  },
  {
   "cell_type": "code",
   "execution_count": 78,
   "id": "02f9ca30-57b6-4213-a502-e2a4580d55a4",
   "metadata": {},
   "outputs": [
    {
     "data": {
      "text/plain": [
       "array([-2, -1,  0])"
      ]
     },
     "execution_count": 78,
     "metadata": {},
     "output_type": "execute_result"
    }
   ],
   "source": [
    "arr = np.array([-2, -1, 0])\n",
    "arr"
   ]
  },
  {
   "cell_type": "code",
   "execution_count": 79,
   "id": "05a6f9c4-6187-4dee-be50-960042ec7b4b",
   "metadata": {},
   "outputs": [
    {
     "data": {
      "text/plain": [
       "np.True_"
      ]
     },
     "execution_count": 79,
     "metadata": {},
     "output_type": "execute_result"
    }
   ],
   "source": [
    "arr.any()"
   ]
  },
  {
   "cell_type": "markdown",
   "id": "093e9d03-95b5-48d6-a09b-08c75e6b27e8",
   "metadata": {},
   "source": [
    "###### Case #3: Only Zeros"
   ]
  },
  {
   "cell_type": "code",
   "execution_count": 80,
   "id": "d852f08f-cbdc-40e7-a5af-cc1af07a92bb",
   "metadata": {},
   "outputs": [
    {
     "data": {
      "text/plain": [
       "array([0, 0, 0])"
      ]
     },
     "execution_count": 80,
     "metadata": {},
     "output_type": "execute_result"
    }
   ],
   "source": [
    "arr = np.array([0, 0, 0])\n",
    "arr"
   ]
  },
  {
   "cell_type": "code",
   "execution_count": 81,
   "id": "19355b3a-94ae-4efc-945c-aae187211347",
   "metadata": {},
   "outputs": [
    {
     "data": {
      "text/plain": [
       "np.False_"
      ]
     },
     "execution_count": 81,
     "metadata": {},
     "output_type": "execute_result"
    }
   ],
   "source": [
    "arr.any()"
   ]
  },
  {
   "cell_type": "markdown",
   "id": "6eb995f2-e223-4bf7-91df-b3ff4946ea05",
   "metadata": {},
   "source": [
    "#### `all`"
   ]
  },
  {
   "cell_type": "code",
   "execution_count": 82,
   "id": "516c5722-c611-4544-9852-39bd57dd5053",
   "metadata": {},
   "outputs": [
    {
     "data": {
      "text/plain": [
       "array([32, 16, 18, 24, 50])"
      ]
     },
     "execution_count": 82,
     "metadata": {},
     "output_type": "execute_result"
    }
   ],
   "source": [
    "ages = np.array([32, 16, 18, 24, 50])\n",
    "ages"
   ]
  },
  {
   "cell_type": "markdown",
   "id": "c36522a6-fc0f-4607-889b-9ce52ab43431",
   "metadata": {},
   "source": [
    "##### `all` on filters"
   ]
  },
  {
   "cell_type": "markdown",
   "id": "2f15d355-f0a6-424a-8fbc-74a60c22025c",
   "metadata": {},
   "source": [
    "###### Option #1"
   ]
  },
  {
   "cell_type": "code",
   "execution_count": 83,
   "id": "10f50dfd-8698-40cd-890f-8e5f7b343bea",
   "metadata": {},
   "outputs": [
    {
     "data": {
      "text/plain": [
       "array([ True, False, False,  True,  True])"
      ]
     },
     "execution_count": 83,
     "metadata": {},
     "output_type": "execute_result"
    }
   ],
   "source": [
    "ages > 18"
   ]
  },
  {
   "cell_type": "code",
   "execution_count": 84,
   "id": "94875ed3-43d6-47f9-b803-28f9b72eed10",
   "metadata": {},
   "outputs": [
    {
     "data": {
      "text/plain": [
       "np.False_"
      ]
     },
     "execution_count": 84,
     "metadata": {},
     "output_type": "execute_result"
    }
   ],
   "source": [
    "np.all(ages > 18)"
   ]
  },
  {
   "cell_type": "markdown",
   "id": "a6a747e6-40fb-4a64-a14f-c031103c7b54",
   "metadata": {},
   "source": [
    "###### Option #2"
   ]
  },
  {
   "cell_type": "code",
   "execution_count": 85,
   "id": "4d35c20c-93c5-41fb-bf46-a86158fa8c3b",
   "metadata": {},
   "outputs": [
    {
     "data": {
      "text/plain": [
       "array([ True,  True,  True,  True,  True])"
      ]
     },
     "execution_count": 85,
     "metadata": {},
     "output_type": "execute_result"
    }
   ],
   "source": [
    "(ages > 12)"
   ]
  },
  {
   "cell_type": "code",
   "execution_count": 86,
   "id": "8d40faf4-aaf4-48d4-ba54-745e8455ab8c",
   "metadata": {},
   "outputs": [
    {
     "data": {
      "text/plain": [
       "np.True_"
      ]
     },
     "execution_count": 86,
     "metadata": {},
     "output_type": "execute_result"
    }
   ],
   "source": [
    "(ages > 12).all()"
   ]
  },
  {
   "cell_type": "code",
   "execution_count": 87,
   "id": "0610f0b7-df9e-40bf-bc21-1487a60c50e9",
   "metadata": {},
   "outputs": [
    {
     "data": {
      "text/plain": [
       "array([False, False, False, False, False])"
      ]
     },
     "execution_count": 87,
     "metadata": {},
     "output_type": "execute_result"
    }
   ],
   "source": [
    "(ages < 12)"
   ]
  },
  {
   "cell_type": "code",
   "execution_count": 88,
   "id": "003c11df-27f4-4454-baa3-adcaec2c5cda",
   "metadata": {},
   "outputs": [
    {
     "data": {
      "text/plain": [
       "np.False_"
      ]
     },
     "execution_count": 88,
     "metadata": {},
     "output_type": "execute_result"
    }
   ],
   "source": [
    "(ages < 12).all()"
   ]
  },
  {
   "cell_type": "markdown",
   "id": "578bbbf2-b34b-44bc-8793-d7d65127858c",
   "metadata": {},
   "source": [
    "##### `all` on Arrays"
   ]
  },
  {
   "cell_type": "markdown",
   "id": "38c1fc24-ae90-4894-ab85-70ec25c7e651",
   "metadata": {},
   "source": [
    "###### Case #1: Negative, Zero and Positive numbers"
   ]
  },
  {
   "cell_type": "code",
   "execution_count": 89,
   "id": "8932fa81-bb93-4e30-9319-d84ae1e443ff",
   "metadata": {},
   "outputs": [
    {
     "data": {
      "text/plain": [
       "array([-1,  0,  1,  2])"
      ]
     },
     "execution_count": 89,
     "metadata": {},
     "output_type": "execute_result"
    }
   ],
   "source": [
    "arr = np.array([-1, 0, 1, 2])\n",
    "arr"
   ]
  },
  {
   "cell_type": "code",
   "execution_count": 90,
   "id": "1bc325ec-a70f-4005-8b34-c056aec8e687",
   "metadata": {},
   "outputs": [
    {
     "data": {
      "text/plain": [
       "np.False_"
      ]
     },
     "execution_count": 90,
     "metadata": {},
     "output_type": "execute_result"
    }
   ],
   "source": [
    "arr.all()"
   ]
  },
  {
   "cell_type": "markdown",
   "id": "4481d2a3-85d9-46fd-8480-f4a5603b09e9",
   "metadata": {},
   "source": [
    "###### Case #2: Zero and Negative numbers"
   ]
  },
  {
   "cell_type": "code",
   "execution_count": 91,
   "id": "940121cd-29a6-46e3-8494-26629ed87f74",
   "metadata": {},
   "outputs": [
    {
     "data": {
      "text/plain": [
       "array([-2, -1,  0])"
      ]
     },
     "execution_count": 91,
     "metadata": {},
     "output_type": "execute_result"
    }
   ],
   "source": [
    "arr = np.array([-2, -1, 0])\n",
    "arr"
   ]
  },
  {
   "cell_type": "code",
   "execution_count": 92,
   "id": "50faf8ad-4104-451d-aeb2-5ee12b902b9b",
   "metadata": {},
   "outputs": [
    {
     "data": {
      "text/plain": [
       "np.False_"
      ]
     },
     "execution_count": 92,
     "metadata": {},
     "output_type": "execute_result"
    }
   ],
   "source": [
    "arr.all()"
   ]
  },
  {
   "cell_type": "markdown",
   "id": "617cea9d-f2c3-44cd-a1d9-9af93bb6baf0",
   "metadata": {},
   "source": [
    "###### Case #3: Only Zeros"
   ]
  },
  {
   "cell_type": "code",
   "execution_count": 93,
   "id": "ee85d37c-9e02-4750-abb0-3b68f5192d52",
   "metadata": {},
   "outputs": [
    {
     "data": {
      "text/plain": [
       "array([0, 0, 0])"
      ]
     },
     "execution_count": 93,
     "metadata": {},
     "output_type": "execute_result"
    }
   ],
   "source": [
    "arr = np.array([0, 0, 0])\n",
    "arr"
   ]
  },
  {
   "cell_type": "code",
   "execution_count": 94,
   "id": "8168d958-3c7f-410f-9376-a853b8762669",
   "metadata": {},
   "outputs": [
    {
     "data": {
      "text/plain": [
       "np.False_"
      ]
     },
     "execution_count": 94,
     "metadata": {},
     "output_type": "execute_result"
    }
   ],
   "source": [
    "arr.all()"
   ]
  },
  {
   "cell_type": "markdown",
   "id": "0034422c-8378-4180-88e1-4cac9e280323",
   "metadata": {},
   "source": [
    "## Aggregation Functions"
   ]
  },
  {
   "cell_type": "markdown",
   "id": "a15570fe-4f3b-4502-9124-0aa15c048911",
   "metadata": {},
   "source": [
    "https://numpy.org/doc/stable/reference/routines.sort.html"
   ]
  },
  {
   "cell_type": "markdown",
   "id": "cda7cfc9-19c8-4fb1-9e9c-5ef3867c7a46",
   "metadata": {},
   "source": [
    "### `where`"
   ]
  },
  {
   "cell_type": "markdown",
   "id": "c696fabe-6f58-415d-8cb9-f6c25af2f178",
   "metadata": {},
   "source": [
    "#### `where` on 1D Array"
   ]
  },
  {
   "cell_type": "code",
   "execution_count": 95,
   "id": "c9feef19-e3fd-4ed1-bcb2-0411413a5031",
   "metadata": {},
   "outputs": [
    {
     "data": {
      "text/plain": [
       "array([ 6, -2,  0,  8,  5,  0, 10])"
      ]
     },
     "execution_count": 95,
     "metadata": {},
     "output_type": "execute_result"
    }
   ],
   "source": [
    "arr = np.array([6, -2, 0, 8, 5, 0, 10])\n",
    "arr"
   ]
  },
  {
   "cell_type": "code",
   "execution_count": 96,
   "id": "cb3a1ec0-5edb-409b-9b92-112247389da0",
   "metadata": {},
   "outputs": [
    {
     "data": {
      "text/plain": [
       "array([1, 0, 0, 1, 1, 0, 1])"
      ]
     },
     "execution_count": 96,
     "metadata": {},
     "output_type": "execute_result"
    }
   ],
   "source": [
    "np.where(arr < 5, 0, 1)"
   ]
  },
  {
   "cell_type": "code",
   "execution_count": 97,
   "id": "ad70340f-5204-444c-bc7f-d909e44cfa9c",
   "metadata": {},
   "outputs": [
    {
     "data": {
      "text/plain": [
       "(array([1, 2, 5]),)"
      ]
     },
     "execution_count": 97,
     "metadata": {},
     "output_type": "execute_result"
    }
   ],
   "source": [
    "np.where(arr < 5)"
   ]
  },
  {
   "cell_type": "code",
   "execution_count": 98,
   "id": "27ca51d5-79c7-48ec-88d5-502eafe92783",
   "metadata": {},
   "outputs": [
    {
     "data": {
      "text/plain": [
       "(array([0, 1, 3, 4, 6]),)"
      ]
     },
     "execution_count": 98,
     "metadata": {},
     "output_type": "execute_result"
    }
   ],
   "source": [
    "np.where(arr)"
   ]
  },
  {
   "cell_type": "markdown",
   "id": "2da9dd8c-a0f1-40f0-82b7-6ff0fdc053a3",
   "metadata": {},
   "source": [
    "#### `where` on 2D Array"
   ]
  },
  {
   "cell_type": "code",
   "execution_count": 99,
   "id": "c9fa1ad4-eb15-4a7b-9f2f-3f9de20e7de3",
   "metadata": {},
   "outputs": [
    {
     "data": {
      "text/plain": [
       "array([[ 1,  2,  3,  4],\n",
       "       [ 5,  6,  7,  8],\n",
       "       [ 9, 10, 11, 12],\n",
       "       [13, 14, 15, 16]])"
      ]
     },
     "execution_count": 99,
     "metadata": {},
     "output_type": "execute_result"
    }
   ],
   "source": [
    "arr = np.arange(1, 17).reshape(4, 4)\n",
    "arr"
   ]
  },
  {
   "cell_type": "code",
   "execution_count": 100,
   "id": "f8369fe0-1aec-4c34-aad8-2419edac1d73",
   "metadata": {},
   "outputs": [
    {
     "data": {
      "text/plain": [
       "array([[0, 0, 0, 0],\n",
       "       [0, 0, 0, 0],\n",
       "       [1, 1, 1, 1],\n",
       "       [1, 1, 1, 1]])"
      ]
     },
     "execution_count": 100,
     "metadata": {},
     "output_type": "execute_result"
    }
   ],
   "source": [
    "np.where(arr < 9, 0, 1)"
   ]
  },
  {
   "cell_type": "code",
   "execution_count": 101,
   "id": "2489186c-a4f9-49a0-8daf-ab04ceaff0f0",
   "metadata": {},
   "outputs": [],
   "source": [
    "arr = np.array(\n",
    "    [\n",
    "        [0, 1, 2],\n",
    "        [3, 0, 4],\n",
    "        [5, 6, 0],\n",
    "    ]\n",
    ")"
   ]
  },
  {
   "cell_type": "code",
   "execution_count": 102,
   "id": "4f46770f-1e16-43a0-ad68-278fd1564a08",
   "metadata": {},
   "outputs": [
    {
     "data": {
      "text/plain": [
       "(array([0, 0, 1, 1, 2, 2]), array([1, 2, 0, 2, 0, 1]))"
      ]
     },
     "execution_count": 102,
     "metadata": {},
     "output_type": "execute_result"
    }
   ],
   "source": [
    "np.where(arr)"
   ]
  },
  {
   "cell_type": "markdown",
   "id": "4d7c1d8b-816b-4887-9561-55d1a8710717",
   "metadata": {},
   "source": [
    "### Sorting"
   ]
  },
  {
   "cell_type": "code",
   "execution_count": 103,
   "id": "db547273-4b9a-48ed-a3cd-ad07b38328ed",
   "metadata": {},
   "outputs": [
    {
     "data": {
      "text/plain": [
       "array([10,  6,  0,  5,  7,  1])"
      ]
     },
     "execution_count": 103,
     "metadata": {},
     "output_type": "execute_result"
    }
   ],
   "source": [
    "arr = np.array([10, 6, 0, 5, 7, 1])\n",
    "arr"
   ]
  },
  {
   "cell_type": "code",
   "execution_count": 104,
   "id": "6241a0b0-6e59-47b7-a7a9-15a92ab8e558",
   "metadata": {},
   "outputs": [
    {
     "data": {
      "text/plain": [
       "array([ 0,  1,  5,  6,  7, 10])"
      ]
     },
     "execution_count": 104,
     "metadata": {},
     "output_type": "execute_result"
    }
   ],
   "source": [
    "arr.sort()\n",
    "arr"
   ]
  },
  {
   "cell_type": "markdown",
   "id": "7f62e6e2-275a-4662-87b0-40a26736295b",
   "metadata": {},
   "source": [
    "> **Note**:\n",
    ">\n",
    "> NumPy uses Tim sort algorithm to sort elements in the array"
   ]
  },
  {
   "cell_type": "markdown",
   "id": "d65a91e2-73c4-4186-9a38-32b6b2080004",
   "metadata": {},
   "source": [
    "#### Axis in Sorting"
   ]
  },
  {
   "cell_type": "markdown",
   "id": "78773207-ef76-4c3a-9393-844c3c2f0b74",
   "metadata": {},
   "source": [
    "##### TL;DR\n",
    "\n",
    "**Default value for axis in `np.sort` is -1, hence NumPy always sorts array by last dimension by default**"
   ]
  },
  {
   "cell_type": "markdown",
   "id": "b5dc87b2-0520-47c8-8b7f-fcee21776bd8",
   "metadata": {},
   "source": [
    "### Sorting on 1D Array"
   ]
  },
  {
   "cell_type": "code",
   "execution_count": 105,
   "id": "13b7d623-95d9-4544-9f6c-d40df77f109a",
   "metadata": {},
   "outputs": [
    {
     "data": {
      "text/plain": [
       "array([16,  2, 13,  9])"
      ]
     },
     "execution_count": 105,
     "metadata": {},
     "output_type": "execute_result"
    }
   ],
   "source": [
    "arr = np.array([16, 2, 13, 9])\n",
    "arr"
   ]
  },
  {
   "cell_type": "markdown",
   "id": "60295408-ddd7-41b0-b4ea-d8c4386d0aca",
   "metadata": {},
   "source": [
    "##### No Axis"
   ]
  },
  {
   "cell_type": "code",
   "execution_count": 106,
   "id": "ce61de62-b83a-43c9-bacd-e7e193cd5586",
   "metadata": {},
   "outputs": [
    {
     "data": {
      "text/plain": [
       "array([ 2,  9, 13, 16])"
      ]
     },
     "execution_count": 106,
     "metadata": {},
     "output_type": "execute_result"
    }
   ],
   "source": [
    "np.sort(arr)"
   ]
  },
  {
   "cell_type": "markdown",
   "id": "bfa99fac-f209-40ff-aa2c-5457ea856d5b",
   "metadata": {},
   "source": [
    "##### Axis Zero"
   ]
  },
  {
   "cell_type": "code",
   "execution_count": 107,
   "id": "a9f493d9-f417-4f5e-b662-b08694e94f20",
   "metadata": {},
   "outputs": [
    {
     "data": {
      "text/plain": [
       "array([ 2,  9, 13, 16])"
      ]
     },
     "execution_count": 107,
     "metadata": {},
     "output_type": "execute_result"
    }
   ],
   "source": [
    "np.sort(arr, axis=0)"
   ]
  },
  {
   "cell_type": "markdown",
   "id": "31c197ea-db1b-48c2-82a5-5c71e256fb2d",
   "metadata": {},
   "source": [
    "##### Axis One"
   ]
  },
  {
   "cell_type": "code",
   "execution_count": 108,
   "id": "b1cf1fba-075a-469b-bb3e-d1b53ebe8932",
   "metadata": {},
   "outputs": [
    {
     "name": "stdout",
     "output_type": "stream",
     "text": [
      "axis 1 is out of bounds for array of dimension 1\n"
     ]
    }
   ],
   "source": [
    "try:\n",
    "    np.sort(arr, axis=1)\n",
    "\n",
    "except np.exceptions.AxisError as err:\n",
    "    print(err)"
   ]
  },
  {
   "cell_type": "markdown",
   "id": "3d890d4c-8002-4358-8e8a-d00403aa39bc",
   "metadata": {},
   "source": [
    "#### Sorting 2D Array"
   ]
  },
  {
   "cell_type": "code",
   "execution_count": 109,
   "id": "30becbe0-8da5-4426-9bf5-516233709d7d",
   "metadata": {},
   "outputs": [
    {
     "data": {
      "text/plain": [
       "array([[16,  2, 13,  9],\n",
       "       [ 1,  6, 17, 18],\n",
       "       [ 4, 10,  7, 11],\n",
       "       [13, 18,  5,  6]])"
      ]
     },
     "execution_count": 109,
     "metadata": {},
     "output_type": "execute_result"
    }
   ],
   "source": [
    "arr = np.array(\n",
    "    [\n",
    "        [16, 2, 13, 9],\n",
    "        [1, 6, 17, 18],\n",
    "        [4, 10, 7, 11],\n",
    "        [13, 18, 5, 6],\n",
    "    ]\n",
    ")\n",
    "arr"
   ]
  },
  {
   "cell_type": "markdown",
   "id": "b2752436-8350-4183-9949-9d51910b96a7",
   "metadata": {},
   "source": [
    "##### No Axis"
   ]
  },
  {
   "cell_type": "code",
   "execution_count": 110,
   "id": "3ac5d91d-f217-4b65-8abe-13ae7bc5ff08",
   "metadata": {},
   "outputs": [
    {
     "data": {
      "text/plain": [
       "array([[ 2,  9, 13, 16],\n",
       "       [ 1,  6, 17, 18],\n",
       "       [ 4,  7, 10, 11],\n",
       "       [ 5,  6, 13, 18]])"
      ]
     },
     "execution_count": 110,
     "metadata": {},
     "output_type": "execute_result"
    }
   ],
   "source": [
    "np.sort(arr)"
   ]
  },
  {
   "cell_type": "markdown",
   "id": "ef515912-1baa-4afd-a130-a6d52e9ae194",
   "metadata": {},
   "source": [
    "##### Axis Zero"
   ]
  },
  {
   "cell_type": "code",
   "execution_count": 111,
   "id": "1812caf7-5506-4472-8b14-bcdbe164fdfd",
   "metadata": {},
   "outputs": [
    {
     "data": {
      "text/plain": [
       "array([[ 1,  2,  5,  6],\n",
       "       [ 4,  6,  7,  9],\n",
       "       [13, 10, 13, 11],\n",
       "       [16, 18, 17, 18]])"
      ]
     },
     "execution_count": 111,
     "metadata": {},
     "output_type": "execute_result"
    }
   ],
   "source": [
    "np.sort(arr, axis=0)"
   ]
  },
  {
   "cell_type": "markdown",
   "id": "d068dadc-7d9f-401f-88d6-7341daa55d25",
   "metadata": {},
   "source": [
    "##### Axis One"
   ]
  },
  {
   "cell_type": "code",
   "execution_count": 112,
   "id": "e79748fd-bec9-41b2-afe5-5748d1ba43f2",
   "metadata": {},
   "outputs": [
    {
     "data": {
      "text/plain": [
       "array([[ 2,  9, 13, 16],\n",
       "       [ 1,  6, 17, 18],\n",
       "       [ 4,  7, 10, 11],\n",
       "       [ 5,  6, 13, 18]])"
      ]
     },
     "execution_count": 112,
     "metadata": {},
     "output_type": "execute_result"
    }
   ],
   "source": [
    "np.sort(arr, axis=1)"
   ]
  },
  {
   "cell_type": "markdown",
   "id": "cda1d95c-e347-43d2-8d8c-487c4405482c",
   "metadata": {},
   "source": [
    "#### Sorting 3D Array"
   ]
  },
  {
   "cell_type": "code",
   "execution_count": null,
   "id": "3d987004-29f9-4d92-9c48-40a1d68628c2",
   "metadata": {},
   "outputs": [],
   "source": [
    "arr = np.array(\n",
    "    [\n",
    "        [\n",
    "            [16, 2, 9],\n",
    "            [1, 6, 18],\n",
    "            [4, 7, 11],\n",
    "            [3, 18, 5],\n",
    "        ],\n",
    "        [\n",
    "            [1, 4, 13],\n",
    "            [6, 2, 10],\n",
    "            [13, 5, 7],\n",
    "            [6, 11, 9],\n",
    "        ],\n",
    "    ]\n",
    ")\n",
    "print(arr)\n",
    "print(\"\\nShape:\", arr.shape)"
   ]
  },
  {
   "cell_type": "markdown",
   "id": "a8b61dc2-45a2-43f9-937f-5e5f6a3b68c3",
   "metadata": {},
   "source": [
    "##### No Axis"
   ]
  },
  {
   "cell_type": "code",
   "execution_count": null,
   "id": "d15927ff-7953-47c2-927f-825bdae6b493",
   "metadata": {},
   "outputs": [],
   "source": [
    "np.sort(arr)"
   ]
  },
  {
   "cell_type": "markdown",
   "id": "94dbdb2e-253d-4c01-8ad8-cb9f6b6ebd54",
   "metadata": {},
   "source": [
    "##### Axis Zero"
   ]
  },
  {
   "cell_type": "code",
   "execution_count": null,
   "id": "3991fd1e-b6b4-42c8-9406-16c3601a485c",
   "metadata": {},
   "outputs": [],
   "source": [
    "np.sort(arr, axis=0)"
   ]
  },
  {
   "cell_type": "markdown",
   "id": "7c7cbc98-c2b0-46d4-b15b-753a44e57ef3",
   "metadata": {},
   "source": [
    "##### Axis One"
   ]
  },
  {
   "cell_type": "code",
   "execution_count": null,
   "id": "7af379a1-495c-4d86-9d2b-ae6b76e8abba",
   "metadata": {},
   "outputs": [],
   "source": [
    "np.sort(arr, axis=1)"
   ]
  },
  {
   "cell_type": "markdown",
   "id": "bbf70458-5518-4fe1-ad3a-553af113b883",
   "metadata": {},
   "source": [
    "##### Axis Two"
   ]
  },
  {
   "cell_type": "code",
   "execution_count": null,
   "id": "97992a21-de22-427f-a536-73bb943562a5",
   "metadata": {},
   "outputs": [],
   "source": [
    "np.sort(arr, axis=2)"
   ]
  },
  {
   "cell_type": "markdown",
   "id": "e974897c-6658-4cfe-9c79-b8e3e2d19c5f",
   "metadata": {},
   "source": [
    "##### Axis Three"
   ]
  },
  {
   "cell_type": "code",
   "execution_count": null,
   "id": "8b0e876e-f355-43e4-b3e7-bef38349c53b",
   "metadata": {},
   "outputs": [],
   "source": [
    "try:\n",
    "    np.sort(arr, axis=3)\n",
    "\n",
    "except np.exceptions.AxisError as err:\n",
    "    print(err)"
   ]
  },
  {
   "cell_type": "markdown",
   "id": "8cb924f8-080c-4033-8896-ca95ba566f39",
   "metadata": {},
   "source": [
    "## Broadcasting"
   ]
  },
  {
   "cell_type": "markdown",
   "id": "0c13a7d6-11b7-4f94-b738-1fafd62470b5",
   "metadata": {},
   "source": [
    "### What is Broadcasting?"
   ]
  },
  {
   "cell_type": "markdown",
   "id": "584afbaf-e70e-4a6b-bdab-a8ef6c03fb0c",
   "metadata": {},
   "source": [
    "https://numpy.org/doc/stable/user/basics.broadcasting.html#broadcasting"
   ]
  },
  {
   "cell_type": "markdown",
   "id": "62d625ff-feb7-43b2-a63c-2e668d8dbfd0",
   "metadata": {},
   "source": [
    "![NumPy Broadcasting](images\\numpy_broadcasting.png)\n",
    "\n",
    "Image source: https://mathematica.stackexchange.com/q/99171/110892"
   ]
  },
  {
   "cell_type": "code",
   "execution_count": null,
   "id": "05cd3bbf-8dea-49e7-8f72-d783c50cdfd1",
   "metadata": {},
   "outputs": [],
   "source": [
    "def display_ndarray(name, array):\n",
    "    \"\"\"\n",
    "    Function to display NumPy array.\n",
    "    \"\"\"\n",
    "    print(f\"\\nArray {name}:\")\n",
    "    print(array)\n",
    "    print(\"Shape:\", array.shape)"
   ]
  },
  {
   "cell_type": "code",
   "execution_count": null,
   "id": "7f8d6844-09a9-4c98-a03f-492b1b34eff1",
   "metadata": {},
   "outputs": [],
   "source": [
    "a = np.array(\n",
    "    [\n",
    "        [0],\n",
    "        [10],\n",
    "        [20],\n",
    "        [30],\n",
    "    ]\n",
    ")\n",
    "display_ndarray(\"A\", a)\n",
    "\n",
    "b = np.array([0, 1, 2])\n",
    "display_ndarray(\"B\", b)\n",
    "\n",
    "display_ndarray(\"A + B\", a + b)"
   ]
  },
  {
   "cell_type": "markdown",
   "id": "85ec62db-1013-443a-a9c0-1a2f155fd81b",
   "metadata": {},
   "source": [
    "### Rules for Broadcasting"
   ]
  },
  {
   "cell_type": "markdown",
   "id": "4002c671-a73b-4e4b-96c1-bcb610234bb3",
   "metadata": {},
   "source": [
    "1. If two arrays differ in the number of dimensions, the shape of one with fewer dimensions is padded with ones on its leading left side.\n",
    "2. If the shape of two arrays does not match in any dimensions, the array with shape equal to 1 is stretched to match the other shape."
   ]
  },
  {
   "cell_type": "markdown",
   "id": "3af69605-e90d-4606-8692-e4ffe0e4ffe6",
   "metadata": {},
   "source": [
    "### Example"
   ]
  },
  {
   "cell_type": "markdown",
   "id": "58714c63-d8c8-414a-a428-a137a599a269",
   "metadata": {},
   "source": [
    "#### Problem statement"
   ]
  },
  {
   "cell_type": "markdown",
   "id": "8c955fea-e84c-4d5b-b258-440a7d41c9cf",
   "metadata": {},
   "source": [
    "Given two arrays A and B,\n",
    "\n",
    "1. Shape of Array A: `(8, 1, 6, 1)`\n",
    "2. Shape of Array B: `   (7, 1, 5)`\n",
    "\n",
    "Applying Broadcasting rules on A and B:"
   ]
  },
  {
   "cell_type": "markdown",
   "id": "61d6dd1b-cd20-4e3f-9c2c-bdd16e2d19fe",
   "metadata": {},
   "source": [
    "#### Solution"
   ]
  },
  {
   "cell_type": "markdown",
   "id": "aaca98a5-687b-4821-ba00-588fbeb0ce5f",
   "metadata": {},
   "source": [
    "##### Applying Rule #1:\n",
    "\n",
    "Since shape of array B has fewer dimension compared to array A, new dimension is added to array B on the left most side:\n",
    "\n",
    "After applying Broadcasting rule #1 on A and B:\n",
    "\n",
    "1. Unchanged shape of Array A: `(8, 1, 6, 1)`\n",
    "2. New shape of Array B: `(1, 7, 1, 5)`"
   ]
  },
  {
   "cell_type": "markdown",
   "id": "47467507-b149-437b-b253-7dbcf7241c1a",
   "metadata": {},
   "source": [
    "##### Applying Rule #2:\n",
    "\n",
    "After applying rule #1, since the shape of both arrays does not match in any dimension, both arrays are stretched wherever their dimension is One.\n",
    "\n",
    "After applying Broadcasting rule #2 on A and B:\n",
    "\n",
    "1. New shape of Array A: `(8, 7, 6, 5)`\n",
    "2. New shape of Array B: `(8, 7, 6, 5)`"
   ]
  }
 ],
 "metadata": {
  "kernelspec": {
   "display_name": "Python 3 (ipykernel)",
   "language": "python",
   "name": "python3"
  },
  "language_info": {
   "codemirror_mode": {
    "name": "ipython",
    "version": 3
   },
   "file_extension": ".py",
   "mimetype": "text/x-python",
   "name": "python",
   "nbconvert_exporter": "python",
   "pygments_lexer": "ipython3",
   "version": "3.12.6"
  }
 },
 "nbformat": 4,
 "nbformat_minor": 5
}
