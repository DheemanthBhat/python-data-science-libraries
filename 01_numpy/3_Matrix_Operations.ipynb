{
 "cells": [
  {
   "cell_type": "markdown",
   "id": "6e105a47-2d69-4791-b88d-064b4aad7c83",
   "metadata": {},
   "source": [
    "![Numpy logo](images\\numpy.png)"
   ]
  },
  {
   "cell_type": "markdown",
   "id": "fd887f29-8985-4b07-beb9-9f93e2b74b03",
   "metadata": {},
   "source": [
    "# NumPy Tutorials - PART 2: Functions"
   ]
  },
  {
   "cell_type": "markdown",
   "id": "b9b9e044-d272-42e4-9352-7ac9606cdff7",
   "metadata": {},
   "source": [
    "## Setup"
   ]
  },
  {
   "cell_type": "markdown",
   "id": "3562a006-792b-406d-8d1d-75eb5a447418",
   "metadata": {},
   "source": [
    "### Install library"
   ]
  },
  {
   "cell_type": "markdown",
   "id": "9fa608fc-ed4a-4d13-99ba-7dd97c845fcc",
   "metadata": {},
   "source": [
    "Run below command if NumPy is not already installed.\n",
    "```cmd\n",
    "pip install numpy\n",
    "```\n",
    "or\n",
    "```cmd\n",
    "pip3 install numpy\n",
    "```"
   ]
  },
  {
   "cell_type": "markdown",
   "id": "06cf06d9-51f0-4e7f-b2c1-d10156032549",
   "metadata": {},
   "source": [
    "### Import Library"
   ]
  },
  {
   "cell_type": "code",
   "execution_count": 1,
   "id": "e1c60fee-aef4-4a89-941e-c5fde5659660",
   "metadata": {},
   "outputs": [
    {
     "name": "stdout",
     "output_type": "stream",
     "text": [
      "NumPy version: 2.3.0\n"
     ]
    }
   ],
   "source": [
    "import numpy as np\n",
    "\n",
    "\n",
    "print(\"NumPy version:\", np.__version__)"
   ]
  },
  {
   "cell_type": "markdown",
   "id": "86f5eb4b-cb20-4728-a0e4-89d0d4466747",
   "metadata": {},
   "source": [
    "## Shallow vs Deep Copy"
   ]
  },
  {
   "cell_type": "markdown",
   "id": "6b041f56-16e5-49d8-ba5d-eb1b3f8871e9",
   "metadata": {},
   "source": [
    "#### Shallow Copy in Python List"
   ]
  },
  {
   "cell_type": "code",
   "execution_count": 2,
   "id": "02b618fb-952d-48cd-a19a-ec2563b41a6b",
   "metadata": {},
   "outputs": [
    {
     "data": {
      "text/plain": [
       "[1, 100, 3, 4]"
      ]
     },
     "execution_count": 2,
     "metadata": {},
     "output_type": "execute_result"
    }
   ],
   "source": [
    "a = [1, 2, 3, 4]\n",
    "b = a\n",
    "\n",
    "a[1] = 100\n",
    "b"
   ]
  },
  {
   "cell_type": "code",
   "execution_count": 3,
   "id": "c5cb4579-3d18-4bb0-ab30-68d0b2c1e7f4",
   "metadata": {},
   "outputs": [
    {
     "data": {
      "text/plain": [
       "True"
      ]
     },
     "execution_count": 3,
     "metadata": {},
     "output_type": "execute_result"
    }
   ],
   "source": [
    "a is b"
   ]
  },
  {
   "cell_type": "markdown",
   "id": "56d324d0-ab58-4bbf-b8cd-1b5daecbb3f5",
   "metadata": {},
   "source": [
    "#### Deep Copy in Python List"
   ]
  },
  {
   "cell_type": "code",
   "execution_count": 4,
   "id": "d8463686-219b-44e3-9f6f-cbeb99e3c338",
   "metadata": {},
   "outputs": [
    {
     "data": {
      "text/plain": [
       "[1, 2, 3, 4]"
      ]
     },
     "execution_count": 4,
     "metadata": {},
     "output_type": "execute_result"
    }
   ],
   "source": [
    "a = [1, 2, 3, 4]\n",
    "b = a[:]\n",
    "\n",
    "a[1] = 100\n",
    "b"
   ]
  },
  {
   "cell_type": "code",
   "execution_count": 5,
   "id": "dcc95391-42fb-4846-b0ef-84efbf071dee",
   "metadata": {},
   "outputs": [
    {
     "data": {
      "text/plain": [
       "False"
      ]
     },
     "execution_count": 5,
     "metadata": {},
     "output_type": "execute_result"
    }
   ],
   "source": [
    "a is b"
   ]
  },
  {
   "cell_type": "markdown",
   "id": "c246d997-6f88-4c21-ac2c-55ff1012871f",
   "metadata": {},
   "source": [
    "#### Shallow Copy in NumPy"
   ]
  },
  {
   "cell_type": "code",
   "execution_count": 6,
   "id": "15811380-6a3d-49d8-9f21-4145288b8232",
   "metadata": {},
   "outputs": [
    {
     "data": {
      "text/plain": [
       "array([[  1, 100],\n",
       "       [  3,   4]])"
      ]
     },
     "execution_count": 6,
     "metadata": {},
     "output_type": "execute_result"
    }
   ],
   "source": [
    "a = np.array([1, 2, 3, 4])\n",
    "b = a.reshape(2, 2)\n",
    "\n",
    "a[1] = 100\n",
    "b"
   ]
  },
  {
   "cell_type": "code",
   "execution_count": 7,
   "id": "7931d7b3-b2c2-4c75-a660-ca400a14b1bf",
   "metadata": {},
   "outputs": [
    {
     "data": {
      "text/plain": [
       "False"
      ]
     },
     "execution_count": 7,
     "metadata": {},
     "output_type": "execute_result"
    }
   ],
   "source": [
    "a is b"
   ]
  },
  {
   "cell_type": "code",
   "execution_count": 8,
   "id": "be4ae12a-4f34-44f0-9596-a83ee0cb9ca1",
   "metadata": {},
   "outputs": [
    {
     "data": {
      "text/plain": [
       "True"
      ]
     },
     "execution_count": 8,
     "metadata": {},
     "output_type": "execute_result"
    }
   ],
   "source": [
    "np.shares_memory(a, b)"
   ]
  },
  {
   "cell_type": "markdown",
   "id": "d32e2031-c06c-4bb4-9fe5-a5a2ec49c267",
   "metadata": {},
   "source": [
    "#### Deep Copy in NumPy"
   ]
  },
  {
   "cell_type": "code",
   "execution_count": 9,
   "id": "87566f31-b489-4e5d-8cb2-f3910697b582",
   "metadata": {},
   "outputs": [
    {
     "data": {
      "text/plain": [
       "array([1, 2, 3, 4])"
      ]
     },
     "execution_count": 9,
     "metadata": {},
     "output_type": "execute_result"
    }
   ],
   "source": [
    "a = np.array([1, 2, 3, 4])\n",
    "b = a + 0\n",
    "\n",
    "a[1] = 100\n",
    "b"
   ]
  },
  {
   "cell_type": "code",
   "execution_count": 10,
   "id": "575ae493-5363-4929-af22-79d5e6868268",
   "metadata": {},
   "outputs": [
    {
     "data": {
      "text/plain": [
       "False"
      ]
     },
     "execution_count": 10,
     "metadata": {},
     "output_type": "execute_result"
    }
   ],
   "source": [
    "a is b"
   ]
  },
  {
   "cell_type": "code",
   "execution_count": 11,
   "id": "111c8c3c-4689-4425-b9e4-9b14c5c26862",
   "metadata": {},
   "outputs": [
    {
     "data": {
      "text/plain": [
       "False"
      ]
     },
     "execution_count": 11,
     "metadata": {},
     "output_type": "execute_result"
    }
   ],
   "source": [
    "np.shares_memory(a, b)"
   ]
  },
  {
   "cell_type": "markdown",
   "id": "4679b9f4-0ee1-499b-99da-5718afe94dab",
   "metadata": {},
   "source": [
    "### `np.view` vs `np.copy`"
   ]
  },
  {
   "cell_type": "markdown",
   "id": "eea8aed6-e81f-4434-bf24-cd3f87fd8e29",
   "metadata": {},
   "source": [
    "#### `np.view()`"
   ]
  },
  {
   "cell_type": "code",
   "execution_count": 12,
   "id": "6d2e74ca-a8f5-4a40-8356-d600b3af68d4",
   "metadata": {},
   "outputs": [
    {
     "data": {
      "text/plain": [
       "array([  1, 100,   3,   4])"
      ]
     },
     "execution_count": 12,
     "metadata": {},
     "output_type": "execute_result"
    }
   ],
   "source": [
    "a = np.array([1, 2, 3, 4])\n",
    "b = a.view()\n",
    "\n",
    "a[1] = 100\n",
    "b"
   ]
  },
  {
   "cell_type": "code",
   "execution_count": 13,
   "id": "91f36ae4-a135-4083-b7fb-1d426845859c",
   "metadata": {},
   "outputs": [
    {
     "data": {
      "text/plain": [
       "False"
      ]
     },
     "execution_count": 13,
     "metadata": {},
     "output_type": "execute_result"
    }
   ],
   "source": [
    "a is b"
   ]
  },
  {
   "cell_type": "code",
   "execution_count": 14,
   "id": "c1259e9b-c142-48a6-9d22-bf4f73aa44eb",
   "metadata": {},
   "outputs": [
    {
     "data": {
      "text/plain": [
       "True"
      ]
     },
     "execution_count": 14,
     "metadata": {},
     "output_type": "execute_result"
    }
   ],
   "source": [
    "np.shares_memory(a, b)"
   ]
  },
  {
   "cell_type": "markdown",
   "id": "c506b478-5187-4a7f-b2e5-48a02d97e453",
   "metadata": {},
   "source": [
    "#### `np.copy()`"
   ]
  },
  {
   "cell_type": "code",
   "execution_count": 15,
   "id": "1205c104-f54b-45c1-9569-b86908d5a527",
   "metadata": {},
   "outputs": [
    {
     "data": {
      "text/plain": [
       "array([1, 2, 3, 4])"
      ]
     },
     "execution_count": 15,
     "metadata": {},
     "output_type": "execute_result"
    }
   ],
   "source": [
    "a = np.array([1, 2, 3, 4])\n",
    "b = a.copy()\n",
    "\n",
    "a[1] = 100\n",
    "b"
   ]
  },
  {
   "cell_type": "code",
   "execution_count": 16,
   "id": "25452459-a3b3-42a6-bdb8-cbe5742589f3",
   "metadata": {},
   "outputs": [
    {
     "data": {
      "text/plain": [
       "False"
      ]
     },
     "execution_count": 16,
     "metadata": {},
     "output_type": "execute_result"
    }
   ],
   "source": [
    "a is b"
   ]
  },
  {
   "cell_type": "code",
   "execution_count": 17,
   "id": "6b4fb225-22aa-442d-b0ff-48b116cb171c",
   "metadata": {},
   "outputs": [
    {
     "data": {
      "text/plain": [
       "False"
      ]
     },
     "execution_count": 17,
     "metadata": {},
     "output_type": "execute_result"
    }
   ],
   "source": [
    "np.shares_memory(a, b)"
   ]
  },
  {
   "cell_type": "markdown",
   "id": "9d2d28b7-7d42-4816-aaa3-2f4f10b50afa",
   "metadata": {},
   "source": [
    "## Object Array"
   ]
  },
  {
   "cell_type": "code",
   "execution_count": 18,
   "id": "a2646193-42a1-45cf-99a2-b5013fa6158c",
   "metadata": {},
   "outputs": [
    {
     "data": {
      "text/plain": [
       "array([1, 'Abcd', True, list([1, 2, 3])], dtype=object)"
      ]
     },
     "execution_count": 18,
     "metadata": {},
     "output_type": "execute_result"
    }
   ],
   "source": [
    "arr = np.array(\n",
    "    [\n",
    "        1,\n",
    "        \"Abcd\",\n",
    "        True,\n",
    "        list([1, 2, 3]),\n",
    "    ],\n",
    "    dtype=\"object\",\n",
    ")\n",
    "arr"
   ]
  },
  {
   "cell_type": "code",
   "execution_count": 19,
   "id": "b3f8a953-f1f1-4e65-99c0-6487a9aea27e",
   "metadata": {},
   "outputs": [
    {
     "data": {
      "text/plain": [
       "[int, str, bool, list]"
      ]
     },
     "execution_count": 19,
     "metadata": {},
     "output_type": "execute_result"
    }
   ],
   "source": [
    "[type(item) for item in arr]"
   ]
  },
  {
   "cell_type": "code",
   "execution_count": 20,
   "id": "ffb24b40-bc30-4d8a-abb1-02aaef658283",
   "metadata": {},
   "outputs": [
    {
     "data": {
      "text/plain": [
       "array([0, 1])"
      ]
     },
     "execution_count": 20,
     "metadata": {},
     "output_type": "execute_result"
    }
   ],
   "source": [
    "a = np.array([0, 1, 2, 3, 4, 5])\n",
    "b = a[a % 1 == 0]\n",
    "b[0] = 10\n",
    "a[:2]"
   ]
  },
  {
   "cell_type": "markdown",
   "id": "7608f26e-ee5e-4d6e-9c95-1df1929218df",
   "metadata": {},
   "source": [
    "## Spliting"
   ]
  },
  {
   "cell_type": "markdown",
   "id": "b3642558-5557-4481-970c-0f8ffc5459ae",
   "metadata": {},
   "source": [
    "### `np.split`"
   ]
  },
  {
   "cell_type": "code",
   "execution_count": 21,
   "id": "49908a5f-129f-412e-aa60-53acf5988b8b",
   "metadata": {},
   "outputs": [
    {
     "data": {
      "text/plain": [
       "array([0, 1, 2, 3, 4, 5, 6, 7])"
      ]
     },
     "execution_count": 21,
     "metadata": {},
     "output_type": "execute_result"
    }
   ],
   "source": [
    "arr = np.arange(0, 8)\n",
    "arr"
   ]
  },
  {
   "cell_type": "code",
   "execution_count": 22,
   "id": "2411d7bc-8081-493c-876d-9d0a79c94fa1",
   "metadata": {},
   "outputs": [
    {
     "data": {
      "text/plain": [
       "[array([0, 1, 2, 3]), array([4, 5, 6, 7])]"
      ]
     },
     "execution_count": 22,
     "metadata": {},
     "output_type": "execute_result"
    }
   ],
   "source": [
    "np.split(arr, 2)"
   ]
  },
  {
   "cell_type": "code",
   "execution_count": 23,
   "id": "b67f4a81-c24b-4571-a982-3485641a0ede",
   "metadata": {},
   "outputs": [
    {
     "name": "stdout",
     "output_type": "stream",
     "text": [
      "array split does not result in an equal division\n"
     ]
    }
   ],
   "source": [
    "try:\n",
    "    np.split(arr, 3)\n",
    "\n",
    "except ValueError as err:\n",
    "    print(err)"
   ]
  },
  {
   "cell_type": "code",
   "execution_count": 24,
   "id": "cf7d1499-f53f-4c5c-9771-42d659f9c46a",
   "metadata": {},
   "outputs": [
    {
     "data": {
      "text/plain": [
       "[array([0, 1]),\n",
       " array([2, 3, 4]),\n",
       " array([5, 6]),\n",
       " array([7]),\n",
       " array([], dtype=int64),\n",
       " array([], dtype=int64)]"
      ]
     },
     "execution_count": 24,
     "metadata": {},
     "output_type": "execute_result"
    }
   ],
   "source": [
    "splits = np.split(arr, indices_or_sections=[2, 5, 7, 8, 100])\n",
    "splits"
   ]
  },
  {
   "cell_type": "markdown",
   "id": "9014fa86-5e85-4af7-8201-12223981fcb1",
   "metadata": {},
   "source": [
    "> **Note**:\n",
    ">\n",
    "> `indices_or_sections` accepts values out of range"
   ]
  },
  {
   "cell_type": "code",
   "execution_count": 25,
   "id": "c87da520-ffc0-4c2e-8f81-ab897775525e",
   "metadata": {},
   "outputs": [
    {
     "data": {
      "text/plain": [
       "list"
      ]
     },
     "execution_count": 25,
     "metadata": {},
     "output_type": "execute_result"
    }
   ],
   "source": [
    "type(splits)"
   ]
  },
  {
   "cell_type": "code",
   "execution_count": 26,
   "id": "2d3db8a3-8fcb-4328-a015-a3144ff39332",
   "metadata": {},
   "outputs": [
    {
     "data": {
      "text/plain": [
       "array([[ 1,  2,  3,  4],\n",
       "       [ 5,  6,  7,  8],\n",
       "       [ 9, 10, 11, 12],\n",
       "       [13, 14, 15, 16]])"
      ]
     },
     "execution_count": 26,
     "metadata": {},
     "output_type": "execute_result"
    }
   ],
   "source": [
    "arr = np.arange(1, 17).reshape(4, 4)\n",
    "arr"
   ]
  },
  {
   "cell_type": "code",
   "execution_count": 27,
   "id": "f54cf198-5347-489b-8a64-ade5f44815fc",
   "metadata": {},
   "outputs": [
    {
     "data": {
      "text/plain": [
       "[array([[1, 2, 3, 4],\n",
       "        [5, 6, 7, 8]]),\n",
       " array([[ 9, 10, 11, 12],\n",
       "        [13, 14, 15, 16]])]"
      ]
     },
     "execution_count": 27,
     "metadata": {},
     "output_type": "execute_result"
    }
   ],
   "source": [
    "np.split(arr, 2)"
   ]
  },
  {
   "cell_type": "code",
   "execution_count": 28,
   "id": "2ec32da8-7877-4196-ad55-5160137dfac1",
   "metadata": {},
   "outputs": [
    {
     "data": {
      "text/plain": [
       "[array([[1, 2, 3, 4],\n",
       "        [5, 6, 7, 8]]),\n",
       " array([[ 9, 10, 11, 12],\n",
       "        [13, 14, 15, 16]])]"
      ]
     },
     "execution_count": 28,
     "metadata": {},
     "output_type": "execute_result"
    }
   ],
   "source": [
    "np.split(arr, 2, axis=0)"
   ]
  },
  {
   "cell_type": "code",
   "execution_count": 29,
   "id": "0d91e3e3-3706-4b1d-819a-41e2168c3177",
   "metadata": {},
   "outputs": [
    {
     "data": {
      "text/plain": [
       "[array([[ 1,  2],\n",
       "        [ 5,  6],\n",
       "        [ 9, 10],\n",
       "        [13, 14]]),\n",
       " array([[ 3,  4],\n",
       "        [ 7,  8],\n",
       "        [11, 12],\n",
       "        [15, 16]])]"
      ]
     },
     "execution_count": 29,
     "metadata": {},
     "output_type": "execute_result"
    }
   ],
   "source": [
    "np.split(arr, 2, axis=1)"
   ]
  },
  {
   "cell_type": "markdown",
   "id": "f4ad0be9-d489-468d-b7f3-408ee525cda3",
   "metadata": {},
   "source": [
    "### `np.vsplit`"
   ]
  },
  {
   "cell_type": "code",
   "execution_count": null,
   "id": "f86c11ee-aceb-4aaf-8797-e133840a4dba",
   "metadata": {},
   "outputs": [],
   "source": []
  },
  {
   "cell_type": "markdown",
   "id": "3319e246-814a-4687-8ea5-06865ca97534",
   "metadata": {},
   "source": [
    "### `np.hsplit`"
   ]
  },
  {
   "cell_type": "code",
   "execution_count": null,
   "id": "4e25715e-bc97-4750-a0c4-db8d9f9fa188",
   "metadata": {},
   "outputs": [],
   "source": []
  },
  {
   "cell_type": "markdown",
   "id": "8fff7eec-d9b9-4471-af85-c24a24b6216e",
   "metadata": {},
   "source": [
    "## Stacking"
   ]
  },
  {
   "cell_type": "markdown",
   "id": "a8bae6e3-193d-4b1b-a6f1-5ebbd8bcc433",
   "metadata": {},
   "source": [
    "### `np.vstack`"
   ]
  },
  {
   "cell_type": "code",
   "execution_count": 30,
   "id": "7af97a4d-18fc-46e7-b89f-c6841896327f",
   "metadata": {},
   "outputs": [
    {
     "data": {
      "text/plain": [
       "array([1, 2, 3])"
      ]
     },
     "execution_count": 30,
     "metadata": {},
     "output_type": "execute_result"
    }
   ],
   "source": [
    "arr = np.arange(1, 4)\n",
    "arr"
   ]
  },
  {
   "cell_type": "code",
   "execution_count": 31,
   "id": "34dfbee8-081d-40a3-9f94-e2d4a380b90c",
   "metadata": {},
   "outputs": [
    {
     "data": {
      "text/plain": [
       "array([[1, 2, 3],\n",
       "       [1, 2, 3]])"
      ]
     },
     "metadata": {},
     "output_type": "display_data"
    },
    {
     "name": "stdout",
     "output_type": "stream",
     "text": [
      "\n",
      "Shape: (2, 3)\n"
     ]
    }
   ],
   "source": [
    "op = np.vstack((arr, arr))\n",
    "\n",
    "display(op)\n",
    "print(\"\\nShape:\", op.shape)"
   ]
  },
  {
   "cell_type": "code",
   "execution_count": 32,
   "id": "59ccab04-e7dc-4ca1-b51a-62fb24f81396",
   "metadata": {},
   "outputs": [
    {
     "data": {
      "text/plain": [
       "array([[1, 2],\n",
       "       [3, 4]])"
      ]
     },
     "execution_count": 32,
     "metadata": {},
     "output_type": "execute_result"
    }
   ],
   "source": [
    "arr = np.arange(1, 5).reshape(2, 2)\n",
    "arr"
   ]
  },
  {
   "cell_type": "code",
   "execution_count": 33,
   "id": "7894ec55-81dc-4280-8732-caafe9904db6",
   "metadata": {},
   "outputs": [
    {
     "data": {
      "text/plain": [
       "array([[1, 2],\n",
       "       [3, 4],\n",
       "       [1, 2],\n",
       "       [3, 4]])"
      ]
     },
     "metadata": {},
     "output_type": "display_data"
    },
    {
     "name": "stdout",
     "output_type": "stream",
     "text": [
      "\n",
      "Shape: (4, 2)\n"
     ]
    }
   ],
   "source": [
    "op = np.vstack((arr, arr))\n",
    "\n",
    "display(op)\n",
    "print(\"\\nShape:\", op.shape)"
   ]
  },
  {
   "cell_type": "markdown",
   "id": "3e6949df-2c37-46fa-b828-7f76bf47bef5",
   "metadata": {},
   "source": [
    "### `np.hstack`"
   ]
  },
  {
   "cell_type": "code",
   "execution_count": 34,
   "id": "bf0b7d94-9074-41c8-b176-f29d4e019d9b",
   "metadata": {},
   "outputs": [
    {
     "data": {
      "text/plain": [
       "array([1, 2, 3])"
      ]
     },
     "execution_count": 34,
     "metadata": {},
     "output_type": "execute_result"
    }
   ],
   "source": [
    "arr = np.arange(1, 4)\n",
    "arr"
   ]
  },
  {
   "cell_type": "code",
   "execution_count": 35,
   "id": "b48f0b5b-bfbd-4f53-9cbe-ceb4d9b92e18",
   "metadata": {},
   "outputs": [
    {
     "data": {
      "text/plain": [
       "array([1, 2, 3, 1, 2, 3])"
      ]
     },
     "metadata": {},
     "output_type": "display_data"
    },
    {
     "name": "stdout",
     "output_type": "stream",
     "text": [
      "\n",
      "Shape: (6,)\n"
     ]
    }
   ],
   "source": [
    "op = np.hstack((arr, arr))\n",
    "\n",
    "display(op)\n",
    "print(\"\\nShape:\", op.shape)"
   ]
  },
  {
   "cell_type": "code",
   "execution_count": 36,
   "id": "fc22c226-faba-47a3-9a83-747c7ee42265",
   "metadata": {},
   "outputs": [
    {
     "data": {
      "text/plain": [
       "array([[1, 2],\n",
       "       [3, 4]])"
      ]
     },
     "execution_count": 36,
     "metadata": {},
     "output_type": "execute_result"
    }
   ],
   "source": [
    "arr = np.arange(1, 5).reshape(2, 2)\n",
    "arr"
   ]
  },
  {
   "cell_type": "code",
   "execution_count": 37,
   "id": "c990dfb6-cbad-4bdc-a525-cb265c8bc1e4",
   "metadata": {},
   "outputs": [
    {
     "data": {
      "text/plain": [
       "array([[1, 2, 1, 2],\n",
       "       [3, 4, 3, 4]])"
      ]
     },
     "metadata": {},
     "output_type": "display_data"
    },
    {
     "name": "stdout",
     "output_type": "stream",
     "text": [
      "\n",
      "Shape: (2, 4)\n"
     ]
    }
   ],
   "source": [
    "op = np.hstack((arr, arr))\n",
    "\n",
    "display(op)\n",
    "print(\"\\nShape:\", op.shape)"
   ]
  },
  {
   "cell_type": "code",
   "execution_count": 38,
   "id": "d655eace-a765-4504-8550-df7d826adb48",
   "metadata": {},
   "outputs": [
    {
     "data": {
      "text/plain": [
       "array([[1, 4],\n",
       "       [2, 5],\n",
       "       [3, 6]])"
      ]
     },
     "execution_count": 38,
     "metadata": {},
     "output_type": "execute_result"
    }
   ],
   "source": [
    "a = np.array([[1], [2], [3]])\n",
    "b = np.array([[4], [5], [6]])\n",
    "np.hstack((a, b))"
   ]
  },
  {
   "cell_type": "code",
   "execution_count": 39,
   "id": "bb22b855-a54d-4a92-8e96-d5afc97b2fcd",
   "metadata": {},
   "outputs": [
    {
     "name": "stdout",
     "output_type": "stream",
     "text": [
      "all the input array dimensions except for the concatenation axis must match exactly, but along dimension 0, the array at index 0 has size 3 and the array at index 1 has size 4\n"
     ]
    }
   ],
   "source": [
    "try:\n",
    "    a = np.array([[1], [2], [3]])\n",
    "    b = np.array([[4], [5], [6], [7]])\n",
    "    np.hstack((a, b))\n",
    "\n",
    "except ValueError as err:\n",
    "    print(err)"
   ]
  },
  {
   "cell_type": "markdown",
   "id": "ff07e04b-e03e-4386-adb4-82e824567870",
   "metadata": {},
   "source": [
    "### `np.concatenate`"
   ]
  },
  {
   "cell_type": "code",
   "execution_count": 49,
   "id": "8a122dae-5413-4ba0-8e52-387efd5e3ab3",
   "metadata": {},
   "outputs": [
    {
     "name": "stdout",
     "output_type": "stream",
     "text": [
      "[12  4  6  8 10]\n",
      "[ 2  4  6  8 10]\n"
     ]
    }
   ],
   "source": [
    "arr = np.array([2, 4, 6, 8, 10])\n",
    "c0 = arr\n",
    "c0[0] = 12\n",
    "\n",
    "arr = np.array([2, 4, 6, 8, 10])\n",
    "c1 = arr.view()\n",
    "arr[0] = 12\n",
    "print(c1)\n",
    "\n",
    "arr = np.array([2, 4, 6, 8, 10])\n",
    "c2 = arr.copy()\n",
    "arr[0] = 12\n",
    "print(c2)"
   ]
  },
  {
   "cell_type": "code",
   "execution_count": 53,
   "id": "62e5696a-0155-43a5-b042-219766a14c31",
   "metadata": {},
   "outputs": [
    {
     "data": {
      "text/plain": [
       "[array([0, 1, 2, 3, 4]), array([5, 6, 7, 8, 9]), array([], dtype=int64)]"
      ]
     },
     "execution_count": 53,
     "metadata": {},
     "output_type": "execute_result"
    }
   ],
   "source": [
    "arr = np.arange(10)\n",
    "np.split(arr, [5, 12])"
   ]
  },
  {
   "cell_type": "code",
   "execution_count": 55,
   "id": "6ac7ecf5-0459-43c5-87cd-24e983bf5671",
   "metadata": {},
   "outputs": [
    {
     "data": {
      "text/plain": [
       "array([[[0],\n",
       "        [2]],\n",
       "\n",
       "       [[4],\n",
       "        [6]]])"
      ]
     },
     "execution_count": 55,
     "metadata": {},
     "output_type": "execute_result"
    }
   ],
   "source": [
    "arr = np.array(\n",
    "    [\n",
    "        [\n",
    "            [0, 1],\n",
    "            [2, 3],\n",
    "        ],\n",
    "        [\n",
    "            [4, 5],\n",
    "            [6, 7],\n",
    "        ],\n",
    "    ]\n",
    ")\n",
    "arr[:, 0:,:1]"
   ]
  },
  {
   "cell_type": "code",
   "execution_count": 44,
   "id": "93553645-4248-4860-9ba6-540b970ef659",
   "metadata": {},
   "outputs": [
    {
     "data": {
      "text/plain": [
       "array([ 2,  4,  6,  8, 10])"
      ]
     },
     "execution_count": 44,
     "metadata": {},
     "output_type": "execute_result"
    }
   ],
   "source": []
  },
  {
   "cell_type": "markdown",
   "id": "b96d3bea-bb58-4814-9694-6a1ba28df522",
   "metadata": {},
   "source": [
    "## Matrix"
   ]
  },
  {
   "cell_type": "markdown",
   "id": "f0ec8cbe-fd9a-48eb-9997-d16909ceaa0d",
   "metadata": {},
   "source": [
    "## Matrix Initialization"
   ]
  },
  {
   "cell_type": "code",
   "execution_count": null,
   "id": "0879f83b-7d21-4c9e-85bf-84cc19ee5265",
   "metadata": {},
   "outputs": [],
   "source": []
  },
  {
   "cell_type": "code",
   "execution_count": null,
   "id": "e8fb4970-3db8-4ac4-a16a-d9d4d35cf8d1",
   "metadata": {},
   "outputs": [],
   "source": []
  },
  {
   "cell_type": "code",
   "execution_count": null,
   "id": "9cc963fe-9131-481e-837d-04b09d7c3184",
   "metadata": {},
   "outputs": [],
   "source": []
  },
  {
   "cell_type": "code",
   "execution_count": null,
   "id": "3854da91-6e1e-40ec-80f7-74e5258a1fbd",
   "metadata": {},
   "outputs": [],
   "source": []
  },
  {
   "cell_type": "code",
   "execution_count": null,
   "id": "9d8bc240-2cd0-45ea-a9ad-4de17fbe9a10",
   "metadata": {},
   "outputs": [],
   "source": []
  },
  {
   "cell_type": "code",
   "execution_count": null,
   "id": "46d6768e-db00-4579-875e-158343a8df5b",
   "metadata": {},
   "outputs": [],
   "source": []
  },
  {
   "cell_type": "code",
   "execution_count": null,
   "id": "588c154c-2e42-4e2c-8f4f-0fe55fe3cd2f",
   "metadata": {},
   "outputs": [],
   "source": []
  },
  {
   "cell_type": "code",
   "execution_count": null,
   "id": "74bd3098-a929-4f29-a9b7-dd7e5562c92a",
   "metadata": {},
   "outputs": [],
   "source": []
  },
  {
   "cell_type": "code",
   "execution_count": null,
   "id": "0fd20980-ad73-4930-bd48-5f9b925665d8",
   "metadata": {},
   "outputs": [],
   "source": []
  },
  {
   "cell_type": "markdown",
   "id": "e32c3e07-9137-4c27-a2cb-94eda4d9a83c",
   "metadata": {},
   "source": [
    "## Matrix Multiplication"
   ]
  },
  {
   "cell_type": "code",
   "execution_count": null,
   "id": "8fd9582c-c3f1-4ac3-a572-d38c074042fc",
   "metadata": {},
   "outputs": [],
   "source": []
  },
  {
   "cell_type": "code",
   "execution_count": null,
   "id": "37a6d86d-1ded-4183-b373-6fc832d0912a",
   "metadata": {},
   "outputs": [],
   "source": []
  },
  {
   "cell_type": "code",
   "execution_count": null,
   "id": "6b4dac0a-84e0-4cbd-a2c5-bc25a4c743f9",
   "metadata": {},
   "outputs": [],
   "source": []
  },
  {
   "cell_type": "code",
   "execution_count": null,
   "id": "7fdf989d-27be-47c6-91d2-88697583d8aa",
   "metadata": {},
   "outputs": [],
   "source": []
  },
  {
   "cell_type": "code",
   "execution_count": null,
   "id": "dff86033-361c-4418-a973-d4547683a499",
   "metadata": {},
   "outputs": [],
   "source": []
  },
  {
   "cell_type": "code",
   "execution_count": null,
   "id": "3a8df86c-3bbd-4452-b7aa-3b7c62217631",
   "metadata": {},
   "outputs": [],
   "source": []
  },
  {
   "cell_type": "code",
   "execution_count": null,
   "id": "02a68466-ef14-4699-a6e1-78605efa0da7",
   "metadata": {},
   "outputs": [],
   "source": []
  },
  {
   "cell_type": "code",
   "execution_count": null,
   "id": "c550155e-fd41-4d85-8adb-bff407c8b056",
   "metadata": {},
   "outputs": [],
   "source": []
  },
  {
   "cell_type": "code",
   "execution_count": null,
   "id": "72d1fd00-5d52-4cd7-87a6-fa3654a7abd5",
   "metadata": {},
   "outputs": [],
   "source": []
  },
  {
   "cell_type": "code",
   "execution_count": null,
   "id": "1db37120-75dc-4d50-826d-6905498d743c",
   "metadata": {},
   "outputs": [],
   "source": []
  },
  {
   "cell_type": "code",
   "execution_count": null,
   "id": "779a30b9-fdd5-4840-9c56-005f9e7cea4d",
   "metadata": {},
   "outputs": [],
   "source": []
  },
  {
   "cell_type": "code",
   "execution_count": null,
   "id": "1a74e746-53e8-43d0-a3f1-fbd3f0cd550b",
   "metadata": {},
   "outputs": [],
   "source": []
  },
  {
   "cell_type": "code",
   "execution_count": null,
   "id": "681d9f28-bfb4-446c-b89c-b31fa3b549df",
   "metadata": {},
   "outputs": [],
   "source": []
  },
  {
   "cell_type": "code",
   "execution_count": null,
   "id": "f3b40cbe-90ce-45d8-8868-7316d536d18f",
   "metadata": {},
   "outputs": [],
   "source": []
  }
 ],
 "metadata": {
  "kernelspec": {
   "display_name": "Python 3 (ipykernel)",
   "language": "python",
   "name": "python3"
  },
  "language_info": {
   "codemirror_mode": {
    "name": "ipython",
    "version": 3
   },
   "file_extension": ".py",
   "mimetype": "text/x-python",
   "name": "python",
   "nbconvert_exporter": "python",
   "pygments_lexer": "ipython3",
   "version": "3.12.6"
  }
 },
 "nbformat": 4,
 "nbformat_minor": 5
}
