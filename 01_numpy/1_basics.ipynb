{
 "cells": [
  {
   "cell_type": "markdown",
   "id": "6baf3283-8bcc-447a-b3a5-20e9f8b93718",
   "metadata": {},
   "source": [
    "![Numpy logo](images\\numpy.png)"
   ]
  },
  {
   "cell_type": "markdown",
   "id": "ab985af4-1a1c-4465-96d9-ed113b062393",
   "metadata": {},
   "source": [
    "# NumPy Tutorials - PART 1: Basics"
   ]
  },
  {
   "cell_type": "markdown",
   "id": "471ae66b",
   "metadata": {},
   "source": [
    "## 1 Setup"
   ]
  },
  {
   "cell_type": "markdown",
   "id": "490cc801",
   "metadata": {},
   "source": [
    "### 1.1 Install library"
   ]
  },
  {
   "cell_type": "markdown",
   "id": "99cb7512-5ae2-46e7-8ede-4710bf621549",
   "metadata": {},
   "source": [
    "Check Setup in [README.md][1] for instaling NumPy along with other libraries.\n",
    "\n",
    "[1]: https://github.com/DheemanthBhat/python-data-science-libraries/blob/main/README.md"
   ]
  },
  {
   "cell_type": "markdown",
   "id": "63bb15f0",
   "metadata": {},
   "source": [
    "### 1.2 Import library"
   ]
  },
  {
   "cell_type": "code",
   "execution_count": 1,
   "id": "78364653-b0bd-453f-a34f-7291ba923052",
   "metadata": {},
   "outputs": [
    {
     "name": "stdout",
     "output_type": "stream",
     "text": [
      "NumPy version: 2.3.0\n"
     ]
    }
   ],
   "source": [
    "import numpy as np\n",
    "\n",
    "\n",
    "np.set_printoptions(linewidth=88)\n",
    "\n",
    "print(\"NumPy version:\", np.__version__)"
   ]
  },
  {
   "cell_type": "markdown",
   "id": "28c571e9",
   "metadata": {},
   "source": [
    "## 2 Create"
   ]
  },
  {
   "cell_type": "markdown",
   "id": "7a89df07",
   "metadata": {},
   "source": [
    "### 2.1 One Dimensional Array"
   ]
  },
  {
   "cell_type": "markdown",
   "id": "72735168-48bb-4b57-a7a0-d17cc0cfe85f",
   "metadata": {},
   "source": [
    "Create one dimensional NumPy array."
   ]
  },
  {
   "cell_type": "code",
   "execution_count": 2,
   "id": "c770f901-43f6-4fec-b25b-367b0c23ea33",
   "metadata": {},
   "outputs": [
    {
     "data": {
      "text/plain": [
       "array([1, 2, 3, 4])"
      ]
     },
     "execution_count": 2,
     "metadata": {},
     "output_type": "execute_result"
    }
   ],
   "source": [
    "np.array([1, 2, 3, 4])"
   ]
  },
  {
   "cell_type": "markdown",
   "id": "617be165",
   "metadata": {},
   "source": [
    "### 2.2 Two Dimensional Array"
   ]
  },
  {
   "cell_type": "markdown",
   "id": "cfc72eee-3aa1-4640-ba90-63020f3e890c",
   "metadata": {},
   "source": [
    "Create two dimensional NumPy array."
   ]
  },
  {
   "cell_type": "code",
   "execution_count": 3,
   "id": "59d8bd12",
   "metadata": {},
   "outputs": [
    {
     "data": {
      "text/plain": [
       "array([[1, 2, 3, 4, 5],\n",
       "       [6, 7, 8, 9, 0]])"
      ]
     },
     "execution_count": 3,
     "metadata": {},
     "output_type": "execute_result"
    }
   ],
   "source": [
    "np.array(\n",
    "    [\n",
    "        [1, 2, 3, 4, 5],\n",
    "        [6, 7, 8, 9, 0],\n",
    "    ]\n",
    ")"
   ]
  },
  {
   "cell_type": "markdown",
   "id": "b77db120",
   "metadata": {},
   "source": [
    "### 2.3 Multi Dimensional Array"
   ]
  },
  {
   "cell_type": "markdown",
   "id": "122ec9a3-dbab-41a6-9b23-c9e1682a2150",
   "metadata": {},
   "source": [
    "Create three dimensional NumPy array."
   ]
  },
  {
   "cell_type": "code",
   "execution_count": 4,
   "id": "0b2bc289",
   "metadata": {},
   "outputs": [
    {
     "data": {
      "text/plain": [
       "array([[[1, 2, 3, 4, 5],\n",
       "        [6, 7, 8, 9, 0]],\n",
       "\n",
       "       [[1, 2, 3, 4, 5],\n",
       "        [6, 7, 8, 9, 0]]])"
      ]
     },
     "execution_count": 4,
     "metadata": {},
     "output_type": "execute_result"
    }
   ],
   "source": [
    "np.array(\n",
    "    [\n",
    "        [\n",
    "            [1, 2, 3, 4, 5],\n",
    "            [6, 7, 8, 9, 0],\n",
    "        ],\n",
    "        [\n",
    "            [1, 2, 3, 4, 5],\n",
    "            [6, 7, 8, 9, 0],\n",
    "        ],\n",
    "    ]\n",
    ")"
   ]
  },
  {
   "cell_type": "markdown",
   "id": "5663e3f4-a23a-4347-8ea0-07b583582d7f",
   "metadata": {},
   "source": [
    "### 2.4 Range using `arange()`"
   ]
  },
  {
   "cell_type": "markdown",
   "id": "832cd025-982b-4ae2-b7da-0df5ce14963a",
   "metadata": {},
   "source": [
    "NumPy's `arange()` takes three parameters:\n",
    "\n",
    "1. `start`: Starting value in NumPy array (inclusive).\n",
    "2. `stop`: Ending value in NumPy array (exclusive).\n",
    "3. `step`: Step size between two elements."
   ]
  },
  {
   "cell_type": "markdown",
   "id": "2c926c72-f907-41b7-84ee-ba26d466f71f",
   "metadata": {},
   "source": [
    "> **Note**:\n",
    "> \n",
    "> Stop value is exclusive, meaning the stop value is not included in the resulting NumPy array."
   ]
  },
  {
   "cell_type": "code",
   "execution_count": 5,
   "id": "c0e54c65-9e40-4921-a7cb-5898f9f34cc6",
   "metadata": {},
   "outputs": [
    {
     "data": {
      "text/plain": [
       "array([ 1,  2,  3,  4,  5,  6,  7,  8,  9, 10, 11, 12, 13, 14, 15, 16, 17, 18, 19, 20,\n",
       "       21, 22, 23, 24, 25, 26, 27, 28, 29, 30, 31, 32, 33, 34, 35, 36, 37, 38, 39, 40,\n",
       "       41, 42, 43, 44, 45, 46, 47, 48, 49, 50, 51, 52, 53, 54, 55, 56, 57, 58, 59, 60,\n",
       "       61, 62, 63, 64, 65, 66, 67, 68, 69, 70, 71, 72, 73, 74, 75, 76, 77, 78, 79, 80,\n",
       "       81, 82, 83, 84, 85, 86, 87, 88, 89, 90, 91, 92, 93, 94, 95, 96, 97, 98, 99])"
      ]
     },
     "execution_count": 5,
     "metadata": {},
     "output_type": "execute_result"
    }
   ],
   "source": [
    "np.arange(start=1, stop=100, step=1)"
   ]
  },
  {
   "cell_type": "markdown",
   "id": "f7e66b96-b904-4630-b852-6087ea0eee25",
   "metadata": {},
   "source": [
    "#### Calculate stop value"
   ]
  },
  {
   "cell_type": "markdown",
   "id": "46d6517e-da65-43aa-b5b2-2afa8fc3ca3d",
   "metadata": {},
   "source": [
    "When given the required array length that grows with non default step size of 1, formula for calculating ending value is:\n",
    "\n",
    "```\n",
    "stop_value = start_value + (length * step_size)\n",
    "```"
   ]
  },
  {
   "cell_type": "markdown",
   "id": "61bd7891-1186-4d84-9acb-5ec748165a30",
   "metadata": {},
   "source": [
    "> **Note**:\n",
    "> \n",
    "> Still the stop value is exclusive."
   ]
  },
  {
   "cell_type": "markdown",
   "id": "bc56250c-45ef-496e-b2e6-ece4583ede6c",
   "metadata": {},
   "source": [
    "##### Quiz #1"
   ]
  },
  {
   "cell_type": "markdown",
   "id": "e186c54b-9143-4514-9ade-00ca05a0f2b7",
   "metadata": {},
   "source": [
    "Create an array of length `10` starting from `6` with a step value of `5`"
   ]
  },
  {
   "cell_type": "code",
   "execution_count": 6,
   "id": "18b38fb9-bf75-49d9-a04b-5da3f58bb803",
   "metadata": {},
   "outputs": [
    {
     "name": "stdout",
     "output_type": "stream",
     "text": [
      "Start value: 6\n",
      "Stop value: 56\n"
     ]
    },
    {
     "data": {
      "text/plain": [
       "array([ 6, 11, 16, 21, 26, 31, 36, 41, 46, 51])"
      ]
     },
     "execution_count": 6,
     "metadata": {},
     "output_type": "execute_result"
    }
   ],
   "source": [
    "start_val = 6\n",
    "length = 10\n",
    "step_size = 5\n",
    "\n",
    "# Calculate stop value.\n",
    "stop_val = start_val + (length * step_size)\n",
    "\n",
    "print(\"Start value:\", start_val)\n",
    "print(\"Stop value:\", stop_val)\n",
    "\n",
    "# Generate NumPy array.\n",
    "np.arange(start=start_val, stop=stop_val, step=step_size)"
   ]
  },
  {
   "cell_type": "markdown",
   "id": "374a882c-7cd2-4674-b0f1-fc7682371c6c",
   "metadata": {},
   "source": [
    "## 3 Why NumPy array?"
   ]
  },
  {
   "cell_type": "markdown",
   "id": "983d621f-efcc-42ca-a8bc-5bddaaaaad3d",
   "metadata": {},
   "source": [
    "### 3.1 Python `list` vs NumPy array"
   ]
  },
  {
   "cell_type": "markdown",
   "id": "348b5a35-3a9b-4372-a0fb-3a690b7b81a8",
   "metadata": {},
   "source": [
    "#### Normal Python list"
   ]
  },
  {
   "cell_type": "markdown",
   "id": "0369c6ef-965b-458c-abb2-5304f5903848",
   "metadata": {},
   "source": [
    "1. Python lists can store heterogeneous values.\n",
    "2. Python lists are arrays of pointers to objects (each object is separately allocated on the heap) hence have higher space complexity compared to NumPy array.\n",
    "3. Any math operation on Python list takes significantly large amount of time as compared to NumPy array."
   ]
  },
  {
   "cell_type": "code",
   "execution_count": 7,
   "id": "1ee2fa1b-6380-4d5c-9991-4873b80765bc",
   "metadata": {},
   "outputs": [],
   "source": [
    "start_val = 0\n",
    "stop_val = 5_000_000"
   ]
  },
  {
   "cell_type": "code",
   "execution_count": 8,
   "id": "e604f674-4395-4b1c-a708-fff32a656db5",
   "metadata": {},
   "outputs": [
    {
     "name": "stdout",
     "output_type": "stream",
     "text": [
      "349 ms ± 7.04 ms per loop (mean ± std. dev. of 7 runs, 1 loop each)\n"
     ]
    }
   ],
   "source": [
    "%%timeit\n",
    "\n",
    "[i**2 for i in range(start_val, stop_val)]"
   ]
  },
  {
   "cell_type": "markdown",
   "id": "d1151789-013f-4e98-aa6f-13d6625581de",
   "metadata": {},
   "source": [
    "#### NumPy array"
   ]
  },
  {
   "cell_type": "markdown",
   "id": "5f5bd6bd-bb99-4ffe-8d57-9f2ec6a252f9",
   "metadata": {},
   "source": [
    "1. NumPy arrays are contiguous blocks of memory with homogeneous data types, stored more compactly."
   ]
  },
  {
   "cell_type": "code",
   "execution_count": 9,
   "id": "f8d14024-5e10-4f5b-8e44-14af09fce73a",
   "metadata": {},
   "outputs": [
    {
     "name": "stdout",
     "output_type": "stream",
     "text": [
      "19.8 ms ± 111 μs per loop (mean ± std. dev. of 7 runs, 10 loops each)\n"
     ]
    }
   ],
   "source": [
    "%%timeit\n",
    "\n",
    "np.arange(start_val, stop_val) ** 2"
   ]
  },
  {
   "cell_type": "markdown",
   "id": "548b8b1a-c7d9-439f-b917-9159229dd19c",
   "metadata": {},
   "source": [
    "### 3.2 Python `range` vs NumPy `arange`"
   ]
  },
  {
   "cell_type": "markdown",
   "id": "81787306-74b6-475d-afbb-b92debf67a64",
   "metadata": {},
   "source": [
    "NumPy `arange()` supports decimal step value whereas Python `range()` function **does not** support decimal values for step size."
   ]
  },
  {
   "cell_type": "code",
   "execution_count": 10,
   "id": "45215cc0-5692-4181-aaa5-3826e3f821e7",
   "metadata": {},
   "outputs": [
    {
     "name": "stdout",
     "output_type": "stream",
     "text": [
      "[0.  0.5 1.  1.5 2.  2.5 3.  3.5 4.  4.5]\n",
      "Error: 'float' object cannot be interpreted as an integer\n"
     ]
    }
   ],
   "source": [
    "try:\n",
    "    print(np.arange(0, 5, 0.5))\n",
    "    print(range(0, 5, 0.5))\n",
    "\n",
    "except TypeError as err:\n",
    "    print(\"Error:\", err)"
   ]
  },
  {
   "cell_type": "markdown",
   "id": "76e8315e-d68b-469b-bf04-365451d22ba6",
   "metadata": {},
   "source": [
    "## 4 Properties of NumPy array"
   ]
  },
  {
   "cell_type": "markdown",
   "id": "ecf115a3-bdee-4850-8a90-b137392859e9",
   "metadata": {},
   "source": [
    "Some important properties of NumPy array can be accessed using:\n",
    "\n",
    "1. `ndim`: Dimension of NumPy array.\n",
    "2. `shape`: Shape (rows, columns) of NumPy array.\n",
    "3. `size`: Size i.e., Total number of elements in all dimensions of NumPy array.\n",
    "4. `dtype`: Datatype of elements in NumPy array."
   ]
  },
  {
   "cell_type": "markdown",
   "id": "1aea71dc-deec-441c-80ae-09ca8dbfbf2d",
   "metadata": {},
   "source": [
    "Create sample NumPy arrays for testing its properties."
   ]
  },
  {
   "cell_type": "code",
   "execution_count": 11,
   "id": "2c0f9102-d458-48a2-9857-56f2f10894d2",
   "metadata": {},
   "outputs": [],
   "source": [
    "arr_1 = np.array([1, 2, 3, 4, 5])\n",
    "\n",
    "arr_2 = np.array(\n",
    "    [\n",
    "        [1, 2.2, 3.0, 4.0, 5],\n",
    "        [6.0, 7, 8, 9, 0],\n",
    "    ]\n",
    ")\n",
    "\n",
    "arr_3 = np.array(\n",
    "    [\n",
    "        [\n",
    "            [1, 2, 3, 4, 5],\n",
    "            [6, 7, 8, 9, 0],\n",
    "        ],\n",
    "        [\n",
    "            [1, 2, 3, 4, 5],\n",
    "            [6, 7, 8, 9, 0],\n",
    "        ],\n",
    "    ]\n",
    ")"
   ]
  },
  {
   "cell_type": "markdown",
   "id": "106c29ef-6ec7-47ff-8985-672a8b4cdcb7",
   "metadata": {},
   "source": [
    "#### `ndim`"
   ]
  },
  {
   "cell_type": "code",
   "execution_count": 12,
   "id": "975a7284-66d0-4f7e-9f2f-2a3cfb0a0bf1",
   "metadata": {},
   "outputs": [
    {
     "data": {
      "text/plain": [
       "1"
      ]
     },
     "execution_count": 12,
     "metadata": {},
     "output_type": "execute_result"
    }
   ],
   "source": [
    "arr_1.ndim"
   ]
  },
  {
   "cell_type": "code",
   "execution_count": 13,
   "id": "418bf375-c8da-4462-b8b0-5a4e4f7f3aa0",
   "metadata": {},
   "outputs": [
    {
     "data": {
      "text/plain": [
       "2"
      ]
     },
     "execution_count": 13,
     "metadata": {},
     "output_type": "execute_result"
    }
   ],
   "source": [
    "arr_2.ndim"
   ]
  },
  {
   "cell_type": "code",
   "execution_count": 14,
   "id": "0316c3f3-6588-498d-b950-76ab26ae253e",
   "metadata": {},
   "outputs": [
    {
     "data": {
      "text/plain": [
       "3"
      ]
     },
     "execution_count": 14,
     "metadata": {},
     "output_type": "execute_result"
    }
   ],
   "source": [
    "arr_3.ndim"
   ]
  },
  {
   "cell_type": "markdown",
   "id": "9bc580a3-d9bd-44de-8910-71a1affcfeb2",
   "metadata": {},
   "source": [
    "#### `shape`"
   ]
  },
  {
   "cell_type": "code",
   "execution_count": 15,
   "id": "88b3e48a-2ed1-4ef2-a8d0-ea31041cf105",
   "metadata": {},
   "outputs": [
    {
     "data": {
      "text/plain": [
       "(5,)"
      ]
     },
     "execution_count": 15,
     "metadata": {},
     "output_type": "execute_result"
    }
   ],
   "source": [
    "arr_1.shape"
   ]
  },
  {
   "cell_type": "code",
   "execution_count": 16,
   "id": "1a8e16da-2a6d-4374-886f-b91a0df7c7c3",
   "metadata": {},
   "outputs": [
    {
     "data": {
      "text/plain": [
       "(2, 5)"
      ]
     },
     "execution_count": 16,
     "metadata": {},
     "output_type": "execute_result"
    }
   ],
   "source": [
    "arr_2.shape"
   ]
  },
  {
   "cell_type": "code",
   "execution_count": 17,
   "id": "c45d849e-382f-4c7f-8dba-df55b23e5ffc",
   "metadata": {},
   "outputs": [
    {
     "data": {
      "text/plain": [
       "(2, 2, 5)"
      ]
     },
     "execution_count": 17,
     "metadata": {},
     "output_type": "execute_result"
    }
   ],
   "source": [
    "arr_3.shape"
   ]
  },
  {
   "cell_type": "markdown",
   "id": "06e72978-292d-4c5d-8451-fe046d2c3f6a",
   "metadata": {},
   "source": [
    "#### `size`"
   ]
  },
  {
   "cell_type": "code",
   "execution_count": 18,
   "id": "9e608857-9094-4a85-b7b1-b998b9e528d6",
   "metadata": {},
   "outputs": [
    {
     "data": {
      "text/plain": [
       "5"
      ]
     },
     "execution_count": 18,
     "metadata": {},
     "output_type": "execute_result"
    }
   ],
   "source": [
    "arr_1.size"
   ]
  },
  {
   "cell_type": "code",
   "execution_count": 19,
   "id": "21025440-9506-446e-ac28-3dd2849d1a97",
   "metadata": {},
   "outputs": [
    {
     "data": {
      "text/plain": [
       "10"
      ]
     },
     "execution_count": 19,
     "metadata": {},
     "output_type": "execute_result"
    }
   ],
   "source": [
    "arr_2.size"
   ]
  },
  {
   "cell_type": "code",
   "execution_count": 20,
   "id": "c62650a4-0c8c-4c36-b8cd-4509a75b714a",
   "metadata": {},
   "outputs": [
    {
     "data": {
      "text/plain": [
       "20"
      ]
     },
     "execution_count": 20,
     "metadata": {},
     "output_type": "execute_result"
    }
   ],
   "source": [
    "arr_3.size"
   ]
  },
  {
   "cell_type": "markdown",
   "id": "7b62c6d3-2d3e-4e4c-8e38-16de21b6c3b1",
   "metadata": {},
   "source": [
    "#### `dtype`"
   ]
  },
  {
   "cell_type": "code",
   "execution_count": 21,
   "id": "cc58a3b6-a9c4-480a-a8b6-4d2f13c7feb7",
   "metadata": {},
   "outputs": [
    {
     "data": {
      "text/plain": [
       "dtype('int64')"
      ]
     },
     "execution_count": 21,
     "metadata": {},
     "output_type": "execute_result"
    }
   ],
   "source": [
    "arr_1.dtype"
   ]
  },
  {
   "cell_type": "code",
   "execution_count": 22,
   "id": "9d77d4a5-435e-49db-b02b-e246163b35eb",
   "metadata": {},
   "outputs": [
    {
     "data": {
      "text/plain": [
       "dtype('float64')"
      ]
     },
     "execution_count": 22,
     "metadata": {},
     "output_type": "execute_result"
    }
   ],
   "source": [
    "arr_2.dtype"
   ]
  },
  {
   "cell_type": "markdown",
   "id": "bae578d9",
   "metadata": {},
   "source": [
    "## 5 Datatype"
   ]
  },
  {
   "cell_type": "markdown",
   "id": "16fe9e25-45dc-43ec-973d-8ceaa6546177",
   "metadata": {},
   "source": [
    "### 5.1 Supported datatypes"
   ]
  },
  {
   "cell_type": "code",
   "execution_count": null,
   "id": "386a649e-6a41-46a2-b8f9-90bcc6ab0e14",
   "metadata": {},
   "outputs": [],
   "source": []
  },
  {
   "cell_type": "markdown",
   "id": "a59c8aee",
   "metadata": {},
   "source": [
    "### 5.2 Typecasting"
   ]
  },
  {
   "cell_type": "markdown",
   "id": "d57aee4a-3eb5-43f9-9ed4-9fbf1979abb6",
   "metadata": {},
   "source": [
    "String > Float > Integer > Boolean"
   ]
  },
  {
   "cell_type": "markdown",
   "id": "7b8f185f-da45-49e8-81f1-a129b77967bf",
   "metadata": {},
   "source": [
    "#### Automatic type casting"
   ]
  },
  {
   "cell_type": "code",
   "execution_count": 23,
   "id": "835f1d9c",
   "metadata": {},
   "outputs": [
    {
     "data": {
      "text/plain": [
       "array(['1', 'abcd', '3.14', 'True'], dtype='<U32')"
      ]
     },
     "execution_count": 23,
     "metadata": {},
     "output_type": "execute_result"
    }
   ],
   "source": [
    "arr = np.array([1, \"abcd\", 3.14, True])\n",
    "arr"
   ]
  },
  {
   "cell_type": "code",
   "execution_count": 24,
   "id": "99c5c75b-be90-4bda-8486-96f1f935e8ae",
   "metadata": {},
   "outputs": [
    {
     "data": {
      "text/plain": [
       "dtype('<U32')"
      ]
     },
     "execution_count": 24,
     "metadata": {},
     "output_type": "execute_result"
    }
   ],
   "source": [
    "arr.dtype"
   ]
  },
  {
   "cell_type": "code",
   "execution_count": 25,
   "id": "c8060878-f026-4517-9403-676a7ffa8d18",
   "metadata": {},
   "outputs": [
    {
     "data": {
      "text/plain": [
       "dtype('<U32')"
      ]
     },
     "execution_count": 25,
     "metadata": {},
     "output_type": "execute_result"
    }
   ],
   "source": [
    "arr = np.array([\"a\", 3.14])\n",
    "arr.dtype"
   ]
  },
  {
   "cell_type": "code",
   "execution_count": null,
   "id": "8e871243-078d-4415-9487-1b9a8cf1f82f",
   "metadata": {},
   "outputs": [],
   "source": []
  },
  {
   "cell_type": "markdown",
   "id": "fcecc604-7502-4038-a810-66f22679083e",
   "metadata": {},
   "source": [
    "> **Note**:\n",
    "> \n",
    "> `U` in `<U32` stands for Unicode."
   ]
  },
  {
   "cell_type": "markdown",
   "id": "c98ced7a-01c6-4eb3-b1cb-166fe938ca4f",
   "metadata": {},
   "source": [
    "#### Using `dtype` property"
   ]
  },
  {
   "cell_type": "code",
   "execution_count": null,
   "id": "f92abfb9-c154-4010-8f94-6dedd71d6e31",
   "metadata": {},
   "outputs": [],
   "source": []
  },
  {
   "cell_type": "markdown",
   "id": "2dc6f8c3-23d9-41d5-8d17-b36bf3529348",
   "metadata": {},
   "source": [
    "#### Using `astype` function"
   ]
  },
  {
   "cell_type": "code",
   "execution_count": null,
   "id": "067b225a-1e71-4baa-bf6f-45ab74377e18",
   "metadata": {},
   "outputs": [],
   "source": []
  },
  {
   "cell_type": "markdown",
   "id": "b4ebf660-a386-49c8-bde8-941c1e82a75a",
   "metadata": {},
   "source": [
    "## 6 Indexing"
   ]
  },
  {
   "cell_type": "markdown",
   "id": "f1f01975-7696-40b5-9729-96e60ff302ec",
   "metadata": {},
   "source": [
    "[start:stop:step]"
   ]
  },
  {
   "cell_type": "markdown",
   "id": "45776805-4045-4f2b-baea-5ca7e25d741c",
   "metadata": {},
   "source": [
    "### 6.1 Fetch"
   ]
  },
  {
   "cell_type": "markdown",
   "id": "edefd349-ac55-40b8-8cd4-2701f1d17e8c",
   "metadata": {},
   "source": [
    "#### Fetch Usecases"
   ]
  },
  {
   "cell_type": "markdown",
   "id": "3eb482f8-e349-4d3a-a2a2-e0db0aeae92b",
   "metadata": {},
   "source": [
    "##### 1 Fetch even numbers"
   ]
  },
  {
   "cell_type": "code",
   "execution_count": 26,
   "id": "9e7dad49-053a-4695-954a-80c4b7dba77c",
   "metadata": {},
   "outputs": [
    {
     "data": {
      "text/plain": [
       "array([0, 2, 4, 6, 8])"
      ]
     },
     "execution_count": 26,
     "metadata": {},
     "output_type": "execute_result"
    }
   ],
   "source": [
    "arr = np.arange(0, 10)\n",
    "arr[::2]"
   ]
  },
  {
   "cell_type": "markdown",
   "id": "6afeeb46-603b-40d3-a2f0-5b326fe4a4ae",
   "metadata": {},
   "source": [
    "##### 2 Fetch odd numbers"
   ]
  },
  {
   "cell_type": "code",
   "execution_count": 27,
   "id": "791895a5-9763-4b9a-8df9-296ecea0252a",
   "metadata": {},
   "outputs": [
    {
     "data": {
      "text/plain": [
       "array([1, 3, 5, 7, 9])"
      ]
     },
     "execution_count": 27,
     "metadata": {},
     "output_type": "execute_result"
    }
   ],
   "source": [
    "arr = np.arange(1, 10)\n",
    "arr[::2]"
   ]
  },
  {
   "cell_type": "markdown",
   "id": "fbc45ddd-0a34-49fc-a1da-57d81c35be53",
   "metadata": {},
   "source": [
    "### 6.2 Updating / Broadcasting"
   ]
  },
  {
   "cell_type": "markdown",
   "id": "c0ebef01-e911-440b-bb90-22feb00b5209",
   "metadata": {},
   "source": [
    "#### Update Usecases"
   ]
  },
  {
   "cell_type": "markdown",
   "id": "cf8fe816-768e-4acf-9dc3-c24e3b5f5baa",
   "metadata": {},
   "source": [
    "##### 1 Update array"
   ]
  },
  {
   "cell_type": "code",
   "execution_count": 28,
   "id": "98516340-ff67-4a53-bec9-3da87c926d85",
   "metadata": {},
   "outputs": [
    {
     "data": {
      "text/plain": [
       "array([0, 1, 0, 0, 4])"
      ]
     },
     "execution_count": 28,
     "metadata": {},
     "output_type": "execute_result"
    }
   ],
   "source": [
    "arr = np.arange(5)\n",
    "arr[2:4] = 0\n",
    "arr"
   ]
  },
  {
   "cell_type": "code",
   "execution_count": 29,
   "id": "8070f071-ec9b-4c3a-85fb-1dcfe8eeff22",
   "metadata": {},
   "outputs": [
    {
     "data": {
      "text/plain": [
       "array([ 0,  1,  2,  3, 10, 10])"
      ]
     },
     "execution_count": 29,
     "metadata": {},
     "output_type": "execute_result"
    }
   ],
   "source": [
    "arr = np.array([0, 1, 2, 3, 4, 5])\n",
    "arr[4:] = 10\n",
    "arr"
   ]
  },
  {
   "cell_type": "code",
   "execution_count": 30,
   "id": "d59cf963-c9b3-4281-9626-ab4191993e73",
   "metadata": {},
   "outputs": [
    {
     "name": "stdout",
     "output_type": "stream",
     "text": [
      "Array 1: [1 2 3 4 5]\n",
      "Array 2: [8 7 6]\n",
      "[3 4 5] in Array 1 will be updated with [6 7 8] from Array 2\n"
     ]
    },
    {
     "data": {
      "text/plain": [
       "array([ 0,  1,  2,  3, 10, 10])"
      ]
     },
     "execution_count": 30,
     "metadata": {},
     "output_type": "execute_result"
    }
   ],
   "source": [
    "arr_1 = np.array([1, 2, 3, 4, 5])\n",
    "arr_2 = np.array([8, 7, 6])\n",
    "\n",
    "print(f\"Array 1:\", arr_1)\n",
    "print(f\"Array 2:\", arr_2)\n",
    "\n",
    "print(f\"{arr_1[2:]} in Array 1 will be updated with {arr_2[::-1]} from Array 2\")\n",
    "arr_1[2:] = arr_2[::-1]\n",
    "\n",
    "arr"
   ]
  },
  {
   "cell_type": "code",
   "execution_count": 31,
   "id": "56199588-72fe-4719-8800-46d4fb7dcc9e",
   "metadata": {},
   "outputs": [
    {
     "name": "stdout",
     "output_type": "stream",
     "text": [
      "Array 1: [1 2 3 4 5]\n",
      "Array 2: [8 7 6]\n",
      "[4 5] in Array 1 will be updated with [6 8] from Array 2\n"
     ]
    },
    {
     "data": {
      "text/plain": [
       "array([1, 2, 3, 6, 8])"
      ]
     },
     "execution_count": 31,
     "metadata": {},
     "output_type": "execute_result"
    }
   ],
   "source": [
    "arr_1 = np.array([1, 2, 3, 4, 5])\n",
    "arr_2 = np.array([8, 7, 6])\n",
    "\n",
    "print(f\"Array 1:\", arr_1)\n",
    "print(f\"Array 2:\", arr_2)\n",
    "\n",
    "print(f\"{arr_1[3:]} in Array 1 will be updated with {arr_2[::-2]} from Array 2\")\n",
    "arr_1[3:] = arr_2[::-2]\n",
    "\n",
    "arr_1"
   ]
  },
  {
   "cell_type": "code",
   "execution_count": 32,
   "id": "c2d016f2-0bd5-46d5-b5ef-bea21122f083",
   "metadata": {},
   "outputs": [
    {
     "name": "stdout",
     "output_type": "stream",
     "text": [
      "Array 1: [1 2 3 4 5]\n",
      "Array 2: [0 9 8 7 6]\n",
      "[4 5] in Array 1 will be updated with [6 8 0] from Array 2\n",
      "Error: could not broadcast input array from shape (3,) into shape (2,)\n"
     ]
    }
   ],
   "source": [
    "try:\n",
    "    arr_1 = np.array([1, 2, 3, 4, 5])\n",
    "    arr_2 = np.array([0, 9, 8, 7, 6])\n",
    "\n",
    "    print(f\"Array 1:\", arr_1)\n",
    "    print(f\"Array 2:\", arr_2)\n",
    "\n",
    "    print(f\"{arr_1[3:]} in Array 1 will be updated with {arr_2[::-2]} from Array 2\")\n",
    "\n",
    "    arr_1[3:] = arr_2[::-2]\n",
    "\n",
    "    arr_1\n",
    "\n",
    "except ValueError as err:\n",
    "    print(\"Error:\", err)"
   ]
  },
  {
   "cell_type": "markdown",
   "id": "d055cb4b-cf03-49c6-aadc-30f729c0548c",
   "metadata": {},
   "source": [
    "> **Note**:\n",
    "> 1. Broadcasting requires "
   ]
  },
  {
   "cell_type": "markdown",
   "id": "d8744a83-bf7a-4a89-bb91-f084bb90c8a6",
   "metadata": {},
   "source": [
    "## 7 Filtering"
   ]
  },
  {
   "cell_type": "markdown",
   "id": "99b8b49c-657e-4350-bdd6-ba9d302140fe",
   "metadata": {},
   "source": [
    "### 7.1 Index based filtering"
   ]
  },
  {
   "cell_type": "code",
   "execution_count": null,
   "id": "c99074f7-f178-4eb8-800c-0e91abcf9f42",
   "metadata": {},
   "outputs": [],
   "source": []
  },
  {
   "cell_type": "markdown",
   "id": "0244779b-f2a1-4a2c-a4da-334784c1c5a9",
   "metadata": {},
   "source": [
    "### 7.2 Conditional filtering"
   ]
  },
  {
   "cell_type": "code",
   "execution_count": 33,
   "id": "8fcfcfeb-7b3f-4fdb-8b53-571e3159046e",
   "metadata": {},
   "outputs": [
    {
     "name": "stdout",
     "output_type": "stream",
     "text": [
      "[  5  -9  20  25   3  -5  16 -10  -8]\n"
     ]
    }
   ],
   "source": [
    "x = np.array([-5, 9, 20, 25, -3, 5, 16, 10, -8])\n",
    "\n",
    "x[(x >= -5) & (x <= 15)] *= -1\n",
    "\n",
    "print(x)"
   ]
  },
  {
   "cell_type": "code",
   "execution_count": 34,
   "id": "05a288d4-b61a-4e4e-ae3b-e7b1748741c7",
   "metadata": {},
   "outputs": [
    {
     "name": "stdout",
     "output_type": "stream",
     "text": [
      "[10  2 20  4 30  6 40  8]\n"
     ]
    }
   ],
   "source": [
    "arr = np.array([1, 2, 3, 4, 5, 6, 7, 8])\n",
    "arr[::2] = range(10, 50, 10)\n",
    "print(arr)"
   ]
  },
  {
   "cell_type": "code",
   "execution_count": 35,
   "id": "0e3bb7e7-becd-4bdd-9400-7293d25be49e",
   "metadata": {},
   "outputs": [
    {
     "data": {
      "text/plain": [
       "1.5"
      ]
     },
     "execution_count": 35,
     "metadata": {},
     "output_type": "execute_result"
    }
   ],
   "source": [
    "marks_arr = np.array([20, 35, 68, 82, 83, 70, 90])\n",
    "\n",
    "# Complete the missing code\n",
    "distinction = marks_arr[marks_arr >= 80]\n",
    "first_div = marks_arr[(marks_arr >= 60) & (marks_arr < 80)]\n",
    "\n",
    "distinction_count = len(distinction)\n",
    "first_div_count = len(first_div)\n",
    "\n",
    "ratio = distinction_count / first_div_count\n",
    "\n",
    "round(ratio, 2)"
   ]
  },
  {
   "cell_type": "markdown",
   "id": "47cdac8d-280c-4304-875e-2494af5b2c19",
   "metadata": {},
   "source": [
    "## 8 Import"
   ]
  },
  {
   "cell_type": "markdown",
   "id": "40224d0b-0599-4782-996a-e2cf3a240f84",
   "metadata": {},
   "source": [
    "NumPy can read data from text or csv files. [Documentation][1]\n",
    "\n",
    "[1]: https://numpy.org/doc/2.1/user/how-to-io.html"
   ]
  },
  {
   "cell_type": "code",
   "execution_count": null,
   "id": "070b814d-b2db-45f9-a4ca-ebb95b161732",
   "metadata": {},
   "outputs": [],
   "source": []
  },
  {
   "cell_type": "markdown",
   "id": "90700cb6-3e5c-4399-be0f-9b90bf6a521c",
   "metadata": {},
   "source": [
    "## 9 Project"
   ]
  },
  {
   "cell_type": "markdown",
   "id": "46c76400-66ff-4013-8580-dfd8d44dcc62",
   "metadata": {},
   "source": [
    "Lets solve a small use case using NumPy"
   ]
  },
  {
   "cell_type": "markdown",
   "id": "325f78e6-61bb-4da1-85b2-a418354d8919",
   "metadata": {},
   "source": [
    "### 9.1 Problem Statement"
   ]
  },
  {
   "cell_type": "markdown",
   "id": "cc909438-cbbe-4138-a4e9-16d33c5d60a0",
   "metadata": {},
   "source": [
    "#### Net Promoter Score (NPS)\n",
    "\n",
    "1. Net Promoter Score (NPS) is a metric used to gauge customer loyalty and satisfaction. \n",
    "1. It measures the likelihood of customers recommending a company, product, or service to others. \n",
    "1. The score is derived from a single survey question asking respondents to rate their likelihood of recommending on a scale of 0 to 10."
   ]
  },
  {
   "cell_type": "markdown",
   "id": "2b82d4cd-e661-4f3f-b5cb-7ed0929c6332",
   "metadata": {},
   "source": [
    "Compute NPS for [this dataset][1] from Kaggle.\n",
    "\n",
    "[1]: https://www.kaggle.com/datasets/charlottetu/npsbank"
   ]
  },
  {
   "cell_type": "markdown",
   "id": "4e1749ce-e7b8-4ba1-b4fd-b7afa9d0e18d",
   "metadata": {},
   "source": [
    "### 9.2 Solution"
   ]
  },
  {
   "cell_type": "markdown",
   "id": "ceeadcaf-c97f-4003-ba9d-6eaed4d59527",
   "metadata": {},
   "source": [
    "```\n",
    "NPS Formula = (% of Promoters) - (% of Detractors)\n",
    "\n",
    "Where\n",
    "\n",
    "Promoters  := Score > 8  and Score <= 10\n",
    "Detractors := Score >= 1 and Score < 7\n",
    "```"
   ]
  },
  {
   "cell_type": "markdown",
   "id": "391230f4-15a1-4446-9609-85dd641ce16e",
   "metadata": {},
   "source": [
    "### 9.3 Implementation"
   ]
  },
  {
   "cell_type": "code",
   "execution_count": 36,
   "id": "ffe2d005-0da4-4146-b625-3ff7daeae04b",
   "metadata": {},
   "outputs": [
    {
     "name": "stdout",
     "output_type": "stream",
     "text": [
      "Importing CSV file from path: data\\NPStimeseries.csv\n"
     ]
    }
   ],
   "source": [
    "import os\n",
    "\n",
    "\n",
    "input_file_path = os.path.join(\"data\", \"NPStimeseries.csv\")\n",
    "print(\"Importing CSV file from path:\", input_file_path)"
   ]
  },
  {
   "cell_type": "code",
   "execution_count": 37,
   "id": "f0f691b3-ba14-44fb-a450-2df822d49b65",
   "metadata": {},
   "outputs": [
    {
     "name": "stdout",
     "output_type": "stream",
     "text": [
      "There are 5000 ratings in CSV file.\n"
     ]
    }
   ],
   "source": [
    "# fname = Input file's relative path.\n",
    "# delimiter = Columns are separated by coma.\n",
    "# skiprows = Skip first row containing header text.\n",
    "# usecols = Use only 6th column containing NPS information.\n",
    "ratings = np.loadtxt(fname=input_file_path, delimiter=\",\", skiprows=1, usecols=6)\n",
    "print(f\"There are {ratings.size} ratings in CSV file.\")"
   ]
  },
  {
   "cell_type": "markdown",
   "id": "6d4b504f-f31c-439b-a155-445558bd57a7",
   "metadata": {},
   "source": [
    "> **Note**:  \n",
    "> `np.size` is same as total number of rows when the NumPy array is a Vector."
   ]
  },
  {
   "cell_type": "code",
   "execution_count": 38,
   "id": "11bc72c8-6e45-4009-8d8f-93a19e8f6fb7",
   "metadata": {},
   "outputs": [
    {
     "name": "stdout",
     "output_type": "stream",
     "text": [
      "NPS: 11.8\n"
     ]
    }
   ],
   "source": [
    "total_count = ratings.size\n",
    "promoters = ratings[ratings > 8]\n",
    "detractors = ratings[ratings < 7]\n",
    "\n",
    "pro_per = promoters.size / total_count * 100\n",
    "det_per = detractors.size / total_count * 100\n",
    "\n",
    "nps = pro_per - det_per\n",
    "print(\"NPS:\", round(nps, 2))"
   ]
  }
 ],
 "metadata": {
  "kernelspec": {
   "display_name": "Python 3 (ipykernel)",
   "language": "python",
   "name": "python3"
  },
  "language_info": {
   "codemirror_mode": {
    "name": "ipython",
    "version": 3
   },
   "file_extension": ".py",
   "mimetype": "text/x-python",
   "name": "python",
   "nbconvert_exporter": "python",
   "pygments_lexer": "ipython3",
   "version": "3.12.6"
  }
 },
 "nbformat": 4,
 "nbformat_minor": 5
}
